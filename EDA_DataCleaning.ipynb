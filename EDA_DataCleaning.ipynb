{
 "cells": [
  {
   "cell_type": "code",
   "execution_count": null,
   "id": "2ebce8ac",
   "metadata": {},
   "outputs": [],
   "source": [
    "import pandas as pd\n",
    "import numpy as np\n",
    "import seaborn as sns\n",
    "from matplotlib import pyplot as plt"
   ]
  },
  {
   "cell_type": "markdown",
   "id": "76cf5dcc",
   "metadata": {},
   "source": [
    "## client profile data"
   ]
  },
  {
   "cell_type": "code",
   "execution_count": null,
   "id": "f1bc7afa",
   "metadata": {},
   "outputs": [],
   "source": [
    "df_client = pd.read_csv('https://raw.githubusercontent.com/data-bootcamp-v4/lessons/refs/heads/main/5_6_eda_inf_stats_tableau/project/files_for_project/df_final_demo.txt')\n",
    "df_client.head(2)\n",
    "df_client.columns"
   ]
  },
  {
   "cell_type": "code",
   "execution_count": null,
   "id": "6b1f5990",
   "metadata": {},
   "outputs": [],
   "source": [
    "# clean column names"
   ]
  },
  {
   "cell_type": "code",
   "execution_count": null,
   "id": "943e0a2e",
   "metadata": {},
   "outputs": [],
   "source": [
    "# check column : bal , balance? "
   ]
  },
  {
   "cell_type": "code",
   "execution_count": null,
   "id": "00d0959a",
   "metadata": {},
   "outputs": [],
   "source": [
    "df_client.shape"
   ]
  },
  {
   "cell_type": "code",
   "execution_count": null,
   "id": "71fd3343",
   "metadata": {},
   "outputs": [],
   "source": [
    "df_client.dtypes"
   ]
  },
  {
   "cell_type": "code",
   "execution_count": null,
   "id": "972aadea",
   "metadata": {},
   "outputs": [],
   "source": [
    "df_client.duplicated().sum()"
   ]
  },
  {
   "cell_type": "code",
   "execution_count": null,
   "id": "32db7032",
   "metadata": {},
   "outputs": [],
   "source": [
    "df_client['client_id'].duplicated().sum()"
   ]
  },
  {
   "cell_type": "code",
   "execution_count": null,
   "id": "edc732ed",
   "metadata": {},
   "outputs": [],
   "source": [
    "# handle null values\n",
    "df_client.isna().sum()"
   ]
  },
  {
   "cell_type": "code",
   "execution_count": null,
   "id": "3ae1869a",
   "metadata": {},
   "outputs": [],
   "source": [
    "df_client.nunique()"
   ]
  },
  {
   "cell_type": "code",
   "execution_count": null,
   "id": "50a5afd8",
   "metadata": {},
   "outputs": [],
   "source": [
    "df_client['clnt_tenure_mnth'].value_counts()"
   ]
  },
  {
   "cell_type": "code",
   "execution_count": null,
   "id": "e6c1e58d",
   "metadata": {},
   "outputs": [],
   "source": [
    "df_client['clnt_tenure_yr'].value_counts()"
   ]
  },
  {
   "cell_type": "code",
   "execution_count": null,
   "id": "70fabeb8",
   "metadata": {},
   "outputs": [],
   "source": [
    "# check values : U, X\n",
    "df_client['gendr'].value_counts()"
   ]
  },
  {
   "cell_type": "code",
   "execution_count": null,
   "id": "20017694",
   "metadata": {},
   "outputs": [],
   "source": [
    "df_client['num_accts'].value_counts()"
   ]
  },
  {
   "cell_type": "code",
   "execution_count": null,
   "id": "01c2ba1c",
   "metadata": {},
   "outputs": [],
   "source": [
    "df_client['calls_6_mnth'].value_counts()\n",
    "\n"
   ]
  },
  {
   "cell_type": "code",
   "execution_count": null,
   "id": "87a93abf",
   "metadata": {},
   "outputs": [],
   "source": [
    "df_client['logons_6_mnth'].value_counts()\n"
   ]
  },
  {
   "cell_type": "code",
   "execution_count": null,
   "id": "f3ceefe2",
   "metadata": {},
   "outputs": [],
   "source": [
    "df_client.describe()"
   ]
  },
  {
   "cell_type": "markdown",
   "id": "847aedc7",
   "metadata": {},
   "source": [
    "## Digital Footprints data"
   ]
  },
  {
   "cell_type": "code",
   "execution_count": null,
   "id": "f57f5abf",
   "metadata": {},
   "outputs": [],
   "source": [
    "df_footprints_1 = pd.read_csv('https://raw.githubusercontent.com/data-bootcamp-v4/lessons/refs/heads/main/5_6_eda_inf_stats_tableau/project/files_for_project/df_final_web_data_pt_1.txt')\n",
    "df_footprints_2 = pd.read_csv('https://raw.githubusercontent.com/data-bootcamp-v4/lessons/refs/heads/main/5_6_eda_inf_stats_tableau/project/files_for_project/df_final_web_data_pt_2.txt')\n",
    "\n",
    "df_footprints_1.columns, df_footprints_2.columns"
   ]
  },
  {
   "cell_type": "code",
   "execution_count": null,
   "id": "c0da7550",
   "metadata": {},
   "outputs": [],
   "source": [
    "df_footprints_1.dtypes, df_footprints_2.dtypes"
   ]
  },
  {
   "cell_type": "code",
   "execution_count": null,
   "id": "44386fe8",
   "metadata": {},
   "outputs": [],
   "source": [
    "# date_time column, object dtype ---> datetime dtype(each value is datetime object)\n",
    "df_footprints_1['date_time'] = pd.to_datetime(df_footprints_1['date_time'],errors = 'coerce')\n",
    "df_footprints_1['date_time'].isna().sum()\n",
    "df_footprints_2['date_time'] = pd.to_datetime(df_footprints_2['date_time'],errors = 'coerce')\n",
    "df_footprints_2['date_time'].isna().sum()"
   ]
  },
  {
   "cell_type": "code",
   "execution_count": null,
   "id": "2b14130f",
   "metadata": {},
   "outputs": [],
   "source": [
    "df_footprints_1.shape, df_footprints_2.shape"
   ]
  },
  {
   "cell_type": "code",
   "execution_count": null,
   "id": "62975ae4",
   "metadata": {},
   "outputs": [],
   "source": [
    "# handle duplicate rows \n",
    "df_footprints_1.duplicated().sum(), df_footprints_2.duplicated().sum()"
   ]
  },
  {
   "cell_type": "code",
   "execution_count": null,
   "id": "8e3f81aa",
   "metadata": {},
   "outputs": [],
   "source": [
    "df_footprints_1.isna().sum(), df_footprints_2.isna().sum()"
   ]
  },
  {
   "cell_type": "code",
   "execution_count": null,
   "id": "d1fc3bec",
   "metadata": {},
   "outputs": [],
   "source": [
    "df_footprints_1.nunique(), df_footprints_2.nunique()"
   ]
  },
  {
   "cell_type": "code",
   "execution_count": null,
   "id": "1636a0a3",
   "metadata": {},
   "outputs": [],
   "source": [
    "df_footprints_1['process_step'].unique(), df_footprints_2['process_step'].unique()"
   ]
  },
  {
   "cell_type": "markdown",
   "id": "6149a896",
   "metadata": {},
   "source": [
    "## Experiment data"
   ]
  },
  {
   "cell_type": "code",
   "execution_count": null,
   "id": "69f3f425",
   "metadata": {},
   "outputs": [],
   "source": [
    "\n",
    "df_experiments = pd.read_csv('https://raw.githubusercontent.com/data-bootcamp-v4/lessons/refs/heads/main/5_6_eda_inf_stats_tableau/project/files_for_project/df_final_experiment_clients.txt')\n",
    "\n",
    "df_experiments.columns, df_experiments.shape,df_experiments.dtypes\n"
   ]
  },
  {
   "cell_type": "code",
   "execution_count": null,
   "id": "45c29b7a",
   "metadata": {},
   "outputs": [],
   "source": [
    "df_experiments.head(2)"
   ]
  },
  {
   "cell_type": "code",
   "execution_count": null,
   "id": "0b185e2f",
   "metadata": {},
   "outputs": [],
   "source": [
    "df_experiments.duplicated().sum()"
   ]
  },
  {
   "cell_type": "code",
   "execution_count": null,
   "id": "d002b890",
   "metadata": {},
   "outputs": [],
   "source": [
    "df_experiments['client_id'].duplicated().sum()"
   ]
  },
  {
   "cell_type": "code",
   "execution_count": null,
   "id": "2e154cad",
   "metadata": {},
   "outputs": [],
   "source": [
    "# handle null values in column 'Variation'\n",
    "df_experiments.isna().sum()"
   ]
  },
  {
   "cell_type": "code",
   "execution_count": null,
   "id": "6af57b1f",
   "metadata": {},
   "outputs": [],
   "source": [
    "df_experiments['Variation'].value_counts(normalize=True)"
   ]
  }
 ],
 "metadata": {
  "kernelspec": {
   "display_name": "3.10.10",
   "language": "python",
   "name": "python3"
  },
  "language_info": {
   "codemirror_mode": {
    "name": "ipython",
    "version": 3
   },
   "file_extension": ".py",
   "mimetype": "text/x-python",
   "name": "python",
   "nbconvert_exporter": "python",
   "pygments_lexer": "ipython3",
   "version": "3.10.10"
  }
 },
 "nbformat": 4,
 "nbformat_minor": 5
}
