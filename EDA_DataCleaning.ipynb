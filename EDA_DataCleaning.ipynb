{
 "cells": [
  {
   "cell_type": "code",
   "execution_count": 2,
   "id": "2ebce8ac",
   "metadata": {},
   "outputs": [],
   "source": [
    "import pandas as pd\n",
    "import numpy as np\n",
    "import seaborn as sns\n",
    "from matplotlib import pyplot as plt\n",
    "from scipy.stats import chi2_contingency\n"
   ]
  },
  {
   "cell_type": "markdown",
   "id": "76cf5dcc",
   "metadata": {},
   "source": [
    "## client profile data\n"
   ]
  },
  {
   "cell_type": "code",
   "execution_count": 3,
   "id": "f1bc7afa",
   "metadata": {},
   "outputs": [],
   "source": [
    "df_client = pd.read_csv('https://raw.githubusercontent.com/data-bootcamp-v4/lessons/refs/heads/main/5_6_eda_inf_stats_tableau/project/files_for_project/df_final_demo.txt')"
   ]
  },
  {
   "cell_type": "code",
   "execution_count": 4,
   "id": "0487d7a1",
   "metadata": {},
   "outputs": [
    {
     "data": {
      "text/plain": [
       "(70609, 9)"
      ]
     },
     "execution_count": 4,
     "metadata": {},
     "output_type": "execute_result"
    }
   ],
   "source": [
    "df_client.head(2)\n",
    "df_client.columns \n",
    "df_client.shape "
   ]
  },
  {
   "cell_type": "code",
   "execution_count": 5,
   "id": "ae012889",
   "metadata": {},
   "outputs": [
    {
     "data": {
      "text/html": [
       "<div>\n",
       "<style scoped>\n",
       "    .dataframe tbody tr th:only-of-type {\n",
       "        vertical-align: middle;\n",
       "    }\n",
       "\n",
       "    .dataframe tbody tr th {\n",
       "        vertical-align: top;\n",
       "    }\n",
       "\n",
       "    .dataframe thead th {\n",
       "        text-align: right;\n",
       "    }\n",
       "</style>\n",
       "<table border=\"1\" class=\"dataframe\">\n",
       "  <thead>\n",
       "    <tr style=\"text-align: right;\">\n",
       "      <th></th>\n",
       "      <th>client_id</th>\n",
       "      <th>clnt_tenure_yr</th>\n",
       "      <th>clnt_tenure_mnth</th>\n",
       "      <th>clnt_age</th>\n",
       "      <th>gendr</th>\n",
       "      <th>num_accts</th>\n",
       "      <th>bal</th>\n",
       "      <th>calls_6_mnth</th>\n",
       "      <th>logons_6_mnth</th>\n",
       "    </tr>\n",
       "  </thead>\n",
       "  <tbody>\n",
       "    <tr>\n",
       "      <th>32834</th>\n",
       "      <td>5618665</td>\n",
       "      <td>54.0</td>\n",
       "      <td>655.0</td>\n",
       "      <td>39.0</td>\n",
       "      <td>F</td>\n",
       "      <td>2.0</td>\n",
       "      <td>70645.03</td>\n",
       "      <td>2.0</td>\n",
       "      <td>5.0</td>\n",
       "    </tr>\n",
       "  </tbody>\n",
       "</table>\n",
       "</div>"
      ],
      "text/plain": [
       "       client_id  clnt_tenure_yr  clnt_tenure_mnth  clnt_age gendr  num_accts  \\\n",
       "32834    5618665            54.0             655.0      39.0     F        2.0   \n",
       "\n",
       "            bal  calls_6_mnth  logons_6_mnth  \n",
       "32834  70645.03           2.0            5.0  "
      ]
     },
     "execution_count": 5,
     "metadata": {},
     "output_type": "execute_result"
    }
   ],
   "source": [
    "df_client[df_client['client_id'] == 5618665]"
   ]
  },
  {
   "cell_type": "markdown",
   "id": "94ff1a1b",
   "metadata": {},
   "source": [
    "#### clean column names"
   ]
  },
  {
   "cell_type": "code",
   "execution_count": 6,
   "id": "6b1f5990",
   "metadata": {},
   "outputs": [],
   "source": [
    "\n",
    "df_client.rename(columns={'gendr':'gender',\n",
    "                          'clnt_tenure_yr':'client_tenure_year',\n",
    "                          'clnt_tenure_mnth':'client_tenure_month',\n",
    "                          'clnt_age':'client_age',\n",
    "                          'num_accts':'number_of_accounts',\n",
    "                          'calls_6_mnth':'calls_6_month',\n",
    "                          'logons_6_mnth':'logos_6_month',\n",
    "                          'bal':'balance'},inplace=True)\n"
   ]
  },
  {
   "cell_type": "markdown",
   "id": "209ace27",
   "metadata": {},
   "source": [
    "#### handle null values"
   ]
  },
  {
   "cell_type": "code",
   "execution_count": 7,
   "id": "edc732ed",
   "metadata": {},
   "outputs": [
    {
     "data": {
      "text/html": [
       "<div>\n",
       "<style scoped>\n",
       "    .dataframe tbody tr th:only-of-type {\n",
       "        vertical-align: middle;\n",
       "    }\n",
       "\n",
       "    .dataframe tbody tr th {\n",
       "        vertical-align: top;\n",
       "    }\n",
       "\n",
       "    .dataframe thead th {\n",
       "        text-align: right;\n",
       "    }\n",
       "</style>\n",
       "<table border=\"1\" class=\"dataframe\">\n",
       "  <thead>\n",
       "    <tr style=\"text-align: right;\">\n",
       "      <th></th>\n",
       "      <th>client_id</th>\n",
       "      <th>client_tenure_year</th>\n",
       "      <th>client_tenure_month</th>\n",
       "      <th>client_age</th>\n",
       "      <th>gender</th>\n",
       "      <th>number_of_accounts</th>\n",
       "      <th>balance</th>\n",
       "      <th>calls_6_month</th>\n",
       "      <th>logos_6_month</th>\n",
       "    </tr>\n",
       "  </thead>\n",
       "  <tbody>\n",
       "    <tr>\n",
       "      <th>4164</th>\n",
       "      <td>7402828</td>\n",
       "      <td>NaN</td>\n",
       "      <td>NaN</td>\n",
       "      <td>NaN</td>\n",
       "      <td>NaN</td>\n",
       "      <td>NaN</td>\n",
       "      <td>NaN</td>\n",
       "      <td>NaN</td>\n",
       "      <td>NaN</td>\n",
       "    </tr>\n",
       "    <tr>\n",
       "      <th>8316</th>\n",
       "      <td>355337</td>\n",
       "      <td>NaN</td>\n",
       "      <td>NaN</td>\n",
       "      <td>NaN</td>\n",
       "      <td>NaN</td>\n",
       "      <td>NaN</td>\n",
       "      <td>NaN</td>\n",
       "      <td>NaN</td>\n",
       "      <td>NaN</td>\n",
       "    </tr>\n",
       "    <tr>\n",
       "      <th>8677</th>\n",
       "      <td>8412164</td>\n",
       "      <td>NaN</td>\n",
       "      <td>NaN</td>\n",
       "      <td>NaN</td>\n",
       "      <td>NaN</td>\n",
       "      <td>NaN</td>\n",
       "      <td>NaN</td>\n",
       "      <td>NaN</td>\n",
       "      <td>NaN</td>\n",
       "    </tr>\n",
       "    <tr>\n",
       "      <th>9583</th>\n",
       "      <td>4666211</td>\n",
       "      <td>8.0</td>\n",
       "      <td>106.0</td>\n",
       "      <td>NaN</td>\n",
       "      <td>F</td>\n",
       "      <td>2.0</td>\n",
       "      <td>42550.55</td>\n",
       "      <td>4.0</td>\n",
       "      <td>7.0</td>\n",
       "    </tr>\n",
       "    <tr>\n",
       "      <th>13444</th>\n",
       "      <td>2222915</td>\n",
       "      <td>NaN</td>\n",
       "      <td>NaN</td>\n",
       "      <td>NaN</td>\n",
       "      <td>NaN</td>\n",
       "      <td>NaN</td>\n",
       "      <td>NaN</td>\n",
       "      <td>NaN</td>\n",
       "      <td>NaN</td>\n",
       "    </tr>\n",
       "    <tr>\n",
       "      <th>18066</th>\n",
       "      <td>4876926</td>\n",
       "      <td>NaN</td>\n",
       "      <td>NaN</td>\n",
       "      <td>NaN</td>\n",
       "      <td>NaN</td>\n",
       "      <td>NaN</td>\n",
       "      <td>NaN</td>\n",
       "      <td>NaN</td>\n",
       "      <td>NaN</td>\n",
       "    </tr>\n",
       "    <tr>\n",
       "      <th>25961</th>\n",
       "      <td>5277910</td>\n",
       "      <td>NaN</td>\n",
       "      <td>NaN</td>\n",
       "      <td>NaN</td>\n",
       "      <td>NaN</td>\n",
       "      <td>NaN</td>\n",
       "      <td>NaN</td>\n",
       "      <td>NaN</td>\n",
       "      <td>NaN</td>\n",
       "    </tr>\n",
       "    <tr>\n",
       "      <th>28432</th>\n",
       "      <td>7616759</td>\n",
       "      <td>NaN</td>\n",
       "      <td>NaN</td>\n",
       "      <td>NaN</td>\n",
       "      <td>NaN</td>\n",
       "      <td>NaN</td>\n",
       "      <td>NaN</td>\n",
       "      <td>NaN</td>\n",
       "      <td>NaN</td>\n",
       "    </tr>\n",
       "    <tr>\n",
       "      <th>35323</th>\n",
       "      <td>8191345</td>\n",
       "      <td>NaN</td>\n",
       "      <td>NaN</td>\n",
       "      <td>NaN</td>\n",
       "      <td>NaN</td>\n",
       "      <td>NaN</td>\n",
       "      <td>NaN</td>\n",
       "      <td>NaN</td>\n",
       "      <td>NaN</td>\n",
       "    </tr>\n",
       "    <tr>\n",
       "      <th>43518</th>\n",
       "      <td>1227228</td>\n",
       "      <td>NaN</td>\n",
       "      <td>NaN</td>\n",
       "      <td>NaN</td>\n",
       "      <td>NaN</td>\n",
       "      <td>NaN</td>\n",
       "      <td>NaN</td>\n",
       "      <td>NaN</td>\n",
       "      <td>NaN</td>\n",
       "    </tr>\n",
       "    <tr>\n",
       "      <th>46076</th>\n",
       "      <td>8611797</td>\n",
       "      <td>NaN</td>\n",
       "      <td>NaN</td>\n",
       "      <td>NaN</td>\n",
       "      <td>NaN</td>\n",
       "      <td>NaN</td>\n",
       "      <td>NaN</td>\n",
       "      <td>NaN</td>\n",
       "      <td>NaN</td>\n",
       "    </tr>\n",
       "    <tr>\n",
       "      <th>47189</th>\n",
       "      <td>5144725</td>\n",
       "      <td>NaN</td>\n",
       "      <td>NaN</td>\n",
       "      <td>NaN</td>\n",
       "      <td>NaN</td>\n",
       "      <td>NaN</td>\n",
       "      <td>NaN</td>\n",
       "      <td>NaN</td>\n",
       "      <td>NaN</td>\n",
       "    </tr>\n",
       "    <tr>\n",
       "      <th>49846</th>\n",
       "      <td>1037867</td>\n",
       "      <td>NaN</td>\n",
       "      <td>NaN</td>\n",
       "      <td>NaN</td>\n",
       "      <td>NaN</td>\n",
       "      <td>NaN</td>\n",
       "      <td>NaN</td>\n",
       "      <td>NaN</td>\n",
       "      <td>NaN</td>\n",
       "    </tr>\n",
       "    <tr>\n",
       "      <th>63701</th>\n",
       "      <td>1618749</td>\n",
       "      <td>NaN</td>\n",
       "      <td>NaN</td>\n",
       "      <td>NaN</td>\n",
       "      <td>NaN</td>\n",
       "      <td>NaN</td>\n",
       "      <td>NaN</td>\n",
       "      <td>NaN</td>\n",
       "      <td>NaN</td>\n",
       "    </tr>\n",
       "    <tr>\n",
       "      <th>66219</th>\n",
       "      <td>6021001</td>\n",
       "      <td>NaN</td>\n",
       "      <td>NaN</td>\n",
       "      <td>NaN</td>\n",
       "      <td>NaN</td>\n",
       "      <td>NaN</td>\n",
       "      <td>NaN</td>\n",
       "      <td>NaN</td>\n",
       "      <td>NaN</td>\n",
       "    </tr>\n",
       "  </tbody>\n",
       "</table>\n",
       "</div>"
      ],
      "text/plain": [
       "       client_id  client_tenure_year  client_tenure_month  client_age gender  \\\n",
       "4164     7402828                 NaN                  NaN         NaN    NaN   \n",
       "8316      355337                 NaN                  NaN         NaN    NaN   \n",
       "8677     8412164                 NaN                  NaN         NaN    NaN   \n",
       "9583     4666211                 8.0                106.0         NaN      F   \n",
       "13444    2222915                 NaN                  NaN         NaN    NaN   \n",
       "18066    4876926                 NaN                  NaN         NaN    NaN   \n",
       "25961    5277910                 NaN                  NaN         NaN    NaN   \n",
       "28432    7616759                 NaN                  NaN         NaN    NaN   \n",
       "35323    8191345                 NaN                  NaN         NaN    NaN   \n",
       "43518    1227228                 NaN                  NaN         NaN    NaN   \n",
       "46076    8611797                 NaN                  NaN         NaN    NaN   \n",
       "47189    5144725                 NaN                  NaN         NaN    NaN   \n",
       "49846    1037867                 NaN                  NaN         NaN    NaN   \n",
       "63701    1618749                 NaN                  NaN         NaN    NaN   \n",
       "66219    6021001                 NaN                  NaN         NaN    NaN   \n",
       "\n",
       "       number_of_accounts   balance  calls_6_month  logos_6_month  \n",
       "4164                  NaN       NaN            NaN            NaN  \n",
       "8316                  NaN       NaN            NaN            NaN  \n",
       "8677                  NaN       NaN            NaN            NaN  \n",
       "9583                  2.0  42550.55            4.0            7.0  \n",
       "13444                 NaN       NaN            NaN            NaN  \n",
       "18066                 NaN       NaN            NaN            NaN  \n",
       "25961                 NaN       NaN            NaN            NaN  \n",
       "28432                 NaN       NaN            NaN            NaN  \n",
       "35323                 NaN       NaN            NaN            NaN  \n",
       "43518                 NaN       NaN            NaN            NaN  \n",
       "46076                 NaN       NaN            NaN            NaN  \n",
       "47189                 NaN       NaN            NaN            NaN  \n",
       "49846                 NaN       NaN            NaN            NaN  \n",
       "63701                 NaN       NaN            NaN            NaN  \n",
       "66219                 NaN       NaN            NaN            NaN  "
      ]
     },
     "metadata": {},
     "output_type": "display_data"
    }
   ],
   "source": [
    "df_client.isna().sum()\n",
    "\n",
    "display(df_client[df_client.isna().any(axis=1)])"
   ]
  },
  {
   "cell_type": "code",
   "execution_count": 8,
   "id": "e4dd9d04",
   "metadata": {},
   "outputs": [
    {
     "data": {
      "text/plain": [
       "client_id              0\n",
       "client_tenure_year     0\n",
       "client_tenure_month    0\n",
       "client_age             0\n",
       "gender                 0\n",
       "number_of_accounts     0\n",
       "balance                0\n",
       "calls_6_month          0\n",
       "logos_6_month          0\n",
       "dtype: int64"
      ]
     },
     "execution_count": 8,
     "metadata": {},
     "output_type": "execute_result"
    }
   ],
   "source": [
    "# for client_id = 4666211/index = 9583, fill age with mean_age\n",
    "df_client.at[9583, 'client_age'] = df_client['client_age'].mean() \n",
    "\n",
    "\n",
    "# for the rest, fill with -1 if numeric variable or 'unknown' if categorical variable\n",
    "df_client.fillna({\n",
    "    'client_tenure_year': -1,\n",
    "    'client_tenure_month': -1,\n",
    "    'client_age':-1,\n",
    "    'gender':'unknown',\n",
    "    'number_of_accounts':-1,\n",
    "    'balance':-1,\n",
    "    'calls_6_month':-1,\n",
    "    'logos_6_month':-1,},inplace=True)\n",
    "\n",
    "df_client.isna().sum()"
   ]
  },
  {
   "cell_type": "markdown",
   "id": "1e984faa",
   "metadata": {},
   "source": [
    "#### column gender-> replace 'X' and 'U' with 'unknown', create new column: gender_cleaned"
   ]
  },
  {
   "cell_type": "code",
   "execution_count": 9,
   "id": "70fabeb8",
   "metadata": {},
   "outputs": [
    {
     "data": {
      "text/plain": [
       "gender\n",
       "U          24122\n",
       "M          23724\n",
       "F          22746\n",
       "unknown       14\n",
       "X              3\n",
       "Name: count, dtype: int64"
      ]
     },
     "execution_count": 9,
     "metadata": {},
     "output_type": "execute_result"
    }
   ],
   "source": [
    "df_client['gender'].value_counts()"
   ]
  },
  {
   "cell_type": "code",
   "execution_count": 10,
   "id": "30dff473",
   "metadata": {},
   "outputs": [
    {
     "data": {
      "text/plain": [
       "gender_cleaned\n",
       "unknown    24139\n",
       "M          23724\n",
       "F          22746\n",
       "Name: count, dtype: int64"
      ]
     },
     "execution_count": 10,
     "metadata": {},
     "output_type": "execute_result"
    }
   ],
   "source": [
    "df_client['gender_cleaned'] = df_client['gender'].replace({'X':'unknown','U':'unknown'})\n",
    "df_client['gender_cleaned'].value_counts()"
   ]
  },
  {
   "cell_type": "markdown",
   "id": "dd3ccfe2",
   "metadata": {},
   "source": [
    "#### univariate analysis"
   ]
  },
  {
   "cell_type": "code",
   "execution_count": 11,
   "id": "5f8d125b",
   "metadata": {},
   "outputs": [
    {
     "data": {
      "text/plain": [
       "client_id              70609\n",
       "client_tenure_year        55\n",
       "client_tenure_month      483\n",
       "client_age               167\n",
       "gender                     5\n",
       "number_of_accounts         9\n",
       "balance                70334\n",
       "calls_6_month              9\n",
       "logos_6_month             10\n",
       "gender_cleaned             3\n",
       "dtype: int64"
      ]
     },
     "execution_count": 11,
     "metadata": {},
     "output_type": "execute_result"
    }
   ],
   "source": [
    "df_client.nunique()"
   ]
  },
  {
   "cell_type": "code",
   "execution_count": 12,
   "id": "5533640e",
   "metadata": {},
   "outputs": [
    {
     "data": {
      "image/png": "[encoded data removed]",
      "text/plain": [
       "<Figure size 2000x2000 with 5 Axes>"
      ]
     },
     "metadata": {},
     "output_type": "display_data"
    }
   ],
   "source": [
    "# barplot --->  categorical variable + numeric discrete variables \n",
    "\n",
    "categorical_cols = ['gender_cleaned', 'client_tenure_year', 'number_of_accounts','calls_6_month','logos_6_month']\n",
    "\n",
    "fig, axes = plt.subplots(nrows=len(categorical_cols), ncols=1, figsize=(20, 4*len(categorical_cols)))\n",
    "\n",
    "for i, col in enumerate(categorical_cols):\n",
    "    sns.countplot(data=df_client, x=col, ax=axes[i])\n",
    "    axes[i].set_title(f\"Distribution of {col}\")\n",
    "    axes[i].set_ylabel(\"Count\")\n",
    "    axes[i].set_xlabel(col)\n",
    "\n",
    "plt.tight_layout()\n",
    "plt.show()\n"
   ]
  },
  {
   "cell_type": "code",
   "execution_count": 13,
   "id": "5669eb64",
   "metadata": {},
   "outputs": [
    {
     "data": {
      "image/png": "[encoded data removed]",
      "text/plain": [
       "<Figure size 640x480 with 1 Axes>"
      ]
     },
     "metadata": {},
     "output_type": "display_data"
    }
   ],
   "source": [
    "# histogram --->  numeric continuous variables , numeric_cols = ['client_tenure_month','client_age','balance']\n",
    "\n",
    "# fixed_sized binning\n",
    "sns.histplot(df_client['client_age'],bins=30) \n",
    "plt.show()\n"
   ]
  },
  {
   "cell_type": "code",
   "execution_count": 14,
   "id": "7236ae93",
   "metadata": {},
   "outputs": [
    {
     "data": {
      "image/png": "[encoded data removed]",
      "text/plain": [
       "<Figure size 640x480 with 1 Axes>"
      ]
     },
     "metadata": {},
     "output_type": "display_data"
    }
   ],
   "source": [
    "# quantile binning\n",
    "p95_balance = df_client['balance'].quantile(0.95)\n",
    "\n",
    "balance_below_95 = df_client[df_client['balance'] <= p95_balance]['balance']\n",
    "balance_below_95\n",
    "\n",
    "bin_edges = np.linspace(balance_below_95.min(),balance_below_95.max(),30)\n",
    "\n",
    "sns.histplot(df_client['balance'],bins=bin_edges )  \n",
    "\n",
    "plt.show()\n"
   ]
  },
  {
   "cell_type": "code",
   "execution_count": 15,
   "id": "e108e932",
   "metadata": {},
   "outputs": [
    {
     "data": {
      "image/png": "[encoded data removed]",
      "text/plain": [
       "<Figure size 640x480 with 1 Axes>"
      ]
     },
     "metadata": {},
     "output_type": "display_data"
    }
   ],
   "source": [
    "# quantile binning \n",
    "p95_month = df_client['client_tenure_month'].quantile(0.95)\n",
    "\n",
    "balance_below_95 = df_client[df_client['client_tenure_month'] <= p95_month]['client_tenure_month']\n",
    "balance_below_95\n",
    "\n",
    "bin_edges = np.linspace(balance_below_95.min(),balance_below_95.max(),30)\n",
    "\n",
    "sns.histplot(df_client['client_tenure_month'],bins=bin_edges )  \n",
    "\n",
    "plt.show()\n"
   ]
  },
  {
   "cell_type": "markdown",
   "id": "830dbb3d",
   "metadata": {},
   "source": [
    "#### bivariate analysis"
   ]
  },
  {
   "cell_type": "code",
   "execution_count": 16,
   "id": "6c672ca6",
   "metadata": {},
   "outputs": [
    {
     "data": {
      "image/png": "[encoded data removed]",
      "text/plain": [
       "<Figure size 640x480 with 1 Axes>"
      ]
     },
     "metadata": {},
     "output_type": "display_data"
    }
   ],
   "source": [
    "# age - tenure year relationship\n",
    "df_primary_client = df_client[(df_client['client_age']>=20)& (df_client['client_age'] <= 60)]\n",
    "sns.scatterplot(data = df_primary_client, x = 'client_age',y = 'client_tenure_year')\n",
    "plt.show()"
   ]
  },
  {
   "cell_type": "markdown",
   "id": "847aedc7",
   "metadata": {},
   "source": [
    "## Digital Footprints data"
   ]
  },
  {
   "cell_type": "code",
   "execution_count": 17,
   "id": "f57f5abf",
   "metadata": {},
   "outputs": [
    {
     "data": {
      "text/plain": [
       "(Index(['client_id', 'visitor_id', 'visit_id', 'process_step', 'date_time'], dtype='object'),\n",
       " Index(['client_id', 'visitor_id', 'visit_id', 'process_step', 'date_time'], dtype='object'))"
      ]
     },
     "execution_count": 17,
     "metadata": {},
     "output_type": "execute_result"
    }
   ],
   "source": [
    "df_footprints_1 = pd.read_csv('https://raw.githubusercontent.com/data-bootcamp-v4/lessons/refs/heads/main/5_6_eda_inf_stats_tableau/project/files_for_project/df_final_web_data_pt_1.txt')\n",
    "df_footprints_2 = pd.read_csv('https://raw.githubusercontent.com/data-bootcamp-v4/lessons/refs/heads/main/5_6_eda_inf_stats_tableau/project/files_for_project/df_final_web_data_pt_2.txt')\n",
    "\n",
    "df_footprints_1.columns, df_footprints_2.columns"
   ]
  },
  {
   "cell_type": "code",
   "execution_count": 18,
   "id": "c0da7550",
   "metadata": {},
   "outputs": [
    {
     "data": {
      "text/plain": [
       "(client_id        int64\n",
       " visitor_id      object\n",
       " visit_id        object\n",
       " process_step    object\n",
       " date_time       object\n",
       " dtype: object,\n",
       " client_id        int64\n",
       " visitor_id      object\n",
       " visit_id        object\n",
       " process_step    object\n",
       " date_time       object\n",
       " dtype: object)"
      ]
     },
     "execution_count": 18,
     "metadata": {},
     "output_type": "execute_result"
    }
   ],
   "source": [
    "df_footprints_1.dtypes, df_footprints_2.dtypes"
   ]
  },
  {
   "cell_type": "markdown",
   "id": "f0c80dbb",
   "metadata": {},
   "source": [
    "#### change dtype for date_time column "
   ]
  },
  {
   "cell_type": "code",
   "execution_count": 19,
   "id": "44386fe8",
   "metadata": {},
   "outputs": [
    {
     "data": {
      "text/plain": [
       "(client_id                int64\n",
       " visitor_id              object\n",
       " visit_id                object\n",
       " process_step            object\n",
       " date_time       datetime64[ns]\n",
       " dtype: object,\n",
       " client_id                int64\n",
       " visitor_id              object\n",
       " visit_id                object\n",
       " process_step            object\n",
       " date_time       datetime64[ns]\n",
       " dtype: object)"
      ]
     },
     "execution_count": 19,
     "metadata": {},
     "output_type": "execute_result"
    }
   ],
   "source": [
    "# date_time column, object dtype ---> datetime dtype(each value is datetime object)\n",
    "df_footprints_1['date_time'] = pd.to_datetime(df_footprints_1['date_time'],errors = 'coerce')\n",
    "df_footprints_1['date_time'].isna().sum()\n",
    "df_footprints_2['date_time'] = pd.to_datetime(df_footprints_2['date_time'],errors = 'coerce')\n",
    "df_footprints_2['date_time'].isna().sum()\n",
    "\n",
    "df_footprints_1.dtypes, df_footprints_2.dtypes"
   ]
  },
  {
   "cell_type": "markdown",
   "id": "5c13e452",
   "metadata": {},
   "source": [
    "#### drop duplicate rows in 2 datasets "
   ]
  },
  {
   "cell_type": "code",
   "execution_count": 20,
   "id": "62975ae4",
   "metadata": {},
   "outputs": [
    {
     "data": {
      "text/plain": [
       "(np.int64(2095), np.int64(8669))"
      ]
     },
     "execution_count": 20,
     "metadata": {},
     "output_type": "execute_result"
    }
   ],
   "source": [
    "df_footprints_1.duplicated().sum(), df_footprints_2.duplicated().sum()"
   ]
  },
  {
   "cell_type": "code",
   "execution_count": 21,
   "id": "f38ceb32",
   "metadata": {},
   "outputs": [
    {
     "data": {
      "text/plain": [
       "(np.int64(0), np.int64(0))"
      ]
     },
     "execution_count": 21,
     "metadata": {},
     "output_type": "execute_result"
    }
   ],
   "source": [
    "df_footprints_1.drop_duplicates(inplace=True)\n",
    "df_footprints_2.drop_duplicates(inplace=True)\n",
    "df_footprints_1.duplicated().sum(), df_footprints_2.duplicated().sum()"
   ]
  },
  {
   "cell_type": "markdown",
   "id": "d1ff684d",
   "metadata": {},
   "source": [
    "#### concat two dataframes"
   ]
  },
  {
   "cell_type": "code",
   "execution_count": 22,
   "id": "31041424",
   "metadata": {},
   "outputs": [
    {
     "data": {
      "text/plain": [
       "((744641, 5), np.int64(0))"
      ]
     },
     "execution_count": 22,
     "metadata": {},
     "output_type": "execute_result"
    }
   ],
   "source": [
    "df_footprints_combined = pd.concat([df_footprints_1,df_footprints_2],ignore_index=True)\n",
    "\n",
    "df_footprints_combined.shape, df_footprints_combined.duplicated().sum()"
   ]
  },
  {
   "cell_type": "code",
   "execution_count": 23,
   "id": "d1fc3bec",
   "metadata": {},
   "outputs": [
    {
     "data": {
      "text/plain": [
       "client_id       120157\n",
       "visitor_id      130236\n",
       "visit_id        158095\n",
       "process_step         5\n",
       "date_time       629363\n",
       "dtype: int64"
      ]
     },
     "execution_count": 23,
     "metadata": {},
     "output_type": "execute_result"
    }
   ],
   "source": [
    "df_footprints_combined.nunique()"
   ]
  },
  {
   "cell_type": "markdown",
   "id": "8f943b85",
   "metadata": {},
   "source": [
    "#### explore date time "
   ]
  },
  {
   "cell_type": "code",
   "execution_count": 24,
   "id": "10ff7b78",
   "metadata": {},
   "outputs": [
    {
     "data": {
      "text/plain": [
       "(Timestamp('2017-03-15 00:03:03'), Timestamp('2017-06-20 23:59:57'))"
      ]
     },
     "execution_count": 24,
     "metadata": {},
     "output_type": "execute_result"
    }
   ],
   "source": [
    "df_footprints_combined['date_time'].min(),df_footprints_combined['date_time'].max()"
   ]
  },
  {
   "cell_type": "code",
   "execution_count": 25,
   "id": "34d58f98",
   "metadata": {},
   "outputs": [
    {
     "data": {
      "text/html": [
       "<div>\n",
       "<style scoped>\n",
       "    .dataframe tbody tr th:only-of-type {\n",
       "        vertical-align: middle;\n",
       "    }\n",
       "\n",
       "    .dataframe tbody tr th {\n",
       "        vertical-align: top;\n",
       "    }\n",
       "\n",
       "    .dataframe thead th {\n",
       "        text-align: right;\n",
       "    }\n",
       "</style>\n",
       "<table border=\"1\" class=\"dataframe\">\n",
       "  <thead>\n",
       "    <tr style=\"text-align: right;\">\n",
       "      <th></th>\n",
       "      <th>client_id</th>\n",
       "      <th>visitor_id</th>\n",
       "      <th>visit_id</th>\n",
       "      <th>process_step</th>\n",
       "      <th>date_time</th>\n",
       "    </tr>\n",
       "  </thead>\n",
       "  <tbody>\n",
       "    <tr>\n",
       "      <th>744638</th>\n",
       "      <td>9668240</td>\n",
       "      <td>388766751_9038881013</td>\n",
       "      <td>922267647_3096648104_968866</td>\n",
       "      <td>step_1</td>\n",
       "      <td>2017-05-24 18:44:51</td>\n",
       "    </tr>\n",
       "    <tr>\n",
       "      <th>744639</th>\n",
       "      <td>9668240</td>\n",
       "      <td>388766751_9038881013</td>\n",
       "      <td>922267647_3096648104_968866</td>\n",
       "      <td>start</td>\n",
       "      <td>2017-05-24 18:44:34</td>\n",
       "    </tr>\n",
       "    <tr>\n",
       "      <th>744640</th>\n",
       "      <td>674799</td>\n",
       "      <td>947159805_81558194550</td>\n",
       "      <td>86152093_47511127657_716022</td>\n",
       "      <td>start</td>\n",
       "      <td>2017-06-03 12:17:09</td>\n",
       "    </tr>\n",
       "  </tbody>\n",
       "</table>\n",
       "</div>"
      ],
      "text/plain": [
       "        client_id             visitor_id                     visit_id  \\\n",
       "744638    9668240   388766751_9038881013  922267647_3096648104_968866   \n",
       "744639    9668240   388766751_9038881013  922267647_3096648104_968866   \n",
       "744640     674799  947159805_81558194550  86152093_47511127657_716022   \n",
       "\n",
       "       process_step           date_time  \n",
       "744638       step_1 2017-05-24 18:44:51  \n",
       "744639        start 2017-05-24 18:44:34  \n",
       "744640        start 2017-06-03 12:17:09  "
      ]
     },
     "execution_count": 25,
     "metadata": {},
     "output_type": "execute_result"
    }
   ],
   "source": [
    "df_footprints_combined.tail(3)"
   ]
  },
  {
   "cell_type": "code",
   "execution_count": 26,
   "id": "b48f70e3",
   "metadata": {},
   "outputs": [
    {
     "data": {
      "text/html": [
       "<div>\n",
       "<style scoped>\n",
       "    .dataframe tbody tr th:only-of-type {\n",
       "        vertical-align: middle;\n",
       "    }\n",
       "\n",
       "    .dataframe tbody tr th {\n",
       "        vertical-align: top;\n",
       "    }\n",
       "\n",
       "    .dataframe thead th {\n",
       "        text-align: right;\n",
       "    }\n",
       "</style>\n",
       "<table border=\"1\" class=\"dataframe\">\n",
       "  <thead>\n",
       "    <tr style=\"text-align: right;\">\n",
       "      <th></th>\n",
       "      <th>client_id</th>\n",
       "      <th>visitor_id</th>\n",
       "      <th>visit_id</th>\n",
       "      <th>process_step</th>\n",
       "      <th>date_time</th>\n",
       "    </tr>\n",
       "  </thead>\n",
       "  <tbody>\n",
       "    <tr>\n",
       "      <th>744639</th>\n",
       "      <td>9668240</td>\n",
       "      <td>388766751_9038881013</td>\n",
       "      <td>922267647_3096648104_968866</td>\n",
       "      <td>start</td>\n",
       "      <td>2017-05-24 18:44:34</td>\n",
       "    </tr>\n",
       "    <tr>\n",
       "      <th>744638</th>\n",
       "      <td>9668240</td>\n",
       "      <td>388766751_9038881013</td>\n",
       "      <td>922267647_3096648104_968866</td>\n",
       "      <td>step_1</td>\n",
       "      <td>2017-05-24 18:44:51</td>\n",
       "    </tr>\n",
       "    <tr>\n",
       "      <th>744637</th>\n",
       "      <td>9668240</td>\n",
       "      <td>388766751_9038881013</td>\n",
       "      <td>922267647_3096648104_968866</td>\n",
       "      <td>start</td>\n",
       "      <td>2017-05-24 18:45:29</td>\n",
       "    </tr>\n",
       "    <tr>\n",
       "      <th>744636</th>\n",
       "      <td>9668240</td>\n",
       "      <td>388766751_9038881013</td>\n",
       "      <td>922267647_3096648104_968866</td>\n",
       "      <td>start</td>\n",
       "      <td>2017-05-24 18:46:10</td>\n",
       "    </tr>\n",
       "    <tr>\n",
       "      <th>744635</th>\n",
       "      <td>9668240</td>\n",
       "      <td>388766751_9038881013</td>\n",
       "      <td>922267647_3096648104_968866</td>\n",
       "      <td>step_1</td>\n",
       "      <td>2017-05-24 18:48:02</td>\n",
       "    </tr>\n",
       "    <tr>\n",
       "      <th>744634</th>\n",
       "      <td>9668240</td>\n",
       "      <td>388766751_9038881013</td>\n",
       "      <td>922267647_3096648104_968866</td>\n",
       "      <td>step_2</td>\n",
       "      <td>2017-05-24 18:48:11</td>\n",
       "    </tr>\n",
       "    <tr>\n",
       "      <th>744633</th>\n",
       "      <td>9668240</td>\n",
       "      <td>388766751_9038881013</td>\n",
       "      <td>922267647_3096648104_968866</td>\n",
       "      <td>step_1</td>\n",
       "      <td>2017-05-24 18:49:35</td>\n",
       "    </tr>\n",
       "    <tr>\n",
       "      <th>744632</th>\n",
       "      <td>9668240</td>\n",
       "      <td>388766751_9038881013</td>\n",
       "      <td>922267647_3096648104_968866</td>\n",
       "      <td>step_2</td>\n",
       "      <td>2017-05-24 18:49:36</td>\n",
       "    </tr>\n",
       "    <tr>\n",
       "      <th>744631</th>\n",
       "      <td>9668240</td>\n",
       "      <td>388766751_9038881013</td>\n",
       "      <td>922267647_3096648104_968866</td>\n",
       "      <td>step_3</td>\n",
       "      <td>2017-05-24 18:51:04</td>\n",
       "    </tr>\n",
       "    <tr>\n",
       "      <th>744630</th>\n",
       "      <td>9668240</td>\n",
       "      <td>388766751_9038881013</td>\n",
       "      <td>922267647_3096648104_968866</td>\n",
       "      <td>step_2</td>\n",
       "      <td>2017-05-24 18:51:15</td>\n",
       "    </tr>\n",
       "    <tr>\n",
       "      <th>744629</th>\n",
       "      <td>9668240</td>\n",
       "      <td>388766751_9038881013</td>\n",
       "      <td>922267647_3096648104_968866</td>\n",
       "      <td>step_3</td>\n",
       "      <td>2017-05-24 18:51:37</td>\n",
       "    </tr>\n",
       "    <tr>\n",
       "      <th>744628</th>\n",
       "      <td>9668240</td>\n",
       "      <td>388766751_9038881013</td>\n",
       "      <td>922267647_3096648104_968866</td>\n",
       "      <td>start</td>\n",
       "      <td>2017-05-24 19:02:04</td>\n",
       "    </tr>\n",
       "    <tr>\n",
       "      <th>744627</th>\n",
       "      <td>9668240</td>\n",
       "      <td>388766751_9038881013</td>\n",
       "      <td>922267647_3096648104_968866</td>\n",
       "      <td>step_1</td>\n",
       "      <td>2017-05-24 19:02:19</td>\n",
       "    </tr>\n",
       "    <tr>\n",
       "      <th>744626</th>\n",
       "      <td>9668240</td>\n",
       "      <td>388766751_9038881013</td>\n",
       "      <td>922267647_3096648104_968866</td>\n",
       "      <td>step_2</td>\n",
       "      <td>2017-05-24 19:02:37</td>\n",
       "    </tr>\n",
       "    <tr>\n",
       "      <th>744625</th>\n",
       "      <td>9668240</td>\n",
       "      <td>388766751_9038881013</td>\n",
       "      <td>922267647_3096648104_968866</td>\n",
       "      <td>step_1</td>\n",
       "      <td>2017-05-24 19:04:00</td>\n",
       "    </tr>\n",
       "    <tr>\n",
       "      <th>744624</th>\n",
       "      <td>9668240</td>\n",
       "      <td>388766751_9038881013</td>\n",
       "      <td>922267647_3096648104_968866</td>\n",
       "      <td>step_2</td>\n",
       "      <td>2017-05-24 19:04:03</td>\n",
       "    </tr>\n",
       "    <tr>\n",
       "      <th>744623</th>\n",
       "      <td>9668240</td>\n",
       "      <td>388766751_9038881013</td>\n",
       "      <td>922267647_3096648104_968866</td>\n",
       "      <td>step_3</td>\n",
       "      <td>2017-05-24 19:04:43</td>\n",
       "    </tr>\n",
       "    <tr>\n",
       "      <th>744622</th>\n",
       "      <td>9668240</td>\n",
       "      <td>388766751_9038881013</td>\n",
       "      <td>922267647_3096648104_968866</td>\n",
       "      <td>step_2</td>\n",
       "      <td>2017-05-24 19:05:07</td>\n",
       "    </tr>\n",
       "    <tr>\n",
       "      <th>744621</th>\n",
       "      <td>9668240</td>\n",
       "      <td>388766751_9038881013</td>\n",
       "      <td>922267647_3096648104_968866</td>\n",
       "      <td>step_3</td>\n",
       "      <td>2017-05-24 19:05:14</td>\n",
       "    </tr>\n",
       "    <tr>\n",
       "      <th>744620</th>\n",
       "      <td>9668240</td>\n",
       "      <td>388766751_9038881013</td>\n",
       "      <td>922267647_3096648104_968866</td>\n",
       "      <td>confirm</td>\n",
       "      <td>2017-05-24 19:07:35</td>\n",
       "    </tr>\n",
       "  </tbody>\n",
       "</table>\n",
       "</div>"
      ],
      "text/plain": [
       "        client_id            visitor_id                     visit_id  \\\n",
       "744639    9668240  388766751_9038881013  922267647_3096648104_968866   \n",
       "744638    9668240  388766751_9038881013  922267647_3096648104_968866   \n",
       "744637    9668240  388766751_9038881013  922267647_3096648104_968866   \n",
       "744636    9668240  388766751_9038881013  922267647_3096648104_968866   \n",
       "744635    9668240  388766751_9038881013  922267647_3096648104_968866   \n",
       "744634    9668240  388766751_9038881013  922267647_3096648104_968866   \n",
       "744633    9668240  388766751_9038881013  922267647_3096648104_968866   \n",
       "744632    9668240  388766751_9038881013  922267647_3096648104_968866   \n",
       "744631    9668240  388766751_9038881013  922267647_3096648104_968866   \n",
       "744630    9668240  388766751_9038881013  922267647_3096648104_968866   \n",
       "744629    9668240  388766751_9038881013  922267647_3096648104_968866   \n",
       "744628    9668240  388766751_9038881013  922267647_3096648104_968866   \n",
       "744627    9668240  388766751_9038881013  922267647_3096648104_968866   \n",
       "744626    9668240  388766751_9038881013  922267647_3096648104_968866   \n",
       "744625    9668240  388766751_9038881013  922267647_3096648104_968866   \n",
       "744624    9668240  388766751_9038881013  922267647_3096648104_968866   \n",
       "744623    9668240  388766751_9038881013  922267647_3096648104_968866   \n",
       "744622    9668240  388766751_9038881013  922267647_3096648104_968866   \n",
       "744621    9668240  388766751_9038881013  922267647_3096648104_968866   \n",
       "744620    9668240  388766751_9038881013  922267647_3096648104_968866   \n",
       "\n",
       "       process_step           date_time  \n",
       "744639        start 2017-05-24 18:44:34  \n",
       "744638       step_1 2017-05-24 18:44:51  \n",
       "744637        start 2017-05-24 18:45:29  \n",
       "744636        start 2017-05-24 18:46:10  \n",
       "744635       step_1 2017-05-24 18:48:02  \n",
       "744634       step_2 2017-05-24 18:48:11  \n",
       "744633       step_1 2017-05-24 18:49:35  \n",
       "744632       step_2 2017-05-24 18:49:36  \n",
       "744631       step_3 2017-05-24 18:51:04  \n",
       "744630       step_2 2017-05-24 18:51:15  \n",
       "744629       step_3 2017-05-24 18:51:37  \n",
       "744628        start 2017-05-24 19:02:04  \n",
       "744627       step_1 2017-05-24 19:02:19  \n",
       "744626       step_2 2017-05-24 19:02:37  \n",
       "744625       step_1 2017-05-24 19:04:00  \n",
       "744624       step_2 2017-05-24 19:04:03  \n",
       "744623       step_3 2017-05-24 19:04:43  \n",
       "744622       step_2 2017-05-24 19:05:07  \n",
       "744621       step_3 2017-05-24 19:05:14  \n",
       "744620      confirm 2017-05-24 19:07:35  "
      ]
     },
     "metadata": {},
     "output_type": "display_data"
    },
    {
     "data": {
      "text/plain": [
       "744639               NaT\n",
       "744638   0 days 00:00:17\n",
       "744637   0 days 00:00:38\n",
       "744636   0 days 00:00:41\n",
       "744635   0 days 00:01:52\n",
       "744634   0 days 00:00:09\n",
       "744633   0 days 00:01:24\n",
       "744632   0 days 00:00:01\n",
       "744631   0 days 00:01:28\n",
       "744630   0 days 00:00:11\n",
       "744629   0 days 00:00:22\n",
       "744628   0 days 00:10:27\n",
       "744627   0 days 00:00:15\n",
       "744626   0 days 00:00:18\n",
       "744625   0 days 00:01:23\n",
       "744624   0 days 00:00:03\n",
       "744623   0 days 00:00:40\n",
       "744622   0 days 00:00:24\n",
       "744621   0 days 00:00:07\n",
       "744620   0 days 00:02:21\n",
       "Name: date_time, dtype: timedelta64[ns]"
      ]
     },
     "execution_count": 26,
     "metadata": {},
     "output_type": "execute_result"
    }
   ],
   "source": [
    "display(df_footprints_combined[df_footprints_combined['client_id'] == 9668240].sort_values(by=[\"client_id\",\"visit_id\",\"date_time\"]))\n",
    "df_footprints_combined[df_footprints_combined['client_id'] == 9668240].sort_values(by=[\"client_id\",\"visit_id\",\"date_time\"]).groupby([\"client_id\",\"visit_id\"])[\"date_time\"].diff()"
   ]
  },
  {
   "cell_type": "markdown",
   "id": "f0d525ab",
   "metadata": {},
   "source": []
  },
  {
   "cell_type": "markdown",
   "id": "6149a896",
   "metadata": {},
   "source": [
    "## Experiment data"
   ]
  },
  {
   "cell_type": "code",
   "execution_count": 27,
   "id": "69f3f425",
   "metadata": {},
   "outputs": [
    {
     "data": {
      "text/plain": [
       "(Index(['client_id', 'Variation'], dtype='object'),\n",
       " (70609, 2),\n",
       " client_id     int64\n",
       " Variation    object\n",
       " dtype: object)"
      ]
     },
     "execution_count": 27,
     "metadata": {},
     "output_type": "execute_result"
    }
   ],
   "source": [
    "\n",
    "df_experiments = pd.read_csv('https://raw.githubusercontent.com/data-bootcamp-v4/lessons/refs/heads/main/5_6_eda_inf_stats_tableau/project/files_for_project/df_final_experiment_clients.txt')\n",
    "\n",
    "df_experiments.columns, df_experiments.shape,df_experiments.dtypes\n"
   ]
  },
  {
   "cell_type": "code",
   "execution_count": 28,
   "id": "43e51df8",
   "metadata": {},
   "outputs": [],
   "source": [
    " # rename column Variation-> variation\n",
    "df_experiments.rename(columns={'Variation':'variation'},inplace=True)"
   ]
  },
  {
   "cell_type": "code",
   "execution_count": 29,
   "id": "2e154cad",
   "metadata": {},
   "outputs": [],
   "source": [
    "# handle null values in column 'Variation', fill with 'unknown'\n",
    "df_experiments.isna().sum()\n",
    "df_experiments['variation_cleaned'] = df_experiments['variation'].fillna('unknown')"
   ]
  },
  {
   "cell_type": "code",
   "execution_count": 30,
   "id": "6af57b1f",
   "metadata": {},
   "outputs": [
    {
     "data": {
      "text/plain": [
       "variation_cleaned\n",
       "Test       26968\n",
       "Control    23532\n",
       "unknown    20109\n",
       "Name: count, dtype: int64"
      ]
     },
     "execution_count": 30,
     "metadata": {},
     "output_type": "execute_result"
    }
   ],
   "source": [
    "df_experiments['variation_cleaned'].value_counts()"
   ]
  },
  {
   "cell_type": "markdown",
   "id": "dea16a2b",
   "metadata": {},
   "source": [
    "## combine all data sources, df_final (744641, 14), use gender_clean, variation_clean"
   ]
  },
  {
   "cell_type": "code",
   "execution_count": 31,
   "id": "e827bdf7",
   "metadata": {},
   "outputs": [],
   "source": [
    "# digital footprint is main table , merge 3 datasets\n",
    "\n",
    "df1= pd.merge(left=df_footprints_combined,right=df_experiments,how='left', on='client_id')\n",
    "df_final = pd.merge(left = df1,right=df_client, how='left',on = 'client_id')"
   ]
  },
  {
   "cell_type": "code",
   "execution_count": 32,
   "id": "c8f84925",
   "metadata": {},
   "outputs": [
    {
     "data": {
      "text/plain": [
       "((744641, 16),\n",
       " client_id                   0\n",
       " visitor_id                  0\n",
       " visit_id                    0\n",
       " process_step                0\n",
       " date_time                   0\n",
       " variation              427406\n",
       " variation_cleaned      300744\n",
       " client_tenure_year     300744\n",
       " client_tenure_month    300744\n",
       " client_age             300744\n",
       " gender                 300744\n",
       " number_of_accounts     300744\n",
       " balance                300744\n",
       " calls_6_month          300744\n",
       " logos_6_month          300744\n",
       " gender_cleaned         300744\n",
       " dtype: int64)"
      ]
     },
     "execution_count": 32,
     "metadata": {},
     "output_type": "execute_result"
    }
   ],
   "source": [
    "df_final.shape, df_final.isna().sum()\n"
   ]
  },
  {
   "cell_type": "code",
   "execution_count": 33,
   "id": "6a778f48",
   "metadata": {},
   "outputs": [
    {
     "data": {
      "text/html": [
       "<div>\n",
       "<style scoped>\n",
       "    .dataframe tbody tr th:only-of-type {\n",
       "        vertical-align: middle;\n",
       "    }\n",
       "\n",
       "    .dataframe tbody tr th {\n",
       "        vertical-align: top;\n",
       "    }\n",
       "\n",
       "    .dataframe thead th {\n",
       "        text-align: right;\n",
       "    }\n",
       "</style>\n",
       "<table border=\"1\" class=\"dataframe\">\n",
       "  <thead>\n",
       "    <tr style=\"text-align: right;\">\n",
       "      <th></th>\n",
       "      <th>client_id</th>\n",
       "      <th>visitor_id</th>\n",
       "      <th>visit_id</th>\n",
       "      <th>process_step</th>\n",
       "      <th>date_time</th>\n",
       "      <th>variation</th>\n",
       "      <th>variation_cleaned</th>\n",
       "      <th>client_tenure_year</th>\n",
       "      <th>client_tenure_month</th>\n",
       "      <th>client_age</th>\n",
       "      <th>gender</th>\n",
       "      <th>number_of_accounts</th>\n",
       "      <th>balance</th>\n",
       "      <th>calls_6_month</th>\n",
       "      <th>logos_6_month</th>\n",
       "      <th>gender_cleaned</th>\n",
       "    </tr>\n",
       "  </thead>\n",
       "  <tbody>\n",
       "    <tr>\n",
       "      <th>245</th>\n",
       "      <td>8932927</td>\n",
       "      <td>485163175_18149554449</td>\n",
       "      <td>883578716_57691052399_945047</td>\n",
       "      <td>step_1</td>\n",
       "      <td>2017-04-13 22:37:49</td>\n",
       "      <td>NaN</td>\n",
       "      <td>NaN</td>\n",
       "      <td>NaN</td>\n",
       "      <td>NaN</td>\n",
       "      <td>NaN</td>\n",
       "      <td>NaN</td>\n",
       "      <td>NaN</td>\n",
       "      <td>NaN</td>\n",
       "      <td>NaN</td>\n",
       "      <td>NaN</td>\n",
       "      <td>NaN</td>\n",
       "    </tr>\n",
       "    <tr>\n",
       "      <th>270</th>\n",
       "      <td>1208567</td>\n",
       "      <td>490822748_12476046982</td>\n",
       "      <td>63636232_1058424732_545130</td>\n",
       "      <td>start</td>\n",
       "      <td>2017-04-24 14:03:26</td>\n",
       "      <td>NaN</td>\n",
       "      <td>NaN</td>\n",
       "      <td>NaN</td>\n",
       "      <td>NaN</td>\n",
       "      <td>NaN</td>\n",
       "      <td>NaN</td>\n",
       "      <td>NaN</td>\n",
       "      <td>NaN</td>\n",
       "      <td>NaN</td>\n",
       "      <td>NaN</td>\n",
       "      <td>NaN</td>\n",
       "    </tr>\n",
       "    <tr>\n",
       "      <th>356</th>\n",
       "      <td>9838496</td>\n",
       "      <td>408959474_91766774102</td>\n",
       "      <td>687233905_42314307889_453394</td>\n",
       "      <td>start</td>\n",
       "      <td>2017-03-24 21:26:14</td>\n",
       "      <td>NaN</td>\n",
       "      <td>NaN</td>\n",
       "      <td>NaN</td>\n",
       "      <td>NaN</td>\n",
       "      <td>NaN</td>\n",
       "      <td>NaN</td>\n",
       "      <td>NaN</td>\n",
       "      <td>NaN</td>\n",
       "      <td>NaN</td>\n",
       "      <td>NaN</td>\n",
       "      <td>NaN</td>\n",
       "    </tr>\n",
       "    <tr>\n",
       "      <th>859</th>\n",
       "      <td>2353261</td>\n",
       "      <td>387293592_26815377704</td>\n",
       "      <td>269923351_29360137819_823850</td>\n",
       "      <td>step_1</td>\n",
       "      <td>2017-03-20 16:07:22</td>\n",
       "      <td>NaN</td>\n",
       "      <td>NaN</td>\n",
       "      <td>NaN</td>\n",
       "      <td>NaN</td>\n",
       "      <td>NaN</td>\n",
       "      <td>NaN</td>\n",
       "      <td>NaN</td>\n",
       "      <td>NaN</td>\n",
       "      <td>NaN</td>\n",
       "      <td>NaN</td>\n",
       "      <td>NaN</td>\n",
       "    </tr>\n",
       "    <tr>\n",
       "      <th>860</th>\n",
       "      <td>2353261</td>\n",
       "      <td>387293592_26815377704</td>\n",
       "      <td>269923351_29360137819_823850</td>\n",
       "      <td>confirm</td>\n",
       "      <td>2017-03-20 16:05:07</td>\n",
       "      <td>NaN</td>\n",
       "      <td>NaN</td>\n",
       "      <td>NaN</td>\n",
       "      <td>NaN</td>\n",
       "      <td>NaN</td>\n",
       "      <td>NaN</td>\n",
       "      <td>NaN</td>\n",
       "      <td>NaN</td>\n",
       "      <td>NaN</td>\n",
       "      <td>NaN</td>\n",
       "      <td>NaN</td>\n",
       "    </tr>\n",
       "    <tr>\n",
       "      <th>...</th>\n",
       "      <td>...</td>\n",
       "      <td>...</td>\n",
       "      <td>...</td>\n",
       "      <td>...</td>\n",
       "      <td>...</td>\n",
       "      <td>...</td>\n",
       "      <td>...</td>\n",
       "      <td>...</td>\n",
       "      <td>...</td>\n",
       "      <td>...</td>\n",
       "      <td>...</td>\n",
       "      <td>...</td>\n",
       "      <td>...</td>\n",
       "      <td>...</td>\n",
       "      <td>...</td>\n",
       "      <td>...</td>\n",
       "    </tr>\n",
       "    <tr>\n",
       "      <th>744636</th>\n",
       "      <td>9668240</td>\n",
       "      <td>388766751_9038881013</td>\n",
       "      <td>922267647_3096648104_968866</td>\n",
       "      <td>start</td>\n",
       "      <td>2017-05-24 18:46:10</td>\n",
       "      <td>NaN</td>\n",
       "      <td>NaN</td>\n",
       "      <td>NaN</td>\n",
       "      <td>NaN</td>\n",
       "      <td>NaN</td>\n",
       "      <td>NaN</td>\n",
       "      <td>NaN</td>\n",
       "      <td>NaN</td>\n",
       "      <td>NaN</td>\n",
       "      <td>NaN</td>\n",
       "      <td>NaN</td>\n",
       "    </tr>\n",
       "    <tr>\n",
       "      <th>744637</th>\n",
       "      <td>9668240</td>\n",
       "      <td>388766751_9038881013</td>\n",
       "      <td>922267647_3096648104_968866</td>\n",
       "      <td>start</td>\n",
       "      <td>2017-05-24 18:45:29</td>\n",
       "      <td>NaN</td>\n",
       "      <td>NaN</td>\n",
       "      <td>NaN</td>\n",
       "      <td>NaN</td>\n",
       "      <td>NaN</td>\n",
       "      <td>NaN</td>\n",
       "      <td>NaN</td>\n",
       "      <td>NaN</td>\n",
       "      <td>NaN</td>\n",
       "      <td>NaN</td>\n",
       "      <td>NaN</td>\n",
       "    </tr>\n",
       "    <tr>\n",
       "      <th>744638</th>\n",
       "      <td>9668240</td>\n",
       "      <td>388766751_9038881013</td>\n",
       "      <td>922267647_3096648104_968866</td>\n",
       "      <td>step_1</td>\n",
       "      <td>2017-05-24 18:44:51</td>\n",
       "      <td>NaN</td>\n",
       "      <td>NaN</td>\n",
       "      <td>NaN</td>\n",
       "      <td>NaN</td>\n",
       "      <td>NaN</td>\n",
       "      <td>NaN</td>\n",
       "      <td>NaN</td>\n",
       "      <td>NaN</td>\n",
       "      <td>NaN</td>\n",
       "      <td>NaN</td>\n",
       "      <td>NaN</td>\n",
       "    </tr>\n",
       "    <tr>\n",
       "      <th>744639</th>\n",
       "      <td>9668240</td>\n",
       "      <td>388766751_9038881013</td>\n",
       "      <td>922267647_3096648104_968866</td>\n",
       "      <td>start</td>\n",
       "      <td>2017-05-24 18:44:34</td>\n",
       "      <td>NaN</td>\n",
       "      <td>NaN</td>\n",
       "      <td>NaN</td>\n",
       "      <td>NaN</td>\n",
       "      <td>NaN</td>\n",
       "      <td>NaN</td>\n",
       "      <td>NaN</td>\n",
       "      <td>NaN</td>\n",
       "      <td>NaN</td>\n",
       "      <td>NaN</td>\n",
       "      <td>NaN</td>\n",
       "    </tr>\n",
       "    <tr>\n",
       "      <th>744640</th>\n",
       "      <td>674799</td>\n",
       "      <td>947159805_81558194550</td>\n",
       "      <td>86152093_47511127657_716022</td>\n",
       "      <td>start</td>\n",
       "      <td>2017-06-03 12:17:09</td>\n",
       "      <td>NaN</td>\n",
       "      <td>NaN</td>\n",
       "      <td>NaN</td>\n",
       "      <td>NaN</td>\n",
       "      <td>NaN</td>\n",
       "      <td>NaN</td>\n",
       "      <td>NaN</td>\n",
       "      <td>NaN</td>\n",
       "      <td>NaN</td>\n",
       "      <td>NaN</td>\n",
       "      <td>NaN</td>\n",
       "    </tr>\n",
       "  </tbody>\n",
       "</table>\n",
       "<p>427406 rows × 16 columns</p>\n",
       "</div>"
      ],
      "text/plain": [
       "        client_id             visitor_id                      visit_id  \\\n",
       "245       8932927  485163175_18149554449  883578716_57691052399_945047   \n",
       "270       1208567  490822748_12476046982    63636232_1058424732_545130   \n",
       "356       9838496  408959474_91766774102  687233905_42314307889_453394   \n",
       "859       2353261  387293592_26815377704  269923351_29360137819_823850   \n",
       "860       2353261  387293592_26815377704  269923351_29360137819_823850   \n",
       "...           ...                    ...                           ...   \n",
       "744636    9668240   388766751_9038881013   922267647_3096648104_968866   \n",
       "744637    9668240   388766751_9038881013   922267647_3096648104_968866   \n",
       "744638    9668240   388766751_9038881013   922267647_3096648104_968866   \n",
       "744639    9668240   388766751_9038881013   922267647_3096648104_968866   \n",
       "744640     674799  947159805_81558194550   86152093_47511127657_716022   \n",
       "\n",
       "       process_step           date_time variation variation_cleaned  \\\n",
       "245          step_1 2017-04-13 22:37:49       NaN               NaN   \n",
       "270           start 2017-04-24 14:03:26       NaN               NaN   \n",
       "356           start 2017-03-24 21:26:14       NaN               NaN   \n",
       "859          step_1 2017-03-20 16:07:22       NaN               NaN   \n",
       "860         confirm 2017-03-20 16:05:07       NaN               NaN   \n",
       "...             ...                 ...       ...               ...   \n",
       "744636        start 2017-05-24 18:46:10       NaN               NaN   \n",
       "744637        start 2017-05-24 18:45:29       NaN               NaN   \n",
       "744638       step_1 2017-05-24 18:44:51       NaN               NaN   \n",
       "744639        start 2017-05-24 18:44:34       NaN               NaN   \n",
       "744640        start 2017-06-03 12:17:09       NaN               NaN   \n",
       "\n",
       "        client_tenure_year  client_tenure_month  client_age gender  \\\n",
       "245                    NaN                  NaN         NaN    NaN   \n",
       "270                    NaN                  NaN         NaN    NaN   \n",
       "356                    NaN                  NaN         NaN    NaN   \n",
       "859                    NaN                  NaN         NaN    NaN   \n",
       "860                    NaN                  NaN         NaN    NaN   \n",
       "...                    ...                  ...         ...    ...   \n",
       "744636                 NaN                  NaN         NaN    NaN   \n",
       "744637                 NaN                  NaN         NaN    NaN   \n",
       "744638                 NaN                  NaN         NaN    NaN   \n",
       "744639                 NaN                  NaN         NaN    NaN   \n",
       "744640                 NaN                  NaN         NaN    NaN   \n",
       "\n",
       "        number_of_accounts  balance  calls_6_month  logos_6_month  \\\n",
       "245                    NaN      NaN            NaN            NaN   \n",
       "270                    NaN      NaN            NaN            NaN   \n",
       "356                    NaN      NaN            NaN            NaN   \n",
       "859                    NaN      NaN            NaN            NaN   \n",
       "860                    NaN      NaN            NaN            NaN   \n",
       "...                    ...      ...            ...            ...   \n",
       "744636                 NaN      NaN            NaN            NaN   \n",
       "744637                 NaN      NaN            NaN            NaN   \n",
       "744638                 NaN      NaN            NaN            NaN   \n",
       "744639                 NaN      NaN            NaN            NaN   \n",
       "744640                 NaN      NaN            NaN            NaN   \n",
       "\n",
       "       gender_cleaned  \n",
       "245               NaN  \n",
       "270               NaN  \n",
       "356               NaN  \n",
       "859               NaN  \n",
       "860               NaN  \n",
       "...               ...  \n",
       "744636            NaN  \n",
       "744637            NaN  \n",
       "744638            NaN  \n",
       "744639            NaN  \n",
       "744640            NaN  \n",
       "\n",
       "[427406 rows x 16 columns]"
      ]
     },
     "metadata": {},
     "output_type": "display_data"
    }
   ],
   "source": [
    "display(df_final[df_final.isna().any(axis=1)])"
   ]
  },
  {
   "cell_type": "code",
   "execution_count": 34,
   "id": "4ba50c77",
   "metadata": {},
   "outputs": [
    {
     "data": {
      "text/plain": [
       "client_id              0\n",
       "visitor_id             0\n",
       "visit_id               0\n",
       "process_step           0\n",
       "date_time              0\n",
       "variation              0\n",
       "variation_cleaned      0\n",
       "client_tenure_year     0\n",
       "client_tenure_month    0\n",
       "client_age             0\n",
       "gender                 0\n",
       "number_of_accounts     0\n",
       "balance                0\n",
       "calls_6_month          0\n",
       "logos_6_month          0\n",
       "gender_cleaned         0\n",
       "dtype: int64"
      ]
     },
     "execution_count": 34,
     "metadata": {},
     "output_type": "execute_result"
    }
   ],
   "source": [
    "# fill all null values (clients that are in footprint but not in in client profile) \n",
    "\n",
    "def handle_null(col):\n",
    "    if np.issubdtype(col.dtype, np.number):  # float64 columns\n",
    "        return col.fillna(-1)\n",
    "    elif col.dtype.kind == 'O':\n",
    "        return col.fillna('unknown')\n",
    "    else:\n",
    "        return col\n",
    "\n",
    "df_final = df_final.apply(handle_null)\n",
    "\n",
    "df_final.isna().sum()"
   ]
  }
 ],
 "metadata": {
  "kernelspec": {
   "display_name": "py310",
   "language": "python",
   "name": "python3"
  },
  "language_info": {
   "codemirror_mode": {
    "name": "ipython",
    "version": 3
   },
   "file_extension": ".py",
   "mimetype": "text/x-python",
   "name": "python",
   "nbconvert_exporter": "python",
   "pygments_lexer": "ipython3",
   "version": "3.10.18"
  }
 },
 "nbformat": 4,
 "nbformat_minor": 5
}
