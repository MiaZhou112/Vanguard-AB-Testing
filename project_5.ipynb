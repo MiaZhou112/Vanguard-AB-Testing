{
 "cells": [
  {
   "cell_type": "code",
   "execution_count": 2,
   "id": "470d6d03",
   "metadata": {},
   "outputs": [],
   "source": [
    "import pandas as pd\n",
    "import numpy as np\n",
    "import seaborn as sns\n",
    "import matplotlib.pyplot as plt\n",
    "from matplotlib import pyplot as plt\n",
    "import matplotlib.dates as mdates\n",
    "%matplotlib inline"
   ]
  },
  {
   "cell_type": "markdown",
   "id": "99558c50",
   "metadata": {},
   "source": [
    "## Client profile data"
   ]
  },
  {
   "cell_type": "code",
   "execution_count": 3,
   "id": "d292c70c",
   "metadata": {},
   "outputs": [],
   "source": [
    "df_client = pd.read_csv('https://raw.githubusercontent.com/data-bootcamp-v4/lessons/refs/heads/main/5_6_eda_inf_stats_tableau/project/files_for_project/df_final_demo.txt')"
   ]
  },
  {
   "cell_type": "code",
   "execution_count": 4,
   "id": "450dffa7",
   "metadata": {},
   "outputs": [
    {
     "data": {
      "text/html": [
       "<div>\n",
       "<style scoped>\n",
       "    .dataframe tbody tr th:only-of-type {\n",
       "        vertical-align: middle;\n",
       "    }\n",
       "\n",
       "    .dataframe tbody tr th {\n",
       "        vertical-align: top;\n",
       "    }\n",
       "\n",
       "    .dataframe thead th {\n",
       "        text-align: right;\n",
       "    }\n",
       "</style>\n",
       "<table border=\"1\" class=\"dataframe\">\n",
       "  <thead>\n",
       "    <tr style=\"text-align: right;\">\n",
       "      <th></th>\n",
       "      <th>client_id</th>\n",
       "      <th>clnt_tenure_yr</th>\n",
       "      <th>clnt_tenure_mnth</th>\n",
       "      <th>clnt_age</th>\n",
       "      <th>gendr</th>\n",
       "      <th>num_accts</th>\n",
       "      <th>bal</th>\n",
       "      <th>calls_6_mnth</th>\n",
       "      <th>logons_6_mnth</th>\n",
       "    </tr>\n",
       "  </thead>\n",
       "  <tbody>\n",
       "    <tr>\n",
       "      <th>0</th>\n",
       "      <td>836976</td>\n",
       "      <td>6.0</td>\n",
       "      <td>73.0</td>\n",
       "      <td>60.5</td>\n",
       "      <td>U</td>\n",
       "      <td>2.0</td>\n",
       "      <td>45105.30</td>\n",
       "      <td>6.0</td>\n",
       "      <td>9.0</td>\n",
       "    </tr>\n",
       "    <tr>\n",
       "      <th>1</th>\n",
       "      <td>2304905</td>\n",
       "      <td>7.0</td>\n",
       "      <td>94.0</td>\n",
       "      <td>58.0</td>\n",
       "      <td>U</td>\n",
       "      <td>2.0</td>\n",
       "      <td>110860.30</td>\n",
       "      <td>6.0</td>\n",
       "      <td>9.0</td>\n",
       "    </tr>\n",
       "    <tr>\n",
       "      <th>2</th>\n",
       "      <td>1439522</td>\n",
       "      <td>5.0</td>\n",
       "      <td>64.0</td>\n",
       "      <td>32.0</td>\n",
       "      <td>U</td>\n",
       "      <td>2.0</td>\n",
       "      <td>52467.79</td>\n",
       "      <td>6.0</td>\n",
       "      <td>9.0</td>\n",
       "    </tr>\n",
       "    <tr>\n",
       "      <th>3</th>\n",
       "      <td>1562045</td>\n",
       "      <td>16.0</td>\n",
       "      <td>198.0</td>\n",
       "      <td>49.0</td>\n",
       "      <td>M</td>\n",
       "      <td>2.0</td>\n",
       "      <td>67454.65</td>\n",
       "      <td>3.0</td>\n",
       "      <td>6.0</td>\n",
       "    </tr>\n",
       "    <tr>\n",
       "      <th>4</th>\n",
       "      <td>5126305</td>\n",
       "      <td>12.0</td>\n",
       "      <td>145.0</td>\n",
       "      <td>33.0</td>\n",
       "      <td>F</td>\n",
       "      <td>2.0</td>\n",
       "      <td>103671.75</td>\n",
       "      <td>0.0</td>\n",
       "      <td>3.0</td>\n",
       "    </tr>\n",
       "  </tbody>\n",
       "</table>\n",
       "</div>"
      ],
      "text/plain": [
       "   client_id  clnt_tenure_yr  clnt_tenure_mnth  clnt_age gendr  num_accts  \\\n",
       "0     836976             6.0              73.0      60.5     U        2.0   \n",
       "1    2304905             7.0              94.0      58.0     U        2.0   \n",
       "2    1439522             5.0              64.0      32.0     U        2.0   \n",
       "3    1562045            16.0             198.0      49.0     M        2.0   \n",
       "4    5126305            12.0             145.0      33.0     F        2.0   \n",
       "\n",
       "         bal  calls_6_mnth  logons_6_mnth  \n",
       "0   45105.30           6.0            9.0  \n",
       "1  110860.30           6.0            9.0  \n",
       "2   52467.79           6.0            9.0  \n",
       "3   67454.65           3.0            6.0  \n",
       "4  103671.75           0.0            3.0  "
      ]
     },
     "execution_count": 4,
     "metadata": {},
     "output_type": "execute_result"
    }
   ],
   "source": [
    "df_client.head()"
   ]
  },
  {
   "cell_type": "code",
   "execution_count": 5,
   "id": "9228d6cb",
   "metadata": {},
   "outputs": [
    {
     "data": {
      "text/plain": [
       "(70609, 9)"
      ]
     },
     "execution_count": 5,
     "metadata": {},
     "output_type": "execute_result"
    }
   ],
   "source": [
    "df_client.shape"
   ]
  },
  {
   "cell_type": "code",
   "execution_count": 6,
   "id": "3fcefca0",
   "metadata": {},
   "outputs": [
    {
     "data": {
      "text/plain": [
       "Index(['client_id', 'clnt_tenure_yr', 'clnt_tenure_mnth', 'clnt_age', 'gendr',\n",
       "       'num_accts', 'bal', 'calls_6_mnth', 'logons_6_mnth'],\n",
       "      dtype='object')"
      ]
     },
     "execution_count": 6,
     "metadata": {},
     "output_type": "execute_result"
    }
   ],
   "source": [
    "df_client.columns"
   ]
  },
  {
   "cell_type": "code",
   "execution_count": 7,
   "id": "a9de7789",
   "metadata": {},
   "outputs": [
    {
     "data": {
      "text/html": [
       "<div>\n",
       "<style scoped>\n",
       "    .dataframe tbody tr th:only-of-type {\n",
       "        vertical-align: middle;\n",
       "    }\n",
       "\n",
       "    .dataframe tbody tr th {\n",
       "        vertical-align: top;\n",
       "    }\n",
       "\n",
       "    .dataframe thead th {\n",
       "        text-align: right;\n",
       "    }\n",
       "</style>\n",
       "<table border=\"1\" class=\"dataframe\">\n",
       "  <thead>\n",
       "    <tr style=\"text-align: right;\">\n",
       "      <th></th>\n",
       "      <th>client_id</th>\n",
       "      <th>client_tenure_year</th>\n",
       "      <th>client_tenure_month</th>\n",
       "      <th>client_age</th>\n",
       "      <th>gender</th>\n",
       "      <th>number_of_accounts</th>\n",
       "      <th>balance</th>\n",
       "      <th>calls_6_month</th>\n",
       "      <th>logos_6_month</th>\n",
       "    </tr>\n",
       "  </thead>\n",
       "  <tbody>\n",
       "    <tr>\n",
       "      <th>0</th>\n",
       "      <td>836976</td>\n",
       "      <td>6.0</td>\n",
       "      <td>73.0</td>\n",
       "      <td>60.5</td>\n",
       "      <td>U</td>\n",
       "      <td>2.0</td>\n",
       "      <td>45105.30</td>\n",
       "      <td>6.0</td>\n",
       "      <td>9.0</td>\n",
       "    </tr>\n",
       "    <tr>\n",
       "      <th>1</th>\n",
       "      <td>2304905</td>\n",
       "      <td>7.0</td>\n",
       "      <td>94.0</td>\n",
       "      <td>58.0</td>\n",
       "      <td>U</td>\n",
       "      <td>2.0</td>\n",
       "      <td>110860.30</td>\n",
       "      <td>6.0</td>\n",
       "      <td>9.0</td>\n",
       "    </tr>\n",
       "    <tr>\n",
       "      <th>2</th>\n",
       "      <td>1439522</td>\n",
       "      <td>5.0</td>\n",
       "      <td>64.0</td>\n",
       "      <td>32.0</td>\n",
       "      <td>U</td>\n",
       "      <td>2.0</td>\n",
       "      <td>52467.79</td>\n",
       "      <td>6.0</td>\n",
       "      <td>9.0</td>\n",
       "    </tr>\n",
       "    <tr>\n",
       "      <th>3</th>\n",
       "      <td>1562045</td>\n",
       "      <td>16.0</td>\n",
       "      <td>198.0</td>\n",
       "      <td>49.0</td>\n",
       "      <td>M</td>\n",
       "      <td>2.0</td>\n",
       "      <td>67454.65</td>\n",
       "      <td>3.0</td>\n",
       "      <td>6.0</td>\n",
       "    </tr>\n",
       "    <tr>\n",
       "      <th>4</th>\n",
       "      <td>5126305</td>\n",
       "      <td>12.0</td>\n",
       "      <td>145.0</td>\n",
       "      <td>33.0</td>\n",
       "      <td>F</td>\n",
       "      <td>2.0</td>\n",
       "      <td>103671.75</td>\n",
       "      <td>0.0</td>\n",
       "      <td>3.0</td>\n",
       "    </tr>\n",
       "  </tbody>\n",
       "</table>\n",
       "</div>"
      ],
      "text/plain": [
       "   client_id  client_tenure_year  client_tenure_month  client_age gender  \\\n",
       "0     836976                 6.0                 73.0        60.5      U   \n",
       "1    2304905                 7.0                 94.0        58.0      U   \n",
       "2    1439522                 5.0                 64.0        32.0      U   \n",
       "3    1562045                16.0                198.0        49.0      M   \n",
       "4    5126305                12.0                145.0        33.0      F   \n",
       "\n",
       "   number_of_accounts    balance  calls_6_month  logos_6_month  \n",
       "0                 2.0   45105.30            6.0            9.0  \n",
       "1                 2.0  110860.30            6.0            9.0  \n",
       "2                 2.0   52467.79            6.0            9.0  \n",
       "3                 2.0   67454.65            3.0            6.0  \n",
       "4                 2.0  103671.75            0.0            3.0  "
      ]
     },
     "execution_count": 7,
     "metadata": {},
     "output_type": "execute_result"
    }
   ],
   "source": [
    "# Renaming columns for better readability\n",
    "df_client.rename(columns={'gendr':'gender',\n",
    "                          'clnt_tenure_yr':'client_tenure_year',\n",
    "                          'clnt_tenure_mnth':'client_tenure_month',\n",
    "                          'clnt_age':'client_age',\n",
    "                          'num_accts':'number_of_accounts',\n",
    "                          'calls_6_mnth':'calls_6_month',\n",
    "                          'logons_6_mnth':'logos_6_month',\n",
    "                          'bal':'balance'},inplace=True)\n",
    "df_client.head()"
   ]
  },
  {
   "cell_type": "code",
   "execution_count": 8,
   "id": "4736b6ac",
   "metadata": {},
   "outputs": [
    {
     "data": {
      "text/plain": [
       "client_id                int64\n",
       "client_tenure_year     float64\n",
       "client_tenure_month    float64\n",
       "client_age             float64\n",
       "gender                  object\n",
       "number_of_accounts     float64\n",
       "balance                float64\n",
       "calls_6_month          float64\n",
       "logos_6_month          float64\n",
       "dtype: object"
      ]
     },
     "execution_count": 8,
     "metadata": {},
     "output_type": "execute_result"
    }
   ],
   "source": [
    "df_client.dtypes"
   ]
  },
  {
   "cell_type": "code",
   "execution_count": 9,
   "id": "3b3f89f3",
   "metadata": {},
   "outputs": [
    {
     "name": "stdout",
     "output_type": "stream",
     "text": [
      "Missing values in each column: client_id               0\n",
      "client_tenure_year     14\n",
      "client_tenure_month    14\n",
      "client_age             15\n",
      "gender                 14\n",
      "number_of_accounts     14\n",
      "balance                14\n",
      "calls_6_month          14\n",
      "logos_6_month          14\n",
      "dtype: int64\n"
     ]
    }
   ],
   "source": [
    "missing_values = df_client.isnull().sum()\n",
    "print(f\"Missing values in each column: {missing_values}\")"
   ]
  },
  {
   "cell_type": "code",
   "execution_count": 10,
   "id": "7a0faa71",
   "metadata": {},
   "outputs": [
    {
     "data": {
      "text/plain": [
       "False"
      ]
     },
     "execution_count": 10,
     "metadata": {},
     "output_type": "execute_result"
    }
   ],
   "source": [
    "df_client.duplicated().any()"
   ]
  },
  {
   "cell_type": "code",
   "execution_count": 11,
   "id": "3d94a58c",
   "metadata": {},
   "outputs": [
    {
     "data": {
      "text/html": [
       "<div>\n",
       "<style scoped>\n",
       "    .dataframe tbody tr th:only-of-type {\n",
       "        vertical-align: middle;\n",
       "    }\n",
       "\n",
       "    .dataframe tbody tr th {\n",
       "        vertical-align: top;\n",
       "    }\n",
       "\n",
       "    .dataframe thead th {\n",
       "        text-align: right;\n",
       "    }\n",
       "</style>\n",
       "<table border=\"1\" class=\"dataframe\">\n",
       "  <thead>\n",
       "    <tr style=\"text-align: right;\">\n",
       "      <th></th>\n",
       "      <th>client_id</th>\n",
       "      <th>client_tenure_year</th>\n",
       "      <th>client_tenure_month</th>\n",
       "      <th>client_age</th>\n",
       "      <th>number_of_accounts</th>\n",
       "      <th>balance</th>\n",
       "      <th>calls_6_month</th>\n",
       "      <th>logos_6_month</th>\n",
       "    </tr>\n",
       "  </thead>\n",
       "  <tbody>\n",
       "    <tr>\n",
       "      <th>count</th>\n",
       "      <td>7.060900e+04</td>\n",
       "      <td>70595.000000</td>\n",
       "      <td>70595.000000</td>\n",
       "      <td>70594.000000</td>\n",
       "      <td>70595.000000</td>\n",
       "      <td>7.059500e+04</td>\n",
       "      <td>70595.000000</td>\n",
       "      <td>70595.000000</td>\n",
       "    </tr>\n",
       "    <tr>\n",
       "      <th>mean</th>\n",
       "      <td>5.004992e+06</td>\n",
       "      <td>12.052950</td>\n",
       "      <td>150.659367</td>\n",
       "      <td>46.442240</td>\n",
       "      <td>2.255528</td>\n",
       "      <td>1.474452e+05</td>\n",
       "      <td>3.382478</td>\n",
       "      <td>5.566740</td>\n",
       "    </tr>\n",
       "    <tr>\n",
       "      <th>std</th>\n",
       "      <td>2.877278e+06</td>\n",
       "      <td>6.871819</td>\n",
       "      <td>82.089854</td>\n",
       "      <td>15.591273</td>\n",
       "      <td>0.534997</td>\n",
       "      <td>3.015087e+05</td>\n",
       "      <td>2.236580</td>\n",
       "      <td>2.353286</td>\n",
       "    </tr>\n",
       "    <tr>\n",
       "      <th>min</th>\n",
       "      <td>1.690000e+02</td>\n",
       "      <td>2.000000</td>\n",
       "      <td>33.000000</td>\n",
       "      <td>13.500000</td>\n",
       "      <td>1.000000</td>\n",
       "      <td>1.378942e+04</td>\n",
       "      <td>0.000000</td>\n",
       "      <td>1.000000</td>\n",
       "    </tr>\n",
       "    <tr>\n",
       "      <th>25%</th>\n",
       "      <td>2.519329e+06</td>\n",
       "      <td>6.000000</td>\n",
       "      <td>82.000000</td>\n",
       "      <td>32.500000</td>\n",
       "      <td>2.000000</td>\n",
       "      <td>3.734683e+04</td>\n",
       "      <td>1.000000</td>\n",
       "      <td>4.000000</td>\n",
       "    </tr>\n",
       "    <tr>\n",
       "      <th>50%</th>\n",
       "      <td>5.016978e+06</td>\n",
       "      <td>11.000000</td>\n",
       "      <td>136.000000</td>\n",
       "      <td>47.000000</td>\n",
       "      <td>2.000000</td>\n",
       "      <td>6.333290e+04</td>\n",
       "      <td>3.000000</td>\n",
       "      <td>5.000000</td>\n",
       "    </tr>\n",
       "    <tr>\n",
       "      <th>75%</th>\n",
       "      <td>7.483085e+06</td>\n",
       "      <td>16.000000</td>\n",
       "      <td>192.000000</td>\n",
       "      <td>59.000000</td>\n",
       "      <td>2.000000</td>\n",
       "      <td>1.375449e+05</td>\n",
       "      <td>6.000000</td>\n",
       "      <td>7.000000</td>\n",
       "    </tr>\n",
       "    <tr>\n",
       "      <th>max</th>\n",
       "      <td>9.999839e+06</td>\n",
       "      <td>62.000000</td>\n",
       "      <td>749.000000</td>\n",
       "      <td>96.000000</td>\n",
       "      <td>8.000000</td>\n",
       "      <td>1.632004e+07</td>\n",
       "      <td>7.000000</td>\n",
       "      <td>9.000000</td>\n",
       "    </tr>\n",
       "  </tbody>\n",
       "</table>\n",
       "</div>"
      ],
      "text/plain": [
       "          client_id  client_tenure_year  client_tenure_month    client_age  \\\n",
       "count  7.060900e+04        70595.000000         70595.000000  70594.000000   \n",
       "mean   5.004992e+06           12.052950           150.659367     46.442240   \n",
       "std    2.877278e+06            6.871819            82.089854     15.591273   \n",
       "min    1.690000e+02            2.000000            33.000000     13.500000   \n",
       "25%    2.519329e+06            6.000000            82.000000     32.500000   \n",
       "50%    5.016978e+06           11.000000           136.000000     47.000000   \n",
       "75%    7.483085e+06           16.000000           192.000000     59.000000   \n",
       "max    9.999839e+06           62.000000           749.000000     96.000000   \n",
       "\n",
       "       number_of_accounts       balance  calls_6_month  logos_6_month  \n",
       "count        70595.000000  7.059500e+04   70595.000000   70595.000000  \n",
       "mean             2.255528  1.474452e+05       3.382478       5.566740  \n",
       "std              0.534997  3.015087e+05       2.236580       2.353286  \n",
       "min              1.000000  1.378942e+04       0.000000       1.000000  \n",
       "25%              2.000000  3.734683e+04       1.000000       4.000000  \n",
       "50%              2.000000  6.333290e+04       3.000000       5.000000  \n",
       "75%              2.000000  1.375449e+05       6.000000       7.000000  \n",
       "max              8.000000  1.632004e+07       7.000000       9.000000  "
      ]
     },
     "execution_count": 11,
     "metadata": {},
     "output_type": "execute_result"
    }
   ],
   "source": [
    "df_client.describe()"
   ]
  },
  {
   "cell_type": "code",
   "execution_count": 12,
   "id": "44501b82",
   "metadata": {},
   "outputs": [
    {
     "data": {
      "text/html": [
       "<div>\n",
       "<style scoped>\n",
       "    .dataframe tbody tr th:only-of-type {\n",
       "        vertical-align: middle;\n",
       "    }\n",
       "\n",
       "    .dataframe tbody tr th {\n",
       "        vertical-align: top;\n",
       "    }\n",
       "\n",
       "    .dataframe thead th {\n",
       "        text-align: right;\n",
       "    }\n",
       "</style>\n",
       "<table border=\"1\" class=\"dataframe\">\n",
       "  <thead>\n",
       "    <tr style=\"text-align: right;\">\n",
       "      <th></th>\n",
       "      <th>client_id</th>\n",
       "      <th>client_tenure_year</th>\n",
       "      <th>client_tenure_month</th>\n",
       "      <th>client_age</th>\n",
       "      <th>gender</th>\n",
       "      <th>number_of_accounts</th>\n",
       "      <th>balance</th>\n",
       "      <th>calls_6_month</th>\n",
       "      <th>logos_6_month</th>\n",
       "    </tr>\n",
       "  </thead>\n",
       "  <tbody>\n",
       "    <tr>\n",
       "      <th>4164</th>\n",
       "      <td>7402828</td>\n",
       "      <td>NaN</td>\n",
       "      <td>NaN</td>\n",
       "      <td>NaN</td>\n",
       "      <td>NaN</td>\n",
       "      <td>NaN</td>\n",
       "      <td>NaN</td>\n",
       "      <td>NaN</td>\n",
       "      <td>NaN</td>\n",
       "    </tr>\n",
       "    <tr>\n",
       "      <th>8316</th>\n",
       "      <td>355337</td>\n",
       "      <td>NaN</td>\n",
       "      <td>NaN</td>\n",
       "      <td>NaN</td>\n",
       "      <td>NaN</td>\n",
       "      <td>NaN</td>\n",
       "      <td>NaN</td>\n",
       "      <td>NaN</td>\n",
       "      <td>NaN</td>\n",
       "    </tr>\n",
       "    <tr>\n",
       "      <th>8677</th>\n",
       "      <td>8412164</td>\n",
       "      <td>NaN</td>\n",
       "      <td>NaN</td>\n",
       "      <td>NaN</td>\n",
       "      <td>NaN</td>\n",
       "      <td>NaN</td>\n",
       "      <td>NaN</td>\n",
       "      <td>NaN</td>\n",
       "      <td>NaN</td>\n",
       "    </tr>\n",
       "    <tr>\n",
       "      <th>9583</th>\n",
       "      <td>4666211</td>\n",
       "      <td>8.0</td>\n",
       "      <td>106.0</td>\n",
       "      <td>NaN</td>\n",
       "      <td>F</td>\n",
       "      <td>2.0</td>\n",
       "      <td>42550.55</td>\n",
       "      <td>4.0</td>\n",
       "      <td>7.0</td>\n",
       "    </tr>\n",
       "    <tr>\n",
       "      <th>13444</th>\n",
       "      <td>2222915</td>\n",
       "      <td>NaN</td>\n",
       "      <td>NaN</td>\n",
       "      <td>NaN</td>\n",
       "      <td>NaN</td>\n",
       "      <td>NaN</td>\n",
       "      <td>NaN</td>\n",
       "      <td>NaN</td>\n",
       "      <td>NaN</td>\n",
       "    </tr>\n",
       "    <tr>\n",
       "      <th>18066</th>\n",
       "      <td>4876926</td>\n",
       "      <td>NaN</td>\n",
       "      <td>NaN</td>\n",
       "      <td>NaN</td>\n",
       "      <td>NaN</td>\n",
       "      <td>NaN</td>\n",
       "      <td>NaN</td>\n",
       "      <td>NaN</td>\n",
       "      <td>NaN</td>\n",
       "    </tr>\n",
       "    <tr>\n",
       "      <th>25961</th>\n",
       "      <td>5277910</td>\n",
       "      <td>NaN</td>\n",
       "      <td>NaN</td>\n",
       "      <td>NaN</td>\n",
       "      <td>NaN</td>\n",
       "      <td>NaN</td>\n",
       "      <td>NaN</td>\n",
       "      <td>NaN</td>\n",
       "      <td>NaN</td>\n",
       "    </tr>\n",
       "    <tr>\n",
       "      <th>28432</th>\n",
       "      <td>7616759</td>\n",
       "      <td>NaN</td>\n",
       "      <td>NaN</td>\n",
       "      <td>NaN</td>\n",
       "      <td>NaN</td>\n",
       "      <td>NaN</td>\n",
       "      <td>NaN</td>\n",
       "      <td>NaN</td>\n",
       "      <td>NaN</td>\n",
       "    </tr>\n",
       "    <tr>\n",
       "      <th>35323</th>\n",
       "      <td>8191345</td>\n",
       "      <td>NaN</td>\n",
       "      <td>NaN</td>\n",
       "      <td>NaN</td>\n",
       "      <td>NaN</td>\n",
       "      <td>NaN</td>\n",
       "      <td>NaN</td>\n",
       "      <td>NaN</td>\n",
       "      <td>NaN</td>\n",
       "    </tr>\n",
       "    <tr>\n",
       "      <th>43518</th>\n",
       "      <td>1227228</td>\n",
       "      <td>NaN</td>\n",
       "      <td>NaN</td>\n",
       "      <td>NaN</td>\n",
       "      <td>NaN</td>\n",
       "      <td>NaN</td>\n",
       "      <td>NaN</td>\n",
       "      <td>NaN</td>\n",
       "      <td>NaN</td>\n",
       "    </tr>\n",
       "    <tr>\n",
       "      <th>46076</th>\n",
       "      <td>8611797</td>\n",
       "      <td>NaN</td>\n",
       "      <td>NaN</td>\n",
       "      <td>NaN</td>\n",
       "      <td>NaN</td>\n",
       "      <td>NaN</td>\n",
       "      <td>NaN</td>\n",
       "      <td>NaN</td>\n",
       "      <td>NaN</td>\n",
       "    </tr>\n",
       "    <tr>\n",
       "      <th>47189</th>\n",
       "      <td>5144725</td>\n",
       "      <td>NaN</td>\n",
       "      <td>NaN</td>\n",
       "      <td>NaN</td>\n",
       "      <td>NaN</td>\n",
       "      <td>NaN</td>\n",
       "      <td>NaN</td>\n",
       "      <td>NaN</td>\n",
       "      <td>NaN</td>\n",
       "    </tr>\n",
       "    <tr>\n",
       "      <th>49846</th>\n",
       "      <td>1037867</td>\n",
       "      <td>NaN</td>\n",
       "      <td>NaN</td>\n",
       "      <td>NaN</td>\n",
       "      <td>NaN</td>\n",
       "      <td>NaN</td>\n",
       "      <td>NaN</td>\n",
       "      <td>NaN</td>\n",
       "      <td>NaN</td>\n",
       "    </tr>\n",
       "    <tr>\n",
       "      <th>63701</th>\n",
       "      <td>1618749</td>\n",
       "      <td>NaN</td>\n",
       "      <td>NaN</td>\n",
       "      <td>NaN</td>\n",
       "      <td>NaN</td>\n",
       "      <td>NaN</td>\n",
       "      <td>NaN</td>\n",
       "      <td>NaN</td>\n",
       "      <td>NaN</td>\n",
       "    </tr>\n",
       "    <tr>\n",
       "      <th>66219</th>\n",
       "      <td>6021001</td>\n",
       "      <td>NaN</td>\n",
       "      <td>NaN</td>\n",
       "      <td>NaN</td>\n",
       "      <td>NaN</td>\n",
       "      <td>NaN</td>\n",
       "      <td>NaN</td>\n",
       "      <td>NaN</td>\n",
       "      <td>NaN</td>\n",
       "    </tr>\n",
       "  </tbody>\n",
       "</table>\n",
       "</div>"
      ],
      "text/plain": [
       "       client_id  client_tenure_year  client_tenure_month  client_age gender  \\\n",
       "4164     7402828                 NaN                  NaN         NaN    NaN   \n",
       "8316      355337                 NaN                  NaN         NaN    NaN   \n",
       "8677     8412164                 NaN                  NaN         NaN    NaN   \n",
       "9583     4666211                 8.0                106.0         NaN      F   \n",
       "13444    2222915                 NaN                  NaN         NaN    NaN   \n",
       "18066    4876926                 NaN                  NaN         NaN    NaN   \n",
       "25961    5277910                 NaN                  NaN         NaN    NaN   \n",
       "28432    7616759                 NaN                  NaN         NaN    NaN   \n",
       "35323    8191345                 NaN                  NaN         NaN    NaN   \n",
       "43518    1227228                 NaN                  NaN         NaN    NaN   \n",
       "46076    8611797                 NaN                  NaN         NaN    NaN   \n",
       "47189    5144725                 NaN                  NaN         NaN    NaN   \n",
       "49846    1037867                 NaN                  NaN         NaN    NaN   \n",
       "63701    1618749                 NaN                  NaN         NaN    NaN   \n",
       "66219    6021001                 NaN                  NaN         NaN    NaN   \n",
       "\n",
       "       number_of_accounts   balance  calls_6_month  logos_6_month  \n",
       "4164                  NaN       NaN            NaN            NaN  \n",
       "8316                  NaN       NaN            NaN            NaN  \n",
       "8677                  NaN       NaN            NaN            NaN  \n",
       "9583                  2.0  42550.55            4.0            7.0  \n",
       "13444                 NaN       NaN            NaN            NaN  \n",
       "18066                 NaN       NaN            NaN            NaN  \n",
       "25961                 NaN       NaN            NaN            NaN  \n",
       "28432                 NaN       NaN            NaN            NaN  \n",
       "35323                 NaN       NaN            NaN            NaN  \n",
       "43518                 NaN       NaN            NaN            NaN  \n",
       "46076                 NaN       NaN            NaN            NaN  \n",
       "47189                 NaN       NaN            NaN            NaN  \n",
       "49846                 NaN       NaN            NaN            NaN  \n",
       "63701                 NaN       NaN            NaN            NaN  \n",
       "66219                 NaN       NaN            NaN            NaN  "
      ]
     },
     "metadata": {},
     "output_type": "display_data"
    }
   ],
   "source": [
    "# Null values in the dataset\n",
    "df_client.isna().sum()\n",
    "display(df_client[df_client.isna().any(axis=1)])"
   ]
  },
  {
   "cell_type": "code",
   "execution_count": 13,
   "id": "419d9107",
   "metadata": {},
   "outputs": [
    {
     "data": {
      "text/plain": [
       "gender\n",
       "U    24122\n",
       "M    23724\n",
       "F    22746\n",
       "X        3\n",
       "Name: count, dtype: int64"
      ]
     },
     "execution_count": 13,
     "metadata": {},
     "output_type": "execute_result"
    }
   ],
   "source": [
    "# Check how many values: U, X\n",
    "df_client['gender'].value_counts()"
   ]
  },
  {
   "cell_type": "code",
   "execution_count": 14,
   "id": "40117a50",
   "metadata": {},
   "outputs": [],
   "source": [
    "# Convert numeric-like columns\n",
    "num_cols = ['balance','client_age', 'client_tenure_month','client_tenure_year','number_of_accounts',\n",
    "            'calls_6_month','logons_6_month']\n",
    "for col in num_cols:\n",
    "    if col in df_client.columns:\n",
    "        df_client[col] = pd.to_numeric(df_client[col], errors='coerce')"
   ]
  },
  {
   "cell_type": "code",
   "execution_count": 15,
   "id": "f583e360",
   "metadata": {},
   "outputs": [],
   "source": [
    "# Fill with -1 if numeric variable or 'unknown' if categorical variable in column gender\n",
    "df_client.fillna({\n",
    "    'client_tenure_year': -1,\n",
    "    'client_tenure_month': -1,\n",
    "    'client_age':-1,\n",
    "    'gender':'unknown',\n",
    "    'number_of_accounts':-1,\n",
    "    'balance':-1,\n",
    "    'calls_6_month':-1,\n",
    "    'logos_6_month':-1,},inplace=True)\n",
    "df_client['gender'] = df_client['gender'].replace({'X':'unknown','U':'unknown'})"
   ]
  },
  {
   "cell_type": "code",
   "execution_count": 16,
   "id": "c1af8f53",
   "metadata": {},
   "outputs": [],
   "source": [
    "# Calculate the mean age (ignoring NaN automatically)\n",
    "mean_age = df_client['client_age'].mean()\n",
    "\n",
    "# Replace missing values with the mean\n",
    "df_client['client_age'] = df_client['client_age'].fillna(mean_age)"
   ]
  },
  {
   "cell_type": "code",
   "execution_count": 17,
   "id": "65fbbc8d",
   "metadata": {},
   "outputs": [
    {
     "data": {
      "text/html": [
       "<div>\n",
       "<style scoped>\n",
       "    .dataframe tbody tr th:only-of-type {\n",
       "        vertical-align: middle;\n",
       "    }\n",
       "\n",
       "    .dataframe tbody tr th {\n",
       "        vertical-align: top;\n",
       "    }\n",
       "\n",
       "    .dataframe thead th {\n",
       "        text-align: right;\n",
       "    }\n",
       "</style>\n",
       "<table border=\"1\" class=\"dataframe\">\n",
       "  <thead>\n",
       "    <tr style=\"text-align: right;\">\n",
       "      <th></th>\n",
       "      <th>client_id</th>\n",
       "      <th>client_tenure_year</th>\n",
       "      <th>client_tenure_month</th>\n",
       "      <th>client_age</th>\n",
       "      <th>gender</th>\n",
       "      <th>number_of_accounts</th>\n",
       "      <th>balance</th>\n",
       "      <th>calls_6_month</th>\n",
       "      <th>logos_6_month</th>\n",
       "    </tr>\n",
       "  </thead>\n",
       "  <tbody>\n",
       "    <tr>\n",
       "      <th>0</th>\n",
       "      <td>836976</td>\n",
       "      <td>6.0</td>\n",
       "      <td>73.0</td>\n",
       "      <td>60.5</td>\n",
       "      <td>unknown</td>\n",
       "      <td>2.0</td>\n",
       "      <td>45105.30</td>\n",
       "      <td>6.0</td>\n",
       "      <td>9.0</td>\n",
       "    </tr>\n",
       "    <tr>\n",
       "      <th>1</th>\n",
       "      <td>2304905</td>\n",
       "      <td>7.0</td>\n",
       "      <td>94.0</td>\n",
       "      <td>58.0</td>\n",
       "      <td>unknown</td>\n",
       "      <td>2.0</td>\n",
       "      <td>110860.30</td>\n",
       "      <td>6.0</td>\n",
       "      <td>9.0</td>\n",
       "    </tr>\n",
       "    <tr>\n",
       "      <th>2</th>\n",
       "      <td>1439522</td>\n",
       "      <td>5.0</td>\n",
       "      <td>64.0</td>\n",
       "      <td>32.0</td>\n",
       "      <td>unknown</td>\n",
       "      <td>2.0</td>\n",
       "      <td>52467.79</td>\n",
       "      <td>6.0</td>\n",
       "      <td>9.0</td>\n",
       "    </tr>\n",
       "    <tr>\n",
       "      <th>3</th>\n",
       "      <td>1562045</td>\n",
       "      <td>16.0</td>\n",
       "      <td>198.0</td>\n",
       "      <td>49.0</td>\n",
       "      <td>M</td>\n",
       "      <td>2.0</td>\n",
       "      <td>67454.65</td>\n",
       "      <td>3.0</td>\n",
       "      <td>6.0</td>\n",
       "    </tr>\n",
       "    <tr>\n",
       "      <th>4</th>\n",
       "      <td>5126305</td>\n",
       "      <td>12.0</td>\n",
       "      <td>145.0</td>\n",
       "      <td>33.0</td>\n",
       "      <td>F</td>\n",
       "      <td>2.0</td>\n",
       "      <td>103671.75</td>\n",
       "      <td>0.0</td>\n",
       "      <td>3.0</td>\n",
       "    </tr>\n",
       "    <tr>\n",
       "      <th>...</th>\n",
       "      <td>...</td>\n",
       "      <td>...</td>\n",
       "      <td>...</td>\n",
       "      <td>...</td>\n",
       "      <td>...</td>\n",
       "      <td>...</td>\n",
       "      <td>...</td>\n",
       "      <td>...</td>\n",
       "      <td>...</td>\n",
       "    </tr>\n",
       "    <tr>\n",
       "      <th>70604</th>\n",
       "      <td>7993686</td>\n",
       "      <td>4.0</td>\n",
       "      <td>56.0</td>\n",
       "      <td>38.5</td>\n",
       "      <td>unknown</td>\n",
       "      <td>3.0</td>\n",
       "      <td>1411062.68</td>\n",
       "      <td>5.0</td>\n",
       "      <td>5.0</td>\n",
       "    </tr>\n",
       "    <tr>\n",
       "      <th>70605</th>\n",
       "      <td>8981690</td>\n",
       "      <td>12.0</td>\n",
       "      <td>148.0</td>\n",
       "      <td>31.0</td>\n",
       "      <td>M</td>\n",
       "      <td>2.0</td>\n",
       "      <td>101867.07</td>\n",
       "      <td>6.0</td>\n",
       "      <td>6.0</td>\n",
       "    </tr>\n",
       "    <tr>\n",
       "      <th>70606</th>\n",
       "      <td>333913</td>\n",
       "      <td>16.0</td>\n",
       "      <td>198.0</td>\n",
       "      <td>61.5</td>\n",
       "      <td>F</td>\n",
       "      <td>2.0</td>\n",
       "      <td>40745.00</td>\n",
       "      <td>3.0</td>\n",
       "      <td>3.0</td>\n",
       "    </tr>\n",
       "    <tr>\n",
       "      <th>70607</th>\n",
       "      <td>1573142</td>\n",
       "      <td>21.0</td>\n",
       "      <td>255.0</td>\n",
       "      <td>68.0</td>\n",
       "      <td>M</td>\n",
       "      <td>3.0</td>\n",
       "      <td>475114.69</td>\n",
       "      <td>4.0</td>\n",
       "      <td>4.0</td>\n",
       "    </tr>\n",
       "    <tr>\n",
       "      <th>70608</th>\n",
       "      <td>5602139</td>\n",
       "      <td>21.0</td>\n",
       "      <td>254.0</td>\n",
       "      <td>59.5</td>\n",
       "      <td>F</td>\n",
       "      <td>3.0</td>\n",
       "      <td>157498.73</td>\n",
       "      <td>7.0</td>\n",
       "      <td>7.0</td>\n",
       "    </tr>\n",
       "  </tbody>\n",
       "</table>\n",
       "<p>70609 rows × 9 columns</p>\n",
       "</div>"
      ],
      "text/plain": [
       "       client_id  client_tenure_year  client_tenure_month  client_age  \\\n",
       "0         836976                 6.0                 73.0        60.5   \n",
       "1        2304905                 7.0                 94.0        58.0   \n",
       "2        1439522                 5.0                 64.0        32.0   \n",
       "3        1562045                16.0                198.0        49.0   \n",
       "4        5126305                12.0                145.0        33.0   \n",
       "...          ...                 ...                  ...         ...   \n",
       "70604    7993686                 4.0                 56.0        38.5   \n",
       "70605    8981690                12.0                148.0        31.0   \n",
       "70606     333913                16.0                198.0        61.5   \n",
       "70607    1573142                21.0                255.0        68.0   \n",
       "70608    5602139                21.0                254.0        59.5   \n",
       "\n",
       "        gender  number_of_accounts     balance  calls_6_month  logos_6_month  \n",
       "0      unknown                 2.0    45105.30            6.0            9.0  \n",
       "1      unknown                 2.0   110860.30            6.0            9.0  \n",
       "2      unknown                 2.0    52467.79            6.0            9.0  \n",
       "3            M                 2.0    67454.65            3.0            6.0  \n",
       "4            F                 2.0   103671.75            0.0            3.0  \n",
       "...        ...                 ...         ...            ...            ...  \n",
       "70604  unknown                 3.0  1411062.68            5.0            5.0  \n",
       "70605        M                 2.0   101867.07            6.0            6.0  \n",
       "70606        F                 2.0    40745.00            3.0            3.0  \n",
       "70607        M                 3.0   475114.69            4.0            4.0  \n",
       "70608        F                 3.0   157498.73            7.0            7.0  \n",
       "\n",
       "[70609 rows x 9 columns]"
      ]
     },
     "execution_count": 17,
     "metadata": {},
     "output_type": "execute_result"
    }
   ],
   "source": [
    "df_client"
   ]
  },
  {
   "cell_type": "code",
   "execution_count": 18,
   "id": "ba33b102",
   "metadata": {},
   "outputs": [
    {
     "data": {
      "text/plain": [
       "client_tenure_year\n",
       " 6.0     7092\n",
       " 5.0     6955\n",
       " 7.0     4955\n",
       " 4.0     4687\n",
       " 15.0    4564\n",
       " 8.0     4045\n",
       " 14.0    3646\n",
       " 12.0    3631\n",
       " 13.0    3607\n",
       " 9.0     3357\n",
       " 11.0    2920\n",
       " 10.0    2775\n",
       " 16.0    2714\n",
       " 21.0    2257\n",
       " 20.0    1580\n",
       " 22.0    1492\n",
       " 17.0    1373\n",
       " 23.0    1279\n",
       " 18.0    1206\n",
       " 19.0    1153\n",
       " 24.0     846\n",
       " 26.0     660\n",
       " 27.0     632\n",
       " 28.0     507\n",
       " 25.0     484\n",
       " 3.0      449\n",
       " 29.0     309\n",
       " 30.0     303\n",
       " 33.0     206\n",
       " 32.0     191\n",
       " 34.0     175\n",
       " 31.0     166\n",
       " 35.0     102\n",
       " 2.0       81\n",
       " 36.0      36\n",
       " 37.0      35\n",
       " 38.0      33\n",
       " 48.0      16\n",
       "-1.0       14\n",
       " 39.0       9\n",
       " 40.0       9\n",
       " 55.0       9\n",
       " 50.0       8\n",
       " 42.0       6\n",
       " 47.0       6\n",
       " 43.0       6\n",
       " 46.0       5\n",
       " 51.0       5\n",
       " 49.0       4\n",
       " 44.0       3\n",
       " 52.0       2\n",
       " 54.0       1\n",
       " 41.0       1\n",
       " 45.0       1\n",
       " 62.0       1\n",
       "Name: count, dtype: int64"
      ]
     },
     "execution_count": 18,
     "metadata": {},
     "output_type": "execute_result"
    }
   ],
   "source": [
    "df_client['client_tenure_year'].value_counts()"
   ]
  },
  {
   "cell_type": "code",
   "execution_count": 19,
   "id": "f0f556ad",
   "metadata": {},
   "outputs": [
    {
     "data": {
      "text/plain": [
       "client_age\n",
       "58.5    859\n",
       "55.5    830\n",
       "29.5    829\n",
       "28.5    827\n",
       "57.5    826\n",
       "       ... \n",
       "96.0      2\n",
       "14.0      2\n",
       "95.5      1\n",
       "94.5      1\n",
       "13.5      1\n",
       "Name: count, Length: 166, dtype: int64"
      ]
     },
     "execution_count": 19,
     "metadata": {},
     "output_type": "execute_result"
    }
   ],
   "source": [
    "df_client['client_age'].value_counts()"
   ]
  },
  {
   "cell_type": "code",
   "execution_count": 20,
   "id": "b9713ac4",
   "metadata": {},
   "outputs": [
    {
     "data": {
      "text/plain": [
       "client_age\n",
       "58.5    859\n",
       "55.5    830\n",
       "29.5    829\n",
       "28.5    827\n",
       "57.5    826\n",
       "       ... \n",
       "96.0      2\n",
       "14.0      2\n",
       "95.5      1\n",
       "94.5      1\n",
       "13.5      1\n",
       "Name: count, Length: 166, dtype: int64"
      ]
     },
     "execution_count": 20,
     "metadata": {},
     "output_type": "execute_result"
    }
   ],
   "source": [
    "df_client['client_age'].value_counts()"
   ]
  },
  {
   "cell_type": "code",
   "execution_count": 21,
   "id": "68e500cd",
   "metadata": {},
   "outputs": [
    {
     "data": {
      "text/plain": [
       "gender\n",
       "unknown    24139\n",
       "M          23724\n",
       "F          22746\n",
       "Name: count, dtype: int64"
      ]
     },
     "execution_count": 21,
     "metadata": {},
     "output_type": "execute_result"
    }
   ],
   "source": [
    "df_client['gender'].value_counts()"
   ]
  },
  {
   "cell_type": "markdown",
   "id": "bbc0039d",
   "metadata": {},
   "source": [
    "#### Univariate Analysis"
   ]
  },
  {
   "cell_type": "code",
   "execution_count": 22,
   "id": "777feb47",
   "metadata": {},
   "outputs": [
    {
     "data": {
      "text/plain": [
       "client_id              70609\n",
       "client_tenure_year        55\n",
       "client_tenure_month      483\n",
       "client_age               166\n",
       "gender                     3\n",
       "number_of_accounts         9\n",
       "balance                70329\n",
       "calls_6_month              9\n",
       "logos_6_month             10\n",
       "dtype: int64"
      ]
     },
     "execution_count": 22,
     "metadata": {},
     "output_type": "execute_result"
    }
   ],
   "source": [
    "df_client.nunique()"
   ]
  },
  {
   "cell_type": "code",
   "execution_count": 23,
   "id": "55e4ad57",
   "metadata": {},
   "outputs": [
    {
     "data": {
      "image/png": "[encoded data removed]",
      "text/plain": [
       "<Figure size 2000x2000 with 5 Axes>"
      ]
     },
     "metadata": {},
     "output_type": "display_data"
    }
   ],
   "source": [
    "# Barplot for categorical variables + numeric discrete variables \n",
    "\n",
    "categorical_cols = ['gender', 'client_tenure_year', 'number_of_accounts','calls_6_month','logos_6_month']\n",
    "\n",
    "fig, axes = plt.subplots(nrows=len(categorical_cols), ncols=1, figsize=(20, 4*len(categorical_cols)))\n",
    "\n",
    "for i, col in enumerate(categorical_cols):\n",
    "    sns.countplot(data=df_client, x=col, ax=axes[i])\n",
    "    axes[i].set_title(f\"Distribution of {col}\")\n",
    "    axes[i].set_ylabel(\"Count\")\n",
    "    axes[i].set_xlabel(col)\n",
    "\n",
    "plt.tight_layout()\n",
    "plt.show()"
   ]
  },
  {
   "cell_type": "code",
   "execution_count": 24,
   "id": "039b66b1",
   "metadata": {},
   "outputs": [
    {
     "data": {
      "image/png": "[encoded data removed]",
      "text/plain": [
       "<Figure size 640x480 with 1 Axes>"
      ]
     },
     "metadata": {},
     "output_type": "display_data"
    }
   ],
   "source": [
    "# Histogram for numeric continuous variables: client_age\n",
    "sns.histplot(df_client['client_age'],bins=30) \n",
    "plt.show()"
   ]
  },
  {
   "cell_type": "code",
   "execution_count": 25,
   "id": "f9251a49",
   "metadata": {},
   "outputs": [
    {
     "data": {
      "image/png": "[encoded data removed]",
      "text/plain": [
       "<Figure size 640x480 with 1 Axes>"
      ]
     },
     "metadata": {},
     "output_type": "display_data"
    }
   ],
   "source": [
    "# Histogram for numeric continuous variables: balance as quantile binning\n",
    "p95_balance = df_client['balance'].quantile(0.95)\n",
    "\n",
    "balance_below_95 = df_client[df_client['balance'] <= p95_balance]['balance']\n",
    "balance_below_95\n",
    "\n",
    "bin_edges = np.linspace(balance_below_95.min(),balance_below_95.max(),30)\n",
    "\n",
    "sns.histplot(df_client['balance'],bins=bin_edges )  \n",
    "\n",
    "plt.show()"
   ]
  },
  {
   "cell_type": "code",
   "execution_count": 26,
   "id": "b7f3656f",
   "metadata": {},
   "outputs": [
    {
     "data": {
      "image/png": "[encoded data removed]",
      "text/plain": [
       "<Figure size 640x480 with 1 Axes>"
      ]
     },
     "metadata": {},
     "output_type": "display_data"
    }
   ],
   "source": [
    "# Histogram for numeric continuous variables: client_tenure_month as quantile binning \n",
    "p95_month = df_client['client_tenure_month'].quantile(0.95)\n",
    "\n",
    "balance_below_95 = df_client[df_client['client_tenure_month'] <= p95_month]['client_tenure_month']\n",
    "balance_below_95\n",
    "\n",
    "bin_edges = np.linspace(balance_below_95.min(),balance_below_95.max(),30)\n",
    "\n",
    "sns.histplot(df_client['client_tenure_month'],bins=bin_edges )  \n",
    "\n",
    "plt.show()\n"
   ]
  },
  {
   "cell_type": "markdown",
   "id": "16995687",
   "metadata": {},
   "source": [
    "#### Bivariate analysis"
   ]
  },
  {
   "cell_type": "code",
   "execution_count": 27,
   "id": "2bc1ce31",
   "metadata": {},
   "outputs": [
    {
     "data": {
      "image/png": "[encoded data removed]",
      "text/plain": [
       "<Figure size 640x480 with 1 Axes>"
      ]
     },
     "metadata": {},
     "output_type": "display_data"
    }
   ],
   "source": [
    "# age - tenure year relationship\n",
    "df_primary_client = df_client[(df_client['client_age']>=20)& (df_client['client_age'] <= 60)]\n",
    "sns.scatterplot(data = df_primary_client, x = 'client_age',y = 'client_tenure_year')\n",
    "plt.show()"
   ]
  },
  {
   "cell_type": "markdown",
   "id": "e0f63d65",
   "metadata": {},
   "source": [
    "## Digital Footprints data"
   ]
  },
  {
   "cell_type": "code",
   "execution_count": 28,
   "id": "8b4fdb57",
   "metadata": {},
   "outputs": [],
   "source": [
    "df_footprints_1 = pd.read_csv('https://raw.githubusercontent.com/data-bootcamp-v4/lessons/refs/heads/main/5_6_eda_inf_stats_tableau/project/files_for_project/df_final_web_data_pt_1.txt')\n",
    "df_footprints_2 = pd.read_csv('https://raw.githubusercontent.com/data-bootcamp-v4/lessons/refs/heads/main/5_6_eda_inf_stats_tableau/project/files_for_project/df_final_web_data_pt_2.txt')"
   ]
  },
  {
   "cell_type": "code",
   "execution_count": 29,
   "id": "2391c49e",
   "metadata": {},
   "outputs": [
    {
     "data": {
      "text/plain": [
       "(Index(['client_id', 'visitor_id', 'visit_id', 'process_step', 'date_time'], dtype='object'),\n",
       " Index(['client_id', 'visitor_id', 'visit_id', 'process_step', 'date_time'], dtype='object'))"
      ]
     },
     "execution_count": 29,
     "metadata": {},
     "output_type": "execute_result"
    }
   ],
   "source": [
    "df_footprints_1.columns, df_footprints_2.columns"
   ]
  },
  {
   "cell_type": "code",
   "execution_count": 30,
   "id": "3f840a22",
   "metadata": {},
   "outputs": [],
   "source": [
    "# Merging the two footprints dataframes\n",
    "df_footprints_combined = pd.concat([df_footprints_1,df_footprints_2],ignore_index=True)"
   ]
  },
  {
   "cell_type": "code",
   "execution_count": 31,
   "id": "4e1d596e",
   "metadata": {},
   "outputs": [
    {
     "data": {
      "text/html": [
       "<div>\n",
       "<style scoped>\n",
       "    .dataframe tbody tr th:only-of-type {\n",
       "        vertical-align: middle;\n",
       "    }\n",
       "\n",
       "    .dataframe tbody tr th {\n",
       "        vertical-align: top;\n",
       "    }\n",
       "\n",
       "    .dataframe thead th {\n",
       "        text-align: right;\n",
       "    }\n",
       "</style>\n",
       "<table border=\"1\" class=\"dataframe\">\n",
       "  <thead>\n",
       "    <tr style=\"text-align: right;\">\n",
       "      <th></th>\n",
       "      <th>client_id</th>\n",
       "      <th>visitor_id</th>\n",
       "      <th>visit_id</th>\n",
       "      <th>process_step</th>\n",
       "      <th>date_time</th>\n",
       "    </tr>\n",
       "  </thead>\n",
       "  <tbody>\n",
       "    <tr>\n",
       "      <th>0</th>\n",
       "      <td>9988021</td>\n",
       "      <td>580560515_7732621733</td>\n",
       "      <td>781255054_21935453173_531117</td>\n",
       "      <td>step_3</td>\n",
       "      <td>2017-04-17 15:27:07</td>\n",
       "    </tr>\n",
       "    <tr>\n",
       "      <th>1</th>\n",
       "      <td>9988021</td>\n",
       "      <td>580560515_7732621733</td>\n",
       "      <td>781255054_21935453173_531117</td>\n",
       "      <td>step_2</td>\n",
       "      <td>2017-04-17 15:26:51</td>\n",
       "    </tr>\n",
       "    <tr>\n",
       "      <th>2</th>\n",
       "      <td>9988021</td>\n",
       "      <td>580560515_7732621733</td>\n",
       "      <td>781255054_21935453173_531117</td>\n",
       "      <td>step_3</td>\n",
       "      <td>2017-04-17 15:19:22</td>\n",
       "    </tr>\n",
       "    <tr>\n",
       "      <th>3</th>\n",
       "      <td>9988021</td>\n",
       "      <td>580560515_7732621733</td>\n",
       "      <td>781255054_21935453173_531117</td>\n",
       "      <td>step_2</td>\n",
       "      <td>2017-04-17 15:19:13</td>\n",
       "    </tr>\n",
       "    <tr>\n",
       "      <th>4</th>\n",
       "      <td>9988021</td>\n",
       "      <td>580560515_7732621733</td>\n",
       "      <td>781255054_21935453173_531117</td>\n",
       "      <td>step_3</td>\n",
       "      <td>2017-04-17 15:18:04</td>\n",
       "    </tr>\n",
       "  </tbody>\n",
       "</table>\n",
       "</div>"
      ],
      "text/plain": [
       "   client_id            visitor_id                      visit_id process_step  \\\n",
       "0    9988021  580560515_7732621733  781255054_21935453173_531117       step_3   \n",
       "1    9988021  580560515_7732621733  781255054_21935453173_531117       step_2   \n",
       "2    9988021  580560515_7732621733  781255054_21935453173_531117       step_3   \n",
       "3    9988021  580560515_7732621733  781255054_21935453173_531117       step_2   \n",
       "4    9988021  580560515_7732621733  781255054_21935453173_531117       step_3   \n",
       "\n",
       "             date_time  \n",
       "0  2017-04-17 15:27:07  \n",
       "1  2017-04-17 15:26:51  \n",
       "2  2017-04-17 15:19:22  \n",
       "3  2017-04-17 15:19:13  \n",
       "4  2017-04-17 15:18:04  "
      ]
     },
     "execution_count": 31,
     "metadata": {},
     "output_type": "execute_result"
    }
   ],
   "source": [
    "df_footprints_combined.head()"
   ]
  },
  {
   "cell_type": "code",
   "execution_count": 32,
   "id": "bebab1d2",
   "metadata": {},
   "outputs": [
    {
     "data": {
      "text/plain": [
       "(755405, 5)"
      ]
     },
     "execution_count": 32,
     "metadata": {},
     "output_type": "execute_result"
    }
   ],
   "source": [
    "df_footprints_combined.shape"
   ]
  },
  {
   "cell_type": "code",
   "execution_count": 33,
   "id": "4b1643e8",
   "metadata": {},
   "outputs": [
    {
     "data": {
      "text/plain": [
       "Index(['client_id', 'visitor_id', 'visit_id', 'process_step', 'date_time'], dtype='object')"
      ]
     },
     "execution_count": 33,
     "metadata": {},
     "output_type": "execute_result"
    }
   ],
   "source": [
    "df_footprints_combined.columns"
   ]
  },
  {
   "cell_type": "code",
   "execution_count": 34,
   "id": "318900cf",
   "metadata": {},
   "outputs": [
    {
     "data": {
      "text/plain": [
       "client_id        int64\n",
       "visitor_id      object\n",
       "visit_id        object\n",
       "process_step    object\n",
       "date_time       object\n",
       "dtype: object"
      ]
     },
     "execution_count": 34,
     "metadata": {},
     "output_type": "execute_result"
    }
   ],
   "source": [
    "df_footprints_combined.dtypes"
   ]
  },
  {
   "cell_type": "code",
   "execution_count": 35,
   "id": "0238d8d6",
   "metadata": {},
   "outputs": [
    {
     "name": "stdout",
     "output_type": "stream",
     "text": [
      "Missing values in each column: client_id       0\n",
      "visitor_id      0\n",
      "visit_id        0\n",
      "process_step    0\n",
      "date_time       0\n",
      "dtype: int64\n"
     ]
    }
   ],
   "source": [
    "missing_values = df_footprints_combined.isnull().sum()\n",
    "print(f\"Missing values in each column: {missing_values}\")"
   ]
  },
  {
   "cell_type": "code",
   "execution_count": 36,
   "id": "deb24b37",
   "metadata": {},
   "outputs": [
    {
     "data": {
      "text/plain": [
       "10764"
      ]
     },
     "execution_count": 36,
     "metadata": {},
     "output_type": "execute_result"
    }
   ],
   "source": [
    "df_footprints_combined.duplicated().sum()"
   ]
  },
  {
   "cell_type": "code",
   "execution_count": 37,
   "id": "cfa8a794",
   "metadata": {},
   "outputs": [
    {
     "data": {
      "text/plain": [
       "client_id       120157\n",
       "visitor_id      130236\n",
       "visit_id        158095\n",
       "process_step         5\n",
       "date_time       629363\n",
       "dtype: int64"
      ]
     },
     "execution_count": 37,
     "metadata": {},
     "output_type": "execute_result"
    }
   ],
   "source": [
    "df_footprints_combined.nunique()"
   ]
  },
  {
   "cell_type": "code",
   "execution_count": 38,
   "id": "2582a86c",
   "metadata": {},
   "outputs": [
    {
     "data": {
      "text/html": [
       "<div>\n",
       "<style scoped>\n",
       "    .dataframe tbody tr th:only-of-type {\n",
       "        vertical-align: middle;\n",
       "    }\n",
       "\n",
       "    .dataframe tbody tr th {\n",
       "        vertical-align: top;\n",
       "    }\n",
       "\n",
       "    .dataframe thead th {\n",
       "        text-align: right;\n",
       "    }\n",
       "</style>\n",
       "<table border=\"1\" class=\"dataframe\">\n",
       "  <thead>\n",
       "    <tr style=\"text-align: right;\">\n",
       "      <th></th>\n",
       "      <th>client_id</th>\n",
       "    </tr>\n",
       "  </thead>\n",
       "  <tbody>\n",
       "    <tr>\n",
       "      <th>count</th>\n",
       "      <td>7.554050e+05</td>\n",
       "    </tr>\n",
       "    <tr>\n",
       "      <th>mean</th>\n",
       "      <td>5.013632e+06</td>\n",
       "    </tr>\n",
       "    <tr>\n",
       "      <th>std</th>\n",
       "      <td>2.879152e+06</td>\n",
       "    </tr>\n",
       "    <tr>\n",
       "      <th>min</th>\n",
       "      <td>1.690000e+02</td>\n",
       "    </tr>\n",
       "    <tr>\n",
       "      <th>25%</th>\n",
       "      <td>2.519882e+06</td>\n",
       "    </tr>\n",
       "    <tr>\n",
       "      <th>50%</th>\n",
       "      <td>5.033441e+06</td>\n",
       "    </tr>\n",
       "    <tr>\n",
       "      <th>75%</th>\n",
       "      <td>7.496063e+06</td>\n",
       "    </tr>\n",
       "    <tr>\n",
       "      <th>max</th>\n",
       "      <td>9.999875e+06</td>\n",
       "    </tr>\n",
       "  </tbody>\n",
       "</table>\n",
       "</div>"
      ],
      "text/plain": [
       "          client_id\n",
       "count  7.554050e+05\n",
       "mean   5.013632e+06\n",
       "std    2.879152e+06\n",
       "min    1.690000e+02\n",
       "25%    2.519882e+06\n",
       "50%    5.033441e+06\n",
       "75%    7.496063e+06\n",
       "max    9.999875e+06"
      ]
     },
     "execution_count": 38,
     "metadata": {},
     "output_type": "execute_result"
    }
   ],
   "source": [
    "df_footprints_combined.describe()"
   ]
  },
  {
   "cell_type": "code",
   "execution_count": 39,
   "id": "5a2ea35e",
   "metadata": {},
   "outputs": [
    {
     "name": "stdout",
     "output_type": "stream",
     "text": [
      "<class 'pandas.core.frame.DataFrame'>\n",
      "RangeIndex: 755405 entries, 0 to 755404\n",
      "Data columns (total 5 columns):\n",
      " #   Column        Non-Null Count   Dtype \n",
      "---  ------        --------------   ----- \n",
      " 0   client_id     755405 non-null  int64 \n",
      " 1   visitor_id    755405 non-null  object\n",
      " 2   visit_id      755405 non-null  object\n",
      " 3   process_step  755405 non-null  object\n",
      " 4   date_time     755405 non-null  object\n",
      "dtypes: int64(1), object(4)\n",
      "memory usage: 28.8+ MB\n"
     ]
    }
   ],
   "source": [
    "df_footprints_combined.info()"
   ]
  },
  {
   "cell_type": "code",
   "execution_count": 40,
   "id": "9a4125f7",
   "metadata": {},
   "outputs": [],
   "source": [
    "# Drop duplicate rows\n",
    "df_footprints_combined.drop_duplicates(inplace=True)"
   ]
  },
  {
   "cell_type": "code",
   "execution_count": 41,
   "id": "1d1cd94a",
   "metadata": {},
   "outputs": [
    {
     "data": {
      "text/plain": [
       "('2017-03-15 00:03:03', '2017-06-20 23:59:57')"
      ]
     },
     "execution_count": 41,
     "metadata": {},
     "output_type": "execute_result"
    }
   ],
   "source": [
    "# Explore the date_time range\n",
    "df_footprints_combined['date_time'].min(),df_footprints_combined['date_time'].max()"
   ]
  },
  {
   "cell_type": "code",
   "execution_count": 42,
   "id": "fcef26ec",
   "metadata": {},
   "outputs": [],
   "source": [
    "# Ensure we have datetimes for the main footprints dataframe\n",
    "df_footprints_combined['date_time'] = pd.to_datetime(df_footprints_combined['date_time'], utc=True, errors='coerce').dt.tz_convert('Europe/Amsterdam')"
   ]
  },
  {
   "cell_type": "code",
   "execution_count": 43,
   "id": "f68c7d06",
   "metadata": {},
   "outputs": [
    {
     "data": {
      "image/png": "[encoded data removed]",
      "text/plain": [
       "<Figure size 640x480 with 1 Axes>"
      ]
     },
     "metadata": {},
     "output_type": "display_data"
    },
    {
     "name": "stdout",
     "output_type": "stream",
     "text": [
      "Top clients used: [2128341, 9800867, 465007, 9638063, 3539274, 2313292, 4167815, 5165430, 2261960, 7597144, 6790114, 5902055, 1645923, 843228, 4560824]\n"
     ]
    }
   ],
   "source": [
    "# Event dots for the top 15 clients\n",
    "\n",
    "def plot_client_event_dots_hour(df, top_n=15, tz='Europe/Amsterdam'):\n",
    "    d = df.dropna(subset=['client_id','process_step']).copy()\n",
    "    d['date_time'] = pd.to_datetime(d['date_time'], utc=True, errors='coerce')\n",
    "    d = d.dropna(subset=['date_time'])\n",
    "    if tz:\n",
    "        d['date_time'] = d['date_time'].dt.tz_convert(tz)\n",
    "\n",
    "    top_clients = d['client_id'].value_counts().head(top_n).index.tolist()\n",
    "    dd = d[d['client_id'].isin(top_clients)].copy()\n",
    "    order = {cid:i for i, cid in enumerate(top_clients)}\n",
    "    dd['client_row'] = dd['client_id'].map(order)\n",
    "    dd['hour'] = dd['date_time'].dt.hour\n",
    "\n",
    "    fig, ax = plt.subplots()\n",
    "    ax.scatter(dd['hour'], dd['client_row'], s=12, alpha=0.75)\n",
    "    ax.set_xticks(range(24))\n",
    "    ax.set_xlim(-0.5, 23.5)\n",
    "    ax.set_yticks(range(len(top_clients)))\n",
    "    ax.set_yticklabels([str(c) for c in top_clients])  # <-- show real client IDs\n",
    "    ax.set_xlabel('Hour of day'); ax.set_ylabel('Client ID')\n",
    "    ax.set_title(f'Activity by hour (top {len(top_clients)} clients)')\n",
    "    fig.tight_layout(); plt.show()\n",
    "\n",
    "plot_client_event_dots_hour(df_footprints_combined, top_n=15)\n",
    "print(\"Top clients used:\", df_footprints_combined['client_id'].value_counts().head(15).index.tolist())"
   ]
  },
  {
   "cell_type": "code",
   "execution_count": 44,
   "id": "1a1b606b",
   "metadata": {},
   "outputs": [
    {
     "name": "stdout",
     "output_type": "stream",
     "text": [
      "Step counts length: 5\n"
     ]
    },
    {
     "data": {
      "image/png": "[encoded data removed]",
      "text/plain": [
       "<Figure size 640x480 with 1 Axes>"
      ]
     },
     "metadata": {},
     "output_type": "display_data"
    }
   ],
   "source": [
    "#Step counts barplot\n",
    "\n",
    "if 'process_step' in df_footprints_combined.columns:\n",
    "    step_counts = df_footprints_combined['process_step'].astype(str).value_counts()\n",
    "    print(\"Step counts length:\", len(step_counts))\n",
    "    if len(step_counts) > 0:\n",
    "        plt.figure()\n",
    "        plt.bar(step_counts.index, step_counts.values)\n",
    "        plt.title('Events per Process Step')\n",
    "        plt.xlabel('Process Step'); plt.ylabel('Count')\n",
    "        plt.xticks(rotation=0)\n",
    "        plt.tight_layout(); plt.show()\n",
    "    else:\n",
    "        print(\"process_step exists but has no values.\")\n",
    "else:\n",
    "    print(\"No 'process_step' column found.\")"
   ]
  },
  {
   "cell_type": "markdown",
   "id": "100086e2",
   "metadata": {},
   "source": [
    "## Experiment data"
   ]
  },
  {
   "cell_type": "code",
   "execution_count": 45,
   "id": "ceb1238c",
   "metadata": {},
   "outputs": [],
   "source": [
    "\n",
    "df_experiments = pd.read_csv('https://raw.githubusercontent.com/data-bootcamp-v4/lessons/refs/heads/main/5_6_eda_inf_stats_tableau/project/files_for_project/df_final_experiment_clients.txt')"
   ]
  },
  {
   "cell_type": "code",
   "execution_count": 46,
   "id": "6cf9ba38",
   "metadata": {},
   "outputs": [
    {
     "data": {
      "text/plain": [
       "Index(['client_id', 'Variation'], dtype='object')"
      ]
     },
     "execution_count": 46,
     "metadata": {},
     "output_type": "execute_result"
    }
   ],
   "source": [
    "df_experiments.columns"
   ]
  },
  {
   "cell_type": "code",
   "execution_count": 47,
   "id": "a6e3300f",
   "metadata": {},
   "outputs": [],
   "source": [
    "# Lowercase column names\n",
    "df_experiments.columns = df_experiments.columns.str.lower().str.strip()"
   ]
  },
  {
   "cell_type": "code",
   "execution_count": 48,
   "id": "00dc6540",
   "metadata": {},
   "outputs": [
    {
     "data": {
      "text/html": [
       "<div>\n",
       "<style scoped>\n",
       "    .dataframe tbody tr th:only-of-type {\n",
       "        vertical-align: middle;\n",
       "    }\n",
       "\n",
       "    .dataframe tbody tr th {\n",
       "        vertical-align: top;\n",
       "    }\n",
       "\n",
       "    .dataframe thead th {\n",
       "        text-align: right;\n",
       "    }\n",
       "</style>\n",
       "<table border=\"1\" class=\"dataframe\">\n",
       "  <thead>\n",
       "    <tr style=\"text-align: right;\">\n",
       "      <th></th>\n",
       "      <th>client_id</th>\n",
       "      <th>variation</th>\n",
       "    </tr>\n",
       "  </thead>\n",
       "  <tbody>\n",
       "    <tr>\n",
       "      <th>0</th>\n",
       "      <td>9988021</td>\n",
       "      <td>Test</td>\n",
       "    </tr>\n",
       "    <tr>\n",
       "      <th>1</th>\n",
       "      <td>8320017</td>\n",
       "      <td>Test</td>\n",
       "    </tr>\n",
       "    <tr>\n",
       "      <th>2</th>\n",
       "      <td>4033851</td>\n",
       "      <td>Control</td>\n",
       "    </tr>\n",
       "    <tr>\n",
       "      <th>3</th>\n",
       "      <td>1982004</td>\n",
       "      <td>Test</td>\n",
       "    </tr>\n",
       "    <tr>\n",
       "      <th>4</th>\n",
       "      <td>9294070</td>\n",
       "      <td>Control</td>\n",
       "    </tr>\n",
       "  </tbody>\n",
       "</table>\n",
       "</div>"
      ],
      "text/plain": [
       "   client_id variation\n",
       "0    9988021      Test\n",
       "1    8320017      Test\n",
       "2    4033851   Control\n",
       "3    1982004      Test\n",
       "4    9294070   Control"
      ]
     },
     "execution_count": 48,
     "metadata": {},
     "output_type": "execute_result"
    }
   ],
   "source": [
    "df_experiments.head()"
   ]
  },
  {
   "cell_type": "code",
   "execution_count": 49,
   "id": "c0984854",
   "metadata": {},
   "outputs": [
    {
     "data": {
      "text/plain": [
       "client_id     int64\n",
       "variation    object\n",
       "dtype: object"
      ]
     },
     "execution_count": 49,
     "metadata": {},
     "output_type": "execute_result"
    }
   ],
   "source": [
    "df_experiments.dtypes"
   ]
  },
  {
   "cell_type": "code",
   "execution_count": 50,
   "id": "ce878013",
   "metadata": {},
   "outputs": [
    {
     "name": "stdout",
     "output_type": "stream",
     "text": [
      "Missing values in each column: client_id        0\n",
      "variation    20109\n",
      "dtype: int64\n"
     ]
    }
   ],
   "source": [
    "missing_values = df_experiments.isnull().sum()\n",
    "print(f\"Missing values in each column: {missing_values}\")"
   ]
  },
  {
   "cell_type": "code",
   "execution_count": 51,
   "id": "d676e6cc",
   "metadata": {},
   "outputs": [
    {
     "data": {
      "text/plain": [
       "0"
      ]
     },
     "execution_count": 51,
     "metadata": {},
     "output_type": "execute_result"
    }
   ],
   "source": [
    "df_experiments.duplicated().sum()"
   ]
  },
  {
   "cell_type": "code",
   "execution_count": 52,
   "id": "ad33e954",
   "metadata": {},
   "outputs": [
    {
     "data": {
      "text/plain": [
       "client_id    70609\n",
       "variation        2\n",
       "dtype: int64"
      ]
     },
     "execution_count": 52,
     "metadata": {},
     "output_type": "execute_result"
    }
   ],
   "source": [
    "df_experiments.nunique()"
   ]
  },
  {
   "cell_type": "code",
   "execution_count": 53,
   "id": "0ded38be",
   "metadata": {},
   "outputs": [
    {
     "data": {
      "text/html": [
       "<div>\n",
       "<style scoped>\n",
       "    .dataframe tbody tr th:only-of-type {\n",
       "        vertical-align: middle;\n",
       "    }\n",
       "\n",
       "    .dataframe tbody tr th {\n",
       "        vertical-align: top;\n",
       "    }\n",
       "\n",
       "    .dataframe thead th {\n",
       "        text-align: right;\n",
       "    }\n",
       "</style>\n",
       "<table border=\"1\" class=\"dataframe\">\n",
       "  <thead>\n",
       "    <tr style=\"text-align: right;\">\n",
       "      <th></th>\n",
       "      <th>client_id</th>\n",
       "    </tr>\n",
       "  </thead>\n",
       "  <tbody>\n",
       "    <tr>\n",
       "      <th>count</th>\n",
       "      <td>7.060900e+04</td>\n",
       "    </tr>\n",
       "    <tr>\n",
       "      <th>mean</th>\n",
       "      <td>5.004992e+06</td>\n",
       "    </tr>\n",
       "    <tr>\n",
       "      <th>std</th>\n",
       "      <td>2.877278e+06</td>\n",
       "    </tr>\n",
       "    <tr>\n",
       "      <th>min</th>\n",
       "      <td>1.690000e+02</td>\n",
       "    </tr>\n",
       "    <tr>\n",
       "      <th>25%</th>\n",
       "      <td>2.519329e+06</td>\n",
       "    </tr>\n",
       "    <tr>\n",
       "      <th>50%</th>\n",
       "      <td>5.016978e+06</td>\n",
       "    </tr>\n",
       "    <tr>\n",
       "      <th>75%</th>\n",
       "      <td>7.483085e+06</td>\n",
       "    </tr>\n",
       "    <tr>\n",
       "      <th>max</th>\n",
       "      <td>9.999839e+06</td>\n",
       "    </tr>\n",
       "  </tbody>\n",
       "</table>\n",
       "</div>"
      ],
      "text/plain": [
       "          client_id\n",
       "count  7.060900e+04\n",
       "mean   5.004992e+06\n",
       "std    2.877278e+06\n",
       "min    1.690000e+02\n",
       "25%    2.519329e+06\n",
       "50%    5.016978e+06\n",
       "75%    7.483085e+06\n",
       "max    9.999839e+06"
      ]
     },
     "execution_count": 53,
     "metadata": {},
     "output_type": "execute_result"
    }
   ],
   "source": [
    "df_experiments.describe()"
   ]
  },
  {
   "cell_type": "code",
   "execution_count": 54,
   "id": "7e7dccb3",
   "metadata": {},
   "outputs": [
    {
     "data": {
      "text/html": [
       "<div>\n",
       "<style scoped>\n",
       "    .dataframe tbody tr th:only-of-type {\n",
       "        vertical-align: middle;\n",
       "    }\n",
       "\n",
       "    .dataframe tbody tr th {\n",
       "        vertical-align: top;\n",
       "    }\n",
       "\n",
       "    .dataframe thead th {\n",
       "        text-align: right;\n",
       "    }\n",
       "</style>\n",
       "<table border=\"1\" class=\"dataframe\">\n",
       "  <thead>\n",
       "    <tr style=\"text-align: right;\">\n",
       "      <th></th>\n",
       "      <th>client_id</th>\n",
       "      <th>variation</th>\n",
       "    </tr>\n",
       "  </thead>\n",
       "  <tbody>\n",
       "    <tr>\n",
       "      <th>50500</th>\n",
       "      <td>5459747</td>\n",
       "      <td>NaN</td>\n",
       "    </tr>\n",
       "    <tr>\n",
       "      <th>50501</th>\n",
       "      <td>8031000</td>\n",
       "      <td>NaN</td>\n",
       "    </tr>\n",
       "    <tr>\n",
       "      <th>50502</th>\n",
       "      <td>1847030</td>\n",
       "      <td>NaN</td>\n",
       "    </tr>\n",
       "    <tr>\n",
       "      <th>50503</th>\n",
       "      <td>9713157</td>\n",
       "      <td>NaN</td>\n",
       "    </tr>\n",
       "    <tr>\n",
       "      <th>50504</th>\n",
       "      <td>7775828</td>\n",
       "      <td>NaN</td>\n",
       "    </tr>\n",
       "    <tr>\n",
       "      <th>...</th>\n",
       "      <td>...</td>\n",
       "      <td>...</td>\n",
       "    </tr>\n",
       "    <tr>\n",
       "      <th>70604</th>\n",
       "      <td>2443347</td>\n",
       "      <td>NaN</td>\n",
       "    </tr>\n",
       "    <tr>\n",
       "      <th>70605</th>\n",
       "      <td>8788427</td>\n",
       "      <td>NaN</td>\n",
       "    </tr>\n",
       "    <tr>\n",
       "      <th>70606</th>\n",
       "      <td>266828</td>\n",
       "      <td>NaN</td>\n",
       "    </tr>\n",
       "    <tr>\n",
       "      <th>70607</th>\n",
       "      <td>1266421</td>\n",
       "      <td>NaN</td>\n",
       "    </tr>\n",
       "    <tr>\n",
       "      <th>70608</th>\n",
       "      <td>9895983</td>\n",
       "      <td>NaN</td>\n",
       "    </tr>\n",
       "  </tbody>\n",
       "</table>\n",
       "<p>20109 rows × 2 columns</p>\n",
       "</div>"
      ],
      "text/plain": [
       "       client_id variation\n",
       "50500    5459747       NaN\n",
       "50501    8031000       NaN\n",
       "50502    1847030       NaN\n",
       "50503    9713157       NaN\n",
       "50504    7775828       NaN\n",
       "...          ...       ...\n",
       "70604    2443347       NaN\n",
       "70605    8788427       NaN\n",
       "70606     266828       NaN\n",
       "70607    1266421       NaN\n",
       "70608    9895983       NaN\n",
       "\n",
       "[20109 rows x 2 columns]"
      ]
     },
     "metadata": {},
     "output_type": "display_data"
    }
   ],
   "source": [
    "df_experiments.isna().sum()\n",
    "display(df_experiments[df_experiments.isna().any(axis=1)])"
   ]
  },
  {
   "cell_type": "code",
   "execution_count": 55,
   "id": "d421f0cc",
   "metadata": {},
   "outputs": [],
   "source": [
    "# handle null values in column 'Variation', fill with 'unknown'\n",
    "df_experiments.isna().sum()\n",
    "df_experiments['variation_cleaned'] = df_experiments['variation'].fillna('unknown')"
   ]
  },
  {
   "cell_type": "code",
   "execution_count": 56,
   "id": "a6dc0dbd",
   "metadata": {},
   "outputs": [
    {
     "data": {
      "text/plain": [
       "variation_cleaned\n",
       "Test       26968\n",
       "Control    23532\n",
       "unknown    20109\n",
       "Name: count, dtype: int64"
      ]
     },
     "execution_count": 56,
     "metadata": {},
     "output_type": "execute_result"
    }
   ],
   "source": [
    "df_experiments['variation_cleaned'].value_counts()"
   ]
  },
  {
   "cell_type": "code",
   "execution_count": 57,
   "id": "cf112089",
   "metadata": {},
   "outputs": [],
   "source": [
    "# Ensure client_id unique per experiment\n",
    "if 'client_id' in df_experiments.columns:\n",
    "    df_experiments = df_experiments.drop_duplicates(subset=['client_id'])"
   ]
  },
  {
   "cell_type": "code",
   "execution_count": 58,
   "id": "c11b89e4",
   "metadata": {},
   "outputs": [
    {
     "data": {
      "image/png": "[encoded data removed]",
      "text/plain": [
       "<Figure size 640x480 with 1 Axes>"
      ]
     },
     "metadata": {},
     "output_type": "display_data"
    }
   ],
   "source": [
    "# Extracting client_id amount from variation columns for test and control\n",
    "dfv = df_experiments[['client_id', 'variation_cleaned']].dropna(subset=['client_id','variation_cleaned']).copy()\n",
    "\n",
    "# Standardize labels to control/test\n",
    "dfv['variation_cleaned'] = (dfv['variation_cleaned'].astype(str).str.strip().str.lower()\n",
    "                    .replace({'ctrl':'control','baseline':'control','a':'control',\n",
    "                              'treat':'test','treatment':'test','b':'test'}))\n",
    "\n",
    "# Unique clients per variant\n",
    "counts = (dfv.groupby('variation_cleaned')['client_id']\n",
    "            .nunique()\n",
    "            .reindex(['control','test', 'unknown'])\n",
    "            .fillna(0)\n",
    "            .astype(int))\n",
    "\n",
    "# Plot\n",
    "plt.figure()\n",
    "plt.bar(counts.index.str.title(), counts.values)\n",
    "for i, v in enumerate(counts.values):\n",
    "    plt.text(i, v, f'{v}', ha='center', va='bottom')\n",
    "plt.title('Unique clients by variation')\n",
    "plt.xlabel('Variation'); plt.ylabel('Unique clients')\n",
    "plt.tight_layout(); plt.show()"
   ]
  },
  {
   "cell_type": "markdown",
   "id": "22e2946f",
   "metadata": {},
   "source": [
    "## Combined Data Sets"
   ]
  },
  {
   "cell_type": "code",
   "execution_count": 59,
   "id": "e12ed22e",
   "metadata": {},
   "outputs": [],
   "source": [
    "# Digital footprint is the main table , merge 3 datasets\n",
    "\n",
    "df_final = (df_footprints_combined\n",
    "            .merge(df_experiments, on='client_id', how='left')\n",
    "            .merge(df_client, on='client_id', how='left'))"
   ]
  },
  {
   "cell_type": "code",
   "execution_count": 60,
   "id": "23d7fe7a",
   "metadata": {},
   "outputs": [
    {
     "data": {
      "text/plain": [
       "variation              0.573976\n",
       "variation_cleaned      0.403878\n",
       "client_tenure_year     0.403878\n",
       "client_tenure_month    0.403878\n",
       "client_age             0.403878\n",
       "gender                 0.403878\n",
       "number_of_accounts     0.403878\n",
       "balance                0.403878\n",
       "calls_6_month          0.403878\n",
       "logos_6_month          0.403878\n",
       "dtype: float64"
      ]
     },
     "execution_count": 60,
     "metadata": {},
     "output_type": "execute_result"
    }
   ],
   "source": [
    "df_final.isna().mean().sort_values(ascending=False).head(10)"
   ]
  },
  {
   "cell_type": "code",
   "execution_count": 61,
   "id": "e9291853",
   "metadata": {},
   "outputs": [
    {
     "data": {
      "text/html": [
       "<div>\n",
       "<style scoped>\n",
       "    .dataframe tbody tr th:only-of-type {\n",
       "        vertical-align: middle;\n",
       "    }\n",
       "\n",
       "    .dataframe tbody tr th {\n",
       "        vertical-align: top;\n",
       "    }\n",
       "\n",
       "    .dataframe thead th {\n",
       "        text-align: right;\n",
       "    }\n",
       "</style>\n",
       "<table border=\"1\" class=\"dataframe\">\n",
       "  <thead>\n",
       "    <tr style=\"text-align: right;\">\n",
       "      <th></th>\n",
       "      <th>client_id</th>\n",
       "      <th>visitor_id</th>\n",
       "      <th>visit_id</th>\n",
       "      <th>process_step</th>\n",
       "      <th>date_time</th>\n",
       "      <th>variation</th>\n",
       "      <th>variation_cleaned</th>\n",
       "      <th>client_tenure_year</th>\n",
       "      <th>client_tenure_month</th>\n",
       "      <th>client_age</th>\n",
       "      <th>gender</th>\n",
       "      <th>number_of_accounts</th>\n",
       "      <th>balance</th>\n",
       "      <th>calls_6_month</th>\n",
       "      <th>logos_6_month</th>\n",
       "    </tr>\n",
       "  </thead>\n",
       "  <tbody>\n",
       "    <tr>\n",
       "      <th>40985</th>\n",
       "      <td>4543944</td>\n",
       "      <td>218710117_4616403133</td>\n",
       "      <td>27244796_60832348765_783803</td>\n",
       "      <td>step_3</td>\n",
       "      <td>2017-04-12 13:41:39+02:00</td>\n",
       "      <td>Test</td>\n",
       "      <td>Test</td>\n",
       "      <td>7.0</td>\n",
       "      <td>88.0</td>\n",
       "      <td>25.5</td>\n",
       "      <td>M</td>\n",
       "      <td>4.0</td>\n",
       "      <td>151050.41</td>\n",
       "      <td>6.0</td>\n",
       "      <td>9.0</td>\n",
       "    </tr>\n",
       "    <tr>\n",
       "      <th>574236</th>\n",
       "      <td>600754</td>\n",
       "      <td>604902080_29685382850</td>\n",
       "      <td>242189606_352913766_305479</td>\n",
       "      <td>confirm</td>\n",
       "      <td>2017-05-15 16:33:20+02:00</td>\n",
       "      <td>Test</td>\n",
       "      <td>Test</td>\n",
       "      <td>8.0</td>\n",
       "      <td>106.0</td>\n",
       "      <td>44.0</td>\n",
       "      <td>F</td>\n",
       "      <td>2.0</td>\n",
       "      <td>622365.10</td>\n",
       "      <td>6.0</td>\n",
       "      <td>9.0</td>\n",
       "    </tr>\n",
       "    <tr>\n",
       "      <th>566209</th>\n",
       "      <td>1188009</td>\n",
       "      <td>501824971_1895985236</td>\n",
       "      <td>746149866_98899673923_753311</td>\n",
       "      <td>confirm</td>\n",
       "      <td>2017-06-02 00:17:06+02:00</td>\n",
       "      <td>NaN</td>\n",
       "      <td>NaN</td>\n",
       "      <td>NaN</td>\n",
       "      <td>NaN</td>\n",
       "      <td>NaN</td>\n",
       "      <td>NaN</td>\n",
       "      <td>NaN</td>\n",
       "      <td>NaN</td>\n",
       "      <td>NaN</td>\n",
       "      <td>NaN</td>\n",
       "    </tr>\n",
       "    <tr>\n",
       "      <th>340413</th>\n",
       "      <td>962501</td>\n",
       "      <td>634437827_31443261606</td>\n",
       "      <td>555478353_87824533479_692598</td>\n",
       "      <td>step_3</td>\n",
       "      <td>2017-04-24 01:54:00+02:00</td>\n",
       "      <td>NaN</td>\n",
       "      <td>unknown</td>\n",
       "      <td>5.0</td>\n",
       "      <td>70.0</td>\n",
       "      <td>19.5</td>\n",
       "      <td>unknown</td>\n",
       "      <td>3.0</td>\n",
       "      <td>23214.50</td>\n",
       "      <td>3.0</td>\n",
       "      <td>3.0</td>\n",
       "    </tr>\n",
       "    <tr>\n",
       "      <th>54714</th>\n",
       "      <td>8827095</td>\n",
       "      <td>224711480_1290901650</td>\n",
       "      <td>785888245_91159861417_15969</td>\n",
       "      <td>step_1</td>\n",
       "      <td>2017-04-12 09:52:46+02:00</td>\n",
       "      <td>Test</td>\n",
       "      <td>Test</td>\n",
       "      <td>17.0</td>\n",
       "      <td>215.0</td>\n",
       "      <td>48.0</td>\n",
       "      <td>M</td>\n",
       "      <td>2.0</td>\n",
       "      <td>325683.51</td>\n",
       "      <td>0.0</td>\n",
       "      <td>3.0</td>\n",
       "    </tr>\n",
       "  </tbody>\n",
       "</table>\n",
       "</div>"
      ],
      "text/plain": [
       "        client_id             visitor_id                      visit_id  \\\n",
       "40985     4543944   218710117_4616403133   27244796_60832348765_783803   \n",
       "574236     600754  604902080_29685382850    242189606_352913766_305479   \n",
       "566209    1188009   501824971_1895985236  746149866_98899673923_753311   \n",
       "340413     962501  634437827_31443261606  555478353_87824533479_692598   \n",
       "54714     8827095   224711480_1290901650   785888245_91159861417_15969   \n",
       "\n",
       "       process_step                 date_time variation variation_cleaned  \\\n",
       "40985        step_3 2017-04-12 13:41:39+02:00      Test              Test   \n",
       "574236      confirm 2017-05-15 16:33:20+02:00      Test              Test   \n",
       "566209      confirm 2017-06-02 00:17:06+02:00       NaN               NaN   \n",
       "340413       step_3 2017-04-24 01:54:00+02:00       NaN           unknown   \n",
       "54714        step_1 2017-04-12 09:52:46+02:00      Test              Test   \n",
       "\n",
       "        client_tenure_year  client_tenure_month  client_age   gender  \\\n",
       "40985                  7.0                 88.0        25.5        M   \n",
       "574236                 8.0                106.0        44.0        F   \n",
       "566209                 NaN                  NaN         NaN      NaN   \n",
       "340413                 5.0                 70.0        19.5  unknown   \n",
       "54714                 17.0                215.0        48.0        M   \n",
       "\n",
       "        number_of_accounts    balance  calls_6_month  logos_6_month  \n",
       "40985                  4.0  151050.41            6.0            9.0  \n",
       "574236                 2.0  622365.10            6.0            9.0  \n",
       "566209                 NaN        NaN            NaN            NaN  \n",
       "340413                 3.0   23214.50            3.0            3.0  \n",
       "54714                  2.0  325683.51            0.0            3.0  "
      ]
     },
     "metadata": {},
     "output_type": "display_data"
    }
   ],
   "source": [
    "# Sample 5 rows from the final dataframe\n",
    "display(df_final.sample(5, random_state=42))"
   ]
  },
  {
   "cell_type": "code",
   "execution_count": 62,
   "id": "a77fe8a7",
   "metadata": {},
   "outputs": [
    {
     "data": {
      "text/plain": [
       "(744641, 15)"
      ]
     },
     "execution_count": 62,
     "metadata": {},
     "output_type": "execute_result"
    }
   ],
   "source": [
    "df_final.shape"
   ]
  },
  {
   "cell_type": "code",
   "execution_count": 63,
   "id": "a34ec30e",
   "metadata": {},
   "outputs": [
    {
     "data": {
      "text/plain": [
       "client_id                   0\n",
       "visitor_id                  0\n",
       "visit_id                    0\n",
       "process_step                0\n",
       "date_time                   0\n",
       "variation              427406\n",
       "variation_cleaned      300744\n",
       "client_tenure_year     300744\n",
       "client_tenure_month    300744\n",
       "client_age             300744\n",
       "gender                 300744\n",
       "number_of_accounts     300744\n",
       "balance                300744\n",
       "calls_6_month          300744\n",
       "logos_6_month          300744\n",
       "dtype: int64"
      ]
     },
     "execution_count": 63,
     "metadata": {},
     "output_type": "execute_result"
    }
   ],
   "source": [
    "df_final.isna().sum()"
   ]
  },
  {
   "cell_type": "code",
   "execution_count": 64,
   "id": "bbe7eaaf",
   "metadata": {},
   "outputs": [
    {
     "data": {
      "text/html": [
       "<div>\n",
       "<style scoped>\n",
       "    .dataframe tbody tr th:only-of-type {\n",
       "        vertical-align: middle;\n",
       "    }\n",
       "\n",
       "    .dataframe tbody tr th {\n",
       "        vertical-align: top;\n",
       "    }\n",
       "\n",
       "    .dataframe thead th {\n",
       "        text-align: right;\n",
       "    }\n",
       "</style>\n",
       "<table border=\"1\" class=\"dataframe\">\n",
       "  <thead>\n",
       "    <tr style=\"text-align: right;\">\n",
       "      <th></th>\n",
       "      <th>client_id</th>\n",
       "      <th>visitor_id</th>\n",
       "      <th>visit_id</th>\n",
       "      <th>process_step</th>\n",
       "      <th>date_time</th>\n",
       "      <th>variation</th>\n",
       "      <th>variation_cleaned</th>\n",
       "      <th>client_tenure_year</th>\n",
       "      <th>client_tenure_month</th>\n",
       "      <th>client_age</th>\n",
       "      <th>gender</th>\n",
       "      <th>number_of_accounts</th>\n",
       "      <th>balance</th>\n",
       "      <th>calls_6_month</th>\n",
       "      <th>logos_6_month</th>\n",
       "    </tr>\n",
       "  </thead>\n",
       "  <tbody>\n",
       "    <tr>\n",
       "      <th>245</th>\n",
       "      <td>8932927</td>\n",
       "      <td>485163175_18149554449</td>\n",
       "      <td>883578716_57691052399_945047</td>\n",
       "      <td>step_1</td>\n",
       "      <td>2017-04-14 00:37:49+02:00</td>\n",
       "      <td>NaN</td>\n",
       "      <td>NaN</td>\n",
       "      <td>NaN</td>\n",
       "      <td>NaN</td>\n",
       "      <td>NaN</td>\n",
       "      <td>NaN</td>\n",
       "      <td>NaN</td>\n",
       "      <td>NaN</td>\n",
       "      <td>NaN</td>\n",
       "      <td>NaN</td>\n",
       "    </tr>\n",
       "    <tr>\n",
       "      <th>270</th>\n",
       "      <td>1208567</td>\n",
       "      <td>490822748_12476046982</td>\n",
       "      <td>63636232_1058424732_545130</td>\n",
       "      <td>start</td>\n",
       "      <td>2017-04-24 16:03:26+02:00</td>\n",
       "      <td>NaN</td>\n",
       "      <td>NaN</td>\n",
       "      <td>NaN</td>\n",
       "      <td>NaN</td>\n",
       "      <td>NaN</td>\n",
       "      <td>NaN</td>\n",
       "      <td>NaN</td>\n",
       "      <td>NaN</td>\n",
       "      <td>NaN</td>\n",
       "      <td>NaN</td>\n",
       "    </tr>\n",
       "    <tr>\n",
       "      <th>356</th>\n",
       "      <td>9838496</td>\n",
       "      <td>408959474_91766774102</td>\n",
       "      <td>687233905_42314307889_453394</td>\n",
       "      <td>start</td>\n",
       "      <td>2017-03-24 22:26:14+01:00</td>\n",
       "      <td>NaN</td>\n",
       "      <td>NaN</td>\n",
       "      <td>NaN</td>\n",
       "      <td>NaN</td>\n",
       "      <td>NaN</td>\n",
       "      <td>NaN</td>\n",
       "      <td>NaN</td>\n",
       "      <td>NaN</td>\n",
       "      <td>NaN</td>\n",
       "      <td>NaN</td>\n",
       "    </tr>\n",
       "    <tr>\n",
       "      <th>859</th>\n",
       "      <td>2353261</td>\n",
       "      <td>387293592_26815377704</td>\n",
       "      <td>269923351_29360137819_823850</td>\n",
       "      <td>step_1</td>\n",
       "      <td>2017-03-20 17:07:22+01:00</td>\n",
       "      <td>NaN</td>\n",
       "      <td>NaN</td>\n",
       "      <td>NaN</td>\n",
       "      <td>NaN</td>\n",
       "      <td>NaN</td>\n",
       "      <td>NaN</td>\n",
       "      <td>NaN</td>\n",
       "      <td>NaN</td>\n",
       "      <td>NaN</td>\n",
       "      <td>NaN</td>\n",
       "    </tr>\n",
       "    <tr>\n",
       "      <th>860</th>\n",
       "      <td>2353261</td>\n",
       "      <td>387293592_26815377704</td>\n",
       "      <td>269923351_29360137819_823850</td>\n",
       "      <td>confirm</td>\n",
       "      <td>2017-03-20 17:05:07+01:00</td>\n",
       "      <td>NaN</td>\n",
       "      <td>NaN</td>\n",
       "      <td>NaN</td>\n",
       "      <td>NaN</td>\n",
       "      <td>NaN</td>\n",
       "      <td>NaN</td>\n",
       "      <td>NaN</td>\n",
       "      <td>NaN</td>\n",
       "      <td>NaN</td>\n",
       "      <td>NaN</td>\n",
       "    </tr>\n",
       "    <tr>\n",
       "      <th>...</th>\n",
       "      <td>...</td>\n",
       "      <td>...</td>\n",
       "      <td>...</td>\n",
       "      <td>...</td>\n",
       "      <td>...</td>\n",
       "      <td>...</td>\n",
       "      <td>...</td>\n",
       "      <td>...</td>\n",
       "      <td>...</td>\n",
       "      <td>...</td>\n",
       "      <td>...</td>\n",
       "      <td>...</td>\n",
       "      <td>...</td>\n",
       "      <td>...</td>\n",
       "      <td>...</td>\n",
       "    </tr>\n",
       "    <tr>\n",
       "      <th>744636</th>\n",
       "      <td>9668240</td>\n",
       "      <td>388766751_9038881013</td>\n",
       "      <td>922267647_3096648104_968866</td>\n",
       "      <td>start</td>\n",
       "      <td>2017-05-24 20:46:10+02:00</td>\n",
       "      <td>NaN</td>\n",
       "      <td>NaN</td>\n",
       "      <td>NaN</td>\n",
       "      <td>NaN</td>\n",
       "      <td>NaN</td>\n",
       "      <td>NaN</td>\n",
       "      <td>NaN</td>\n",
       "      <td>NaN</td>\n",
       "      <td>NaN</td>\n",
       "      <td>NaN</td>\n",
       "    </tr>\n",
       "    <tr>\n",
       "      <th>744637</th>\n",
       "      <td>9668240</td>\n",
       "      <td>388766751_9038881013</td>\n",
       "      <td>922267647_3096648104_968866</td>\n",
       "      <td>start</td>\n",
       "      <td>2017-05-24 20:45:29+02:00</td>\n",
       "      <td>NaN</td>\n",
       "      <td>NaN</td>\n",
       "      <td>NaN</td>\n",
       "      <td>NaN</td>\n",
       "      <td>NaN</td>\n",
       "      <td>NaN</td>\n",
       "      <td>NaN</td>\n",
       "      <td>NaN</td>\n",
       "      <td>NaN</td>\n",
       "      <td>NaN</td>\n",
       "    </tr>\n",
       "    <tr>\n",
       "      <th>744638</th>\n",
       "      <td>9668240</td>\n",
       "      <td>388766751_9038881013</td>\n",
       "      <td>922267647_3096648104_968866</td>\n",
       "      <td>step_1</td>\n",
       "      <td>2017-05-24 20:44:51+02:00</td>\n",
       "      <td>NaN</td>\n",
       "      <td>NaN</td>\n",
       "      <td>NaN</td>\n",
       "      <td>NaN</td>\n",
       "      <td>NaN</td>\n",
       "      <td>NaN</td>\n",
       "      <td>NaN</td>\n",
       "      <td>NaN</td>\n",
       "      <td>NaN</td>\n",
       "      <td>NaN</td>\n",
       "    </tr>\n",
       "    <tr>\n",
       "      <th>744639</th>\n",
       "      <td>9668240</td>\n",
       "      <td>388766751_9038881013</td>\n",
       "      <td>922267647_3096648104_968866</td>\n",
       "      <td>start</td>\n",
       "      <td>2017-05-24 20:44:34+02:00</td>\n",
       "      <td>NaN</td>\n",
       "      <td>NaN</td>\n",
       "      <td>NaN</td>\n",
       "      <td>NaN</td>\n",
       "      <td>NaN</td>\n",
       "      <td>NaN</td>\n",
       "      <td>NaN</td>\n",
       "      <td>NaN</td>\n",
       "      <td>NaN</td>\n",
       "      <td>NaN</td>\n",
       "    </tr>\n",
       "    <tr>\n",
       "      <th>744640</th>\n",
       "      <td>674799</td>\n",
       "      <td>947159805_81558194550</td>\n",
       "      <td>86152093_47511127657_716022</td>\n",
       "      <td>start</td>\n",
       "      <td>2017-06-03 14:17:09+02:00</td>\n",
       "      <td>NaN</td>\n",
       "      <td>NaN</td>\n",
       "      <td>NaN</td>\n",
       "      <td>NaN</td>\n",
       "      <td>NaN</td>\n",
       "      <td>NaN</td>\n",
       "      <td>NaN</td>\n",
       "      <td>NaN</td>\n",
       "      <td>NaN</td>\n",
       "      <td>NaN</td>\n",
       "    </tr>\n",
       "  </tbody>\n",
       "</table>\n",
       "<p>427406 rows × 15 columns</p>\n",
       "</div>"
      ],
      "text/plain": [
       "        client_id             visitor_id                      visit_id  \\\n",
       "245       8932927  485163175_18149554449  883578716_57691052399_945047   \n",
       "270       1208567  490822748_12476046982    63636232_1058424732_545130   \n",
       "356       9838496  408959474_91766774102  687233905_42314307889_453394   \n",
       "859       2353261  387293592_26815377704  269923351_29360137819_823850   \n",
       "860       2353261  387293592_26815377704  269923351_29360137819_823850   \n",
       "...           ...                    ...                           ...   \n",
       "744636    9668240   388766751_9038881013   922267647_3096648104_968866   \n",
       "744637    9668240   388766751_9038881013   922267647_3096648104_968866   \n",
       "744638    9668240   388766751_9038881013   922267647_3096648104_968866   \n",
       "744639    9668240   388766751_9038881013   922267647_3096648104_968866   \n",
       "744640     674799  947159805_81558194550   86152093_47511127657_716022   \n",
       "\n",
       "       process_step                 date_time variation variation_cleaned  \\\n",
       "245          step_1 2017-04-14 00:37:49+02:00       NaN               NaN   \n",
       "270           start 2017-04-24 16:03:26+02:00       NaN               NaN   \n",
       "356           start 2017-03-24 22:26:14+01:00       NaN               NaN   \n",
       "859          step_1 2017-03-20 17:07:22+01:00       NaN               NaN   \n",
       "860         confirm 2017-03-20 17:05:07+01:00       NaN               NaN   \n",
       "...             ...                       ...       ...               ...   \n",
       "744636        start 2017-05-24 20:46:10+02:00       NaN               NaN   \n",
       "744637        start 2017-05-24 20:45:29+02:00       NaN               NaN   \n",
       "744638       step_1 2017-05-24 20:44:51+02:00       NaN               NaN   \n",
       "744639        start 2017-05-24 20:44:34+02:00       NaN               NaN   \n",
       "744640        start 2017-06-03 14:17:09+02:00       NaN               NaN   \n",
       "\n",
       "        client_tenure_year  client_tenure_month  client_age gender  \\\n",
       "245                    NaN                  NaN         NaN    NaN   \n",
       "270                    NaN                  NaN         NaN    NaN   \n",
       "356                    NaN                  NaN         NaN    NaN   \n",
       "859                    NaN                  NaN         NaN    NaN   \n",
       "860                    NaN                  NaN         NaN    NaN   \n",
       "...                    ...                  ...         ...    ...   \n",
       "744636                 NaN                  NaN         NaN    NaN   \n",
       "744637                 NaN                  NaN         NaN    NaN   \n",
       "744638                 NaN                  NaN         NaN    NaN   \n",
       "744639                 NaN                  NaN         NaN    NaN   \n",
       "744640                 NaN                  NaN         NaN    NaN   \n",
       "\n",
       "        number_of_accounts  balance  calls_6_month  logos_6_month  \n",
       "245                    NaN      NaN            NaN            NaN  \n",
       "270                    NaN      NaN            NaN            NaN  \n",
       "356                    NaN      NaN            NaN            NaN  \n",
       "859                    NaN      NaN            NaN            NaN  \n",
       "860                    NaN      NaN            NaN            NaN  \n",
       "...                    ...      ...            ...            ...  \n",
       "744636                 NaN      NaN            NaN            NaN  \n",
       "744637                 NaN      NaN            NaN            NaN  \n",
       "744638                 NaN      NaN            NaN            NaN  \n",
       "744639                 NaN      NaN            NaN            NaN  \n",
       "744640                 NaN      NaN            NaN            NaN  \n",
       "\n",
       "[427406 rows x 15 columns]"
      ]
     },
     "metadata": {},
     "output_type": "display_data"
    }
   ],
   "source": [
    "display(df_final[df_final.isna().any(axis=1)])"
   ]
  },
  {
   "cell_type": "code",
   "execution_count": 65,
   "id": "ddbf111d",
   "metadata": {},
   "outputs": [
    {
     "data": {
      "text/plain": [
       "client_id              0\n",
       "visitor_id             0\n",
       "visit_id               0\n",
       "process_step           0\n",
       "date_time              0\n",
       "variation              0\n",
       "variation_cleaned      0\n",
       "client_tenure_year     0\n",
       "client_tenure_month    0\n",
       "client_age             0\n",
       "gender                 0\n",
       "number_of_accounts     0\n",
       "balance                0\n",
       "calls_6_month          0\n",
       "logos_6_month          0\n",
       "dtype: int64"
      ]
     },
     "execution_count": 65,
     "metadata": {},
     "output_type": "execute_result"
    }
   ],
   "source": [
    "# fill all null values (clients that are in footprint but not in in client profile) \n",
    "\n",
    "def handle_null(col):\n",
    "    # Handle timezone-aware datetime columns\n",
    "    if pd.api.types.is_datetime64_any_dtype(col):\n",
    "        return col  # leave as is, do not fillna\n",
    "    elif np.issubdtype(col.dtype, np.number):  # float64/int columns\n",
    "        return col.fillna(-1)\n",
    "    elif col.dtype.kind == 'O':\n",
    "        return col.fillna('unknown')\n",
    "    else:\n",
    "        return col\n",
    "\n",
    "df_final = df_final.apply(handle_null)\n",
    "\n",
    "df_final.isna().sum()"
   ]
  },
  {
   "cell_type": "code",
   "execution_count": 66,
   "id": "1ea7c5e0",
   "metadata": {},
   "outputs": [
    {
     "data": {
      "text/plain": [
       "variation_cleaned\n",
       "unknown    427406\n",
       "Test       176699\n",
       "Control    140536\n",
       "Name: count, dtype: int64"
      ]
     },
     "execution_count": 66,
     "metadata": {},
     "output_type": "execute_result"
    }
   ],
   "source": [
    "df_final['variation_cleaned'].value_counts()"
   ]
  },
  {
   "cell_type": "code",
   "execution_count": 69,
   "id": "1cf34bec",
   "metadata": {},
   "outputs": [],
   "source": [
    "# remove variation_clean = 'unknown'\n",
    "df_final_clean = df_final.copy()\n",
    "df_final_clean = df_final_clean[df_final_clean['variation_cleaned'] != 'unknown']"
   ]
  },
  {
   "cell_type": "code",
   "execution_count": 70,
   "id": "c3fcda44",
   "metadata": {},
   "outputs": [],
   "source": [
    "# normalize variation_clean\n",
    "df_final_clean['variation_cleaned'] = (\n",
    "    df_final_clean['variation_cleaned']\n",
    "        .astype('string').str.strip().str.lower()\n",
    ")"
   ]
  },
  {
   "cell_type": "code",
   "execution_count": 71,
   "id": "34f60816",
   "metadata": {},
   "outputs": [],
   "source": [
    "# keep only test/control rows, and make it a real copy to avoid SettingWithCopyWarning\n",
    "df_final_clean = df_final_clean[\n",
    "    df_final_clean['variation_cleaned'].isin(['test','control'])\n",
    "].copy()"
   ]
  },
  {
   "cell_type": "code",
   "execution_count": 72,
   "id": "0e4bf942",
   "metadata": {},
   "outputs": [],
   "source": [
    "# create a unique session id (keep client_id/visit_id too!)\n",
    "df_final_clean['unique_id'] = (\n",
    "    df_final_clean['client_id'].astype('string') + '_' +\n",
    "    df_final_clean['visit_id'].astype('string')\n",
    ")"
   ]
  },
  {
   "cell_type": "code",
   "execution_count": 73,
   "id": "93b01893",
   "metadata": {},
   "outputs": [],
   "source": [
    "# split df_final_final into test and control group\n",
    "df_test    = df_final_clean.loc[df_final_clean['variation_cleaned'] == 'test'].copy()\n",
    "df_control = df_final_clean.loc[df_final_clean['variation_cleaned'] == 'control'].copy()"
   ]
  },
  {
   "cell_type": "code",
   "execution_count": 74,
   "id": "183078b9",
   "metadata": {},
   "outputs": [
    {
     "data": {
      "text/html": [
       "<div>\n",
       "<style scoped>\n",
       "    .dataframe tbody tr th:only-of-type {\n",
       "        vertical-align: middle;\n",
       "    }\n",
       "\n",
       "    .dataframe tbody tr th {\n",
       "        vertical-align: top;\n",
       "    }\n",
       "\n",
       "    .dataframe thead th {\n",
       "        text-align: right;\n",
       "    }\n",
       "</style>\n",
       "<table border=\"1\" class=\"dataframe\">\n",
       "  <thead>\n",
       "    <tr style=\"text-align: right;\">\n",
       "      <th></th>\n",
       "      <th>client_id</th>\n",
       "      <th>visitor_id</th>\n",
       "      <th>visit_id</th>\n",
       "      <th>process_step</th>\n",
       "      <th>date_time</th>\n",
       "      <th>variation</th>\n",
       "      <th>variation_cleaned</th>\n",
       "      <th>client_tenure_year</th>\n",
       "      <th>client_tenure_month</th>\n",
       "      <th>client_age</th>\n",
       "      <th>gender</th>\n",
       "      <th>number_of_accounts</th>\n",
       "      <th>balance</th>\n",
       "      <th>calls_6_month</th>\n",
       "      <th>logos_6_month</th>\n",
       "      <th>unique_id</th>\n",
       "    </tr>\n",
       "  </thead>\n",
       "  <tbody>\n",
       "    <tr>\n",
       "      <th>0</th>\n",
       "      <td>9988021</td>\n",
       "      <td>580560515_7732621733</td>\n",
       "      <td>781255054_21935453173_531117</td>\n",
       "      <td>step_3</td>\n",
       "      <td>2017-04-17 17:27:07+02:00</td>\n",
       "      <td>Test</td>\n",
       "      <td>test</td>\n",
       "      <td>5.0</td>\n",
       "      <td>64.0</td>\n",
       "      <td>79.0</td>\n",
       "      <td>unknown</td>\n",
       "      <td>2.0</td>\n",
       "      <td>189023.86</td>\n",
       "      <td>1.0</td>\n",
       "      <td>4.0</td>\n",
       "      <td>9988021_781255054_21935453173_531117</td>\n",
       "    </tr>\n",
       "    <tr>\n",
       "      <th>1</th>\n",
       "      <td>9988021</td>\n",
       "      <td>580560515_7732621733</td>\n",
       "      <td>781255054_21935453173_531117</td>\n",
       "      <td>step_2</td>\n",
       "      <td>2017-04-17 17:26:51+02:00</td>\n",
       "      <td>Test</td>\n",
       "      <td>test</td>\n",
       "      <td>5.0</td>\n",
       "      <td>64.0</td>\n",
       "      <td>79.0</td>\n",
       "      <td>unknown</td>\n",
       "      <td>2.0</td>\n",
       "      <td>189023.86</td>\n",
       "      <td>1.0</td>\n",
       "      <td>4.0</td>\n",
       "      <td>9988021_781255054_21935453173_531117</td>\n",
       "    </tr>\n",
       "    <tr>\n",
       "      <th>2</th>\n",
       "      <td>9988021</td>\n",
       "      <td>580560515_7732621733</td>\n",
       "      <td>781255054_21935453173_531117</td>\n",
       "      <td>step_3</td>\n",
       "      <td>2017-04-17 17:19:22+02:00</td>\n",
       "      <td>Test</td>\n",
       "      <td>test</td>\n",
       "      <td>5.0</td>\n",
       "      <td>64.0</td>\n",
       "      <td>79.0</td>\n",
       "      <td>unknown</td>\n",
       "      <td>2.0</td>\n",
       "      <td>189023.86</td>\n",
       "      <td>1.0</td>\n",
       "      <td>4.0</td>\n",
       "      <td>9988021_781255054_21935453173_531117</td>\n",
       "    </tr>\n",
       "    <tr>\n",
       "      <th>3</th>\n",
       "      <td>9988021</td>\n",
       "      <td>580560515_7732621733</td>\n",
       "      <td>781255054_21935453173_531117</td>\n",
       "      <td>step_2</td>\n",
       "      <td>2017-04-17 17:19:13+02:00</td>\n",
       "      <td>Test</td>\n",
       "      <td>test</td>\n",
       "      <td>5.0</td>\n",
       "      <td>64.0</td>\n",
       "      <td>79.0</td>\n",
       "      <td>unknown</td>\n",
       "      <td>2.0</td>\n",
       "      <td>189023.86</td>\n",
       "      <td>1.0</td>\n",
       "      <td>4.0</td>\n",
       "      <td>9988021_781255054_21935453173_531117</td>\n",
       "    </tr>\n",
       "    <tr>\n",
       "      <th>4</th>\n",
       "      <td>9988021</td>\n",
       "      <td>580560515_7732621733</td>\n",
       "      <td>781255054_21935453173_531117</td>\n",
       "      <td>step_3</td>\n",
       "      <td>2017-04-17 17:18:04+02:00</td>\n",
       "      <td>Test</td>\n",
       "      <td>test</td>\n",
       "      <td>5.0</td>\n",
       "      <td>64.0</td>\n",
       "      <td>79.0</td>\n",
       "      <td>unknown</td>\n",
       "      <td>2.0</td>\n",
       "      <td>189023.86</td>\n",
       "      <td>1.0</td>\n",
       "      <td>4.0</td>\n",
       "      <td>9988021_781255054_21935453173_531117</td>\n",
       "    </tr>\n",
       "    <tr>\n",
       "      <th>...</th>\n",
       "      <td>...</td>\n",
       "      <td>...</td>\n",
       "      <td>...</td>\n",
       "      <td>...</td>\n",
       "      <td>...</td>\n",
       "      <td>...</td>\n",
       "      <td>...</td>\n",
       "      <td>...</td>\n",
       "      <td>...</td>\n",
       "      <td>...</td>\n",
       "      <td>...</td>\n",
       "      <td>...</td>\n",
       "      <td>...</td>\n",
       "      <td>...</td>\n",
       "      <td>...</td>\n",
       "      <td>...</td>\n",
       "    </tr>\n",
       "    <tr>\n",
       "      <th>629303</th>\n",
       "      <td>1574008</td>\n",
       "      <td>117364417_77840596075</td>\n",
       "      <td>528720790_71583064618_169151</td>\n",
       "      <td>start</td>\n",
       "      <td>2017-05-07 01:43:27+02:00</td>\n",
       "      <td>Test</td>\n",
       "      <td>test</td>\n",
       "      <td>10.0</td>\n",
       "      <td>121.0</td>\n",
       "      <td>55.0</td>\n",
       "      <td>unknown</td>\n",
       "      <td>2.0</td>\n",
       "      <td>153238.83</td>\n",
       "      <td>3.0</td>\n",
       "      <td>6.0</td>\n",
       "      <td>1574008_528720790_71583064618_169151</td>\n",
       "    </tr>\n",
       "    <tr>\n",
       "      <th>629346</th>\n",
       "      <td>2908510</td>\n",
       "      <td>814969699_90652851448</td>\n",
       "      <td>562606085_36368381773_92090</td>\n",
       "      <td>start</td>\n",
       "      <td>2017-05-11 00:57:17+02:00</td>\n",
       "      <td>Control</td>\n",
       "      <td>control</td>\n",
       "      <td>21.0</td>\n",
       "      <td>252.0</td>\n",
       "      <td>34.0</td>\n",
       "      <td>M</td>\n",
       "      <td>3.0</td>\n",
       "      <td>141808.05</td>\n",
       "      <td>6.0</td>\n",
       "      <td>9.0</td>\n",
       "      <td>2908510_562606085_36368381773_92090</td>\n",
       "    </tr>\n",
       "    <tr>\n",
       "      <th>629347</th>\n",
       "      <td>2908510</td>\n",
       "      <td>814969699_90652851448</td>\n",
       "      <td>562606085_36368381773_92090</td>\n",
       "      <td>step_2</td>\n",
       "      <td>2017-05-11 00:56:31+02:00</td>\n",
       "      <td>Control</td>\n",
       "      <td>control</td>\n",
       "      <td>21.0</td>\n",
       "      <td>252.0</td>\n",
       "      <td>34.0</td>\n",
       "      <td>M</td>\n",
       "      <td>3.0</td>\n",
       "      <td>141808.05</td>\n",
       "      <td>6.0</td>\n",
       "      <td>9.0</td>\n",
       "      <td>2908510_562606085_36368381773_92090</td>\n",
       "    </tr>\n",
       "    <tr>\n",
       "      <th>629348</th>\n",
       "      <td>2908510</td>\n",
       "      <td>814969699_90652851448</td>\n",
       "      <td>562606085_36368381773_92090</td>\n",
       "      <td>step_1</td>\n",
       "      <td>2017-05-11 00:56:23+02:00</td>\n",
       "      <td>Control</td>\n",
       "      <td>control</td>\n",
       "      <td>21.0</td>\n",
       "      <td>252.0</td>\n",
       "      <td>34.0</td>\n",
       "      <td>M</td>\n",
       "      <td>3.0</td>\n",
       "      <td>141808.05</td>\n",
       "      <td>6.0</td>\n",
       "      <td>9.0</td>\n",
       "      <td>2908510_562606085_36368381773_92090</td>\n",
       "    </tr>\n",
       "    <tr>\n",
       "      <th>629349</th>\n",
       "      <td>2908510</td>\n",
       "      <td>814969699_90652851448</td>\n",
       "      <td>562606085_36368381773_92090</td>\n",
       "      <td>start</td>\n",
       "      <td>2017-05-11 00:56:20+02:00</td>\n",
       "      <td>Control</td>\n",
       "      <td>control</td>\n",
       "      <td>21.0</td>\n",
       "      <td>252.0</td>\n",
       "      <td>34.0</td>\n",
       "      <td>M</td>\n",
       "      <td>3.0</td>\n",
       "      <td>141808.05</td>\n",
       "      <td>6.0</td>\n",
       "      <td>9.0</td>\n",
       "      <td>2908510_562606085_36368381773_92090</td>\n",
       "    </tr>\n",
       "  </tbody>\n",
       "</table>\n",
       "<p>317235 rows × 16 columns</p>\n",
       "</div>"
      ],
      "text/plain": [
       "        client_id             visitor_id                      visit_id  \\\n",
       "0         9988021   580560515_7732621733  781255054_21935453173_531117   \n",
       "1         9988021   580560515_7732621733  781255054_21935453173_531117   \n",
       "2         9988021   580560515_7732621733  781255054_21935453173_531117   \n",
       "3         9988021   580560515_7732621733  781255054_21935453173_531117   \n",
       "4         9988021   580560515_7732621733  781255054_21935453173_531117   \n",
       "...           ...                    ...                           ...   \n",
       "629303    1574008  117364417_77840596075  528720790_71583064618_169151   \n",
       "629346    2908510  814969699_90652851448   562606085_36368381773_92090   \n",
       "629347    2908510  814969699_90652851448   562606085_36368381773_92090   \n",
       "629348    2908510  814969699_90652851448   562606085_36368381773_92090   \n",
       "629349    2908510  814969699_90652851448   562606085_36368381773_92090   \n",
       "\n",
       "       process_step                 date_time variation variation_cleaned  \\\n",
       "0            step_3 2017-04-17 17:27:07+02:00      Test              test   \n",
       "1            step_2 2017-04-17 17:26:51+02:00      Test              test   \n",
       "2            step_3 2017-04-17 17:19:22+02:00      Test              test   \n",
       "3            step_2 2017-04-17 17:19:13+02:00      Test              test   \n",
       "4            step_3 2017-04-17 17:18:04+02:00      Test              test   \n",
       "...             ...                       ...       ...               ...   \n",
       "629303        start 2017-05-07 01:43:27+02:00      Test              test   \n",
       "629346        start 2017-05-11 00:57:17+02:00   Control           control   \n",
       "629347       step_2 2017-05-11 00:56:31+02:00   Control           control   \n",
       "629348       step_1 2017-05-11 00:56:23+02:00   Control           control   \n",
       "629349        start 2017-05-11 00:56:20+02:00   Control           control   \n",
       "\n",
       "        client_tenure_year  client_tenure_month  client_age   gender  \\\n",
       "0                      5.0                 64.0        79.0  unknown   \n",
       "1                      5.0                 64.0        79.0  unknown   \n",
       "2                      5.0                 64.0        79.0  unknown   \n",
       "3                      5.0                 64.0        79.0  unknown   \n",
       "4                      5.0                 64.0        79.0  unknown   \n",
       "...                    ...                  ...         ...      ...   \n",
       "629303                10.0                121.0        55.0  unknown   \n",
       "629346                21.0                252.0        34.0        M   \n",
       "629347                21.0                252.0        34.0        M   \n",
       "629348                21.0                252.0        34.0        M   \n",
       "629349                21.0                252.0        34.0        M   \n",
       "\n",
       "        number_of_accounts    balance  calls_6_month  logos_6_month  \\\n",
       "0                      2.0  189023.86            1.0            4.0   \n",
       "1                      2.0  189023.86            1.0            4.0   \n",
       "2                      2.0  189023.86            1.0            4.0   \n",
       "3                      2.0  189023.86            1.0            4.0   \n",
       "4                      2.0  189023.86            1.0            4.0   \n",
       "...                    ...        ...            ...            ...   \n",
       "629303                 2.0  153238.83            3.0            6.0   \n",
       "629346                 3.0  141808.05            6.0            9.0   \n",
       "629347                 3.0  141808.05            6.0            9.0   \n",
       "629348                 3.0  141808.05            6.0            9.0   \n",
       "629349                 3.0  141808.05            6.0            9.0   \n",
       "\n",
       "                                   unique_id  \n",
       "0       9988021_781255054_21935453173_531117  \n",
       "1       9988021_781255054_21935453173_531117  \n",
       "2       9988021_781255054_21935453173_531117  \n",
       "3       9988021_781255054_21935453173_531117  \n",
       "4       9988021_781255054_21935453173_531117  \n",
       "...                                      ...  \n",
       "629303  1574008_528720790_71583064618_169151  \n",
       "629346   2908510_562606085_36368381773_92090  \n",
       "629347   2908510_562606085_36368381773_92090  \n",
       "629348   2908510_562606085_36368381773_92090  \n",
       "629349   2908510_562606085_36368381773_92090  \n",
       "\n",
       "[317235 rows x 16 columns]"
      ]
     },
     "metadata": {},
     "output_type": "display_data"
    }
   ],
   "source": [
    "display(df_final_clean)"
   ]
  },
  {
   "cell_type": "code",
   "execution_count": 75,
   "id": "ec2c4e5b",
   "metadata": {},
   "outputs": [
    {
     "name": "stdout",
     "output_type": "stream",
     "text": [
      "Rows (all / control / test): 317235 140536 176699\n",
      "Unique clients (all / control / test): 50500 23532 26968\n"
     ]
    }
   ],
   "source": [
    "# quick sanity checks\n",
    "print(\"Rows (all / control / test):\",\n",
    "      len(df_final_clean), len(df_control), len(df_test))\n",
    "print(\"Unique clients (all / control / test):\",\n",
    "      df_final_clean['client_id'].nunique(),\n",
    "      df_control['client_id'].nunique(),\n",
    "      df_test['client_id'].nunique())"
   ]
  },
  {
   "cell_type": "code",
   "execution_count": 77,
   "id": "68cf7c46",
   "metadata": {},
   "outputs": [
    {
     "data": {
      "image/png": "[encoded data removed]",
      "text/plain": [
       "<Figure size 640x480 with 1 Axes>"
      ]
     },
     "metadata": {},
     "output_type": "display_data"
    }
   ],
   "source": [
    "# Distribution of session time spent (visit duration in minutes)\n",
    "keys = ['client_id'] + (['visit_id'] if 'visit_id' in df.columns else [])\n",
    "dur = (df.groupby(keys)['date_time']\n",
    "         .agg(start='min', end='max')\n",
    "         .assign(duration_min=lambda x: (x['end'] - x['start']).dt.total_seconds()/60)\n",
    "         .reset_index())\n",
    "\n",
    "plt.figure()\n",
    "vals = dur['duration_min'].dropna()\n",
    "if len(vals) == 0:\n",
    "    print(\"No durations to plot (check date_time and visit_id).\")\n",
    "else:\n",
    "    # cap extreme durations to make the histogram readable\n",
    "    cap = np.nanpercentile(vals, 99)\n",
    "    vals_clipped = np.clip(vals, 0, cap)\n",
    "    plt.hist(vals_clipped, bins=30)\n",
    "    plt.title('Distribution of session durations')\n",
    "    plt.xlabel('Session duration (minutes)')\n",
    "    plt.ylabel('Number of sessions')\n",
    "    plt.tight_layout()\n",
    "    plt.show()"
   ]
  },
  {
   "cell_type": "code",
   "execution_count": 78,
   "id": "02111e87",
   "metadata": {},
   "outputs": [
    {
     "data": {
      "image/png": "[encoded data removed]",
      "text/plain": [
       "<Figure size 640x480 with 1 Axes>"
      ]
     },
     "metadata": {},
     "output_type": "display_data"
    },
    {
     "name": "stdout",
     "output_type": "stream",
     "text": [
      "Total unique clients: 50,500\n",
      "Strict complete:      32,588\n",
      "Not strict:           17,912\n"
     ]
    }
   ],
   "source": [
    "# Amount of clients who completed all steps in order within a visit\n",
    "STEP_ORDER = ['start','step_1','step_2','step_3','confirm']\n",
    "\n",
    "# --- 1) Recompute strict completers (per visit), then dedupe to client-level\n",
    "df = df_final_clean[['client_id','visit_id','process_step','date_time']].copy()\n",
    "df = df.dropna(subset=['client_id','process_step','date_time'])\n",
    "df['date_time'] = pd.to_datetime(df['date_time'], errors='coerce')\n",
    "df = df.dropna(subset=['date_time'])\n",
    "\n",
    "# Work at visit granularity when visit_id exists; otherwise fall back to client-only\n",
    "step_keys = ['client_id'] + (['visit_id'] if 'visit_id' in df.columns else [])\n",
    "\n",
    "first_times = (df.sort_values('date_time')\n",
    "               .drop_duplicates(subset=step_keys+['process_step'], keep='first')\n",
    "               .set_index(step_keys + ['process_step'])['date_time']\n",
    "               .unstack('process_step')\n",
    "               .reindex(columns=STEP_ORDER))\n",
    "\n",
    "strict_clients = pd.Index([])\n",
    "if first_times.shape[0] > 0:\n",
    "    mask_all   = first_times[STEP_ORDER].notna().all(axis=1)\n",
    "    mask_order = (first_times[STEP_ORDER].diff(axis=1).iloc[:, 1:] > pd.Timedelta(0)).all(axis=1)\n",
    "    valid_visits   = first_times.loc[mask_all & mask_order].reset_index()\n",
    "    strict_clients = valid_visits['client_id'].drop_duplicates()\n",
    "\n",
    "strict_count = int(strict_clients.nunique())\n",
    "\n",
    "# Base = all unique clients seen in df_final (any step)\n",
    "total_clients = int(df_final_clean['client_id'].dropna().nunique())\n",
    "not_strict    = max(total_clients - strict_count, 0)\n",
    "\n",
    "vals   = [strict_count, not_strict]\n",
    "labels = ['Strict complete', 'Not strict']\n",
    "\n",
    "# Donut share (percent of clients)\n",
    "fig, ax = plt.subplots()\n",
    "wedges, texts, autotexts = ax.pie(\n",
    "    vals,\n",
    "    labels=labels,\n",
    "    autopct=lambda p: f'{p:.1f}%\\n({int(round(p*total_clients/100)):,})',\n",
    "    startangle=90\n",
    ")\n",
    "# donut hole\n",
    "centre = plt.Circle((0,0), 0.6, fc='white')\n",
    "fig.gca().add_artist(centre)\n",
    "ax.set_title('Share of clients completing all steps (strict)')\n",
    "plt.tight_layout(); plt.show()\n",
    "\n",
    "print(f\"Total unique clients: {total_clients:,}\")\n",
    "print(f\"Strict complete:      {strict_count:,}\")\n",
    "print(f\"Not strict:           {not_strict:,}\")"
   ]
  },
  {
   "cell_type": "code",
   "execution_count": 79,
   "id": "17f8a2da",
   "metadata": {},
   "outputs": [
    {
     "data": {
      "image/png": "[encoded data removed]",
      "text/plain": [
       "<Figure size 640x480 with 1 Axes>"
      ]
     },
     "metadata": {},
     "output_type": "display_data"
    }
   ],
   "source": [
    "# Amount of clients who reached confirm at least once (within walking all the steps)\n",
    "d = df_final_clean[['client_id','process_step']].dropna(subset=['client_id']).copy()\n",
    "n_total   = d['client_id'].nunique()\n",
    "n_confirm = d.loc[d['process_step'].eq('confirm'), 'client_id'].drop_duplicates().nunique()\n",
    "n_no_conf = n_total - n_confirm\n",
    "vals = [n_confirm, n_no_conf]\n",
    "labels = ['Confirm ≥1×', 'No confirm']\n",
    "\n",
    "fig, ax = plt.subplots()\n",
    "wedges, texts, autotexts = ax.pie(\n",
    "    vals, labels=labels, autopct=lambda p: f'{p:.1f}%\\n({int(round(p*n_total/100)):,})',\n",
    "    startangle=90\n",
    ")\n",
    "# donut hole\n",
    "centre = plt.Circle((0,0), 0.6, fc='white')\n",
    "fig.gca().add_artist(centre)\n",
    "ax.set_title('Share of clients who reached confirm')\n",
    "plt.tight_layout(); plt.show()"
   ]
  },
  {
   "cell_type": "code",
   "execution_count": 80,
   "id": "016756f9",
   "metadata": {},
   "outputs": [
    {
     "data": {
      "image/png": "[encoded data removed]",
      "text/plain": [
       "<Figure size 640x480 with 1 Axes>"
      ]
     },
     "metadata": {},
     "output_type": "display_data"
    },
    {
     "name": "stdout",
     "output_type": "stream",
     "text": [
      "Average hourly confirm rate (%): 51.26\n"
     ]
    }
   ],
   "source": [
    "d = df_final_clean[['client_id','process_step','date_time']].dropna(subset=['client_id','date_time']).copy()\n",
    "d['date_time'] = pd.to_datetime(d['date_time'], errors='coerce', utc=True).dt.tz_convert('Europe/Amsterdam')\n",
    "d = d.dropna(subset=['date_time'])\n",
    "\n",
    "# Hour of day (0..23)\n",
    "d['hour'] = d['date_time'].dt.hour\n",
    "\n",
    "# Denominator: unique active clients per hour-of-day (any step)\n",
    "base = d.groupby('hour')['client_id'].nunique()\n",
    "\n",
    "# Numerator: unique clients who reached 'confirm' in that hour-of-day\n",
    "conf = (d.loc[d['process_step'].eq('confirm')]\n",
    "          .groupby('hour')['client_id']\n",
    "          .nunique())\n",
    "\n",
    "# % reaching confirm per hour-of-day\n",
    "rate = (conf.reindex(range(24), fill_value=0) / base.reindex(range(24), fill_value=0).replace(0, pd.NA) * 100).fillna(0)\n",
    "\n",
    "# Plot (bar)\n",
    "plt.figure()\n",
    "plt.bar(rate.index, rate.values)\n",
    "plt.xticks(range(24))\n",
    "plt.xlabel('Hour of day'); plt.ylabel('Clients reaching confirm (%)')\n",
    "plt.title('Hourly % of clients who reached confirm (by hour of day)')\n",
    "plt.tight_layout(); plt.show()\n",
    "\n",
    "print(\"Average hourly confirm rate (%):\", round(rate.mean(), 2))"
   ]
  },
  {
   "cell_type": "markdown",
   "id": "b97fade0",
   "metadata": {},
   "source": [
    "## EDA "
   ]
  },
  {
   "cell_type": "markdown",
   "id": "cb38021a",
   "metadata": {},
   "source": [
    "### Client behavior analysis\n",
    "- Who are the primary clients using this online process?\n",
    "\n",
    "From the age-distribution charts, usage is concentrated among adults 25–64. The single largest group is 55–64 (about 21,2%), closely followed by 25–34 and 45–54 (each about 20,5%). 35–44 is the next sizable band (about 16.5%). Younger clients 18–24 and older 75+ are small minorities, and <18 is negligible (about 22% combined)"
   ]
  },
  {
   "cell_type": "markdown",
   "id": "22af5ae5",
   "metadata": {},
   "source": [
    "- Are the primary clients younger or older, new or long-standing?\n",
    "\n",
    "From the clients-tenure graph we can observe that: The primary age group is: 55–64 (21.2% of online clients) are older and The primary tenure group is: 10+ (55.2% of online clients) are long-standing"
   ]
  },
  {
   "cell_type": "markdown",
   "id": "83720b35",
   "metadata": {},
   "source": [
    "To re-inforce the answer, here is a more accurate graph per age group and tenure-year"
   ]
  },
  {
   "cell_type": "code",
   "execution_count": 81,
   "id": "5f7b2c75",
   "metadata": {},
   "outputs": [
    {
     "data": {
      "image/png": "[encoded data removed]",
      "text/plain": [
       "<Figure size 640x480 with 1 Axes>"
      ]
     },
     "metadata": {},
     "output_type": "display_data"
    }
   ],
   "source": [
    "# Age buckets (adjust if you want different bands)\n",
    "age_bins   = [0, 17, 24, 34, 44, 54, 64, 74, 120]\n",
    "age_labels = ['<18','18–24','25–34','35–44','45–54','55–64','65–74','75+']\n",
    "\n",
    "# Use df_client and 'client_age' column\n",
    "online_demo = df_client\n",
    "age_col = 'client_age'\n",
    "\n",
    "online_demo['age_bucket'] = pd.cut(online_demo[age_col], bins=age_bins, labels=age_labels, right=True)\n",
    "age_counts = online_demo['age_bucket'].value_counts().reindex(age_labels).fillna(0).astype(int)\n",
    "age_pct    = (age_counts / age_counts.sum()).fillna(0).mul(100)\n",
    "\n",
    "# Percentages\n",
    "plt.figure()\n",
    "plt.bar(age_pct.index, age_pct.values)\n",
    "plt.title('Clients using the online process — by age (%)')\n",
    "plt.xlabel('Age bucket'); plt.ylabel('Share of clients (%)')\n",
    "plt.tight_layout(); plt.show()\n"
   ]
  },
  {
   "cell_type": "code",
   "execution_count": 82,
   "id": "86103eef",
   "metadata": {},
   "outputs": [
    {
     "data": {
      "image/png": "[encoded data removed]",
      "text/plain": [
       "<Figure size 640x480 with 1 Axes>"
      ]
     },
     "metadata": {},
     "output_type": "display_data"
    }
   ],
   "source": [
    "# Tenure buckets (years)\n",
    "ten_bins   = [-0.01, 0.99, 2.99, 4.99, 9.99, 100]\n",
    "ten_labels = ['<1 yr','1–2','3–4','5–9','10+']\n",
    "\n",
    "ten_col = 'client_tenure_year'\n",
    "df_client['tenure_bucket'] = pd.cut(df_client[ten_col], bins=ten_bins, labels=ten_labels, right=True)\n",
    "ten_counts = df_client['tenure_bucket'].value_counts().reindex(ten_labels).fillna(0).astype(int)\n",
    "ten_pct    = (ten_counts / ten_counts.sum()).fillna(0).mul(100)\n",
    "\n",
    "# Percentages\n",
    "plt.figure()\n",
    "plt.bar(ten_pct.index, ten_pct.values)\n",
    "plt.title('Clients using the process — by tenure (%)')\n",
    "plt.xlabel('Tenure (years)'); plt.ylabel('Share of clients (%)')\n",
    "plt.tight_layout(); plt.show()\n"
   ]
  },
  {
   "cell_type": "markdown",
   "id": "44f229be",
   "metadata": {},
   "source": [
    "## KPIs & Metrics"
   ]
  },
  {
   "cell_type": "markdown",
   "id": "1cb07bd0",
   "metadata": {},
   "source": [
    "#### Completion Rate: The proportion of users who reach the final 'confirm' step.\n",
    "\n",
    "- Clients who completed the full funnel in order (start→1→2→3→confirm): Control: 47.82% 14.785 clients.  Test: 53.72% 17.803 clients\n",
    "- Clients who reached confirm (whithout full funnel): Control: 65.59% 15.434 clients. Test: 69.59% 18.687 clients  "
   ]
  },
  {
   "cell_type": "code",
   "execution_count": 83,
   "id": "f745a037",
   "metadata": {},
   "outputs": [
    {
     "name": "stdout",
     "output_type": "stream",
     "text": [
      "Completion %  Control: 65.59\n",
      "Completion %  Test   : 69.29\n"
     ]
    }
   ],
   "source": [
    "def completion_rate(df):\n",
    "    active   = df['client_id'].nunique()\n",
    "    confirmed = df.loc[df['process_step'].eq('confirm'), 'client_id'].nunique()\n",
    "    return round(100 * confirmed / active, 2) if active else 0.0\n",
    "\n",
    "print(\"Completion %  Control:\", completion_rate(df_control))\n",
    "print(\"Completion %  Test   :\", completion_rate(df_test))"
   ]
  },
  {
   "cell_type": "code",
   "execution_count": 99,
   "id": "5d100f40",
   "metadata": {},
   "outputs": [
    {
     "name": "stdout",
     "output_type": "stream",
     "text": [
      "Strict funnel completion (per visit), by variation:\n",
      "                   started_visits  strict_visits  strict_clients  \\\n",
      "variation_cleaned                                                  \n",
      "control                     30962          14806           14785   \n",
      "test                        33219          17844           17803   \n",
      "\n",
      "                   strict_visit_rate_%  \n",
      "variation_cleaned                       \n",
      "control                          47.82  \n",
      "test                             53.72  \n"
     ]
    }
   ],
   "source": [
    "STEP_ORDER = ['start','step_1','step_2','step_3','confirm']\n",
    "\n",
    "# --- Use only Control/Test and needed columns ---\n",
    "d = (df_final_clean[['variation_cleaned','client_id','visit_id','process_step','date_time']]\n",
    "     .dropna(subset=['client_id','process_step','date_time'])\n",
    "     .copy())\n",
    "d['date_time'] = pd.to_datetime(d['date_time'], errors='coerce')\n",
    "d = d.dropna(subset=['date_time']).sort_values(['variation_cleaned','client_id','visit_id','date_time'])\n",
    "\n",
    "# --- First time each step happened within each (variation, client, visit) ---\n",
    "first_times = (d\n",
    "    .drop_duplicates(subset=['variation_cleaned','client_id','visit_id','process_step'], keep='first')\n",
    "    .set_index(['variation_cleaned','client_id','visit_id','process_step'])['date_time']\n",
    "    .unstack('process_step')\n",
    "    .reindex(columns=STEP_ORDER))\n",
    "\n",
    "# --- Strict completion in correct order ---\n",
    "mask_all   = first_times[STEP_ORDER].notna().all(axis=1)\n",
    "mask_order = (first_times[STEP_ORDER].diff(axis=1).iloc[:, 1:] > pd.Timedelta(0)).all(axis=1)\n",
    "valid      = first_times.loc[mask_all & mask_order]\n",
    "\n",
    "valid_visits  = (valid.reset_index()\n",
    "                 .groupby('variation_cleaned')\n",
    "                 .size()\n",
    "                 .rename('strict_visits'))\n",
    "valid_clients = (valid.reset_index()\n",
    "                 .groupby('variation_cleaned')['client_id']\n",
    "                 .nunique()\n",
    "                 .rename('strict_clients'))\n",
    "\n",
    "# --- Denominator for rates: visits that started (per variation) ---\n",
    "started = (d[d['process_step'].eq('start')]\n",
    "           .drop_duplicates(['variation_cleaned','client_id','visit_id'])\n",
    "           .groupby('variation_cleaned')\n",
    "           .size()\n",
    "           .rename('started_visits'))\n",
    "\n",
    "# --- Combine & compute rates ---\n",
    "strict_summary = (pd.concat([started, valid_visits, valid_clients], axis=1)\n",
    "                    .fillna(0)\n",
    "                    .astype({'started_visits':'int','strict_visits':'int','strict_clients':'int'}))\n",
    "strict_summary['strict_visit_rate_%'] = (\n",
    "    (strict_summary['strict_visits'] / strict_summary['started_visits'].replace(0, pd.NA)) * 100\n",
    ").fillna(0).round(2)\n",
    "\n",
    "print(\"Strict funnel completion (per visit), by variation:\")\n",
    "print(strict_summary)\n"
   ]
  },
  {
   "cell_type": "code",
   "execution_count": 104,
   "id": "24df951b",
   "metadata": {},
   "outputs": [
    {
     "name": "stdout",
     "output_type": "stream",
     "text": [
      "Clients who reached confirm (Control+Test only): 34121\n",
      "\n",
      "Confirming clients by variation:\n",
      " variation_cleaned\n",
      "control    15434\n",
      "test       18687\n",
      "Name: client_id, dtype: int32\n",
      "\n",
      "Confirm rate by variation (% of active clients):\n",
      " variation_cleaned\n",
      "control    65.59\n",
      "test       69.29\n",
      "Name: client_id, dtype: float64\n"
     ]
    },
    {
     "data": {
      "image/png": "[encoded data removed]",
      "text/plain": [
       "<Figure size 640x480 with 1 Axes>"
      ]
     },
     "metadata": {},
     "output_type": "display_data"
    }
   ],
   "source": [
    "# Work only with Control/Test rows\n",
    "d = (df_final_clean[['client_id','process_step','variation_cleaned']]\n",
    "     .dropna(subset=['client_id','process_step'])\n",
    "     .copy())\n",
    "\n",
    "# ---- Overall (control+test only) unique clients who reached confirm ----\n",
    "overall_confirm_clients = (\n",
    "    d.loc[d['process_step'].eq('confirm'), 'client_id']\n",
    "     .drop_duplicates()\n",
    "     .nunique()\n",
    ")\n",
    "print(\"Clients who reached confirm (Control+Test only):\", overall_confirm_clients)\n",
    "\n",
    "# ---- Per variation: unique clients who reached confirm ----\n",
    "confirm_by_var = (d[d['process_step'].eq('confirm')]\n",
    "                  .drop_duplicates(['client_id','variation_cleaned'])\n",
    "                  .groupby('variation_cleaned')['client_id']\n",
    "                  .nunique()\n",
    "                  .reindex(['control','test'])\n",
    "                  .fillna(0)\n",
    "                  .astype(int))\n",
    "print(\"\\nConfirming clients by variation:\\n\", confirm_by_var)\n",
    "\n",
    "# Optional: % of active clients (denominator = unique active clients per variation)\n",
    "active_by_var = d.groupby('variation_cleaned')['client_id'].nunique()\n",
    "confirm_rate_by_var = (confirm_by_var / active_by_var * 100).round(2)\n",
    "print(\"\\nConfirm rate by variation (% of active clients):\\n\", confirm_rate_by_var)\n",
    "\n",
    "# Optional bar chart\n",
    "plt.figure()\n",
    "plt.bar(confirm_by_var.index.str.title(), confirm_by_var.values)\n",
    "for i, v in enumerate(confirm_by_var.values):\n",
    "    plt.text(i, v, f'{v}', ha='center', va='bottom')\n",
    "plt.title('Unique clients who reached confirm (by variation)')\n",
    "plt.xlabel('Variation'); plt.ylabel('Clients')\n",
    "plt.tight_layout(); plt.show()\n"
   ]
  },
  {
   "cell_type": "markdown",
   "id": "fa6cba9e",
   "metadata": {},
   "source": [
    "#### Time Spent on Each Step: The average duration users spend on each step.\n",
    "\n",
    "See table below "
   ]
  },
  {
   "cell_type": "code",
   "execution_count": 101,
   "id": "b4b1e241",
   "metadata": {},
   "outputs": [],
   "source": [
    "def median_minutes_per_step_per_variation(df):\n",
    "    rows = []\n",
    "    for var, sub in df.groupby('variation_cleaned'):\n",
    "        s = sub.sort_values(keys+['date_time']).copy()\n",
    "        s['next_time'] = s.groupby(keys)['date_time'].shift(-1)\n",
    "        s['dur_min']   = (s['next_time'] - s['date_time']).dt.total_seconds() / 60\n",
    "        s = s[s['dur_min'].notna() & (s['dur_min'] > 0)]\n",
    "        med = s.groupby('process_step')['dur_min'].median().round(2)\n",
    "        med.name = var\n",
    "        rows.append(med)\n",
    "    return pd.DataFrame(rows).T.reindex(STEP_ORDER, axis=0)"
   ]
  },
  {
   "cell_type": "code",
   "execution_count": 103,
   "id": "ba15c3c5",
   "metadata": {},
   "outputs": [
    {
     "name": "stdout",
     "output_type": "stream",
     "text": [
      "Median minutes per step (rows=steps):\n",
      "\n"
     ]
    },
    {
     "data": {
      "text/html": [
       "<div>\n",
       "<style scoped>\n",
       "    .dataframe tbody tr th:only-of-type {\n",
       "        vertical-align: middle;\n",
       "    }\n",
       "\n",
       "    .dataframe tbody tr th {\n",
       "        vertical-align: top;\n",
       "    }\n",
       "\n",
       "    .dataframe thead th {\n",
       "        text-align: right;\n",
       "    }\n",
       "</style>\n",
       "<table border=\"1\" class=\"dataframe\">\n",
       "  <thead>\n",
       "    <tr style=\"text-align: right;\">\n",
       "      <th>variation_cleaned</th>\n",
       "      <th>control</th>\n",
       "      <th>test</th>\n",
       "    </tr>\n",
       "    <tr>\n",
       "      <th>process_step</th>\n",
       "      <th></th>\n",
       "      <th></th>\n",
       "    </tr>\n",
       "  </thead>\n",
       "  <tbody>\n",
       "    <tr>\n",
       "      <th>start</th>\n",
       "      <td>0.33</td>\n",
       "      <td>0.22</td>\n",
       "    </tr>\n",
       "    <tr>\n",
       "      <th>step_1</th>\n",
       "      <td>0.35</td>\n",
       "      <td>0.45</td>\n",
       "    </tr>\n",
       "    <tr>\n",
       "      <th>step_2</th>\n",
       "      <td>1.10</td>\n",
       "      <td>1.03</td>\n",
       "    </tr>\n",
       "    <tr>\n",
       "      <th>step_3</th>\n",
       "      <td>1.22</td>\n",
       "      <td>0.95</td>\n",
       "    </tr>\n",
       "    <tr>\n",
       "      <th>confirm</th>\n",
       "      <td>1.52</td>\n",
       "      <td>1.68</td>\n",
       "    </tr>\n",
       "  </tbody>\n",
       "</table>\n",
       "</div>"
      ],
      "text/plain": [
       "variation_cleaned  control  test\n",
       "process_step                    \n",
       "start                 0.33  0.22\n",
       "step_1                0.35  0.45\n",
       "step_2                1.10  1.03\n",
       "step_3                1.22  0.95\n",
       "confirm               1.52  1.68"
      ]
     },
     "metadata": {},
     "output_type": "display_data"
    },
    {
     "name": "stdout",
     "output_type": "stream",
     "text": [
      "Average minutes per step (rows=steps):\n",
      "\n"
     ]
    },
    {
     "data": {
      "text/html": [
       "<div>\n",
       "<style scoped>\n",
       "    .dataframe tbody tr th:only-of-type {\n",
       "        vertical-align: middle;\n",
       "    }\n",
       "\n",
       "    .dataframe tbody tr th {\n",
       "        vertical-align: top;\n",
       "    }\n",
       "\n",
       "    .dataframe thead th {\n",
       "        text-align: right;\n",
       "    }\n",
       "</style>\n",
       "<table border=\"1\" class=\"dataframe\">\n",
       "  <thead>\n",
       "    <tr style=\"text-align: right;\">\n",
       "      <th>variation_cleaned</th>\n",
       "      <th>control</th>\n",
       "      <th>test</th>\n",
       "    </tr>\n",
       "    <tr>\n",
       "      <th>process_step</th>\n",
       "      <th></th>\n",
       "      <th></th>\n",
       "    </tr>\n",
       "  </thead>\n",
       "  <tbody>\n",
       "    <tr>\n",
       "      <th>start</th>\n",
       "      <td>1.11</td>\n",
       "      <td>1.02</td>\n",
       "    </tr>\n",
       "    <tr>\n",
       "      <th>step_1</th>\n",
       "      <td>0.86</td>\n",
       "      <td>1.03</td>\n",
       "    </tr>\n",
       "    <tr>\n",
       "      <th>step_2</th>\n",
       "      <td>1.58</td>\n",
       "      <td>1.47</td>\n",
       "    </tr>\n",
       "    <tr>\n",
       "      <th>step_3</th>\n",
       "      <td>2.32</td>\n",
       "      <td>2.14</td>\n",
       "    </tr>\n",
       "    <tr>\n",
       "      <th>confirm</th>\n",
       "      <td>3.62</td>\n",
       "      <td>3.96</td>\n",
       "    </tr>\n",
       "  </tbody>\n",
       "</table>\n",
       "</div>"
      ],
      "text/plain": [
       "variation_cleaned  control  test\n",
       "process_step                    \n",
       "start                 1.11  1.02\n",
       "step_1                0.86  1.03\n",
       "step_2                1.58  1.47\n",
       "step_3                2.32  2.14\n",
       "confirm               3.62  3.96"
      ]
     },
     "metadata": {},
     "output_type": "display_data"
    },
    {
     "data": {
      "image/png": "[encoded data removed]",
      "text/plain": [
       "<Figure size 700x400 with 1 Axes>"
      ]
     },
     "metadata": {},
     "output_type": "display_data"
    }
   ],
   "source": [
    "STEP_ORDER = ['start','step_1','step_2','step_3','confirm']\n",
    "\n",
    "# Work only with Control/Test rows\n",
    "d = (df_final_clean[['variation_cleaned','client_id','visit_id','process_step','date_time']]\n",
    "     .dropna(subset=['client_id','process_step','date_time'])\n",
    "     .copy())\n",
    "d['date_time'] = pd.to_datetime(d['date_time'], errors='coerce')\n",
    "d = d.dropna(subset=['date_time']).sort_values(['variation_cleaned','client_id','visit_id','date_time'])\n",
    "\n",
    "# OPTIONAL: drop consecutive duplicates of the same step inside a visit\n",
    "prev = d.groupby(['variation_cleaned','client_id','visit_id'])['process_step'].shift()\n",
    "d = d[d['process_step'] != prev].copy()\n",
    "\n",
    "# Duration of the CURRENT step = next_time - current_time (within same visit)\n",
    "d['next_time'] = d.groupby(['variation_cleaned','client_id','visit_id'])['date_time'].shift(-1)\n",
    "d['dur_min']   = (d['next_time'] - d['date_time']).dt.total_seconds() / 60\n",
    "\n",
    "# Keep only positive, finite durations\n",
    "d = d[np.isfinite(d['dur_min']) & (d['dur_min'] > 0)].copy()\n",
    "\n",
    "# ---- Summary per step & variation ----\n",
    "summary = (d.groupby(['variation_cleaned','process_step'])['dur_min']\n",
    "             .agg(count='count', avg_min='mean', median_min='median')\n",
    "             .round({'avg_min':2, 'median_min':2})\n",
    "             .reset_index())\n",
    "\n",
    "# Tidy tables for quick reading\n",
    "median_tbl = (summary.pivot(index='process_step', columns='variation_cleaned', values='median_min')\n",
    "                      .reindex(STEP_ORDER))\n",
    "avg_tbl    = (summary.pivot(index='process_step', columns='variation_cleaned', values='avg_min')\n",
    "                      .reindex(STEP_ORDER))\n",
    "\n",
    "print(\"Median minutes per step (rows=steps):\\n\");  display(median_tbl)\n",
    "print(\"Average minutes per step (rows=steps):\\n\"); display(avg_tbl)\n",
    "\n",
    "# Optional: small bar chart comparing Control vs Test, per step (medians)\n",
    "plt.figure(figsize=(7,4))\n",
    "x = np.arange(len(STEP_ORDER)); w = 0.38\n",
    "m_control = median_tbl.get('control', pd.Series(index=STEP_ORDER))\n",
    "m_test    = median_tbl.get('test',    pd.Series(index=STEP_ORDER))\n",
    "plt.bar(x - w/2, m_control.values, width=w, label='Control')\n",
    "plt.bar(x + w/2, m_test.values,    width=w, label='Test')\n",
    "plt.xticks(x, STEP_ORDER, rotation=0)\n",
    "plt.ylabel('Median minutes'); plt.title('Time spent per step (median) — Control vs Test')\n",
    "plt.legend(); plt.tight_layout(); plt.show()\n"
   ]
  },
  {
   "cell_type": "markdown",
   "id": "ccfa8b01",
   "metadata": {},
   "source": [
    "#### Error Rates: If there's a step where users go back to a previous step, it may indicate confusion or an error. You should consider moving from a later step to an earlier one as an error.\n",
    "\n",
    "See chart below"
   ]
  },
  {
   "cell_type": "code",
   "execution_count": 105,
   "id": "58ab3a14",
   "metadata": {},
   "outputs": [
    {
     "name": "stdout",
     "output_type": "stream",
     "text": [
      "Overall backward (error) rate: 10.42% (25,813 / 247,788 transitions)\n",
      "\n",
      "Backward (error) rate by variation (%):\n",
      " variation_cleaned\n",
      "control     8.85\n",
      "test       11.64\n",
      "Name: is_error, dtype: float64\n",
      "\n",
      "Top backward pairs per variation:\n",
      "\n",
      "Control:\n",
      "          pair  count\n",
      "  step_1→start   2490\n",
      " step_3→step_2   2364\n",
      " step_2→step_1   1390\n",
      "  step_3→start   1067\n",
      " step_3→step_1    815\n",
      "  step_2→start    774\n",
      " confirm→start    482\n",
      "confirm→step_3    101\n",
      "confirm→step_1     98\n",
      "\n",
      "Test:\n",
      "          pair  count\n",
      "  step_1→start   6404\n",
      " step_2→step_1   3142\n",
      " step_3→step_2   2282\n",
      "  step_3→start   2235\n",
      "  step_2→start   1638\n",
      " confirm→start    237\n",
      " step_3→step_1    226\n",
      "confirm→step_1     45\n",
      "confirm→step_3     22\n",
      "confirm→step_2      1\n"
     ]
    }
   ],
   "source": [
    "# ---------- Setup ----------\n",
    "STEP_ORDER = ['start','step_1','step_2','step_3','confirm']\n",
    "RANK = {s:i for i,s in enumerate(STEP_ORDER)}\n",
    "KEYS = ['client_id','visit_id'] if 'visit_id' in df_final_clean.columns else ['client_id']\n",
    "\n",
    "def build_transitions(df):\n",
    "    \"\"\"Create step-to-next-step transitions per (variation, visit), with is_error flag.\"\"\"\n",
    "    d = (df[['variation_cleaned','client_id','visit_id','process_step','date_time']]\n",
    "         .dropna(subset=['client_id','process_step','date_time'])\n",
    "         .copy())\n",
    "    d = d[d['process_step'].isin(STEP_ORDER)]\n",
    "    d['date_time'] = pd.to_datetime(d['date_time'], errors='coerce')\n",
    "    d = d.dropna(subset=['date_time']).sort_values(['variation_cleaned'] + KEYS + ['date_time'])\n",
    "\n",
    "    # next step within the same visit & variation\n",
    "    d['next_step'] = d.groupby(['variation_cleaned'] + KEYS)['process_step'].shift(-1)\n",
    "\n",
    "    # keep valid transitions and rank them\n",
    "    t = d.dropna(subset=['next_step']).copy()\n",
    "    t['from_rank'] = t['process_step'].map(RANK)\n",
    "    t['to_rank']   = t['next_step'].map(RANK)\n",
    "    t = t.dropna(subset=['from_rank','to_rank'])\n",
    "\n",
    "    # backward = error\n",
    "    t['is_error'] = t['to_rank'] < t['from_rank']\n",
    "    return t\n",
    "\n",
    "# Build transitions from Control/Test-only data\n",
    "trans = build_transitions(df_final_clean)\n",
    "\n",
    "# ---------- KPIs ----------\n",
    "# Overall\n",
    "overall_err = (trans['is_error'].mean() * 100) if len(trans) else 0.0\n",
    "print(f\"Overall backward (error) rate: {overall_err:.2f}% \"\n",
    "      f\"({trans['is_error'].sum():,} / {len(trans):,} transitions)\")\n",
    "\n",
    "# By variation\n",
    "err_by_var = (trans.groupby('variation_cleaned')['is_error']\n",
    "                 .mean().mul(100).round(2)).reindex(['control','test'])\n",
    "print(\"\\nBackward (error) rate by variation (%):\\n\", err_by_var)\n",
    "\n",
    "# Where do errors happen most? (top backward pairs per variation)\n",
    "pairs = (trans.loc[trans['is_error'], ['variation_cleaned','process_step','next_step']]\n",
    "         .value_counts()\n",
    "         .rename('count')\n",
    "         .reset_index())\n",
    "print(\"\\nTop backward pairs per variation:\")\n",
    "for var in ['control','test']:\n",
    "    top = (pairs[pairs['variation_cleaned']==var]\n",
    "           .assign(pair=lambda x: x['process_step'] + '→' + x['next_step'])\n",
    "           .nlargest(10, 'count')[['pair','count']])\n",
    "    if not top.empty:\n",
    "        print(f\"\\n{var.title()}:\\n{top.to_string(index=False)}\")\n"
   ]
  },
  {
   "cell_type": "code",
   "execution_count": 106,
   "id": "123f082f",
   "metadata": {},
   "outputs": [],
   "source": [
    "STEP_ORDER = ['start','step_1','step_2','step_3','confirm']\n",
    "RANK = {s:i for i,s in enumerate(STEP_ORDER)}\n",
    "KEYS = ['client_id','visit_id'] if 'visit_id' in df_final_clean.columns else ['client_id']\n",
    "\n",
    "def build_transitions(df):\n",
    "    d = (df[['variation_cleaned','client_id','visit_id','process_step','date_time']]\n",
    "         .dropna(subset=['client_id','process_step','date_time']).copy())\n",
    "    d = d[d['process_step'].isin(STEP_ORDER)]\n",
    "    d['date_time'] = pd.to_datetime(d['date_time'], errors='coerce')\n",
    "    d = d.dropna(subset=['date_time']).sort_values(['variation_cleaned'] + KEYS + ['date_time'])\n",
    "    d['next_step'] = d.groupby(['variation_cleaned'] + KEYS)['process_step'].shift(-1)\n",
    "\n",
    "    t = d.dropna(subset=['next_step']).copy()\n",
    "    t['from_rank'] = t['process_step'].map(RANK)\n",
    "    t['to_rank']   = t['next_step'].map(RANK)\n",
    "    t = t.dropna(subset=['from_rank','to_rank'])\n",
    "    t['is_error']  = t['to_rank'] < t['from_rank']\n",
    "    return t\n",
    "\n",
    "trans = build_transitions(df_final_clean)"
   ]
  },
  {
   "cell_type": "code",
   "execution_count": 107,
   "id": "d3d1eb36",
   "metadata": {},
   "outputs": [
    {
     "name": "stdout",
     "output_type": "stream",
     "text": [
      "Error rate by FROM step (%), by variation:\n",
      "\n",
      "variation_cleaned  control   test\n",
      "process_step                     \n",
      "start                 0.00   0.00\n",
      "step_1                9.56  18.03\n",
      "step_2                8.90  16.16\n",
      "step_3               20.94  19.78\n",
      "confirm              35.47   7.46\n"
     ]
    }
   ],
   "source": [
    "# counts + rates per (variation, from-step)\n",
    "by_from = (trans.groupby(['variation_cleaned','process_step'])['is_error']\n",
    "              .agg(errors='sum', transitions='count')\n",
    "              .reset_index())\n",
    "by_from['error_%'] = (by_from['errors'] / by_from['transitions'] * 100).round(2)\n",
    "\n",
    "# tidy pivot for quick reading (rows = from-step; cols = control/test)\n",
    "from_pivot = (by_from.pivot(index='process_step', columns='variation_cleaned', values='error_%')\n",
    "                     .reindex(STEP_ORDER))\n",
    "print(\"Error rate by FROM step (%), by variation:\\n\")\n",
    "print(from_pivot.fillna(0))"
   ]
  },
  {
   "cell_type": "code",
   "execution_count": 108,
   "id": "693c6ddf",
   "metadata": {},
   "outputs": [
    {
     "data": {
      "image/png": "[encoded data removed]",
      "text/plain": [
       "<Figure size 640x480 with 1 Axes>"
      ]
     },
     "metadata": {},
     "output_type": "display_data"
    }
   ],
   "source": [
    "x = np.arange(len(STEP_ORDER)); w = 0.38\n",
    "c = from_pivot.get('control', pd.Series(index=STEP_ORDER))\n",
    "t = from_pivot.get('test',    pd.Series(index=STEP_ORDER))\n",
    "\n",
    "plt.figure()\n",
    "plt.bar(x - w/2, c.values, width=w, label='Control')\n",
    "plt.bar(x + w/2, t.values, width=w, label='Test')\n",
    "plt.xticks(x, STEP_ORDER); plt.ylabel('Error rate (%)')\n",
    "plt.title('Backward error rate by FROM step'); plt.legend()\n",
    "plt.tight_layout(); plt.show()"
   ]
  },
  {
   "cell_type": "markdown",
   "id": "5330770a",
   "metadata": {},
   "source": [
    "#### Redesign Outcome\n",
    "\n",
    "Based on the chosen KPIs, how does the new design's performance compare to the old one?\n",
    "\n",
    "Control vs Test: Control = old design and Test = new design (variation_cleaned column), comparing KPIs per variation.\n",
    "\n",
    "- Completion rate: confirmers / unique active clients (same period).\n",
    "- Error rate: backward-move rate.\n",
    "- Time per step: median per step.\n",
    "\n",
    "“Given (lower) higher completion rate, (faster) similar step times, and (lower/equal) similar error rates, the new design is not yet recommended.”\n",
    "\n",
    "- Completion rate: “Across the test (new design) variant, completion rate was 65.59% vs 69.29% in control, new desing \"wins\".”\n",
    "- Time per step: “Median time on the slowest step (Step k) fell from A min (control) to B min (test).”\n",
    "- Error rate: “Backward-move rate dropped from E% (control) to F% (test).”\n",
    "\n",
    "Decision rule: New design “wins” if it increases completion rate and reduces (or doesn’t worsen) errors, without increasing time on critical steps. If completion uplift is modest, check that it’s paired with a lower error rate or faster key steps."
   ]
  },
  {
   "cell_type": "code",
   "execution_count": 112,
   "id": "e04927f4",
   "metadata": {},
   "outputs": [
    {
     "name": "stdout",
     "output_type": "stream",
     "text": [
      "Completion rate (%):\n",
      " variation_cleaned\n",
      "control    65.59\n",
      "test       69.29\n",
      "Name: client_id, dtype: float64 \n",
      "\n",
      "Backward (error) rate (%):\n",
      " variation_cleaned\n",
      "control     8.85\n",
      "test       11.64\n",
      "Name: is_error, dtype: float64 \n",
      "\n",
      "Median minutes per step:\n",
      " process_step       confirm  start  step_1  step_2  step_3\n",
      "variation_cleaned                                        \n",
      "control               0.77   0.33    0.33    1.07    1.20\n",
      "test                  1.55   0.23    0.45    1.02    0.97 \n",
      "\n",
      "Completion uplift (test-control): 3.70 pp; Error delta: 2.79 pp → ⚠️ New design doesn’t clearly beat control\n"
     ]
    }
   ],
   "source": [
    "df = df_final_clean[['client_id','process_step','date_time','variation_cleaned']].dropna(subset=['client_id','variation_cleaned']).copy()\n",
    "df['date_time'] = pd.to_datetime(df['date_time'], errors='coerce')\n",
    "df = df.dropna(subset=['date_time'])\n",
    "df['variation_cleaned'] = df['variation_cleaned'].str.lower().map({'control':'control','test':'test'}).fillna('unknown')\n",
    "\n",
    "# Completion rate per variation (unique clients who confirmed / unique active clients)\n",
    "active = df.groupby('variation_cleaned')['client_id'].nunique()\n",
    "confirmed = (df[df['process_step'].eq('confirm')]\n",
    "             .groupby('variation_cleaned')['client_id']\n",
    "             .nunique())\n",
    "cr = (confirmed / active).mul(100).round(2)\n",
    "\n",
    "# Error (backward) rate per variation\n",
    "STEP_ORDER = ['start','step_1','step_2','step_3','confirm']\n",
    "rank = {s:i for i,s in enumerate(STEP_ORDER)}\n",
    "# need visit_id; fall back to client_id if not present\n",
    "keys = ['client_id','visit_id'] if 'visit_id' in df_final_clean.columns else ['client_id']\n",
    "err_df = (df_final_clean[['client_id','visit_id','process_step','date_time']]\n",
    "          .merge(df[['client_id','variation_cleaned']].drop_duplicates('client_id'),\n",
    "                 on='client_id', how='left'))\n",
    "err_df = err_df.dropna(subset=['process_step','date_time'])\n",
    "err_df['date_time'] = pd.to_datetime(err_df['date_time'], errors='coerce')\n",
    "err_df = err_df[err_df['process_step'].isin(STEP_ORDER)].sort_values(keys+['date_time'])\n",
    "err_df['next_step'] = err_df.groupby(keys)['process_step'].shift(-1)\n",
    "trans = err_df.dropna(subset=['next_step']).copy()\n",
    "trans['from_rank'] = trans['process_step'].map(rank)\n",
    "trans['to_rank']   = trans['next_step'].map(rank)\n",
    "trans = trans.dropna(subset=['from_rank','to_rank'])\n",
    "trans['is_error'] = trans['to_rank'] < trans['from_rank']\n",
    "er = trans.groupby('variation_cleaned')['is_error'].mean().mul(100).round(2)\n",
    "\n",
    "# Median time per step per variation (minutes)\n",
    "step_df = err_df.sort_values(keys+['date_time']).copy()\n",
    "step_df['next_time'] = step_df.groupby(keys)['date_time'].shift(-1)\n",
    "step_df['next_step'] = step_df.groupby(keys)['process_step'].shift(-1)\n",
    "step_df = step_df[step_df['next_time'].notna()]\n",
    "step_df['dur_min'] = (step_df['next_time'] - step_df['date_time']).dt.total_seconds() / 60\n",
    "step_median = (step_df.groupby(['variation_cleaned','process_step'])['dur_min']\n",
    "               .median().unstack('process_step').round(2))\n",
    "\n",
    "print(\"Completion rate (%):\\n\", cr, \"\\n\")\n",
    "print(\"Backward (error) rate (%):\\n\", er, \"\\n\")\n",
    "print(\"Median minutes per step:\\n\", step_median, \"\\n\")\n",
    "\n",
    "# Simple verdict\n",
    "try:\n",
    "    uplift = cr.get('test', np.nan) - cr.get('control', np.nan)\n",
    "    err_delta = er.get('test', np.nan) - er.get('control', np.nan)\n",
    "    verdict = (\"✅ New design (test) outperforms control\"\n",
    "               if (pd.notna(uplift) and uplift > 0) and (pd.isna(err_delta) or err_delta <= 0)\n",
    "               else \"⚠️ New design doesn’t clearly beat control\")\n",
    "    print(f\"Completion uplift (test-control): {uplift:.2f} pp; Error delta: {err_delta:.2f} pp → {verdict}\")\n",
    "except Exception:\n",
    "    pass\n"
   ]
  }
 ],
 "metadata": {
  "kernelspec": {
   "display_name": "base",
   "language": "python",
   "name": "python3"
  },
  "language_info": {
   "codemirror_mode": {
    "name": "ipython",
    "version": 3
   },
   "file_extension": ".py",
   "mimetype": "text/x-python",
   "name": "python",
   "nbconvert_exporter": "python",
   "pygments_lexer": "ipython3",
   "version": "3.12.7"
  }
 },
 "nbformat": 4,
 "nbformat_minor": 5
}
