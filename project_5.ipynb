{
 "cells": [
  {
   "cell_type": "code",
   "execution_count": 77,
   "id": "470d6d03",
   "metadata": {},
   "outputs": [],
   "source": [
    "import pandas as pd\n",
    "import numpy as np\n",
    "import seaborn as sns\n",
    "import matplotlib.pyplot as plt\n",
    "from matplotlib import pyplot as plt\n",
    "import matplotlib.dates as mdates\n",
    "%matplotlib inline"
   ]
  },
  {
   "cell_type": "markdown",
   "id": "99558c50",
   "metadata": {},
   "source": [
    "## Client profile data"
   ]
  },
  {
   "cell_type": "code",
   "execution_count": 141,
   "id": "d292c70c",
   "metadata": {},
   "outputs": [],
   "source": [
    "df_client = pd.read_csv('https://raw.githubusercontent.com/data-bootcamp-v4/lessons/refs/heads/main/5_6_eda_inf_stats_tableau/project/files_for_project/df_final_demo.txt')"
   ]
  },
  {
   "cell_type": "code",
   "execution_count": 142,
   "id": "450dffa7",
   "metadata": {},
   "outputs": [
    {
     "data": {
      "text/html": [
       "<div>\n",
       "<style scoped>\n",
       "    .dataframe tbody tr th:only-of-type {\n",
       "        vertical-align: middle;\n",
       "    }\n",
       "\n",
       "    .dataframe tbody tr th {\n",
       "        vertical-align: top;\n",
       "    }\n",
       "\n",
       "    .dataframe thead th {\n",
       "        text-align: right;\n",
       "    }\n",
       "</style>\n",
       "<table border=\"1\" class=\"dataframe\">\n",
       "  <thead>\n",
       "    <tr style=\"text-align: right;\">\n",
       "      <th></th>\n",
       "      <th>client_id</th>\n",
       "      <th>clnt_tenure_yr</th>\n",
       "      <th>clnt_tenure_mnth</th>\n",
       "      <th>clnt_age</th>\n",
       "      <th>gendr</th>\n",
       "      <th>num_accts</th>\n",
       "      <th>bal</th>\n",
       "      <th>calls_6_mnth</th>\n",
       "      <th>logons_6_mnth</th>\n",
       "    </tr>\n",
       "  </thead>\n",
       "  <tbody>\n",
       "    <tr>\n",
       "      <th>0</th>\n",
       "      <td>836976</td>\n",
       "      <td>6.0</td>\n",
       "      <td>73.0</td>\n",
       "      <td>60.5</td>\n",
       "      <td>U</td>\n",
       "      <td>2.0</td>\n",
       "      <td>45105.30</td>\n",
       "      <td>6.0</td>\n",
       "      <td>9.0</td>\n",
       "    </tr>\n",
       "    <tr>\n",
       "      <th>1</th>\n",
       "      <td>2304905</td>\n",
       "      <td>7.0</td>\n",
       "      <td>94.0</td>\n",
       "      <td>58.0</td>\n",
       "      <td>U</td>\n",
       "      <td>2.0</td>\n",
       "      <td>110860.30</td>\n",
       "      <td>6.0</td>\n",
       "      <td>9.0</td>\n",
       "    </tr>\n",
       "    <tr>\n",
       "      <th>2</th>\n",
       "      <td>1439522</td>\n",
       "      <td>5.0</td>\n",
       "      <td>64.0</td>\n",
       "      <td>32.0</td>\n",
       "      <td>U</td>\n",
       "      <td>2.0</td>\n",
       "      <td>52467.79</td>\n",
       "      <td>6.0</td>\n",
       "      <td>9.0</td>\n",
       "    </tr>\n",
       "    <tr>\n",
       "      <th>3</th>\n",
       "      <td>1562045</td>\n",
       "      <td>16.0</td>\n",
       "      <td>198.0</td>\n",
       "      <td>49.0</td>\n",
       "      <td>M</td>\n",
       "      <td>2.0</td>\n",
       "      <td>67454.65</td>\n",
       "      <td>3.0</td>\n",
       "      <td>6.0</td>\n",
       "    </tr>\n",
       "    <tr>\n",
       "      <th>4</th>\n",
       "      <td>5126305</td>\n",
       "      <td>12.0</td>\n",
       "      <td>145.0</td>\n",
       "      <td>33.0</td>\n",
       "      <td>F</td>\n",
       "      <td>2.0</td>\n",
       "      <td>103671.75</td>\n",
       "      <td>0.0</td>\n",
       "      <td>3.0</td>\n",
       "    </tr>\n",
       "  </tbody>\n",
       "</table>\n",
       "</div>"
      ],
      "text/plain": [
       "   client_id  clnt_tenure_yr  clnt_tenure_mnth  clnt_age gendr  num_accts  \\\n",
       "0     836976             6.0              73.0      60.5     U        2.0   \n",
       "1    2304905             7.0              94.0      58.0     U        2.0   \n",
       "2    1439522             5.0              64.0      32.0     U        2.0   \n",
       "3    1562045            16.0             198.0      49.0     M        2.0   \n",
       "4    5126305            12.0             145.0      33.0     F        2.0   \n",
       "\n",
       "         bal  calls_6_mnth  logons_6_mnth  \n",
       "0   45105.30           6.0            9.0  \n",
       "1  110860.30           6.0            9.0  \n",
       "2   52467.79           6.0            9.0  \n",
       "3   67454.65           3.0            6.0  \n",
       "4  103671.75           0.0            3.0  "
      ]
     },
     "execution_count": 142,
     "metadata": {},
     "output_type": "execute_result"
    }
   ],
   "source": [
    "df_client.head()"
   ]
  },
  {
   "cell_type": "code",
   "execution_count": 143,
   "id": "9228d6cb",
   "metadata": {},
   "outputs": [
    {
     "data": {
      "text/plain": [
       "(70609, 9)"
      ]
     },
     "execution_count": 143,
     "metadata": {},
     "output_type": "execute_result"
    }
   ],
   "source": [
    "df_client.shape"
   ]
  },
  {
   "cell_type": "code",
   "execution_count": 144,
   "id": "3fcefca0",
   "metadata": {},
   "outputs": [
    {
     "data": {
      "text/plain": [
       "Index(['client_id', 'clnt_tenure_yr', 'clnt_tenure_mnth', 'clnt_age', 'gendr',\n",
       "       'num_accts', 'bal', 'calls_6_mnth', 'logons_6_mnth'],\n",
       "      dtype='object')"
      ]
     },
     "execution_count": 144,
     "metadata": {},
     "output_type": "execute_result"
    }
   ],
   "source": [
    "df_client.columns"
   ]
  },
  {
   "cell_type": "code",
   "execution_count": 145,
   "id": "a9de7789",
   "metadata": {},
   "outputs": [
    {
     "data": {
      "text/html": [
       "<div>\n",
       "<style scoped>\n",
       "    .dataframe tbody tr th:only-of-type {\n",
       "        vertical-align: middle;\n",
       "    }\n",
       "\n",
       "    .dataframe tbody tr th {\n",
       "        vertical-align: top;\n",
       "    }\n",
       "\n",
       "    .dataframe thead th {\n",
       "        text-align: right;\n",
       "    }\n",
       "</style>\n",
       "<table border=\"1\" class=\"dataframe\">\n",
       "  <thead>\n",
       "    <tr style=\"text-align: right;\">\n",
       "      <th></th>\n",
       "      <th>client_id</th>\n",
       "      <th>client_tenure_year</th>\n",
       "      <th>client_tenure_month</th>\n",
       "      <th>client_age</th>\n",
       "      <th>gender</th>\n",
       "      <th>number_of_accounts</th>\n",
       "      <th>balance</th>\n",
       "      <th>calls_6_month</th>\n",
       "      <th>logos_6_month</th>\n",
       "    </tr>\n",
       "  </thead>\n",
       "  <tbody>\n",
       "    <tr>\n",
       "      <th>0</th>\n",
       "      <td>836976</td>\n",
       "      <td>6.0</td>\n",
       "      <td>73.0</td>\n",
       "      <td>60.5</td>\n",
       "      <td>U</td>\n",
       "      <td>2.0</td>\n",
       "      <td>45105.30</td>\n",
       "      <td>6.0</td>\n",
       "      <td>9.0</td>\n",
       "    </tr>\n",
       "    <tr>\n",
       "      <th>1</th>\n",
       "      <td>2304905</td>\n",
       "      <td>7.0</td>\n",
       "      <td>94.0</td>\n",
       "      <td>58.0</td>\n",
       "      <td>U</td>\n",
       "      <td>2.0</td>\n",
       "      <td>110860.30</td>\n",
       "      <td>6.0</td>\n",
       "      <td>9.0</td>\n",
       "    </tr>\n",
       "    <tr>\n",
       "      <th>2</th>\n",
       "      <td>1439522</td>\n",
       "      <td>5.0</td>\n",
       "      <td>64.0</td>\n",
       "      <td>32.0</td>\n",
       "      <td>U</td>\n",
       "      <td>2.0</td>\n",
       "      <td>52467.79</td>\n",
       "      <td>6.0</td>\n",
       "      <td>9.0</td>\n",
       "    </tr>\n",
       "    <tr>\n",
       "      <th>3</th>\n",
       "      <td>1562045</td>\n",
       "      <td>16.0</td>\n",
       "      <td>198.0</td>\n",
       "      <td>49.0</td>\n",
       "      <td>M</td>\n",
       "      <td>2.0</td>\n",
       "      <td>67454.65</td>\n",
       "      <td>3.0</td>\n",
       "      <td>6.0</td>\n",
       "    </tr>\n",
       "    <tr>\n",
       "      <th>4</th>\n",
       "      <td>5126305</td>\n",
       "      <td>12.0</td>\n",
       "      <td>145.0</td>\n",
       "      <td>33.0</td>\n",
       "      <td>F</td>\n",
       "      <td>2.0</td>\n",
       "      <td>103671.75</td>\n",
       "      <td>0.0</td>\n",
       "      <td>3.0</td>\n",
       "    </tr>\n",
       "  </tbody>\n",
       "</table>\n",
       "</div>"
      ],
      "text/plain": [
       "   client_id  client_tenure_year  client_tenure_month  client_age gender  \\\n",
       "0     836976                 6.0                 73.0        60.5      U   \n",
       "1    2304905                 7.0                 94.0        58.0      U   \n",
       "2    1439522                 5.0                 64.0        32.0      U   \n",
       "3    1562045                16.0                198.0        49.0      M   \n",
       "4    5126305                12.0                145.0        33.0      F   \n",
       "\n",
       "   number_of_accounts    balance  calls_6_month  logos_6_month  \n",
       "0                 2.0   45105.30            6.0            9.0  \n",
       "1                 2.0  110860.30            6.0            9.0  \n",
       "2                 2.0   52467.79            6.0            9.0  \n",
       "3                 2.0   67454.65            3.0            6.0  \n",
       "4                 2.0  103671.75            0.0            3.0  "
      ]
     },
     "execution_count": 145,
     "metadata": {},
     "output_type": "execute_result"
    }
   ],
   "source": [
    "# Renaming columns for better readability\n",
    "df_client.rename(columns={'gendr':'gender',\n",
    "                          'clnt_tenure_yr':'client_tenure_year',\n",
    "                          'clnt_tenure_mnth':'client_tenure_month',\n",
    "                          'clnt_age':'client_age',\n",
    "                          'num_accts':'number_of_accounts',\n",
    "                          'calls_6_mnth':'calls_6_month',\n",
    "                          'logons_6_mnth':'logos_6_month',\n",
    "                          'bal':'balance'},inplace=True)\n",
    "df_client.head()"
   ]
  },
  {
   "cell_type": "code",
   "execution_count": 146,
   "id": "4736b6ac",
   "metadata": {},
   "outputs": [
    {
     "data": {
      "text/plain": [
       "client_id                int64\n",
       "client_tenure_year     float64\n",
       "client_tenure_month    float64\n",
       "client_age             float64\n",
       "gender                  object\n",
       "number_of_accounts     float64\n",
       "balance                float64\n",
       "calls_6_month          float64\n",
       "logos_6_month          float64\n",
       "dtype: object"
      ]
     },
     "execution_count": 146,
     "metadata": {},
     "output_type": "execute_result"
    }
   ],
   "source": [
    "df_client.dtypes"
   ]
  },
  {
   "cell_type": "code",
   "execution_count": 147,
   "id": "3b3f89f3",
   "metadata": {},
   "outputs": [
    {
     "name": "stdout",
     "output_type": "stream",
     "text": [
      "Missing values in each column: client_id               0\n",
      "client_tenure_year     14\n",
      "client_tenure_month    14\n",
      "client_age             15\n",
      "gender                 14\n",
      "number_of_accounts     14\n",
      "balance                14\n",
      "calls_6_month          14\n",
      "logos_6_month          14\n",
      "dtype: int64\n"
     ]
    }
   ],
   "source": [
    "missing_values = df_client.isnull().sum()\n",
    "print(f\"Missing values in each column: {missing_values}\")"
   ]
  },
  {
   "cell_type": "code",
   "execution_count": 148,
   "id": "7a0faa71",
   "metadata": {},
   "outputs": [
    {
     "data": {
      "text/plain": [
       "False"
      ]
     },
     "execution_count": 148,
     "metadata": {},
     "output_type": "execute_result"
    }
   ],
   "source": [
    "df_client.duplicated().any()"
   ]
  },
  {
   "cell_type": "code",
   "execution_count": 149,
   "id": "3d94a58c",
   "metadata": {},
   "outputs": [
    {
     "data": {
      "text/html": [
       "<div>\n",
       "<style scoped>\n",
       "    .dataframe tbody tr th:only-of-type {\n",
       "        vertical-align: middle;\n",
       "    }\n",
       "\n",
       "    .dataframe tbody tr th {\n",
       "        vertical-align: top;\n",
       "    }\n",
       "\n",
       "    .dataframe thead th {\n",
       "        text-align: right;\n",
       "    }\n",
       "</style>\n",
       "<table border=\"1\" class=\"dataframe\">\n",
       "  <thead>\n",
       "    <tr style=\"text-align: right;\">\n",
       "      <th></th>\n",
       "      <th>client_id</th>\n",
       "      <th>client_tenure_year</th>\n",
       "      <th>client_tenure_month</th>\n",
       "      <th>client_age</th>\n",
       "      <th>number_of_accounts</th>\n",
       "      <th>balance</th>\n",
       "      <th>calls_6_month</th>\n",
       "      <th>logos_6_month</th>\n",
       "    </tr>\n",
       "  </thead>\n",
       "  <tbody>\n",
       "    <tr>\n",
       "      <th>count</th>\n",
       "      <td>7.060900e+04</td>\n",
       "      <td>70595.000000</td>\n",
       "      <td>70595.000000</td>\n",
       "      <td>70594.000000</td>\n",
       "      <td>70595.000000</td>\n",
       "      <td>7.059500e+04</td>\n",
       "      <td>70595.000000</td>\n",
       "      <td>70595.000000</td>\n",
       "    </tr>\n",
       "    <tr>\n",
       "      <th>mean</th>\n",
       "      <td>5.004992e+06</td>\n",
       "      <td>12.052950</td>\n",
       "      <td>150.659367</td>\n",
       "      <td>46.442240</td>\n",
       "      <td>2.255528</td>\n",
       "      <td>1.474452e+05</td>\n",
       "      <td>3.382478</td>\n",
       "      <td>5.566740</td>\n",
       "    </tr>\n",
       "    <tr>\n",
       "      <th>std</th>\n",
       "      <td>2.877278e+06</td>\n",
       "      <td>6.871819</td>\n",
       "      <td>82.089854</td>\n",
       "      <td>15.591273</td>\n",
       "      <td>0.534997</td>\n",
       "      <td>3.015087e+05</td>\n",
       "      <td>2.236580</td>\n",
       "      <td>2.353286</td>\n",
       "    </tr>\n",
       "    <tr>\n",
       "      <th>min</th>\n",
       "      <td>1.690000e+02</td>\n",
       "      <td>2.000000</td>\n",
       "      <td>33.000000</td>\n",
       "      <td>13.500000</td>\n",
       "      <td>1.000000</td>\n",
       "      <td>1.378942e+04</td>\n",
       "      <td>0.000000</td>\n",
       "      <td>1.000000</td>\n",
       "    </tr>\n",
       "    <tr>\n",
       "      <th>25%</th>\n",
       "      <td>2.519329e+06</td>\n",
       "      <td>6.000000</td>\n",
       "      <td>82.000000</td>\n",
       "      <td>32.500000</td>\n",
       "      <td>2.000000</td>\n",
       "      <td>3.734683e+04</td>\n",
       "      <td>1.000000</td>\n",
       "      <td>4.000000</td>\n",
       "    </tr>\n",
       "    <tr>\n",
       "      <th>50%</th>\n",
       "      <td>5.016978e+06</td>\n",
       "      <td>11.000000</td>\n",
       "      <td>136.000000</td>\n",
       "      <td>47.000000</td>\n",
       "      <td>2.000000</td>\n",
       "      <td>6.333290e+04</td>\n",
       "      <td>3.000000</td>\n",
       "      <td>5.000000</td>\n",
       "    </tr>\n",
       "    <tr>\n",
       "      <th>75%</th>\n",
       "      <td>7.483085e+06</td>\n",
       "      <td>16.000000</td>\n",
       "      <td>192.000000</td>\n",
       "      <td>59.000000</td>\n",
       "      <td>2.000000</td>\n",
       "      <td>1.375449e+05</td>\n",
       "      <td>6.000000</td>\n",
       "      <td>7.000000</td>\n",
       "    </tr>\n",
       "    <tr>\n",
       "      <th>max</th>\n",
       "      <td>9.999839e+06</td>\n",
       "      <td>62.000000</td>\n",
       "      <td>749.000000</td>\n",
       "      <td>96.000000</td>\n",
       "      <td>8.000000</td>\n",
       "      <td>1.632004e+07</td>\n",
       "      <td>7.000000</td>\n",
       "      <td>9.000000</td>\n",
       "    </tr>\n",
       "  </tbody>\n",
       "</table>\n",
       "</div>"
      ],
      "text/plain": [
       "          client_id  client_tenure_year  client_tenure_month    client_age  \\\n",
       "count  7.060900e+04        70595.000000         70595.000000  70594.000000   \n",
       "mean   5.004992e+06           12.052950           150.659367     46.442240   \n",
       "std    2.877278e+06            6.871819            82.089854     15.591273   \n",
       "min    1.690000e+02            2.000000            33.000000     13.500000   \n",
       "25%    2.519329e+06            6.000000            82.000000     32.500000   \n",
       "50%    5.016978e+06           11.000000           136.000000     47.000000   \n",
       "75%    7.483085e+06           16.000000           192.000000     59.000000   \n",
       "max    9.999839e+06           62.000000           749.000000     96.000000   \n",
       "\n",
       "       number_of_accounts       balance  calls_6_month  logos_6_month  \n",
       "count        70595.000000  7.059500e+04   70595.000000   70595.000000  \n",
       "mean             2.255528  1.474452e+05       3.382478       5.566740  \n",
       "std              0.534997  3.015087e+05       2.236580       2.353286  \n",
       "min              1.000000  1.378942e+04       0.000000       1.000000  \n",
       "25%              2.000000  3.734683e+04       1.000000       4.000000  \n",
       "50%              2.000000  6.333290e+04       3.000000       5.000000  \n",
       "75%              2.000000  1.375449e+05       6.000000       7.000000  \n",
       "max              8.000000  1.632004e+07       7.000000       9.000000  "
      ]
     },
     "execution_count": 149,
     "metadata": {},
     "output_type": "execute_result"
    }
   ],
   "source": [
    "df_client.describe()"
   ]
  },
  {
   "cell_type": "code",
   "execution_count": 150,
   "id": "44501b82",
   "metadata": {},
   "outputs": [
    {
     "data": {
      "text/html": [
       "<div>\n",
       "<style scoped>\n",
       "    .dataframe tbody tr th:only-of-type {\n",
       "        vertical-align: middle;\n",
       "    }\n",
       "\n",
       "    .dataframe tbody tr th {\n",
       "        vertical-align: top;\n",
       "    }\n",
       "\n",
       "    .dataframe thead th {\n",
       "        text-align: right;\n",
       "    }\n",
       "</style>\n",
       "<table border=\"1\" class=\"dataframe\">\n",
       "  <thead>\n",
       "    <tr style=\"text-align: right;\">\n",
       "      <th></th>\n",
       "      <th>client_id</th>\n",
       "      <th>client_tenure_year</th>\n",
       "      <th>client_tenure_month</th>\n",
       "      <th>client_age</th>\n",
       "      <th>gender</th>\n",
       "      <th>number_of_accounts</th>\n",
       "      <th>balance</th>\n",
       "      <th>calls_6_month</th>\n",
       "      <th>logos_6_month</th>\n",
       "    </tr>\n",
       "  </thead>\n",
       "  <tbody>\n",
       "    <tr>\n",
       "      <th>4164</th>\n",
       "      <td>7402828</td>\n",
       "      <td>NaN</td>\n",
       "      <td>NaN</td>\n",
       "      <td>NaN</td>\n",
       "      <td>NaN</td>\n",
       "      <td>NaN</td>\n",
       "      <td>NaN</td>\n",
       "      <td>NaN</td>\n",
       "      <td>NaN</td>\n",
       "    </tr>\n",
       "    <tr>\n",
       "      <th>8316</th>\n",
       "      <td>355337</td>\n",
       "      <td>NaN</td>\n",
       "      <td>NaN</td>\n",
       "      <td>NaN</td>\n",
       "      <td>NaN</td>\n",
       "      <td>NaN</td>\n",
       "      <td>NaN</td>\n",
       "      <td>NaN</td>\n",
       "      <td>NaN</td>\n",
       "    </tr>\n",
       "    <tr>\n",
       "      <th>8677</th>\n",
       "      <td>8412164</td>\n",
       "      <td>NaN</td>\n",
       "      <td>NaN</td>\n",
       "      <td>NaN</td>\n",
       "      <td>NaN</td>\n",
       "      <td>NaN</td>\n",
       "      <td>NaN</td>\n",
       "      <td>NaN</td>\n",
       "      <td>NaN</td>\n",
       "    </tr>\n",
       "    <tr>\n",
       "      <th>9583</th>\n",
       "      <td>4666211</td>\n",
       "      <td>8.0</td>\n",
       "      <td>106.0</td>\n",
       "      <td>NaN</td>\n",
       "      <td>F</td>\n",
       "      <td>2.0</td>\n",
       "      <td>42550.55</td>\n",
       "      <td>4.0</td>\n",
       "      <td>7.0</td>\n",
       "    </tr>\n",
       "    <tr>\n",
       "      <th>13444</th>\n",
       "      <td>2222915</td>\n",
       "      <td>NaN</td>\n",
       "      <td>NaN</td>\n",
       "      <td>NaN</td>\n",
       "      <td>NaN</td>\n",
       "      <td>NaN</td>\n",
       "      <td>NaN</td>\n",
       "      <td>NaN</td>\n",
       "      <td>NaN</td>\n",
       "    </tr>\n",
       "    <tr>\n",
       "      <th>18066</th>\n",
       "      <td>4876926</td>\n",
       "      <td>NaN</td>\n",
       "      <td>NaN</td>\n",
       "      <td>NaN</td>\n",
       "      <td>NaN</td>\n",
       "      <td>NaN</td>\n",
       "      <td>NaN</td>\n",
       "      <td>NaN</td>\n",
       "      <td>NaN</td>\n",
       "    </tr>\n",
       "    <tr>\n",
       "      <th>25961</th>\n",
       "      <td>5277910</td>\n",
       "      <td>NaN</td>\n",
       "      <td>NaN</td>\n",
       "      <td>NaN</td>\n",
       "      <td>NaN</td>\n",
       "      <td>NaN</td>\n",
       "      <td>NaN</td>\n",
       "      <td>NaN</td>\n",
       "      <td>NaN</td>\n",
       "    </tr>\n",
       "    <tr>\n",
       "      <th>28432</th>\n",
       "      <td>7616759</td>\n",
       "      <td>NaN</td>\n",
       "      <td>NaN</td>\n",
       "      <td>NaN</td>\n",
       "      <td>NaN</td>\n",
       "      <td>NaN</td>\n",
       "      <td>NaN</td>\n",
       "      <td>NaN</td>\n",
       "      <td>NaN</td>\n",
       "    </tr>\n",
       "    <tr>\n",
       "      <th>35323</th>\n",
       "      <td>8191345</td>\n",
       "      <td>NaN</td>\n",
       "      <td>NaN</td>\n",
       "      <td>NaN</td>\n",
       "      <td>NaN</td>\n",
       "      <td>NaN</td>\n",
       "      <td>NaN</td>\n",
       "      <td>NaN</td>\n",
       "      <td>NaN</td>\n",
       "    </tr>\n",
       "    <tr>\n",
       "      <th>43518</th>\n",
       "      <td>1227228</td>\n",
       "      <td>NaN</td>\n",
       "      <td>NaN</td>\n",
       "      <td>NaN</td>\n",
       "      <td>NaN</td>\n",
       "      <td>NaN</td>\n",
       "      <td>NaN</td>\n",
       "      <td>NaN</td>\n",
       "      <td>NaN</td>\n",
       "    </tr>\n",
       "    <tr>\n",
       "      <th>46076</th>\n",
       "      <td>8611797</td>\n",
       "      <td>NaN</td>\n",
       "      <td>NaN</td>\n",
       "      <td>NaN</td>\n",
       "      <td>NaN</td>\n",
       "      <td>NaN</td>\n",
       "      <td>NaN</td>\n",
       "      <td>NaN</td>\n",
       "      <td>NaN</td>\n",
       "    </tr>\n",
       "    <tr>\n",
       "      <th>47189</th>\n",
       "      <td>5144725</td>\n",
       "      <td>NaN</td>\n",
       "      <td>NaN</td>\n",
       "      <td>NaN</td>\n",
       "      <td>NaN</td>\n",
       "      <td>NaN</td>\n",
       "      <td>NaN</td>\n",
       "      <td>NaN</td>\n",
       "      <td>NaN</td>\n",
       "    </tr>\n",
       "    <tr>\n",
       "      <th>49846</th>\n",
       "      <td>1037867</td>\n",
       "      <td>NaN</td>\n",
       "      <td>NaN</td>\n",
       "      <td>NaN</td>\n",
       "      <td>NaN</td>\n",
       "      <td>NaN</td>\n",
       "      <td>NaN</td>\n",
       "      <td>NaN</td>\n",
       "      <td>NaN</td>\n",
       "    </tr>\n",
       "    <tr>\n",
       "      <th>63701</th>\n",
       "      <td>1618749</td>\n",
       "      <td>NaN</td>\n",
       "      <td>NaN</td>\n",
       "      <td>NaN</td>\n",
       "      <td>NaN</td>\n",
       "      <td>NaN</td>\n",
       "      <td>NaN</td>\n",
       "      <td>NaN</td>\n",
       "      <td>NaN</td>\n",
       "    </tr>\n",
       "    <tr>\n",
       "      <th>66219</th>\n",
       "      <td>6021001</td>\n",
       "      <td>NaN</td>\n",
       "      <td>NaN</td>\n",
       "      <td>NaN</td>\n",
       "      <td>NaN</td>\n",
       "      <td>NaN</td>\n",
       "      <td>NaN</td>\n",
       "      <td>NaN</td>\n",
       "      <td>NaN</td>\n",
       "    </tr>\n",
       "  </tbody>\n",
       "</table>\n",
       "</div>"
      ],
      "text/plain": [
       "       client_id  client_tenure_year  client_tenure_month  client_age gender  \\\n",
       "4164     7402828                 NaN                  NaN         NaN    NaN   \n",
       "8316      355337                 NaN                  NaN         NaN    NaN   \n",
       "8677     8412164                 NaN                  NaN         NaN    NaN   \n",
       "9583     4666211                 8.0                106.0         NaN      F   \n",
       "13444    2222915                 NaN                  NaN         NaN    NaN   \n",
       "18066    4876926                 NaN                  NaN         NaN    NaN   \n",
       "25961    5277910                 NaN                  NaN         NaN    NaN   \n",
       "28432    7616759                 NaN                  NaN         NaN    NaN   \n",
       "35323    8191345                 NaN                  NaN         NaN    NaN   \n",
       "43518    1227228                 NaN                  NaN         NaN    NaN   \n",
       "46076    8611797                 NaN                  NaN         NaN    NaN   \n",
       "47189    5144725                 NaN                  NaN         NaN    NaN   \n",
       "49846    1037867                 NaN                  NaN         NaN    NaN   \n",
       "63701    1618749                 NaN                  NaN         NaN    NaN   \n",
       "66219    6021001                 NaN                  NaN         NaN    NaN   \n",
       "\n",
       "       number_of_accounts   balance  calls_6_month  logos_6_month  \n",
       "4164                  NaN       NaN            NaN            NaN  \n",
       "8316                  NaN       NaN            NaN            NaN  \n",
       "8677                  NaN       NaN            NaN            NaN  \n",
       "9583                  2.0  42550.55            4.0            7.0  \n",
       "13444                 NaN       NaN            NaN            NaN  \n",
       "18066                 NaN       NaN            NaN            NaN  \n",
       "25961                 NaN       NaN            NaN            NaN  \n",
       "28432                 NaN       NaN            NaN            NaN  \n",
       "35323                 NaN       NaN            NaN            NaN  \n",
       "43518                 NaN       NaN            NaN            NaN  \n",
       "46076                 NaN       NaN            NaN            NaN  \n",
       "47189                 NaN       NaN            NaN            NaN  \n",
       "49846                 NaN       NaN            NaN            NaN  \n",
       "63701                 NaN       NaN            NaN            NaN  \n",
       "66219                 NaN       NaN            NaN            NaN  "
      ]
     },
     "metadata": {},
     "output_type": "display_data"
    }
   ],
   "source": [
    "# Null values in the dataset\n",
    "df_client.isna().sum()\n",
    "display(df_client[df_client.isna().any(axis=1)])"
   ]
  },
  {
   "cell_type": "code",
   "execution_count": 151,
   "id": "419d9107",
   "metadata": {},
   "outputs": [
    {
     "data": {
      "text/plain": [
       "gender\n",
       "U    24122\n",
       "M    23724\n",
       "F    22746\n",
       "X        3\n",
       "Name: count, dtype: int64"
      ]
     },
     "execution_count": 151,
     "metadata": {},
     "output_type": "execute_result"
    }
   ],
   "source": [
    "# Check how many values: U, X\n",
    "df_client['gender'].value_counts()"
   ]
  },
  {
   "cell_type": "code",
   "execution_count": 152,
   "id": "40117a50",
   "metadata": {},
   "outputs": [],
   "source": [
    "# Convert numeric-like columns\n",
    "num_cols = ['balance','client_age', 'client_tenure_month','client_tenure_year','number_of_accounts',\n",
    "            'calls_6_month','logons_6_month']\n",
    "for col in num_cols:\n",
    "    if col in df_client.columns:\n",
    "        df_client[col] = pd.to_numeric(df_client[col], errors='coerce')"
   ]
  },
  {
   "cell_type": "code",
   "execution_count": 153,
   "id": "f583e360",
   "metadata": {},
   "outputs": [],
   "source": [
    "# Fill with -1 if numeric variable or 'unknown' if categorical variable in column gender\n",
    "df_client.fillna({\n",
    "    'client_tenure_year': -1,\n",
    "    'client_tenure_month': -1,\n",
    "    'client_age':-1,\n",
    "    'gender':'unknown',\n",
    "    'number_of_accounts':-1,\n",
    "    'balance':-1,\n",
    "    'calls_6_month':-1,\n",
    "    'logos_6_month':-1,},inplace=True)\n",
    "df_client['gender'] = df_client['gender'].replace({'X':'unknown','U':'unknown'})"
   ]
  },
  {
   "cell_type": "code",
   "execution_count": 154,
   "id": "c1af8f53",
   "metadata": {},
   "outputs": [],
   "source": [
    "# Calculate the mean age (ignoring NaN automatically)\n",
    "mean_age = df_client['client_age'].mean()\n",
    "\n",
    "# Replace missing values with the mean\n",
    "df_client['client_age'] = df_client['client_age'].fillna(mean_age)"
   ]
  },
  {
   "cell_type": "code",
   "execution_count": 155,
   "id": "65fbbc8d",
   "metadata": {},
   "outputs": [
    {
     "data": {
      "text/html": [
       "<div>\n",
       "<style scoped>\n",
       "    .dataframe tbody tr th:only-of-type {\n",
       "        vertical-align: middle;\n",
       "    }\n",
       "\n",
       "    .dataframe tbody tr th {\n",
       "        vertical-align: top;\n",
       "    }\n",
       "\n",
       "    .dataframe thead th {\n",
       "        text-align: right;\n",
       "    }\n",
       "</style>\n",
       "<table border=\"1\" class=\"dataframe\">\n",
       "  <thead>\n",
       "    <tr style=\"text-align: right;\">\n",
       "      <th></th>\n",
       "      <th>client_id</th>\n",
       "      <th>client_tenure_year</th>\n",
       "      <th>client_tenure_month</th>\n",
       "      <th>client_age</th>\n",
       "      <th>gender</th>\n",
       "      <th>number_of_accounts</th>\n",
       "      <th>balance</th>\n",
       "      <th>calls_6_month</th>\n",
       "      <th>logos_6_month</th>\n",
       "    </tr>\n",
       "  </thead>\n",
       "  <tbody>\n",
       "    <tr>\n",
       "      <th>0</th>\n",
       "      <td>836976</td>\n",
       "      <td>6.0</td>\n",
       "      <td>73.0</td>\n",
       "      <td>60.5</td>\n",
       "      <td>unknown</td>\n",
       "      <td>2.0</td>\n",
       "      <td>45105.30</td>\n",
       "      <td>6.0</td>\n",
       "      <td>9.0</td>\n",
       "    </tr>\n",
       "    <tr>\n",
       "      <th>1</th>\n",
       "      <td>2304905</td>\n",
       "      <td>7.0</td>\n",
       "      <td>94.0</td>\n",
       "      <td>58.0</td>\n",
       "      <td>unknown</td>\n",
       "      <td>2.0</td>\n",
       "      <td>110860.30</td>\n",
       "      <td>6.0</td>\n",
       "      <td>9.0</td>\n",
       "    </tr>\n",
       "    <tr>\n",
       "      <th>2</th>\n",
       "      <td>1439522</td>\n",
       "      <td>5.0</td>\n",
       "      <td>64.0</td>\n",
       "      <td>32.0</td>\n",
       "      <td>unknown</td>\n",
       "      <td>2.0</td>\n",
       "      <td>52467.79</td>\n",
       "      <td>6.0</td>\n",
       "      <td>9.0</td>\n",
       "    </tr>\n",
       "    <tr>\n",
       "      <th>3</th>\n",
       "      <td>1562045</td>\n",
       "      <td>16.0</td>\n",
       "      <td>198.0</td>\n",
       "      <td>49.0</td>\n",
       "      <td>M</td>\n",
       "      <td>2.0</td>\n",
       "      <td>67454.65</td>\n",
       "      <td>3.0</td>\n",
       "      <td>6.0</td>\n",
       "    </tr>\n",
       "    <tr>\n",
       "      <th>4</th>\n",
       "      <td>5126305</td>\n",
       "      <td>12.0</td>\n",
       "      <td>145.0</td>\n",
       "      <td>33.0</td>\n",
       "      <td>F</td>\n",
       "      <td>2.0</td>\n",
       "      <td>103671.75</td>\n",
       "      <td>0.0</td>\n",
       "      <td>3.0</td>\n",
       "    </tr>\n",
       "    <tr>\n",
       "      <th>...</th>\n",
       "      <td>...</td>\n",
       "      <td>...</td>\n",
       "      <td>...</td>\n",
       "      <td>...</td>\n",
       "      <td>...</td>\n",
       "      <td>...</td>\n",
       "      <td>...</td>\n",
       "      <td>...</td>\n",
       "      <td>...</td>\n",
       "    </tr>\n",
       "    <tr>\n",
       "      <th>70604</th>\n",
       "      <td>7993686</td>\n",
       "      <td>4.0</td>\n",
       "      <td>56.0</td>\n",
       "      <td>38.5</td>\n",
       "      <td>unknown</td>\n",
       "      <td>3.0</td>\n",
       "      <td>1411062.68</td>\n",
       "      <td>5.0</td>\n",
       "      <td>5.0</td>\n",
       "    </tr>\n",
       "    <tr>\n",
       "      <th>70605</th>\n",
       "      <td>8981690</td>\n",
       "      <td>12.0</td>\n",
       "      <td>148.0</td>\n",
       "      <td>31.0</td>\n",
       "      <td>M</td>\n",
       "      <td>2.0</td>\n",
       "      <td>101867.07</td>\n",
       "      <td>6.0</td>\n",
       "      <td>6.0</td>\n",
       "    </tr>\n",
       "    <tr>\n",
       "      <th>70606</th>\n",
       "      <td>333913</td>\n",
       "      <td>16.0</td>\n",
       "      <td>198.0</td>\n",
       "      <td>61.5</td>\n",
       "      <td>F</td>\n",
       "      <td>2.0</td>\n",
       "      <td>40745.00</td>\n",
       "      <td>3.0</td>\n",
       "      <td>3.0</td>\n",
       "    </tr>\n",
       "    <tr>\n",
       "      <th>70607</th>\n",
       "      <td>1573142</td>\n",
       "      <td>21.0</td>\n",
       "      <td>255.0</td>\n",
       "      <td>68.0</td>\n",
       "      <td>M</td>\n",
       "      <td>3.0</td>\n",
       "      <td>475114.69</td>\n",
       "      <td>4.0</td>\n",
       "      <td>4.0</td>\n",
       "    </tr>\n",
       "    <tr>\n",
       "      <th>70608</th>\n",
       "      <td>5602139</td>\n",
       "      <td>21.0</td>\n",
       "      <td>254.0</td>\n",
       "      <td>59.5</td>\n",
       "      <td>F</td>\n",
       "      <td>3.0</td>\n",
       "      <td>157498.73</td>\n",
       "      <td>7.0</td>\n",
       "      <td>7.0</td>\n",
       "    </tr>\n",
       "  </tbody>\n",
       "</table>\n",
       "<p>70609 rows × 9 columns</p>\n",
       "</div>"
      ],
      "text/plain": [
       "       client_id  client_tenure_year  client_tenure_month  client_age  \\\n",
       "0         836976                 6.0                 73.0        60.5   \n",
       "1        2304905                 7.0                 94.0        58.0   \n",
       "2        1439522                 5.0                 64.0        32.0   \n",
       "3        1562045                16.0                198.0        49.0   \n",
       "4        5126305                12.0                145.0        33.0   \n",
       "...          ...                 ...                  ...         ...   \n",
       "70604    7993686                 4.0                 56.0        38.5   \n",
       "70605    8981690                12.0                148.0        31.0   \n",
       "70606     333913                16.0                198.0        61.5   \n",
       "70607    1573142                21.0                255.0        68.0   \n",
       "70608    5602139                21.0                254.0        59.5   \n",
       "\n",
       "        gender  number_of_accounts     balance  calls_6_month  logos_6_month  \n",
       "0      unknown                 2.0    45105.30            6.0            9.0  \n",
       "1      unknown                 2.0   110860.30            6.0            9.0  \n",
       "2      unknown                 2.0    52467.79            6.0            9.0  \n",
       "3            M                 2.0    67454.65            3.0            6.0  \n",
       "4            F                 2.0   103671.75            0.0            3.0  \n",
       "...        ...                 ...         ...            ...            ...  \n",
       "70604  unknown                 3.0  1411062.68            5.0            5.0  \n",
       "70605        M                 2.0   101867.07            6.0            6.0  \n",
       "70606        F                 2.0    40745.00            3.0            3.0  \n",
       "70607        M                 3.0   475114.69            4.0            4.0  \n",
       "70608        F                 3.0   157498.73            7.0            7.0  \n",
       "\n",
       "[70609 rows x 9 columns]"
      ]
     },
     "execution_count": 155,
     "metadata": {},
     "output_type": "execute_result"
    }
   ],
   "source": [
    "df_client"
   ]
  },
  {
   "cell_type": "code",
   "execution_count": 156,
   "id": "ba33b102",
   "metadata": {},
   "outputs": [
    {
     "data": {
      "text/plain": [
       "client_tenure_year\n",
       " 6.0     7092\n",
       " 5.0     6955\n",
       " 7.0     4955\n",
       " 4.0     4687\n",
       " 15.0    4564\n",
       " 8.0     4045\n",
       " 14.0    3646\n",
       " 12.0    3631\n",
       " 13.0    3607\n",
       " 9.0     3357\n",
       " 11.0    2920\n",
       " 10.0    2775\n",
       " 16.0    2714\n",
       " 21.0    2257\n",
       " 20.0    1580\n",
       " 22.0    1492\n",
       " 17.0    1373\n",
       " 23.0    1279\n",
       " 18.0    1206\n",
       " 19.0    1153\n",
       " 24.0     846\n",
       " 26.0     660\n",
       " 27.0     632\n",
       " 28.0     507\n",
       " 25.0     484\n",
       " 3.0      449\n",
       " 29.0     309\n",
       " 30.0     303\n",
       " 33.0     206\n",
       " 32.0     191\n",
       " 34.0     175\n",
       " 31.0     166\n",
       " 35.0     102\n",
       " 2.0       81\n",
       " 36.0      36\n",
       " 37.0      35\n",
       " 38.0      33\n",
       " 48.0      16\n",
       "-1.0       14\n",
       " 39.0       9\n",
       " 40.0       9\n",
       " 55.0       9\n",
       " 50.0       8\n",
       " 42.0       6\n",
       " 47.0       6\n",
       " 43.0       6\n",
       " 46.0       5\n",
       " 51.0       5\n",
       " 49.0       4\n",
       " 44.0       3\n",
       " 52.0       2\n",
       " 54.0       1\n",
       " 41.0       1\n",
       " 45.0       1\n",
       " 62.0       1\n",
       "Name: count, dtype: int64"
      ]
     },
     "execution_count": 156,
     "metadata": {},
     "output_type": "execute_result"
    }
   ],
   "source": [
    "df_client['client_tenure_year'].value_counts()"
   ]
  },
  {
   "cell_type": "code",
   "execution_count": 157,
   "id": "f0f556ad",
   "metadata": {},
   "outputs": [
    {
     "data": {
      "text/plain": [
       "client_age\n",
       "58.5    859\n",
       "55.5    830\n",
       "29.5    829\n",
       "28.5    827\n",
       "57.5    826\n",
       "       ... \n",
       "96.0      2\n",
       "14.0      2\n",
       "95.5      1\n",
       "94.5      1\n",
       "13.5      1\n",
       "Name: count, Length: 166, dtype: int64"
      ]
     },
     "execution_count": 157,
     "metadata": {},
     "output_type": "execute_result"
    }
   ],
   "source": [
    "df_client['client_age'].value_counts()"
   ]
  },
  {
   "cell_type": "code",
   "execution_count": 158,
   "id": "b9713ac4",
   "metadata": {},
   "outputs": [
    {
     "data": {
      "text/plain": [
       "client_age\n",
       "58.5    859\n",
       "55.5    830\n",
       "29.5    829\n",
       "28.5    827\n",
       "57.5    826\n",
       "       ... \n",
       "96.0      2\n",
       "14.0      2\n",
       "95.5      1\n",
       "94.5      1\n",
       "13.5      1\n",
       "Name: count, Length: 166, dtype: int64"
      ]
     },
     "execution_count": 158,
     "metadata": {},
     "output_type": "execute_result"
    }
   ],
   "source": [
    "df_client['client_age'].value_counts()"
   ]
  },
  {
   "cell_type": "code",
   "execution_count": 159,
   "id": "68e500cd",
   "metadata": {},
   "outputs": [
    {
     "data": {
      "text/plain": [
       "gender\n",
       "unknown    24139\n",
       "M          23724\n",
       "F          22746\n",
       "Name: count, dtype: int64"
      ]
     },
     "execution_count": 159,
     "metadata": {},
     "output_type": "execute_result"
    }
   ],
   "source": [
    "df_client['gender'].value_counts()"
   ]
  },
  {
   "cell_type": "markdown",
   "id": "bbc0039d",
   "metadata": {},
   "source": [
    "#### Univariate Analysis"
   ]
  },
  {
   "cell_type": "code",
   "execution_count": 160,
   "id": "777feb47",
   "metadata": {},
   "outputs": [
    {
     "data": {
      "text/plain": [
       "client_id              70609\n",
       "client_tenure_year        55\n",
       "client_tenure_month      483\n",
       "client_age               166\n",
       "gender                     3\n",
       "number_of_accounts         9\n",
       "balance                70329\n",
       "calls_6_month              9\n",
       "logos_6_month             10\n",
       "dtype: int64"
      ]
     },
     "execution_count": 160,
     "metadata": {},
     "output_type": "execute_result"
    }
   ],
   "source": [
    "df_client.nunique()"
   ]
  },
  {
   "cell_type": "code",
   "execution_count": 161,
   "id": "55e4ad57",
   "metadata": {},
   "outputs": [
    {
     "data": {
      "image/png": "[encoded data removed]",
      "text/plain": [
       "<Figure size 2000x2000 with 5 Axes>"
      ]
     },
     "metadata": {},
     "output_type": "display_data"
    }
   ],
   "source": [
    "# Barplot for categorical variables + numeric discrete variables \n",
    "\n",
    "categorical_cols = ['gender', 'client_tenure_year', 'number_of_accounts','calls_6_month','logos_6_month']\n",
    "\n",
    "fig, axes = plt.subplots(nrows=len(categorical_cols), ncols=1, figsize=(20, 4*len(categorical_cols)))\n",
    "\n",
    "for i, col in enumerate(categorical_cols):\n",
    "    sns.countplot(data=df_client, x=col, ax=axes[i])\n",
    "    axes[i].set_title(f\"Distribution of {col}\")\n",
    "    axes[i].set_ylabel(\"Count\")\n",
    "    axes[i].set_xlabel(col)\n",
    "\n",
    "plt.tight_layout()\n",
    "plt.show()"
   ]
  },
  {
   "cell_type": "code",
   "execution_count": 162,
   "id": "039b66b1",
   "metadata": {},
   "outputs": [
    {
     "data": {
      "image/png": "[encoded data removed]",
      "text/plain": [
       "<Figure size 640x480 with 1 Axes>"
      ]
     },
     "metadata": {},
     "output_type": "display_data"
    }
   ],
   "source": [
    "# Histogram for numeric continuous variables: client_age\n",
    "sns.histplot(df_client['client_age'],bins=30) \n",
    "plt.show()"
   ]
  },
  {
   "cell_type": "code",
   "execution_count": 163,
   "id": "f9251a49",
   "metadata": {},
   "outputs": [
    {
     "data": {
      "image/png": "[encoded data removed]",
      "text/plain": [
       "<Figure size 640x480 with 1 Axes>"
      ]
     },
     "metadata": {},
     "output_type": "display_data"
    }
   ],
   "source": [
    "# Histogram for numeric continuous variables: balance as quantile binning\n",
    "p95_balance = df_client['balance'].quantile(0.95)\n",
    "\n",
    "balance_below_95 = df_client[df_client['balance'] <= p95_balance]['balance']\n",
    "balance_below_95\n",
    "\n",
    "bin_edges = np.linspace(balance_below_95.min(),balance_below_95.max(),30)\n",
    "\n",
    "sns.histplot(df_client['balance'],bins=bin_edges )  \n",
    "\n",
    "plt.show()"
   ]
  },
  {
   "cell_type": "code",
   "execution_count": 164,
   "id": "b7f3656f",
   "metadata": {},
   "outputs": [
    {
     "data": {
      "image/png": "[encoded data removed]",
      "text/plain": [
       "<Figure size 640x480 with 1 Axes>"
      ]
     },
     "metadata": {},
     "output_type": "display_data"
    }
   ],
   "source": [
    "# Histogram for numeric continuous variables: client_tenure_month as quantile binning \n",
    "p95_month = df_client['client_tenure_month'].quantile(0.95)\n",
    "\n",
    "balance_below_95 = df_client[df_client['client_tenure_month'] <= p95_month]['client_tenure_month']\n",
    "balance_below_95\n",
    "\n",
    "bin_edges = np.linspace(balance_below_95.min(),balance_below_95.max(),30)\n",
    "\n",
    "sns.histplot(df_client['client_tenure_month'],bins=bin_edges )  \n",
    "\n",
    "plt.show()\n"
   ]
  },
  {
   "cell_type": "markdown",
   "id": "16995687",
   "metadata": {},
   "source": [
    "#### Bivariate analysis"
   ]
  },
  {
   "cell_type": "code",
   "execution_count": 165,
   "id": "2bc1ce31",
   "metadata": {},
   "outputs": [
    {
     "data": {
      "image/png": "[encoded data removed]",
      "text/plain": [
       "<Figure size 640x480 with 1 Axes>"
      ]
     },
     "metadata": {},
     "output_type": "display_data"
    }
   ],
   "source": [
    "# age - tenure year relationship\n",
    "df_primary_client = df_client[(df_client['client_age']>=20)& (df_client['client_age'] <= 60)]\n",
    "sns.scatterplot(data = df_primary_client, x = 'client_age',y = 'client_tenure_year')\n",
    "plt.show()"
   ]
  },
  {
   "cell_type": "markdown",
   "id": "e0f63d65",
   "metadata": {},
   "source": [
    "## Digital Footprints data"
   ]
  },
  {
   "cell_type": "code",
   "execution_count": 166,
   "id": "8b4fdb57",
   "metadata": {},
   "outputs": [],
   "source": [
    "df_footprints_1 = pd.read_csv('https://raw.githubusercontent.com/data-bootcamp-v4/lessons/refs/heads/main/5_6_eda_inf_stats_tableau/project/files_for_project/df_final_web_data_pt_1.txt')\n",
    "df_footprints_2 = pd.read_csv('https://raw.githubusercontent.com/data-bootcamp-v4/lessons/refs/heads/main/5_6_eda_inf_stats_tableau/project/files_for_project/df_final_web_data_pt_2.txt')"
   ]
  },
  {
   "cell_type": "code",
   "execution_count": 167,
   "id": "2391c49e",
   "metadata": {},
   "outputs": [
    {
     "data": {
      "text/plain": [
       "(Index(['client_id', 'visitor_id', 'visit_id', 'process_step', 'date_time'], dtype='object'),\n",
       " Index(['client_id', 'visitor_id', 'visit_id', 'process_step', 'date_time'], dtype='object'))"
      ]
     },
     "execution_count": 167,
     "metadata": {},
     "output_type": "execute_result"
    }
   ],
   "source": [
    "df_footprints_1.columns, df_footprints_2.columns"
   ]
  },
  {
   "cell_type": "code",
   "execution_count": 168,
   "id": "3f840a22",
   "metadata": {},
   "outputs": [],
   "source": [
    "# Merging the two footprints dataframes\n",
    "df_footprints_combined = pd.concat([df_footprints_1,df_footprints_2],ignore_index=True)"
   ]
  },
  {
   "cell_type": "code",
   "execution_count": 169,
   "id": "4e1d596e",
   "metadata": {},
   "outputs": [
    {
     "data": {
      "text/html": [
       "<div>\n",
       "<style scoped>\n",
       "    .dataframe tbody tr th:only-of-type {\n",
       "        vertical-align: middle;\n",
       "    }\n",
       "\n",
       "    .dataframe tbody tr th {\n",
       "        vertical-align: top;\n",
       "    }\n",
       "\n",
       "    .dataframe thead th {\n",
       "        text-align: right;\n",
       "    }\n",
       "</style>\n",
       "<table border=\"1\" class=\"dataframe\">\n",
       "  <thead>\n",
       "    <tr style=\"text-align: right;\">\n",
       "      <th></th>\n",
       "      <th>client_id</th>\n",
       "      <th>visitor_id</th>\n",
       "      <th>visit_id</th>\n",
       "      <th>process_step</th>\n",
       "      <th>date_time</th>\n",
       "    </tr>\n",
       "  </thead>\n",
       "  <tbody>\n",
       "    <tr>\n",
       "      <th>0</th>\n",
       "      <td>9988021</td>\n",
       "      <td>580560515_7732621733</td>\n",
       "      <td>781255054_21935453173_531117</td>\n",
       "      <td>step_3</td>\n",
       "      <td>2017-04-17 15:27:07</td>\n",
       "    </tr>\n",
       "    <tr>\n",
       "      <th>1</th>\n",
       "      <td>9988021</td>\n",
       "      <td>580560515_7732621733</td>\n",
       "      <td>781255054_21935453173_531117</td>\n",
       "      <td>step_2</td>\n",
       "      <td>2017-04-17 15:26:51</td>\n",
       "    </tr>\n",
       "    <tr>\n",
       "      <th>2</th>\n",
       "      <td>9988021</td>\n",
       "      <td>580560515_7732621733</td>\n",
       "      <td>781255054_21935453173_531117</td>\n",
       "      <td>step_3</td>\n",
       "      <td>2017-04-17 15:19:22</td>\n",
       "    </tr>\n",
       "    <tr>\n",
       "      <th>3</th>\n",
       "      <td>9988021</td>\n",
       "      <td>580560515_7732621733</td>\n",
       "      <td>781255054_21935453173_531117</td>\n",
       "      <td>step_2</td>\n",
       "      <td>2017-04-17 15:19:13</td>\n",
       "    </tr>\n",
       "    <tr>\n",
       "      <th>4</th>\n",
       "      <td>9988021</td>\n",
       "      <td>580560515_7732621733</td>\n",
       "      <td>781255054_21935453173_531117</td>\n",
       "      <td>step_3</td>\n",
       "      <td>2017-04-17 15:18:04</td>\n",
       "    </tr>\n",
       "  </tbody>\n",
       "</table>\n",
       "</div>"
      ],
      "text/plain": [
       "   client_id            visitor_id                      visit_id process_step  \\\n",
       "0    9988021  580560515_7732621733  781255054_21935453173_531117       step_3   \n",
       "1    9988021  580560515_7732621733  781255054_21935453173_531117       step_2   \n",
       "2    9988021  580560515_7732621733  781255054_21935453173_531117       step_3   \n",
       "3    9988021  580560515_7732621733  781255054_21935453173_531117       step_2   \n",
       "4    9988021  580560515_7732621733  781255054_21935453173_531117       step_3   \n",
       "\n",
       "             date_time  \n",
       "0  2017-04-17 15:27:07  \n",
       "1  2017-04-17 15:26:51  \n",
       "2  2017-04-17 15:19:22  \n",
       "3  2017-04-17 15:19:13  \n",
       "4  2017-04-17 15:18:04  "
      ]
     },
     "execution_count": 169,
     "metadata": {},
     "output_type": "execute_result"
    }
   ],
   "source": [
    "df_footprints_combined.head()"
   ]
  },
  {
   "cell_type": "code",
   "execution_count": 170,
   "id": "bebab1d2",
   "metadata": {},
   "outputs": [
    {
     "data": {
      "text/plain": [
       "(755405, 5)"
      ]
     },
     "execution_count": 170,
     "metadata": {},
     "output_type": "execute_result"
    }
   ],
   "source": [
    "df_footprints_combined.shape"
   ]
  },
  {
   "cell_type": "code",
   "execution_count": 171,
   "id": "4b1643e8",
   "metadata": {},
   "outputs": [
    {
     "data": {
      "text/plain": [
       "Index(['client_id', 'visitor_id', 'visit_id', 'process_step', 'date_time'], dtype='object')"
      ]
     },
     "execution_count": 171,
     "metadata": {},
     "output_type": "execute_result"
    }
   ],
   "source": [
    "df_footprints_combined.columns"
   ]
  },
  {
   "cell_type": "code",
   "execution_count": 172,
   "id": "318900cf",
   "metadata": {},
   "outputs": [
    {
     "data": {
      "text/plain": [
       "client_id        int64\n",
       "visitor_id      object\n",
       "visit_id        object\n",
       "process_step    object\n",
       "date_time       object\n",
       "dtype: object"
      ]
     },
     "execution_count": 172,
     "metadata": {},
     "output_type": "execute_result"
    }
   ],
   "source": [
    "df_footprints_combined.dtypes"
   ]
  },
  {
   "cell_type": "code",
   "execution_count": 173,
   "id": "0238d8d6",
   "metadata": {},
   "outputs": [
    {
     "name": "stdout",
     "output_type": "stream",
     "text": [
      "Missing values in each column: client_id       0\n",
      "visitor_id      0\n",
      "visit_id        0\n",
      "process_step    0\n",
      "date_time       0\n",
      "dtype: int64\n"
     ]
    }
   ],
   "source": [
    "missing_values = df_footprints_combined.isnull().sum()\n",
    "print(f\"Missing values in each column: {missing_values}\")"
   ]
  },
  {
   "cell_type": "code",
   "execution_count": 174,
   "id": "deb24b37",
   "metadata": {},
   "outputs": [
    {
     "data": {
      "text/plain": [
       "10764"
      ]
     },
     "execution_count": 174,
     "metadata": {},
     "output_type": "execute_result"
    }
   ],
   "source": [
    "df_footprints_combined.duplicated().sum()"
   ]
  },
  {
   "cell_type": "code",
   "execution_count": 175,
   "id": "cfa8a794",
   "metadata": {},
   "outputs": [
    {
     "data": {
      "text/plain": [
       "client_id       120157\n",
       "visitor_id      130236\n",
       "visit_id        158095\n",
       "process_step         5\n",
       "date_time       629363\n",
       "dtype: int64"
      ]
     },
     "execution_count": 175,
     "metadata": {},
     "output_type": "execute_result"
    }
   ],
   "source": [
    "df_footprints_combined.nunique()"
   ]
  },
  {
   "cell_type": "code",
   "execution_count": 176,
   "id": "2582a86c",
   "metadata": {},
   "outputs": [
    {
     "data": {
      "text/html": [
       "<div>\n",
       "<style scoped>\n",
       "    .dataframe tbody tr th:only-of-type {\n",
       "        vertical-align: middle;\n",
       "    }\n",
       "\n",
       "    .dataframe tbody tr th {\n",
       "        vertical-align: top;\n",
       "    }\n",
       "\n",
       "    .dataframe thead th {\n",
       "        text-align: right;\n",
       "    }\n",
       "</style>\n",
       "<table border=\"1\" class=\"dataframe\">\n",
       "  <thead>\n",
       "    <tr style=\"text-align: right;\">\n",
       "      <th></th>\n",
       "      <th>client_id</th>\n",
       "    </tr>\n",
       "  </thead>\n",
       "  <tbody>\n",
       "    <tr>\n",
       "      <th>count</th>\n",
       "      <td>7.554050e+05</td>\n",
       "    </tr>\n",
       "    <tr>\n",
       "      <th>mean</th>\n",
       "      <td>5.013632e+06</td>\n",
       "    </tr>\n",
       "    <tr>\n",
       "      <th>std</th>\n",
       "      <td>2.879152e+06</td>\n",
       "    </tr>\n",
       "    <tr>\n",
       "      <th>min</th>\n",
       "      <td>1.690000e+02</td>\n",
       "    </tr>\n",
       "    <tr>\n",
       "      <th>25%</th>\n",
       "      <td>2.519882e+06</td>\n",
       "    </tr>\n",
       "    <tr>\n",
       "      <th>50%</th>\n",
       "      <td>5.033441e+06</td>\n",
       "    </tr>\n",
       "    <tr>\n",
       "      <th>75%</th>\n",
       "      <td>7.496063e+06</td>\n",
       "    </tr>\n",
       "    <tr>\n",
       "      <th>max</th>\n",
       "      <td>9.999875e+06</td>\n",
       "    </tr>\n",
       "  </tbody>\n",
       "</table>\n",
       "</div>"
      ],
      "text/plain": [
       "          client_id\n",
       "count  7.554050e+05\n",
       "mean   5.013632e+06\n",
       "std    2.879152e+06\n",
       "min    1.690000e+02\n",
       "25%    2.519882e+06\n",
       "50%    5.033441e+06\n",
       "75%    7.496063e+06\n",
       "max    9.999875e+06"
      ]
     },
     "execution_count": 176,
     "metadata": {},
     "output_type": "execute_result"
    }
   ],
   "source": [
    "df_footprints_combined.describe()"
   ]
  },
  {
   "cell_type": "code",
   "execution_count": 177,
   "id": "5a2ea35e",
   "metadata": {},
   "outputs": [
    {
     "name": "stdout",
     "output_type": "stream",
     "text": [
      "<class 'pandas.core.frame.DataFrame'>\n",
      "RangeIndex: 755405 entries, 0 to 755404\n",
      "Data columns (total 5 columns):\n",
      " #   Column        Non-Null Count   Dtype \n",
      "---  ------        --------------   ----- \n",
      " 0   client_id     755405 non-null  int64 \n",
      " 1   visitor_id    755405 non-null  object\n",
      " 2   visit_id      755405 non-null  object\n",
      " 3   process_step  755405 non-null  object\n",
      " 4   date_time     755405 non-null  object\n",
      "dtypes: int64(1), object(4)\n",
      "memory usage: 28.8+ MB\n"
     ]
    }
   ],
   "source": [
    "df_footprints_combined.info()"
   ]
  },
  {
   "cell_type": "code",
   "execution_count": 178,
   "id": "9a4125f7",
   "metadata": {},
   "outputs": [],
   "source": [
    "# Drop duplicate rows\n",
    "df_footprints_combined.drop_duplicates(inplace=True)"
   ]
  },
  {
   "cell_type": "code",
   "execution_count": 179,
   "id": "1d1cd94a",
   "metadata": {},
   "outputs": [
    {
     "data": {
      "text/plain": [
       "('2017-03-15 00:03:03', '2017-06-20 23:59:57')"
      ]
     },
     "execution_count": 179,
     "metadata": {},
     "output_type": "execute_result"
    }
   ],
   "source": [
    "# Explore the date_time range\n",
    "df_footprints_combined['date_time'].min(),df_footprints_combined['date_time'].max()"
   ]
  },
  {
   "cell_type": "code",
   "execution_count": 180,
   "id": "fcef26ec",
   "metadata": {},
   "outputs": [],
   "source": [
    "# Ensure we have datetimes for the main footprints dataframe\n",
    "df_footprints_combined['date_time'] = pd.to_datetime(df_footprints_combined['date_time'], utc=True, errors='coerce').dt.tz_convert('Europe/Amsterdam')"
   ]
  },
  {
   "cell_type": "code",
   "execution_count": 181,
   "id": "f68c7d06",
   "metadata": {},
   "outputs": [
    {
     "data": {
      "image/png": "[encoded data removed]",
      "text/plain": [
       "<Figure size 640x480 with 1 Axes>"
      ]
     },
     "metadata": {},
     "output_type": "display_data"
    },
    {
     "name": "stdout",
     "output_type": "stream",
     "text": [
      "Top clients used: [2128341, 9800867, 465007, 9638063, 3539274, 2313292, 4167815, 5165430, 2261960, 7597144, 6790114, 5902055, 1645923, 843228, 4560824]\n"
     ]
    }
   ],
   "source": [
    "# Event dots for the top 15 clients\n",
    "\n",
    "def plot_client_event_dots_hour(df, top_n=15, tz='Europe/Amsterdam'):\n",
    "    d = df.dropna(subset=['client_id','process_step']).copy()\n",
    "    d['date_time'] = pd.to_datetime(d['date_time'], utc=True, errors='coerce')\n",
    "    d = d.dropna(subset=['date_time'])\n",
    "    if tz:\n",
    "        d['date_time'] = d['date_time'].dt.tz_convert(tz)\n",
    "\n",
    "    top_clients = d['client_id'].value_counts().head(top_n).index.tolist()\n",
    "    dd = d[d['client_id'].isin(top_clients)].copy()\n",
    "    order = {cid:i for i, cid in enumerate(top_clients)}\n",
    "    dd['client_row'] = dd['client_id'].map(order)\n",
    "    dd['hour'] = dd['date_time'].dt.hour\n",
    "\n",
    "    fig, ax = plt.subplots()\n",
    "    ax.scatter(dd['hour'], dd['client_row'], s=12, alpha=0.75)\n",
    "    ax.set_xticks(range(24))\n",
    "    ax.set_xlim(-0.5, 23.5)\n",
    "    ax.set_yticks(range(len(top_clients)))\n",
    "    ax.set_yticklabels([str(c) for c in top_clients])  # <-- show real client IDs\n",
    "    ax.set_xlabel('Hour of day'); ax.set_ylabel('Client ID')\n",
    "    ax.set_title(f'Activity by hour (top {len(top_clients)} clients)')\n",
    "    fig.tight_layout(); plt.show()\n",
    "\n",
    "plot_client_event_dots_hour(df_footprints_combined, top_n=15)\n",
    "print(\"Top clients used:\", df_footprints_combined['client_id'].value_counts().head(15).index.tolist())"
   ]
  },
  {
   "cell_type": "code",
   "execution_count": 182,
   "id": "1a1b606b",
   "metadata": {},
   "outputs": [
    {
     "name": "stdout",
     "output_type": "stream",
     "text": [
      "Step counts length: 5\n"
     ]
    },
    {
     "data": {
      "image/png": "[encoded data removed]",
      "text/plain": [
       "<Figure size 640x480 with 1 Axes>"
      ]
     },
     "metadata": {},
     "output_type": "display_data"
    }
   ],
   "source": [
    "#Step counts barplot\n",
    "\n",
    "if 'process_step' in df_footprints_combined.columns:\n",
    "    step_counts = df_footprints_combined['process_step'].astype(str).value_counts()\n",
    "    print(\"Step counts length:\", len(step_counts))\n",
    "    if len(step_counts) > 0:\n",
    "        plt.figure()\n",
    "        plt.bar(step_counts.index, step_counts.values)\n",
    "        plt.title('Events per Process Step')\n",
    "        plt.xlabel('Process Step'); plt.ylabel('Count')\n",
    "        plt.xticks(rotation=0)\n",
    "        plt.tight_layout(); plt.show()\n",
    "    else:\n",
    "        print(\"process_step exists but has no values.\")\n",
    "else:\n",
    "    print(\"No 'process_step' column found.\")"
   ]
  },
  {
   "cell_type": "markdown",
   "id": "100086e2",
   "metadata": {},
   "source": [
    "## Experiment data"
   ]
  },
  {
   "cell_type": "code",
   "execution_count": 183,
   "id": "ceb1238c",
   "metadata": {},
   "outputs": [],
   "source": [
    "\n",
    "df_experiments = pd.read_csv('https://raw.githubusercontent.com/data-bootcamp-v4/lessons/refs/heads/main/5_6_eda_inf_stats_tableau/project/files_for_project/df_final_experiment_clients.txt')"
   ]
  },
  {
   "cell_type": "code",
   "execution_count": 184,
   "id": "6cf9ba38",
   "metadata": {},
   "outputs": [
    {
     "data": {
      "text/plain": [
       "Index(['client_id', 'Variation'], dtype='object')"
      ]
     },
     "execution_count": 184,
     "metadata": {},
     "output_type": "execute_result"
    }
   ],
   "source": [
    "df_experiments.columns"
   ]
  },
  {
   "cell_type": "code",
   "execution_count": 185,
   "id": "a6e3300f",
   "metadata": {},
   "outputs": [],
   "source": [
    "# Lowercase column names\n",
    "df_experiments.columns = df_experiments.columns.str.lower().str.strip()"
   ]
  },
  {
   "cell_type": "code",
   "execution_count": 186,
   "id": "00dc6540",
   "metadata": {},
   "outputs": [
    {
     "data": {
      "text/html": [
       "<div>\n",
       "<style scoped>\n",
       "    .dataframe tbody tr th:only-of-type {\n",
       "        vertical-align: middle;\n",
       "    }\n",
       "\n",
       "    .dataframe tbody tr th {\n",
       "        vertical-align: top;\n",
       "    }\n",
       "\n",
       "    .dataframe thead th {\n",
       "        text-align: right;\n",
       "    }\n",
       "</style>\n",
       "<table border=\"1\" class=\"dataframe\">\n",
       "  <thead>\n",
       "    <tr style=\"text-align: right;\">\n",
       "      <th></th>\n",
       "      <th>client_id</th>\n",
       "      <th>variation</th>\n",
       "    </tr>\n",
       "  </thead>\n",
       "  <tbody>\n",
       "    <tr>\n",
       "      <th>0</th>\n",
       "      <td>9988021</td>\n",
       "      <td>Test</td>\n",
       "    </tr>\n",
       "    <tr>\n",
       "      <th>1</th>\n",
       "      <td>8320017</td>\n",
       "      <td>Test</td>\n",
       "    </tr>\n",
       "    <tr>\n",
       "      <th>2</th>\n",
       "      <td>4033851</td>\n",
       "      <td>Control</td>\n",
       "    </tr>\n",
       "    <tr>\n",
       "      <th>3</th>\n",
       "      <td>1982004</td>\n",
       "      <td>Test</td>\n",
       "    </tr>\n",
       "    <tr>\n",
       "      <th>4</th>\n",
       "      <td>9294070</td>\n",
       "      <td>Control</td>\n",
       "    </tr>\n",
       "  </tbody>\n",
       "</table>\n",
       "</div>"
      ],
      "text/plain": [
       "   client_id variation\n",
       "0    9988021      Test\n",
       "1    8320017      Test\n",
       "2    4033851   Control\n",
       "3    1982004      Test\n",
       "4    9294070   Control"
      ]
     },
     "execution_count": 186,
     "metadata": {},
     "output_type": "execute_result"
    }
   ],
   "source": [
    "df_experiments.head()"
   ]
  },
  {
   "cell_type": "code",
   "execution_count": 187,
   "id": "c0984854",
   "metadata": {},
   "outputs": [
    {
     "data": {
      "text/plain": [
       "client_id     int64\n",
       "variation    object\n",
       "dtype: object"
      ]
     },
     "execution_count": 187,
     "metadata": {},
     "output_type": "execute_result"
    }
   ],
   "source": [
    "df_experiments.dtypes"
   ]
  },
  {
   "cell_type": "code",
   "execution_count": 188,
   "id": "ce878013",
   "metadata": {},
   "outputs": [
    {
     "name": "stdout",
     "output_type": "stream",
     "text": [
      "Missing values in each column: client_id        0\n",
      "variation    20109\n",
      "dtype: int64\n"
     ]
    }
   ],
   "source": [
    "missing_values = df_experiments.isnull().sum()\n",
    "print(f\"Missing values in each column: {missing_values}\")"
   ]
  },
  {
   "cell_type": "code",
   "execution_count": 189,
   "id": "d676e6cc",
   "metadata": {},
   "outputs": [
    {
     "data": {
      "text/plain": [
       "0"
      ]
     },
     "execution_count": 189,
     "metadata": {},
     "output_type": "execute_result"
    }
   ],
   "source": [
    "df_experiments.duplicated().sum()"
   ]
  },
  {
   "cell_type": "code",
   "execution_count": 190,
   "id": "ad33e954",
   "metadata": {},
   "outputs": [
    {
     "data": {
      "text/plain": [
       "client_id    70609\n",
       "variation        2\n",
       "dtype: int64"
      ]
     },
     "execution_count": 190,
     "metadata": {},
     "output_type": "execute_result"
    }
   ],
   "source": [
    "df_experiments.nunique()"
   ]
  },
  {
   "cell_type": "code",
   "execution_count": 191,
   "id": "0ded38be",
   "metadata": {},
   "outputs": [
    {
     "data": {
      "text/html": [
       "<div>\n",
       "<style scoped>\n",
       "    .dataframe tbody tr th:only-of-type {\n",
       "        vertical-align: middle;\n",
       "    }\n",
       "\n",
       "    .dataframe tbody tr th {\n",
       "        vertical-align: top;\n",
       "    }\n",
       "\n",
       "    .dataframe thead th {\n",
       "        text-align: right;\n",
       "    }\n",
       "</style>\n",
       "<table border=\"1\" class=\"dataframe\">\n",
       "  <thead>\n",
       "    <tr style=\"text-align: right;\">\n",
       "      <th></th>\n",
       "      <th>client_id</th>\n",
       "    </tr>\n",
       "  </thead>\n",
       "  <tbody>\n",
       "    <tr>\n",
       "      <th>count</th>\n",
       "      <td>7.060900e+04</td>\n",
       "    </tr>\n",
       "    <tr>\n",
       "      <th>mean</th>\n",
       "      <td>5.004992e+06</td>\n",
       "    </tr>\n",
       "    <tr>\n",
       "      <th>std</th>\n",
       "      <td>2.877278e+06</td>\n",
       "    </tr>\n",
       "    <tr>\n",
       "      <th>min</th>\n",
       "      <td>1.690000e+02</td>\n",
       "    </tr>\n",
       "    <tr>\n",
       "      <th>25%</th>\n",
       "      <td>2.519329e+06</td>\n",
       "    </tr>\n",
       "    <tr>\n",
       "      <th>50%</th>\n",
       "      <td>5.016978e+06</td>\n",
       "    </tr>\n",
       "    <tr>\n",
       "      <th>75%</th>\n",
       "      <td>7.483085e+06</td>\n",
       "    </tr>\n",
       "    <tr>\n",
       "      <th>max</th>\n",
       "      <td>9.999839e+06</td>\n",
       "    </tr>\n",
       "  </tbody>\n",
       "</table>\n",
       "</div>"
      ],
      "text/plain": [
       "          client_id\n",
       "count  7.060900e+04\n",
       "mean   5.004992e+06\n",
       "std    2.877278e+06\n",
       "min    1.690000e+02\n",
       "25%    2.519329e+06\n",
       "50%    5.016978e+06\n",
       "75%    7.483085e+06\n",
       "max    9.999839e+06"
      ]
     },
     "execution_count": 191,
     "metadata": {},
     "output_type": "execute_result"
    }
   ],
   "source": [
    "df_experiments.describe()"
   ]
  },
  {
   "cell_type": "code",
   "execution_count": 192,
   "id": "7e7dccb3",
   "metadata": {},
   "outputs": [
    {
     "data": {
      "text/html": [
       "<div>\n",
       "<style scoped>\n",
       "    .dataframe tbody tr th:only-of-type {\n",
       "        vertical-align: middle;\n",
       "    }\n",
       "\n",
       "    .dataframe tbody tr th {\n",
       "        vertical-align: top;\n",
       "    }\n",
       "\n",
       "    .dataframe thead th {\n",
       "        text-align: right;\n",
       "    }\n",
       "</style>\n",
       "<table border=\"1\" class=\"dataframe\">\n",
       "  <thead>\n",
       "    <tr style=\"text-align: right;\">\n",
       "      <th></th>\n",
       "      <th>client_id</th>\n",
       "      <th>variation</th>\n",
       "    </tr>\n",
       "  </thead>\n",
       "  <tbody>\n",
       "    <tr>\n",
       "      <th>50500</th>\n",
       "      <td>5459747</td>\n",
       "      <td>NaN</td>\n",
       "    </tr>\n",
       "    <tr>\n",
       "      <th>50501</th>\n",
       "      <td>8031000</td>\n",
       "      <td>NaN</td>\n",
       "    </tr>\n",
       "    <tr>\n",
       "      <th>50502</th>\n",
       "      <td>1847030</td>\n",
       "      <td>NaN</td>\n",
       "    </tr>\n",
       "    <tr>\n",
       "      <th>50503</th>\n",
       "      <td>9713157</td>\n",
       "      <td>NaN</td>\n",
       "    </tr>\n",
       "    <tr>\n",
       "      <th>50504</th>\n",
       "      <td>7775828</td>\n",
       "      <td>NaN</td>\n",
       "    </tr>\n",
       "    <tr>\n",
       "      <th>...</th>\n",
       "      <td>...</td>\n",
       "      <td>...</td>\n",
       "    </tr>\n",
       "    <tr>\n",
       "      <th>70604</th>\n",
       "      <td>2443347</td>\n",
       "      <td>NaN</td>\n",
       "    </tr>\n",
       "    <tr>\n",
       "      <th>70605</th>\n",
       "      <td>8788427</td>\n",
       "      <td>NaN</td>\n",
       "    </tr>\n",
       "    <tr>\n",
       "      <th>70606</th>\n",
       "      <td>266828</td>\n",
       "      <td>NaN</td>\n",
       "    </tr>\n",
       "    <tr>\n",
       "      <th>70607</th>\n",
       "      <td>1266421</td>\n",
       "      <td>NaN</td>\n",
       "    </tr>\n",
       "    <tr>\n",
       "      <th>70608</th>\n",
       "      <td>9895983</td>\n",
       "      <td>NaN</td>\n",
       "    </tr>\n",
       "  </tbody>\n",
       "</table>\n",
       "<p>20109 rows × 2 columns</p>\n",
       "</div>"
      ],
      "text/plain": [
       "       client_id variation\n",
       "50500    5459747       NaN\n",
       "50501    8031000       NaN\n",
       "50502    1847030       NaN\n",
       "50503    9713157       NaN\n",
       "50504    7775828       NaN\n",
       "...          ...       ...\n",
       "70604    2443347       NaN\n",
       "70605    8788427       NaN\n",
       "70606     266828       NaN\n",
       "70607    1266421       NaN\n",
       "70608    9895983       NaN\n",
       "\n",
       "[20109 rows x 2 columns]"
      ]
     },
     "metadata": {},
     "output_type": "display_data"
    }
   ],
   "source": [
    "df_experiments.isna().sum()\n",
    "display(df_experiments[df_experiments.isna().any(axis=1)])"
   ]
  },
  {
   "cell_type": "code",
   "execution_count": 193,
   "id": "d421f0cc",
   "metadata": {},
   "outputs": [],
   "source": [
    "# handle null values in column 'Variation', fill with 'unknown'\n",
    "df_experiments.isna().sum()\n",
    "df_experiments['variation_cleaned'] = df_experiments['variation'].fillna('unknown')"
   ]
  },
  {
   "cell_type": "code",
   "execution_count": 194,
   "id": "a6dc0dbd",
   "metadata": {},
   "outputs": [
    {
     "data": {
      "text/plain": [
       "variation_cleaned\n",
       "Test       26968\n",
       "Control    23532\n",
       "unknown    20109\n",
       "Name: count, dtype: int64"
      ]
     },
     "execution_count": 194,
     "metadata": {},
     "output_type": "execute_result"
    }
   ],
   "source": [
    "df_experiments['variation_cleaned'].value_counts()"
   ]
  },
  {
   "cell_type": "code",
   "execution_count": 195,
   "id": "cf112089",
   "metadata": {},
   "outputs": [],
   "source": [
    "# Ensure client_id unique per experiment\n",
    "if 'client_id' in df_experiments.columns:\n",
    "    df_experiments = df_experiments.drop_duplicates(subset=['client_id'])"
   ]
  },
  {
   "cell_type": "code",
   "execution_count": 196,
   "id": "c11b89e4",
   "metadata": {},
   "outputs": [
    {
     "data": {
      "image/png": "[encoded data removed]",
      "text/plain": [
       "<Figure size 640x480 with 1 Axes>"
      ]
     },
     "metadata": {},
     "output_type": "display_data"
    }
   ],
   "source": [
    "# Extracting client_id amount from variation columns for test and control\n",
    "dfv = df_experiments[['client_id', 'variation_cleaned']].dropna(subset=['client_id','variation_cleaned']).copy()\n",
    "\n",
    "# Standardize labels to control/test\n",
    "dfv['variation_cleaned'] = (dfv['variation_cleaned'].astype(str).str.strip().str.lower()\n",
    "                    .replace({'ctrl':'control','baseline':'control','a':'control',\n",
    "                              'treat':'test','treatment':'test','b':'test'}))\n",
    "\n",
    "# Unique clients per variant\n",
    "counts = (dfv.groupby('variation_cleaned')['client_id']\n",
    "            .nunique()\n",
    "            .reindex(['control','test', 'unknown'])\n",
    "            .fillna(0)\n",
    "            .astype(int))\n",
    "\n",
    "# Plot\n",
    "plt.figure()\n",
    "plt.bar(counts.index.str.title(), counts.values)\n",
    "for i, v in enumerate(counts.values):\n",
    "    plt.text(i, v, f'{v}', ha='center', va='bottom')\n",
    "plt.title('Unique clients by variation')\n",
    "plt.xlabel('Variation'); plt.ylabel('Unique clients')\n",
    "plt.tight_layout(); plt.show()"
   ]
  },
  {
   "cell_type": "markdown",
   "id": "22e2946f",
   "metadata": {},
   "source": [
    "## Combined Data Sets"
   ]
  },
  {
   "cell_type": "code",
   "execution_count": 197,
   "id": "e12ed22e",
   "metadata": {},
   "outputs": [],
   "source": [
    "# Digital footprint is the main table , merge 3 datasets\n",
    "\n",
    "df_final = (df_footprints_combined\n",
    "            .merge(df_experiments, on='client_id', how='left')\n",
    "            .merge(df_client, on='client_id', how='left'))"
   ]
  },
  {
   "cell_type": "code",
   "execution_count": 198,
   "id": "23d7fe7a",
   "metadata": {},
   "outputs": [
    {
     "data": {
      "text/plain": [
       "variation              0.573976\n",
       "variation_cleaned      0.403878\n",
       "client_tenure_year     0.403878\n",
       "client_tenure_month    0.403878\n",
       "client_age             0.403878\n",
       "gender                 0.403878\n",
       "number_of_accounts     0.403878\n",
       "balance                0.403878\n",
       "calls_6_month          0.403878\n",
       "logos_6_month          0.403878\n",
       "dtype: float64"
      ]
     },
     "execution_count": 198,
     "metadata": {},
     "output_type": "execute_result"
    }
   ],
   "source": [
    "df_final.isna().mean().sort_values(ascending=False).head(10)"
   ]
  },
  {
   "cell_type": "code",
   "execution_count": 199,
   "id": "e9291853",
   "metadata": {},
   "outputs": [
    {
     "data": {
      "text/html": [
       "<div>\n",
       "<style scoped>\n",
       "    .dataframe tbody tr th:only-of-type {\n",
       "        vertical-align: middle;\n",
       "    }\n",
       "\n",
       "    .dataframe tbody tr th {\n",
       "        vertical-align: top;\n",
       "    }\n",
       "\n",
       "    .dataframe thead th {\n",
       "        text-align: right;\n",
       "    }\n",
       "</style>\n",
       "<table border=\"1\" class=\"dataframe\">\n",
       "  <thead>\n",
       "    <tr style=\"text-align: right;\">\n",
       "      <th></th>\n",
       "      <th>client_id</th>\n",
       "      <th>visitor_id</th>\n",
       "      <th>visit_id</th>\n",
       "      <th>process_step</th>\n",
       "      <th>date_time</th>\n",
       "      <th>variation</th>\n",
       "      <th>variation_cleaned</th>\n",
       "      <th>client_tenure_year</th>\n",
       "      <th>client_tenure_month</th>\n",
       "      <th>client_age</th>\n",
       "      <th>gender</th>\n",
       "      <th>number_of_accounts</th>\n",
       "      <th>balance</th>\n",
       "      <th>calls_6_month</th>\n",
       "      <th>logos_6_month</th>\n",
       "    </tr>\n",
       "  </thead>\n",
       "  <tbody>\n",
       "    <tr>\n",
       "      <th>40985</th>\n",
       "      <td>4543944</td>\n",
       "      <td>218710117_4616403133</td>\n",
       "      <td>27244796_60832348765_783803</td>\n",
       "      <td>step_3</td>\n",
       "      <td>2017-04-12 13:41:39+02:00</td>\n",
       "      <td>Test</td>\n",
       "      <td>Test</td>\n",
       "      <td>7.0</td>\n",
       "      <td>88.0</td>\n",
       "      <td>25.5</td>\n",
       "      <td>M</td>\n",
       "      <td>4.0</td>\n",
       "      <td>151050.41</td>\n",
       "      <td>6.0</td>\n",
       "      <td>9.0</td>\n",
       "    </tr>\n",
       "    <tr>\n",
       "      <th>574236</th>\n",
       "      <td>600754</td>\n",
       "      <td>604902080_29685382850</td>\n",
       "      <td>242189606_352913766_305479</td>\n",
       "      <td>confirm</td>\n",
       "      <td>2017-05-15 16:33:20+02:00</td>\n",
       "      <td>Test</td>\n",
       "      <td>Test</td>\n",
       "      <td>8.0</td>\n",
       "      <td>106.0</td>\n",
       "      <td>44.0</td>\n",
       "      <td>F</td>\n",
       "      <td>2.0</td>\n",
       "      <td>622365.10</td>\n",
       "      <td>6.0</td>\n",
       "      <td>9.0</td>\n",
       "    </tr>\n",
       "    <tr>\n",
       "      <th>566209</th>\n",
       "      <td>1188009</td>\n",
       "      <td>501824971_1895985236</td>\n",
       "      <td>746149866_98899673923_753311</td>\n",
       "      <td>confirm</td>\n",
       "      <td>2017-06-02 00:17:06+02:00</td>\n",
       "      <td>NaN</td>\n",
       "      <td>NaN</td>\n",
       "      <td>NaN</td>\n",
       "      <td>NaN</td>\n",
       "      <td>NaN</td>\n",
       "      <td>NaN</td>\n",
       "      <td>NaN</td>\n",
       "      <td>NaN</td>\n",
       "      <td>NaN</td>\n",
       "      <td>NaN</td>\n",
       "    </tr>\n",
       "    <tr>\n",
       "      <th>340413</th>\n",
       "      <td>962501</td>\n",
       "      <td>634437827_31443261606</td>\n",
       "      <td>555478353_87824533479_692598</td>\n",
       "      <td>step_3</td>\n",
       "      <td>2017-04-24 01:54:00+02:00</td>\n",
       "      <td>NaN</td>\n",
       "      <td>unknown</td>\n",
       "      <td>5.0</td>\n",
       "      <td>70.0</td>\n",
       "      <td>19.5</td>\n",
       "      <td>unknown</td>\n",
       "      <td>3.0</td>\n",
       "      <td>23214.50</td>\n",
       "      <td>3.0</td>\n",
       "      <td>3.0</td>\n",
       "    </tr>\n",
       "    <tr>\n",
       "      <th>54714</th>\n",
       "      <td>8827095</td>\n",
       "      <td>224711480_1290901650</td>\n",
       "      <td>785888245_91159861417_15969</td>\n",
       "      <td>step_1</td>\n",
       "      <td>2017-04-12 09:52:46+02:00</td>\n",
       "      <td>Test</td>\n",
       "      <td>Test</td>\n",
       "      <td>17.0</td>\n",
       "      <td>215.0</td>\n",
       "      <td>48.0</td>\n",
       "      <td>M</td>\n",
       "      <td>2.0</td>\n",
       "      <td>325683.51</td>\n",
       "      <td>0.0</td>\n",
       "      <td>3.0</td>\n",
       "    </tr>\n",
       "  </tbody>\n",
       "</table>\n",
       "</div>"
      ],
      "text/plain": [
       "        client_id             visitor_id                      visit_id  \\\n",
       "40985     4543944   218710117_4616403133   27244796_60832348765_783803   \n",
       "574236     600754  604902080_29685382850    242189606_352913766_305479   \n",
       "566209    1188009   501824971_1895985236  746149866_98899673923_753311   \n",
       "340413     962501  634437827_31443261606  555478353_87824533479_692598   \n",
       "54714     8827095   224711480_1290901650   785888245_91159861417_15969   \n",
       "\n",
       "       process_step                 date_time variation variation_cleaned  \\\n",
       "40985        step_3 2017-04-12 13:41:39+02:00      Test              Test   \n",
       "574236      confirm 2017-05-15 16:33:20+02:00      Test              Test   \n",
       "566209      confirm 2017-06-02 00:17:06+02:00       NaN               NaN   \n",
       "340413       step_3 2017-04-24 01:54:00+02:00       NaN           unknown   \n",
       "54714        step_1 2017-04-12 09:52:46+02:00      Test              Test   \n",
       "\n",
       "        client_tenure_year  client_tenure_month  client_age   gender  \\\n",
       "40985                  7.0                 88.0        25.5        M   \n",
       "574236                 8.0                106.0        44.0        F   \n",
       "566209                 NaN                  NaN         NaN      NaN   \n",
       "340413                 5.0                 70.0        19.5  unknown   \n",
       "54714                 17.0                215.0        48.0        M   \n",
       "\n",
       "        number_of_accounts    balance  calls_6_month  logos_6_month  \n",
       "40985                  4.0  151050.41            6.0            9.0  \n",
       "574236                 2.0  622365.10            6.0            9.0  \n",
       "566209                 NaN        NaN            NaN            NaN  \n",
       "340413                 3.0   23214.50            3.0            3.0  \n",
       "54714                  2.0  325683.51            0.0            3.0  "
      ]
     },
     "metadata": {},
     "output_type": "display_data"
    }
   ],
   "source": [
    "# Sample 5 rows from the final dataframe\n",
    "display(df_final.sample(5, random_state=42))"
   ]
  },
  {
   "cell_type": "code",
   "execution_count": 200,
   "id": "a77fe8a7",
   "metadata": {},
   "outputs": [
    {
     "data": {
      "text/plain": [
       "(744641, 15)"
      ]
     },
     "execution_count": 200,
     "metadata": {},
     "output_type": "execute_result"
    }
   ],
   "source": [
    "df_final.shape"
   ]
  },
  {
   "cell_type": "code",
   "execution_count": 201,
   "id": "a34ec30e",
   "metadata": {},
   "outputs": [
    {
     "data": {
      "text/plain": [
       "client_id                   0\n",
       "visitor_id                  0\n",
       "visit_id                    0\n",
       "process_step                0\n",
       "date_time                   0\n",
       "variation              427406\n",
       "variation_cleaned      300744\n",
       "client_tenure_year     300744\n",
       "client_tenure_month    300744\n",
       "client_age             300744\n",
       "gender                 300744\n",
       "number_of_accounts     300744\n",
       "balance                300744\n",
       "calls_6_month          300744\n",
       "logos_6_month          300744\n",
       "dtype: int64"
      ]
     },
     "execution_count": 201,
     "metadata": {},
     "output_type": "execute_result"
    }
   ],
   "source": [
    "df_final.isna().sum()"
   ]
  },
  {
   "cell_type": "code",
   "execution_count": 202,
   "id": "bbe7eaaf",
   "metadata": {},
   "outputs": [
    {
     "data": {
      "text/html": [
       "<div>\n",
       "<style scoped>\n",
       "    .dataframe tbody tr th:only-of-type {\n",
       "        vertical-align: middle;\n",
       "    }\n",
       "\n",
       "    .dataframe tbody tr th {\n",
       "        vertical-align: top;\n",
       "    }\n",
       "\n",
       "    .dataframe thead th {\n",
       "        text-align: right;\n",
       "    }\n",
       "</style>\n",
       "<table border=\"1\" class=\"dataframe\">\n",
       "  <thead>\n",
       "    <tr style=\"text-align: right;\">\n",
       "      <th></th>\n",
       "      <th>client_id</th>\n",
       "      <th>visitor_id</th>\n",
       "      <th>visit_id</th>\n",
       "      <th>process_step</th>\n",
       "      <th>date_time</th>\n",
       "      <th>variation</th>\n",
       "      <th>variation_cleaned</th>\n",
       "      <th>client_tenure_year</th>\n",
       "      <th>client_tenure_month</th>\n",
       "      <th>client_age</th>\n",
       "      <th>gender</th>\n",
       "      <th>number_of_accounts</th>\n",
       "      <th>balance</th>\n",
       "      <th>calls_6_month</th>\n",
       "      <th>logos_6_month</th>\n",
       "    </tr>\n",
       "  </thead>\n",
       "  <tbody>\n",
       "    <tr>\n",
       "      <th>245</th>\n",
       "      <td>8932927</td>\n",
       "      <td>485163175_18149554449</td>\n",
       "      <td>883578716_57691052399_945047</td>\n",
       "      <td>step_1</td>\n",
       "      <td>2017-04-14 00:37:49+02:00</td>\n",
       "      <td>NaN</td>\n",
       "      <td>NaN</td>\n",
       "      <td>NaN</td>\n",
       "      <td>NaN</td>\n",
       "      <td>NaN</td>\n",
       "      <td>NaN</td>\n",
       "      <td>NaN</td>\n",
       "      <td>NaN</td>\n",
       "      <td>NaN</td>\n",
       "      <td>NaN</td>\n",
       "    </tr>\n",
       "    <tr>\n",
       "      <th>270</th>\n",
       "      <td>1208567</td>\n",
       "      <td>490822748_12476046982</td>\n",
       "      <td>63636232_1058424732_545130</td>\n",
       "      <td>start</td>\n",
       "      <td>2017-04-24 16:03:26+02:00</td>\n",
       "      <td>NaN</td>\n",
       "      <td>NaN</td>\n",
       "      <td>NaN</td>\n",
       "      <td>NaN</td>\n",
       "      <td>NaN</td>\n",
       "      <td>NaN</td>\n",
       "      <td>NaN</td>\n",
       "      <td>NaN</td>\n",
       "      <td>NaN</td>\n",
       "      <td>NaN</td>\n",
       "    </tr>\n",
       "    <tr>\n",
       "      <th>356</th>\n",
       "      <td>9838496</td>\n",
       "      <td>408959474_91766774102</td>\n",
       "      <td>687233905_42314307889_453394</td>\n",
       "      <td>start</td>\n",
       "      <td>2017-03-24 22:26:14+01:00</td>\n",
       "      <td>NaN</td>\n",
       "      <td>NaN</td>\n",
       "      <td>NaN</td>\n",
       "      <td>NaN</td>\n",
       "      <td>NaN</td>\n",
       "      <td>NaN</td>\n",
       "      <td>NaN</td>\n",
       "      <td>NaN</td>\n",
       "      <td>NaN</td>\n",
       "      <td>NaN</td>\n",
       "    </tr>\n",
       "    <tr>\n",
       "      <th>859</th>\n",
       "      <td>2353261</td>\n",
       "      <td>387293592_26815377704</td>\n",
       "      <td>269923351_29360137819_823850</td>\n",
       "      <td>step_1</td>\n",
       "      <td>2017-03-20 17:07:22+01:00</td>\n",
       "      <td>NaN</td>\n",
       "      <td>NaN</td>\n",
       "      <td>NaN</td>\n",
       "      <td>NaN</td>\n",
       "      <td>NaN</td>\n",
       "      <td>NaN</td>\n",
       "      <td>NaN</td>\n",
       "      <td>NaN</td>\n",
       "      <td>NaN</td>\n",
       "      <td>NaN</td>\n",
       "    </tr>\n",
       "    <tr>\n",
       "      <th>860</th>\n",
       "      <td>2353261</td>\n",
       "      <td>387293592_26815377704</td>\n",
       "      <td>269923351_29360137819_823850</td>\n",
       "      <td>confirm</td>\n",
       "      <td>2017-03-20 17:05:07+01:00</td>\n",
       "      <td>NaN</td>\n",
       "      <td>NaN</td>\n",
       "      <td>NaN</td>\n",
       "      <td>NaN</td>\n",
       "      <td>NaN</td>\n",
       "      <td>NaN</td>\n",
       "      <td>NaN</td>\n",
       "      <td>NaN</td>\n",
       "      <td>NaN</td>\n",
       "      <td>NaN</td>\n",
       "    </tr>\n",
       "    <tr>\n",
       "      <th>...</th>\n",
       "      <td>...</td>\n",
       "      <td>...</td>\n",
       "      <td>...</td>\n",
       "      <td>...</td>\n",
       "      <td>...</td>\n",
       "      <td>...</td>\n",
       "      <td>...</td>\n",
       "      <td>...</td>\n",
       "      <td>...</td>\n",
       "      <td>...</td>\n",
       "      <td>...</td>\n",
       "      <td>...</td>\n",
       "      <td>...</td>\n",
       "      <td>...</td>\n",
       "      <td>...</td>\n",
       "    </tr>\n",
       "    <tr>\n",
       "      <th>744636</th>\n",
       "      <td>9668240</td>\n",
       "      <td>388766751_9038881013</td>\n",
       "      <td>922267647_3096648104_968866</td>\n",
       "      <td>start</td>\n",
       "      <td>2017-05-24 20:46:10+02:00</td>\n",
       "      <td>NaN</td>\n",
       "      <td>NaN</td>\n",
       "      <td>NaN</td>\n",
       "      <td>NaN</td>\n",
       "      <td>NaN</td>\n",
       "      <td>NaN</td>\n",
       "      <td>NaN</td>\n",
       "      <td>NaN</td>\n",
       "      <td>NaN</td>\n",
       "      <td>NaN</td>\n",
       "    </tr>\n",
       "    <tr>\n",
       "      <th>744637</th>\n",
       "      <td>9668240</td>\n",
       "      <td>388766751_9038881013</td>\n",
       "      <td>922267647_3096648104_968866</td>\n",
       "      <td>start</td>\n",
       "      <td>2017-05-24 20:45:29+02:00</td>\n",
       "      <td>NaN</td>\n",
       "      <td>NaN</td>\n",
       "      <td>NaN</td>\n",
       "      <td>NaN</td>\n",
       "      <td>NaN</td>\n",
       "      <td>NaN</td>\n",
       "      <td>NaN</td>\n",
       "      <td>NaN</td>\n",
       "      <td>NaN</td>\n",
       "      <td>NaN</td>\n",
       "    </tr>\n",
       "    <tr>\n",
       "      <th>744638</th>\n",
       "      <td>9668240</td>\n",
       "      <td>388766751_9038881013</td>\n",
       "      <td>922267647_3096648104_968866</td>\n",
       "      <td>step_1</td>\n",
       "      <td>2017-05-24 20:44:51+02:00</td>\n",
       "      <td>NaN</td>\n",
       "      <td>NaN</td>\n",
       "      <td>NaN</td>\n",
       "      <td>NaN</td>\n",
       "      <td>NaN</td>\n",
       "      <td>NaN</td>\n",
       "      <td>NaN</td>\n",
       "      <td>NaN</td>\n",
       "      <td>NaN</td>\n",
       "      <td>NaN</td>\n",
       "    </tr>\n",
       "    <tr>\n",
       "      <th>744639</th>\n",
       "      <td>9668240</td>\n",
       "      <td>388766751_9038881013</td>\n",
       "      <td>922267647_3096648104_968866</td>\n",
       "      <td>start</td>\n",
       "      <td>2017-05-24 20:44:34+02:00</td>\n",
       "      <td>NaN</td>\n",
       "      <td>NaN</td>\n",
       "      <td>NaN</td>\n",
       "      <td>NaN</td>\n",
       "      <td>NaN</td>\n",
       "      <td>NaN</td>\n",
       "      <td>NaN</td>\n",
       "      <td>NaN</td>\n",
       "      <td>NaN</td>\n",
       "      <td>NaN</td>\n",
       "    </tr>\n",
       "    <tr>\n",
       "      <th>744640</th>\n",
       "      <td>674799</td>\n",
       "      <td>947159805_81558194550</td>\n",
       "      <td>86152093_47511127657_716022</td>\n",
       "      <td>start</td>\n",
       "      <td>2017-06-03 14:17:09+02:00</td>\n",
       "      <td>NaN</td>\n",
       "      <td>NaN</td>\n",
       "      <td>NaN</td>\n",
       "      <td>NaN</td>\n",
       "      <td>NaN</td>\n",
       "      <td>NaN</td>\n",
       "      <td>NaN</td>\n",
       "      <td>NaN</td>\n",
       "      <td>NaN</td>\n",
       "      <td>NaN</td>\n",
       "    </tr>\n",
       "  </tbody>\n",
       "</table>\n",
       "<p>427406 rows × 15 columns</p>\n",
       "</div>"
      ],
      "text/plain": [
       "        client_id             visitor_id                      visit_id  \\\n",
       "245       8932927  485163175_18149554449  883578716_57691052399_945047   \n",
       "270       1208567  490822748_12476046982    63636232_1058424732_545130   \n",
       "356       9838496  408959474_91766774102  687233905_42314307889_453394   \n",
       "859       2353261  387293592_26815377704  269923351_29360137819_823850   \n",
       "860       2353261  387293592_26815377704  269923351_29360137819_823850   \n",
       "...           ...                    ...                           ...   \n",
       "744636    9668240   388766751_9038881013   922267647_3096648104_968866   \n",
       "744637    9668240   388766751_9038881013   922267647_3096648104_968866   \n",
       "744638    9668240   388766751_9038881013   922267647_3096648104_968866   \n",
       "744639    9668240   388766751_9038881013   922267647_3096648104_968866   \n",
       "744640     674799  947159805_81558194550   86152093_47511127657_716022   \n",
       "\n",
       "       process_step                 date_time variation variation_cleaned  \\\n",
       "245          step_1 2017-04-14 00:37:49+02:00       NaN               NaN   \n",
       "270           start 2017-04-24 16:03:26+02:00       NaN               NaN   \n",
       "356           start 2017-03-24 22:26:14+01:00       NaN               NaN   \n",
       "859          step_1 2017-03-20 17:07:22+01:00       NaN               NaN   \n",
       "860         confirm 2017-03-20 17:05:07+01:00       NaN               NaN   \n",
       "...             ...                       ...       ...               ...   \n",
       "744636        start 2017-05-24 20:46:10+02:00       NaN               NaN   \n",
       "744637        start 2017-05-24 20:45:29+02:00       NaN               NaN   \n",
       "744638       step_1 2017-05-24 20:44:51+02:00       NaN               NaN   \n",
       "744639        start 2017-05-24 20:44:34+02:00       NaN               NaN   \n",
       "744640        start 2017-06-03 14:17:09+02:00       NaN               NaN   \n",
       "\n",
       "        client_tenure_year  client_tenure_month  client_age gender  \\\n",
       "245                    NaN                  NaN         NaN    NaN   \n",
       "270                    NaN                  NaN         NaN    NaN   \n",
       "356                    NaN                  NaN         NaN    NaN   \n",
       "859                    NaN                  NaN         NaN    NaN   \n",
       "860                    NaN                  NaN         NaN    NaN   \n",
       "...                    ...                  ...         ...    ...   \n",
       "744636                 NaN                  NaN         NaN    NaN   \n",
       "744637                 NaN                  NaN         NaN    NaN   \n",
       "744638                 NaN                  NaN         NaN    NaN   \n",
       "744639                 NaN                  NaN         NaN    NaN   \n",
       "744640                 NaN                  NaN         NaN    NaN   \n",
       "\n",
       "        number_of_accounts  balance  calls_6_month  logos_6_month  \n",
       "245                    NaN      NaN            NaN            NaN  \n",
       "270                    NaN      NaN            NaN            NaN  \n",
       "356                    NaN      NaN            NaN            NaN  \n",
       "859                    NaN      NaN            NaN            NaN  \n",
       "860                    NaN      NaN            NaN            NaN  \n",
       "...                    ...      ...            ...            ...  \n",
       "744636                 NaN      NaN            NaN            NaN  \n",
       "744637                 NaN      NaN            NaN            NaN  \n",
       "744638                 NaN      NaN            NaN            NaN  \n",
       "744639                 NaN      NaN            NaN            NaN  \n",
       "744640                 NaN      NaN            NaN            NaN  \n",
       "\n",
       "[427406 rows x 15 columns]"
      ]
     },
     "metadata": {},
     "output_type": "display_data"
    }
   ],
   "source": [
    "display(df_final[df_final.isna().any(axis=1)])"
   ]
  },
  {
   "cell_type": "code",
   "execution_count": 203,
   "id": "ddbf111d",
   "metadata": {},
   "outputs": [
    {
     "ename": "TypeError",
     "evalue": "Cannot interpret 'datetime64[ns, Europe/Amsterdam]' as a data type",
     "output_type": "error",
     "traceback": [
      "\u001b[1;31m---------------------------------------------------------------------------\u001b[0m",
      "\u001b[1;31mTypeError\u001b[0m                                 Traceback (most recent call last)",
      "Cell \u001b[1;32mIn[203], line 11\u001b[0m\n\u001b[0;32m      8\u001b[0m     \u001b[38;5;28;01melse\u001b[39;00m:\n\u001b[0;32m      9\u001b[0m         \u001b[38;5;28;01mreturn\u001b[39;00m col\n\u001b[1;32m---> 11\u001b[0m df_final \u001b[38;5;241m=\u001b[39m df_final\u001b[38;5;241m.\u001b[39mapply(handle_null)\n\u001b[0;32m     13\u001b[0m df_final\u001b[38;5;241m.\u001b[39misna()\u001b[38;5;241m.\u001b[39msum()\n",
      "File \u001b[1;32mc:\\ProgramData\\Anaconda3\\Lib\\site-packages\\pandas\\core\\frame.py:10374\u001b[0m, in \u001b[0;36mDataFrame.apply\u001b[1;34m(self, func, axis, raw, result_type, args, by_row, engine, engine_kwargs, **kwargs)\u001b[0m\n\u001b[0;32m  10360\u001b[0m \u001b[38;5;28;01mfrom\u001b[39;00m \u001b[38;5;21;01mpandas\u001b[39;00m\u001b[38;5;21;01m.\u001b[39;00m\u001b[38;5;21;01mcore\u001b[39;00m\u001b[38;5;21;01m.\u001b[39;00m\u001b[38;5;21;01mapply\u001b[39;00m \u001b[38;5;28;01mimport\u001b[39;00m frame_apply\n\u001b[0;32m  10362\u001b[0m op \u001b[38;5;241m=\u001b[39m frame_apply(\n\u001b[0;32m  10363\u001b[0m     \u001b[38;5;28mself\u001b[39m,\n\u001b[0;32m  10364\u001b[0m     func\u001b[38;5;241m=\u001b[39mfunc,\n\u001b[1;32m   (...)\u001b[0m\n\u001b[0;32m  10372\u001b[0m     kwargs\u001b[38;5;241m=\u001b[39mkwargs,\n\u001b[0;32m  10373\u001b[0m )\n\u001b[1;32m> 10374\u001b[0m \u001b[38;5;28;01mreturn\u001b[39;00m op\u001b[38;5;241m.\u001b[39mapply()\u001b[38;5;241m.\u001b[39m__finalize__(\u001b[38;5;28mself\u001b[39m, method\u001b[38;5;241m=\u001b[39m\u001b[38;5;124m\"\u001b[39m\u001b[38;5;124mapply\u001b[39m\u001b[38;5;124m\"\u001b[39m)\n",
      "File \u001b[1;32mc:\\ProgramData\\Anaconda3\\Lib\\site-packages\\pandas\\core\\apply.py:916\u001b[0m, in \u001b[0;36mFrameApply.apply\u001b[1;34m(self)\u001b[0m\n\u001b[0;32m    913\u001b[0m \u001b[38;5;28;01melif\u001b[39;00m \u001b[38;5;28mself\u001b[39m\u001b[38;5;241m.\u001b[39mraw:\n\u001b[0;32m    914\u001b[0m     \u001b[38;5;28;01mreturn\u001b[39;00m \u001b[38;5;28mself\u001b[39m\u001b[38;5;241m.\u001b[39mapply_raw(engine\u001b[38;5;241m=\u001b[39m\u001b[38;5;28mself\u001b[39m\u001b[38;5;241m.\u001b[39mengine, engine_kwargs\u001b[38;5;241m=\u001b[39m\u001b[38;5;28mself\u001b[39m\u001b[38;5;241m.\u001b[39mengine_kwargs)\n\u001b[1;32m--> 916\u001b[0m \u001b[38;5;28;01mreturn\u001b[39;00m \u001b[38;5;28mself\u001b[39m\u001b[38;5;241m.\u001b[39mapply_standard()\n",
      "File \u001b[1;32mc:\\ProgramData\\Anaconda3\\Lib\\site-packages\\pandas\\core\\apply.py:1063\u001b[0m, in \u001b[0;36mFrameApply.apply_standard\u001b[1;34m(self)\u001b[0m\n\u001b[0;32m   1061\u001b[0m \u001b[38;5;28;01mdef\u001b[39;00m \u001b[38;5;21mapply_standard\u001b[39m(\u001b[38;5;28mself\u001b[39m):\n\u001b[0;32m   1062\u001b[0m     \u001b[38;5;28;01mif\u001b[39;00m \u001b[38;5;28mself\u001b[39m\u001b[38;5;241m.\u001b[39mengine \u001b[38;5;241m==\u001b[39m \u001b[38;5;124m\"\u001b[39m\u001b[38;5;124mpython\u001b[39m\u001b[38;5;124m\"\u001b[39m:\n\u001b[1;32m-> 1063\u001b[0m         results, res_index \u001b[38;5;241m=\u001b[39m \u001b[38;5;28mself\u001b[39m\u001b[38;5;241m.\u001b[39mapply_series_generator()\n\u001b[0;32m   1064\u001b[0m     \u001b[38;5;28;01melse\u001b[39;00m:\n\u001b[0;32m   1065\u001b[0m         results, res_index \u001b[38;5;241m=\u001b[39m \u001b[38;5;28mself\u001b[39m\u001b[38;5;241m.\u001b[39mapply_series_numba()\n",
      "File \u001b[1;32mc:\\ProgramData\\Anaconda3\\Lib\\site-packages\\pandas\\core\\apply.py:1081\u001b[0m, in \u001b[0;36mFrameApply.apply_series_generator\u001b[1;34m(self)\u001b[0m\n\u001b[0;32m   1078\u001b[0m \u001b[38;5;28;01mwith\u001b[39;00m option_context(\u001b[38;5;124m\"\u001b[39m\u001b[38;5;124mmode.chained_assignment\u001b[39m\u001b[38;5;124m\"\u001b[39m, \u001b[38;5;28;01mNone\u001b[39;00m):\n\u001b[0;32m   1079\u001b[0m     \u001b[38;5;28;01mfor\u001b[39;00m i, v \u001b[38;5;129;01min\u001b[39;00m \u001b[38;5;28menumerate\u001b[39m(series_gen):\n\u001b[0;32m   1080\u001b[0m         \u001b[38;5;66;03m# ignore SettingWithCopy here in case the user mutates\u001b[39;00m\n\u001b[1;32m-> 1081\u001b[0m         results[i] \u001b[38;5;241m=\u001b[39m \u001b[38;5;28mself\u001b[39m\u001b[38;5;241m.\u001b[39mfunc(v, \u001b[38;5;241m*\u001b[39m\u001b[38;5;28mself\u001b[39m\u001b[38;5;241m.\u001b[39margs, \u001b[38;5;241m*\u001b[39m\u001b[38;5;241m*\u001b[39m\u001b[38;5;28mself\u001b[39m\u001b[38;5;241m.\u001b[39mkwargs)\n\u001b[0;32m   1082\u001b[0m         \u001b[38;5;28;01mif\u001b[39;00m \u001b[38;5;28misinstance\u001b[39m(results[i], ABCSeries):\n\u001b[0;32m   1083\u001b[0m             \u001b[38;5;66;03m# If we have a view on v, we need to make a copy because\u001b[39;00m\n\u001b[0;32m   1084\u001b[0m             \u001b[38;5;66;03m#  series_generator will swap out the underlying data\u001b[39;00m\n\u001b[0;32m   1085\u001b[0m             results[i] \u001b[38;5;241m=\u001b[39m results[i]\u001b[38;5;241m.\u001b[39mcopy(deep\u001b[38;5;241m=\u001b[39m\u001b[38;5;28;01mFalse\u001b[39;00m)\n",
      "Cell \u001b[1;32mIn[203], line 4\u001b[0m, in \u001b[0;36mhandle_null\u001b[1;34m(col)\u001b[0m\n\u001b[0;32m      3\u001b[0m \u001b[38;5;28;01mdef\u001b[39;00m \u001b[38;5;21mhandle_null\u001b[39m(col):\n\u001b[1;32m----> 4\u001b[0m     \u001b[38;5;28;01mif\u001b[39;00m np\u001b[38;5;241m.\u001b[39missubdtype(col\u001b[38;5;241m.\u001b[39mdtype, np\u001b[38;5;241m.\u001b[39mnumber):  \u001b[38;5;66;03m# float64 columns\u001b[39;00m\n\u001b[0;32m      5\u001b[0m         \u001b[38;5;28;01mreturn\u001b[39;00m col\u001b[38;5;241m.\u001b[39mfillna(\u001b[38;5;241m-\u001b[39m\u001b[38;5;241m1\u001b[39m)\n\u001b[0;32m      6\u001b[0m     \u001b[38;5;28;01melif\u001b[39;00m col\u001b[38;5;241m.\u001b[39mdtype\u001b[38;5;241m.\u001b[39mkind \u001b[38;5;241m==\u001b[39m \u001b[38;5;124m'\u001b[39m\u001b[38;5;124mO\u001b[39m\u001b[38;5;124m'\u001b[39m:\n",
      "File \u001b[1;32mc:\\ProgramData\\Anaconda3\\Lib\\site-packages\\numpy\\core\\numerictypes.py:417\u001b[0m, in \u001b[0;36missubdtype\u001b[1;34m(arg1, arg2)\u001b[0m\n\u001b[0;32m    359\u001b[0m \u001b[38;5;250m\u001b[39m\u001b[38;5;124mr\u001b[39m\u001b[38;5;124;03m\"\"\"\u001b[39;00m\n\u001b[0;32m    360\u001b[0m \u001b[38;5;124;03mReturns True if first argument is a typecode lower/equal in type hierarchy.\u001b[39;00m\n\u001b[0;32m    361\u001b[0m \n\u001b[1;32m   (...)\u001b[0m\n\u001b[0;32m    414\u001b[0m \n\u001b[0;32m    415\u001b[0m \u001b[38;5;124;03m\"\"\"\u001b[39;00m\n\u001b[0;32m    416\u001b[0m \u001b[38;5;28;01mif\u001b[39;00m \u001b[38;5;129;01mnot\u001b[39;00m issubclass_(arg1, generic):\n\u001b[1;32m--> 417\u001b[0m     arg1 \u001b[38;5;241m=\u001b[39m dtype(arg1)\u001b[38;5;241m.\u001b[39mtype\n\u001b[0;32m    418\u001b[0m \u001b[38;5;28;01mif\u001b[39;00m \u001b[38;5;129;01mnot\u001b[39;00m issubclass_(arg2, generic):\n\u001b[0;32m    419\u001b[0m     arg2 \u001b[38;5;241m=\u001b[39m dtype(arg2)\u001b[38;5;241m.\u001b[39mtype\n",
      "\u001b[1;31mTypeError\u001b[0m: Cannot interpret 'datetime64[ns, Europe/Amsterdam]' as a data type"
     ]
    }
   ],
   "source": [
    "# fill all null values (clients that are in footprint but not in in client profile) \n",
    "\n",
    "def handle_null(col):\n",
    "    if np.issubdtype(col.dtype, np.number):  # float64 columns\n",
    "        return col.fillna(-1)\n",
    "    elif col.dtype.kind == 'O':\n",
    "        return col.fillna('unknown')\n",
    "    else:\n",
    "        return col\n",
    "\n",
    "df_final = df_final.apply(handle_null)\n",
    "\n",
    "df_final.isna().sum()"
   ]
  },
  {
   "cell_type": "code",
   "execution_count": null,
   "id": "1ea7c5e0",
   "metadata": {},
   "outputs": [
    {
     "data": {
      "text/plain": [
       "variation_cleaned\n",
       "unknown    427406\n",
       "Test       176699\n",
       "Control    140536\n",
       "Name: count, dtype: int64"
      ]
     },
     "execution_count": 218,
     "metadata": {},
     "output_type": "execute_result"
    }
   ],
   "source": [
    "df_final['variation_cleaned'].value_counts()"
   ]
  },
  {
   "cell_type": "code",
   "execution_count": null,
   "id": "183078b9",
   "metadata": {},
   "outputs": [
    {
     "data": {
      "text/html": [
       "<div>\n",
       "<style scoped>\n",
       "    .dataframe tbody tr th:only-of-type {\n",
       "        vertical-align: middle;\n",
       "    }\n",
       "\n",
       "    .dataframe tbody tr th {\n",
       "        vertical-align: top;\n",
       "    }\n",
       "\n",
       "    .dataframe thead th {\n",
       "        text-align: right;\n",
       "    }\n",
       "</style>\n",
       "<table border=\"1\" class=\"dataframe\">\n",
       "  <thead>\n",
       "    <tr style=\"text-align: right;\">\n",
       "      <th></th>\n",
       "      <th>client_id</th>\n",
       "      <th>visitor_id</th>\n",
       "      <th>visit_id</th>\n",
       "      <th>process_step</th>\n",
       "      <th>date_time</th>\n",
       "      <th>variation</th>\n",
       "      <th>variation_cleaned</th>\n",
       "      <th>client_tenure_year</th>\n",
       "      <th>client_tenure_month</th>\n",
       "      <th>client_age</th>\n",
       "      <th>gender</th>\n",
       "      <th>number_of_accounts</th>\n",
       "      <th>balance</th>\n",
       "      <th>calls_6_month</th>\n",
       "      <th>logos_6_month</th>\n",
       "    </tr>\n",
       "  </thead>\n",
       "  <tbody>\n",
       "    <tr>\n",
       "      <th>0</th>\n",
       "      <td>9988021</td>\n",
       "      <td>580560515_7732621733</td>\n",
       "      <td>781255054_21935453173_531117</td>\n",
       "      <td>step_3</td>\n",
       "      <td>2017-04-17 15:27:07</td>\n",
       "      <td>Test</td>\n",
       "      <td>Test</td>\n",
       "      <td>5.0</td>\n",
       "      <td>64.0</td>\n",
       "      <td>79.0</td>\n",
       "      <td>unknown</td>\n",
       "      <td>2.0</td>\n",
       "      <td>189023.86</td>\n",
       "      <td>1.0</td>\n",
       "      <td>4.0</td>\n",
       "    </tr>\n",
       "    <tr>\n",
       "      <th>1</th>\n",
       "      <td>9988021</td>\n",
       "      <td>580560515_7732621733</td>\n",
       "      <td>781255054_21935453173_531117</td>\n",
       "      <td>step_2</td>\n",
       "      <td>2017-04-17 15:26:51</td>\n",
       "      <td>Test</td>\n",
       "      <td>Test</td>\n",
       "      <td>5.0</td>\n",
       "      <td>64.0</td>\n",
       "      <td>79.0</td>\n",
       "      <td>unknown</td>\n",
       "      <td>2.0</td>\n",
       "      <td>189023.86</td>\n",
       "      <td>1.0</td>\n",
       "      <td>4.0</td>\n",
       "    </tr>\n",
       "    <tr>\n",
       "      <th>2</th>\n",
       "      <td>9988021</td>\n",
       "      <td>580560515_7732621733</td>\n",
       "      <td>781255054_21935453173_531117</td>\n",
       "      <td>step_3</td>\n",
       "      <td>2017-04-17 15:19:22</td>\n",
       "      <td>Test</td>\n",
       "      <td>Test</td>\n",
       "      <td>5.0</td>\n",
       "      <td>64.0</td>\n",
       "      <td>79.0</td>\n",
       "      <td>unknown</td>\n",
       "      <td>2.0</td>\n",
       "      <td>189023.86</td>\n",
       "      <td>1.0</td>\n",
       "      <td>4.0</td>\n",
       "    </tr>\n",
       "    <tr>\n",
       "      <th>3</th>\n",
       "      <td>9988021</td>\n",
       "      <td>580560515_7732621733</td>\n",
       "      <td>781255054_21935453173_531117</td>\n",
       "      <td>step_2</td>\n",
       "      <td>2017-04-17 15:19:13</td>\n",
       "      <td>Test</td>\n",
       "      <td>Test</td>\n",
       "      <td>5.0</td>\n",
       "      <td>64.0</td>\n",
       "      <td>79.0</td>\n",
       "      <td>unknown</td>\n",
       "      <td>2.0</td>\n",
       "      <td>189023.86</td>\n",
       "      <td>1.0</td>\n",
       "      <td>4.0</td>\n",
       "    </tr>\n",
       "    <tr>\n",
       "      <th>4</th>\n",
       "      <td>9988021</td>\n",
       "      <td>580560515_7732621733</td>\n",
       "      <td>781255054_21935453173_531117</td>\n",
       "      <td>step_3</td>\n",
       "      <td>2017-04-17 15:18:04</td>\n",
       "      <td>Test</td>\n",
       "      <td>Test</td>\n",
       "      <td>5.0</td>\n",
       "      <td>64.0</td>\n",
       "      <td>79.0</td>\n",
       "      <td>unknown</td>\n",
       "      <td>2.0</td>\n",
       "      <td>189023.86</td>\n",
       "      <td>1.0</td>\n",
       "      <td>4.0</td>\n",
       "    </tr>\n",
       "    <tr>\n",
       "      <th>...</th>\n",
       "      <td>...</td>\n",
       "      <td>...</td>\n",
       "      <td>...</td>\n",
       "      <td>...</td>\n",
       "      <td>...</td>\n",
       "      <td>...</td>\n",
       "      <td>...</td>\n",
       "      <td>...</td>\n",
       "      <td>...</td>\n",
       "      <td>...</td>\n",
       "      <td>...</td>\n",
       "      <td>...</td>\n",
       "      <td>...</td>\n",
       "      <td>...</td>\n",
       "      <td>...</td>\n",
       "    </tr>\n",
       "    <tr>\n",
       "      <th>744636</th>\n",
       "      <td>9668240</td>\n",
       "      <td>388766751_9038881013</td>\n",
       "      <td>922267647_3096648104_968866</td>\n",
       "      <td>start</td>\n",
       "      <td>2017-05-24 18:46:10</td>\n",
       "      <td>unknown</td>\n",
       "      <td>unknown</td>\n",
       "      <td>-1.0</td>\n",
       "      <td>-1.0</td>\n",
       "      <td>-1.0</td>\n",
       "      <td>unknown</td>\n",
       "      <td>-1.0</td>\n",
       "      <td>-1.00</td>\n",
       "      <td>-1.0</td>\n",
       "      <td>-1.0</td>\n",
       "    </tr>\n",
       "    <tr>\n",
       "      <th>744637</th>\n",
       "      <td>9668240</td>\n",
       "      <td>388766751_9038881013</td>\n",
       "      <td>922267647_3096648104_968866</td>\n",
       "      <td>start</td>\n",
       "      <td>2017-05-24 18:45:29</td>\n",
       "      <td>unknown</td>\n",
       "      <td>unknown</td>\n",
       "      <td>-1.0</td>\n",
       "      <td>-1.0</td>\n",
       "      <td>-1.0</td>\n",
       "      <td>unknown</td>\n",
       "      <td>-1.0</td>\n",
       "      <td>-1.00</td>\n",
       "      <td>-1.0</td>\n",
       "      <td>-1.0</td>\n",
       "    </tr>\n",
       "    <tr>\n",
       "      <th>744638</th>\n",
       "      <td>9668240</td>\n",
       "      <td>388766751_9038881013</td>\n",
       "      <td>922267647_3096648104_968866</td>\n",
       "      <td>step_1</td>\n",
       "      <td>2017-05-24 18:44:51</td>\n",
       "      <td>unknown</td>\n",
       "      <td>unknown</td>\n",
       "      <td>-1.0</td>\n",
       "      <td>-1.0</td>\n",
       "      <td>-1.0</td>\n",
       "      <td>unknown</td>\n",
       "      <td>-1.0</td>\n",
       "      <td>-1.00</td>\n",
       "      <td>-1.0</td>\n",
       "      <td>-1.0</td>\n",
       "    </tr>\n",
       "    <tr>\n",
       "      <th>744639</th>\n",
       "      <td>9668240</td>\n",
       "      <td>388766751_9038881013</td>\n",
       "      <td>922267647_3096648104_968866</td>\n",
       "      <td>start</td>\n",
       "      <td>2017-05-24 18:44:34</td>\n",
       "      <td>unknown</td>\n",
       "      <td>unknown</td>\n",
       "      <td>-1.0</td>\n",
       "      <td>-1.0</td>\n",
       "      <td>-1.0</td>\n",
       "      <td>unknown</td>\n",
       "      <td>-1.0</td>\n",
       "      <td>-1.00</td>\n",
       "      <td>-1.0</td>\n",
       "      <td>-1.0</td>\n",
       "    </tr>\n",
       "    <tr>\n",
       "      <th>744640</th>\n",
       "      <td>674799</td>\n",
       "      <td>947159805_81558194550</td>\n",
       "      <td>86152093_47511127657_716022</td>\n",
       "      <td>start</td>\n",
       "      <td>2017-06-03 12:17:09</td>\n",
       "      <td>unknown</td>\n",
       "      <td>unknown</td>\n",
       "      <td>-1.0</td>\n",
       "      <td>-1.0</td>\n",
       "      <td>-1.0</td>\n",
       "      <td>unknown</td>\n",
       "      <td>-1.0</td>\n",
       "      <td>-1.00</td>\n",
       "      <td>-1.0</td>\n",
       "      <td>-1.0</td>\n",
       "    </tr>\n",
       "  </tbody>\n",
       "</table>\n",
       "<p>744641 rows × 15 columns</p>\n",
       "</div>"
      ],
      "text/plain": [
       "        client_id             visitor_id                      visit_id  \\\n",
       "0         9988021   580560515_7732621733  781255054_21935453173_531117   \n",
       "1         9988021   580560515_7732621733  781255054_21935453173_531117   \n",
       "2         9988021   580560515_7732621733  781255054_21935453173_531117   \n",
       "3         9988021   580560515_7732621733  781255054_21935453173_531117   \n",
       "4         9988021   580560515_7732621733  781255054_21935453173_531117   \n",
       "...           ...                    ...                           ...   \n",
       "744636    9668240   388766751_9038881013   922267647_3096648104_968866   \n",
       "744637    9668240   388766751_9038881013   922267647_3096648104_968866   \n",
       "744638    9668240   388766751_9038881013   922267647_3096648104_968866   \n",
       "744639    9668240   388766751_9038881013   922267647_3096648104_968866   \n",
       "744640     674799  947159805_81558194550   86152093_47511127657_716022   \n",
       "\n",
       "       process_step           date_time variation variation_cleaned  \\\n",
       "0            step_3 2017-04-17 15:27:07      Test              Test   \n",
       "1            step_2 2017-04-17 15:26:51      Test              Test   \n",
       "2            step_3 2017-04-17 15:19:22      Test              Test   \n",
       "3            step_2 2017-04-17 15:19:13      Test              Test   \n",
       "4            step_3 2017-04-17 15:18:04      Test              Test   \n",
       "...             ...                 ...       ...               ...   \n",
       "744636        start 2017-05-24 18:46:10   unknown           unknown   \n",
       "744637        start 2017-05-24 18:45:29   unknown           unknown   \n",
       "744638       step_1 2017-05-24 18:44:51   unknown           unknown   \n",
       "744639        start 2017-05-24 18:44:34   unknown           unknown   \n",
       "744640        start 2017-06-03 12:17:09   unknown           unknown   \n",
       "\n",
       "        client_tenure_year  client_tenure_month  client_age   gender  \\\n",
       "0                      5.0                 64.0        79.0  unknown   \n",
       "1                      5.0                 64.0        79.0  unknown   \n",
       "2                      5.0                 64.0        79.0  unknown   \n",
       "3                      5.0                 64.0        79.0  unknown   \n",
       "4                      5.0                 64.0        79.0  unknown   \n",
       "...                    ...                  ...         ...      ...   \n",
       "744636                -1.0                 -1.0        -1.0  unknown   \n",
       "744637                -1.0                 -1.0        -1.0  unknown   \n",
       "744638                -1.0                 -1.0        -1.0  unknown   \n",
       "744639                -1.0                 -1.0        -1.0  unknown   \n",
       "744640                -1.0                 -1.0        -1.0  unknown   \n",
       "\n",
       "        number_of_accounts    balance  calls_6_month  logos_6_month  \n",
       "0                      2.0  189023.86            1.0            4.0  \n",
       "1                      2.0  189023.86            1.0            4.0  \n",
       "2                      2.0  189023.86            1.0            4.0  \n",
       "3                      2.0  189023.86            1.0            4.0  \n",
       "4                      2.0  189023.86            1.0            4.0  \n",
       "...                    ...        ...            ...            ...  \n",
       "744636                -1.0      -1.00           -1.0           -1.0  \n",
       "744637                -1.0      -1.00           -1.0           -1.0  \n",
       "744638                -1.0      -1.00           -1.0           -1.0  \n",
       "744639                -1.0      -1.00           -1.0           -1.0  \n",
       "744640                -1.0      -1.00           -1.0           -1.0  \n",
       "\n",
       "[744641 rows x 15 columns]"
      ]
     },
     "metadata": {},
     "output_type": "display_data"
    }
   ],
   "source": [
    "display(df_final)"
   ]
  },
  {
   "cell_type": "code",
   "execution_count": null,
   "id": "767132f6",
   "metadata": {},
   "outputs": [],
   "source": [
    "# For the plots\n",
    "STEP_ORDER = ['start', 'step_1', 'step_2', 'step_3', 'confirm']\n",
    "\n",
    "df = df_final.copy()\n",
    "# keep only rows we can use\n",
    "need_cols = [c for c in ['client_id','date_time'] if c in df.columns]\n",
    "df = df.dropna(subset=need_cols)\n",
    "df['date_time'] = pd.to_datetime(df['date_time'], errors='coerce')\n",
    "df = df.dropna(subset=['date_time'])"
   ]
  },
  {
   "cell_type": "code",
   "execution_count": null,
   "id": "68cf7c46",
   "metadata": {},
   "outputs": [
    {
     "data": {
      "image/png": "[encoded data removed]",
      "text/plain": [
       "<Figure size 640x480 with 1 Axes>"
      ]
     },
     "metadata": {},
     "output_type": "display_data"
    }
   ],
   "source": [
    "# Distribution of session time spent (visit duration in minutes)\n",
    "keys = ['client_id'] + (['visit_id'] if 'visit_id' in df.columns else [])\n",
    "dur = (df.groupby(keys)['date_time']\n",
    "         .agg(start='min', end='max')\n",
    "         .assign(duration_min=lambda x: (x['end'] - x['start']).dt.total_seconds()/60)\n",
    "         .reset_index())\n",
    "\n",
    "plt.figure()\n",
    "vals = dur['duration_min'].dropna()\n",
    "if len(vals) == 0:\n",
    "    print(\"No durations to plot (check date_time and visit_id).\")\n",
    "else:\n",
    "    # cap extreme durations to make the histogram readable\n",
    "    cap = np.nanpercentile(vals, 99)\n",
    "    vals_clipped = np.clip(vals, 0, cap)\n",
    "    plt.hist(vals_clipped, bins=30)\n",
    "    plt.title('Distribution of session durations')\n",
    "    plt.xlabel('Session duration (minutes)')\n",
    "    plt.ylabel('Number of sessions')\n",
    "    plt.tight_layout()\n",
    "    plt.show()"
   ]
  },
  {
   "cell_type": "code",
   "execution_count": null,
   "id": "02111e87",
   "metadata": {},
   "outputs": [
    {
     "data": {
      "image/png": "[encoded data removed]",
      "text/plain": [
       "<Figure size 640x480 with 1 Axes>"
      ]
     },
     "metadata": {},
     "output_type": "display_data"
    },
    {
     "name": "stdout",
     "output_type": "stream",
     "text": [
      "Total unique clients: 120,157\n",
      "Strict complete:      77,384\n",
      "Not strict:           42,773\n"
     ]
    }
   ],
   "source": [
    "# Amount of clients who completed all steps in order within a visit\n",
    "STEP_ORDER = ['start','step_1','step_2','step_3','confirm']\n",
    "\n",
    "# --- 1) Recompute strict completers (per visit), then dedupe to client-level\n",
    "df = df_final[['client_id','visit_id','process_step','date_time']].copy()\n",
    "df = df.dropna(subset=['client_id','process_step','date_time'])\n",
    "df['date_time'] = pd.to_datetime(df['date_time'], errors='coerce')\n",
    "df = df.dropna(subset=['date_time'])\n",
    "\n",
    "# Work at visit granularity when visit_id exists; otherwise fall back to client-only\n",
    "step_keys = ['client_id'] + (['visit_id'] if 'visit_id' in df.columns else [])\n",
    "\n",
    "first_times = (df.sort_values('date_time')\n",
    "               .drop_duplicates(subset=step_keys+['process_step'], keep='first')\n",
    "               .set_index(step_keys + ['process_step'])['date_time']\n",
    "               .unstack('process_step')\n",
    "               .reindex(columns=STEP_ORDER))\n",
    "\n",
    "strict_clients = pd.Index([])\n",
    "if first_times.shape[0] > 0:\n",
    "    mask_all   = first_times[STEP_ORDER].notna().all(axis=1)\n",
    "    mask_order = (first_times[STEP_ORDER].diff(axis=1).iloc[:, 1:] > pd.Timedelta(0)).all(axis=1)\n",
    "    valid_visits   = first_times.loc[mask_all & mask_order].reset_index()\n",
    "    strict_clients = valid_visits['client_id'].drop_duplicates()\n",
    "\n",
    "strict_count = int(strict_clients.nunique())\n",
    "\n",
    "# Base = all unique clients seen in df_final (any step)\n",
    "total_clients = int(df_final['client_id'].dropna().nunique())\n",
    "not_strict    = max(total_clients - strict_count, 0)\n",
    "\n",
    "vals   = [strict_count, not_strict]\n",
    "labels = ['Strict complete', 'Not strict']\n",
    "\n",
    "# Donut share (percent of clients)\n",
    "fig, ax = plt.subplots()\n",
    "wedges, texts, autotexts = ax.pie(\n",
    "    vals,\n",
    "    labels=labels,\n",
    "    autopct=lambda p: f'{p:.1f}%\\n({int(round(p*total_clients/100)):,})',\n",
    "    startangle=90\n",
    ")\n",
    "# donut hole\n",
    "centre = plt.Circle((0,0), 0.6, fc='white')\n",
    "fig.gca().add_artist(centre)\n",
    "ax.set_title('Share of clients completing all steps (strict)')\n",
    "plt.tight_layout(); plt.show()\n",
    "\n",
    "print(f\"Total unique clients: {total_clients:,}\")\n",
    "print(f\"Strict complete:      {strict_count:,}\")\n",
    "print(f\"Not strict:           {not_strict:,}\")"
   ]
  },
  {
   "cell_type": "code",
   "execution_count": null,
   "id": "17f8a2da",
   "metadata": {},
   "outputs": [
    {
     "data": {
      "image/png": "[encoded data removed]",
      "text/plain": [
       "<Figure size 640x480 with 1 Axes>"
      ]
     },
     "metadata": {},
     "output_type": "display_data"
    }
   ],
   "source": [
    "# Amount of clients who reached confirm at least once (within walking all the steps)\n",
    "d = df_final[['client_id','process_step']].dropna(subset=['client_id']).copy()\n",
    "n_total   = d['client_id'].nunique()\n",
    "n_confirm = d.loc[d['process_step'].eq('confirm'), 'client_id'].drop_duplicates().nunique()\n",
    "n_no_conf = n_total - n_confirm\n",
    "vals = [n_confirm, n_no_conf]\n",
    "labels = ['Confirm ≥1×', 'No confirm']\n",
    "\n",
    "fig, ax = plt.subplots()\n",
    "wedges, texts, autotexts = ax.pie(\n",
    "    vals, labels=labels, autopct=lambda p: f'{p:.1f}%\\n({int(round(p*n_total/100)):,})',\n",
    "    startangle=90\n",
    ")\n",
    "# donut hole\n",
    "centre = plt.Circle((0,0), 0.6, fc='white')\n",
    "fig.gca().add_artist(centre)\n",
    "ax.set_title('Share of clients who reached confirm')\n",
    "plt.tight_layout(); plt.show()"
   ]
  },
  {
   "cell_type": "code",
   "execution_count": null,
   "id": "016756f9",
   "metadata": {},
   "outputs": [
    {
     "data": {
      "image/png": "[encoded data removed]",
      "text/plain": [
       "<Figure size 640x480 with 1 Axes>"
      ]
     },
     "metadata": {},
     "output_type": "display_data"
    },
    {
     "name": "stdout",
     "output_type": "stream",
     "text": [
      "Average hourly confirm rate (%): 52.86\n"
     ]
    }
   ],
   "source": [
    "d = df_final[['client_id','process_step','date_time']].dropna(subset=['client_id','date_time']).copy()\n",
    "d['date_time'] = pd.to_datetime(d['date_time'], errors='coerce', utc=True).dt.tz_convert('Europe/Amsterdam')\n",
    "d = d.dropna(subset=['date_time'])\n",
    "\n",
    "# Hour of day (0..23)\n",
    "d['hour'] = d['date_time'].dt.hour\n",
    "\n",
    "# Denominator: unique active clients per hour-of-day (any step)\n",
    "base = d.groupby('hour')['client_id'].nunique()\n",
    "\n",
    "# Numerator: unique clients who reached 'confirm' in that hour-of-day\n",
    "conf = (d.loc[d['process_step'].eq('confirm')]\n",
    "          .groupby('hour')['client_id']\n",
    "          .nunique())\n",
    "\n",
    "# % reaching confirm per hour-of-day\n",
    "rate = (conf.reindex(range(24), fill_value=0) / base.reindex(range(24), fill_value=0).replace(0, pd.NA) * 100).fillna(0)\n",
    "\n",
    "# Plot (bar)\n",
    "plt.figure()\n",
    "plt.bar(rate.index, rate.values)\n",
    "plt.xticks(range(24))\n",
    "plt.xlabel('Hour of day'); plt.ylabel('Clients reaching confirm (%)')\n",
    "plt.title('Hourly % of clients who reached confirm (by hour of day)')\n",
    "plt.tight_layout(); plt.show()\n",
    "\n",
    "print(\"Average hourly confirm rate (%):\", round(rate.mean(), 2))"
   ]
  },
  {
   "cell_type": "markdown",
   "id": "b97fade0",
   "metadata": {},
   "source": [
    "## EDA "
   ]
  },
  {
   "cell_type": "markdown",
   "id": "cb38021a",
   "metadata": {},
   "source": [
    "### Client behavior analysis\n",
    "- Who are the primary clients using this online process?\n",
    "\n",
    "From the age-distribution charts, usage is concentrated among adults 25–64. The single largest group is 55–64 (about 21,2%), closely followed by 25–34 and 45–54 (each about 20,5%). 35–44 is the next sizable band (about 16.5%). Younger clients 18–24 and older 75+ are small minorities, and <18 is negligible (about 22% combined)"
   ]
  },
  {
   "cell_type": "markdown",
   "id": "22af5ae5",
   "metadata": {},
   "source": [
    "- Are the primary clients younger or older, new or long-standing?\n",
    "\n",
    "From the clients-tenure graph we can observe that: The primary age group is: 55–64 (21.2% of online clients) are older and The primary tenure group is: 10+ (55.2% of online clients) are long-standing"
   ]
  },
  {
   "cell_type": "markdown",
   "id": "83720b35",
   "metadata": {},
   "source": [
    "To re-inforce the answer, here is a more accurate graph per age group and tenure-year"
   ]
  },
  {
   "cell_type": "code",
   "execution_count": 204,
   "id": "5f7b2c75",
   "metadata": {},
   "outputs": [
    {
     "data": {
      "image/png": "[encoded data removed]",
      "text/plain": [
       "<Figure size 640x480 with 1 Axes>"
      ]
     },
     "metadata": {},
     "output_type": "display_data"
    }
   ],
   "source": [
    "# Age buckets (adjust if you want different bands)\n",
    "age_bins   = [0, 17, 24, 34, 44, 54, 64, 74, 120]\n",
    "age_labels = ['<18','18–24','25–34','35–44','45–54','55–64','65–74','75+']\n",
    "\n",
    "online_demo['age_bucket'] = pd.cut(online_demo[age_col], bins=age_bins, labels=age_labels, right=True)\n",
    "age_counts = online_demo['age_bucket'].value_counts().reindex(age_labels).fillna(0).astype(int)\n",
    "age_pct    = (age_counts / age_counts.sum()).fillna(0).mul(100)\n",
    "\n",
    "# Percentages\n",
    "plt.figure()\n",
    "plt.bar(age_pct.index, age_pct.values)\n",
    "plt.title('Clients using the online process — by age (%)')\n",
    "plt.xlabel('Age bucket'); plt.ylabel('Share of clients (%)')\n",
    "plt.tight_layout(); plt.show()\n"
   ]
  },
  {
   "cell_type": "code",
   "execution_count": 205,
   "id": "86103eef",
   "metadata": {},
   "outputs": [
    {
     "data": {
      "image/png": "[encoded data removed]",
      "text/plain": [
       "<Figure size 640x480 with 1 Axes>"
      ]
     },
     "metadata": {},
     "output_type": "display_data"
    }
   ],
   "source": [
    "# Tenure buckets (years)\n",
    "ten_bins   = [-0.01, 0.99, 2.99, 4.99, 9.99, 100]\n",
    "ten_labels = ['<1 yr','1–2','3–4','5–9','10+']\n",
    "\n",
    "online_demo['tenure_bucket'] = pd.cut(online_demo[ten_col], bins=ten_bins, labels=ten_labels, right=True)\n",
    "ten_counts = online_demo['tenure_bucket'].value_counts().reindex(ten_labels).fillna(0).astype(int)\n",
    "ten_pct    = (ten_counts / ten_counts.sum()).fillna(0).mul(100)\n",
    "\n",
    "# Percentages\n",
    "plt.figure()\n",
    "plt.bar(ten_pct.index, ten_pct.values)\n",
    "plt.title('Clients using the process — by tenure (%)')\n",
    "plt.xlabel('Tenure (years)'); plt.ylabel('Share of clients (%)')\n",
    "plt.tight_layout(); plt.show()\n"
   ]
  },
  {
   "cell_type": "markdown",
   "id": "44f229be",
   "metadata": {},
   "source": [
    "## KPIs & Metrics"
   ]
  },
  {
   "cell_type": "markdown",
   "id": "1cb07bd0",
   "metadata": {},
   "source": [
    "#### Completion Rate: The proportion of users who reach the final 'confirm' step.\n",
    "\n",
    "- Average daily percentage of clients who reach confirm: ~53.8% \n",
    "\n",
    "- Clients who reached confirm at least once: 81,145\n",
    "\n",
    "- Clients who completed the full funnel in order (start→1→2→3→confirm): 77,384 → ~95% of confirmers followed the intended path (77,384 / 81,145 ≈ 95.4%)"
   ]
  },
  {
   "cell_type": "code",
   "execution_count": 206,
   "id": "0ef71515",
   "metadata": {},
   "outputs": [
    {
     "data": {
      "text/html": [
       "<div>\n",
       "<style scoped>\n",
       "    .dataframe tbody tr th:only-of-type {\n",
       "        vertical-align: middle;\n",
       "    }\n",
       "\n",
       "    .dataframe tbody tr th {\n",
       "        vertical-align: top;\n",
       "    }\n",
       "\n",
       "    .dataframe thead th {\n",
       "        text-align: right;\n",
       "    }\n",
       "</style>\n",
       "<table border=\"1\" class=\"dataframe\">\n",
       "  <thead>\n",
       "    <tr style=\"text-align: right;\">\n",
       "      <th>process_step</th>\n",
       "      <th>client_id</th>\n",
       "      <th>start</th>\n",
       "      <th>step_1</th>\n",
       "      <th>step_2</th>\n",
       "      <th>step_3</th>\n",
       "      <th>confirm</th>\n",
       "      <th>start_done</th>\n",
       "      <th>step_1_done</th>\n",
       "      <th>step_2_done</th>\n",
       "      <th>step_3_done</th>\n",
       "      <th>confirm_done</th>\n",
       "    </tr>\n",
       "  </thead>\n",
       "  <tbody>\n",
       "    <tr>\n",
       "      <th>0</th>\n",
       "      <td>169</td>\n",
       "      <td>2017-04-12 22:19:36+02:00</td>\n",
       "      <td>2017-04-12 22:19:45+02:00</td>\n",
       "      <td>2017-04-12 22:20:31+02:00</td>\n",
       "      <td>2017-04-12 22:22:05+02:00</td>\n",
       "      <td>2017-04-12 22:23:09+02:00</td>\n",
       "      <td>True</td>\n",
       "      <td>True</td>\n",
       "      <td>True</td>\n",
       "      <td>True</td>\n",
       "      <td>True</td>\n",
       "    </tr>\n",
       "    <tr>\n",
       "      <th>1</th>\n",
       "      <td>336</td>\n",
       "      <td>2017-06-01 09:26:55+02:00</td>\n",
       "      <td>NaT</td>\n",
       "      <td>NaT</td>\n",
       "      <td>NaT</td>\n",
       "      <td>NaT</td>\n",
       "      <td>True</td>\n",
       "      <td>False</td>\n",
       "      <td>False</td>\n",
       "      <td>False</td>\n",
       "      <td>False</td>\n",
       "    </tr>\n",
       "    <tr>\n",
       "      <th>2</th>\n",
       "      <td>546</td>\n",
       "      <td>2017-06-17 12:03:29+02:00</td>\n",
       "      <td>2017-06-17 12:03:39+02:00</td>\n",
       "      <td>2017-06-17 12:03:52+02:00</td>\n",
       "      <td>2017-06-17 12:05:19+02:00</td>\n",
       "      <td>2017-06-17 12:05:42+02:00</td>\n",
       "      <td>True</td>\n",
       "      <td>True</td>\n",
       "      <td>True</td>\n",
       "      <td>True</td>\n",
       "      <td>True</td>\n",
       "    </tr>\n",
       "    <tr>\n",
       "      <th>3</th>\n",
       "      <td>555</td>\n",
       "      <td>2017-04-15 14:57:56+02:00</td>\n",
       "      <td>2017-04-15 14:58:03+02:00</td>\n",
       "      <td>2017-04-15 14:58:35+02:00</td>\n",
       "      <td>2017-04-15 15:00:14+02:00</td>\n",
       "      <td>2017-04-15 15:00:34+02:00</td>\n",
       "      <td>True</td>\n",
       "      <td>True</td>\n",
       "      <td>True</td>\n",
       "      <td>True</td>\n",
       "      <td>True</td>\n",
       "    </tr>\n",
       "    <tr>\n",
       "      <th>4</th>\n",
       "      <td>647</td>\n",
       "      <td>2017-04-12 17:41:28+02:00</td>\n",
       "      <td>2017-04-12 17:41:35+02:00</td>\n",
       "      <td>2017-04-12 17:41:53+02:00</td>\n",
       "      <td>2017-04-12 17:45:02+02:00</td>\n",
       "      <td>2017-04-12 17:47:45+02:00</td>\n",
       "      <td>True</td>\n",
       "      <td>True</td>\n",
       "      <td>True</td>\n",
       "      <td>True</td>\n",
       "      <td>True</td>\n",
       "    </tr>\n",
       "  </tbody>\n",
       "</table>\n",
       "</div>"
      ],
      "text/plain": [
       "process_step  client_id                     start                    step_1  \\\n",
       "0                   169 2017-04-12 22:19:36+02:00 2017-04-12 22:19:45+02:00   \n",
       "1                   336 2017-06-01 09:26:55+02:00                       NaT   \n",
       "2                   546 2017-06-17 12:03:29+02:00 2017-06-17 12:03:39+02:00   \n",
       "3                   555 2017-04-15 14:57:56+02:00 2017-04-15 14:58:03+02:00   \n",
       "4                   647 2017-04-12 17:41:28+02:00 2017-04-12 17:41:35+02:00   \n",
       "\n",
       "process_step                    step_2                    step_3  \\\n",
       "0            2017-04-12 22:20:31+02:00 2017-04-12 22:22:05+02:00   \n",
       "1                                  NaT                       NaT   \n",
       "2            2017-06-17 12:03:52+02:00 2017-06-17 12:05:19+02:00   \n",
       "3            2017-04-15 14:58:35+02:00 2017-04-15 15:00:14+02:00   \n",
       "4            2017-04-12 17:41:53+02:00 2017-04-12 17:45:02+02:00   \n",
       "\n",
       "process_step                   confirm  start_done  step_1_done  step_2_done  \\\n",
       "0            2017-04-12 22:23:09+02:00        True         True         True   \n",
       "1                                  NaT        True        False        False   \n",
       "2            2017-06-17 12:05:42+02:00        True         True         True   \n",
       "3            2017-04-15 15:00:34+02:00        True         True         True   \n",
       "4            2017-04-12 17:47:45+02:00        True         True         True   \n",
       "\n",
       "process_step  step_3_done  confirm_done  \n",
       "0                    True          True  \n",
       "1                   False         False  \n",
       "2                    True          True  \n",
       "3                    True          True  \n",
       "4                    True          True  "
      ]
     },
     "metadata": {},
     "output_type": "display_data"
    }
   ],
   "source": [
    "# Define the order of steps\n",
    "\n",
    "STEP_ORDER = ['start','step_1','step_2','step_3','confirm']\n",
    "\n",
    "# Keep only the columns we need, clean basics\n",
    "df_steps = (df_footprints_combined\n",
    "            .dropna(subset=['client_id','process_step','date_time'])\n",
    "            .copy())\n",
    "df_steps['date_time'] = pd.to_datetime(df_steps['date_time'], errors='coerce')\n",
    "\n",
    "# First occurrence of each step per client → wide table\n",
    "wide_client = (df_steps\n",
    "    .sort_values(['client_id','date_time'])\n",
    "    .groupby(['client_id','process_step'])['date_time'].min()\n",
    "    .unstack('process_step')\n",
    "    .reindex(columns=STEP_ORDER)\n",
    "    .reset_index())\n",
    "\n",
    "# Boolean \"seen\" columns\n",
    "for s in STEP_ORDER:\n",
    "    wide_client[f'{s}_done'] = wide_client[s].notna()\n",
    "\n",
    "display(wide_client.head())"
   ]
  },
  {
   "cell_type": "code",
   "execution_count": 207,
   "id": "5d100f40",
   "metadata": {},
   "outputs": [
    {
     "data": {
      "text/html": [
       "<div>\n",
       "<style scoped>\n",
       "    .dataframe tbody tr th:only-of-type {\n",
       "        vertical-align: middle;\n",
       "    }\n",
       "\n",
       "    .dataframe tbody tr th {\n",
       "        vertical-align: top;\n",
       "    }\n",
       "\n",
       "    .dataframe thead th {\n",
       "        text-align: right;\n",
       "    }\n",
       "</style>\n",
       "<table border=\"1\" class=\"dataframe\">\n",
       "  <thead>\n",
       "    <tr style=\"text-align: right;\">\n",
       "      <th>process_step</th>\n",
       "      <th>client_id</th>\n",
       "      <th>visit_id</th>\n",
       "    </tr>\n",
       "  </thead>\n",
       "  <tbody>\n",
       "    <tr>\n",
       "      <th>0</th>\n",
       "      <td>169</td>\n",
       "      <td>749567106_99161211863_557568</td>\n",
       "    </tr>\n",
       "    <tr>\n",
       "      <th>1</th>\n",
       "      <td>546</td>\n",
       "      <td>731811517_9330176838_94847</td>\n",
       "    </tr>\n",
       "    <tr>\n",
       "      <th>2</th>\n",
       "      <td>555</td>\n",
       "      <td>637149525_38041617439_716659</td>\n",
       "    </tr>\n",
       "    <tr>\n",
       "      <th>3</th>\n",
       "      <td>647</td>\n",
       "      <td>40369564_40101682850_311847</td>\n",
       "    </tr>\n",
       "    <tr>\n",
       "      <th>4</th>\n",
       "      <td>722</td>\n",
       "      <td>984487154_55831795985_521110</td>\n",
       "    </tr>\n",
       "  </tbody>\n",
       "</table>\n",
       "</div>"
      ],
      "text/plain": [
       "process_step  client_id                      visit_id\n",
       "0                   169  749567106_99161211863_557568\n",
       "1                   546    731811517_9330176838_94847\n",
       "2                   555  637149525_38041617439_716659\n",
       "3                   647   40369564_40101682850_311847\n",
       "4                   722  984487154_55831795985_521110"
      ]
     },
     "metadata": {},
     "output_type": "display_data"
    },
    {
     "data": {
      "text/plain": [
       "0    169\n",
       "1    546\n",
       "2    555\n",
       "3    647\n",
       "4    722\n",
       "Name: client_id, dtype: int64"
      ]
     },
     "metadata": {},
     "output_type": "display_data"
    }
   ],
   "source": [
    "# Clietns who completed all the visits in chronological order\n",
    "\n",
    "# First timestamp of each step within each (client, visit)\n",
    "first_times = (df_steps\n",
    "    .sort_values('date_time')\n",
    "    .drop_duplicates(subset=['client_id','visit_id','process_step'], keep='first')\n",
    "    .set_index(['client_id','visit_id','process_step'])['date_time']\n",
    "    .unstack('process_step')\n",
    "    .reindex(columns=STEP_ORDER))\n",
    "\n",
    "# Condition A: all steps exist\n",
    "mask_all = first_times[STEP_ORDER].notna().all(axis=1)\n",
    "\n",
    "# Condition B: steps happened in the correct order (strictly increasing times)\n",
    "# (check that each step time is later than the previous step time)\n",
    "mask_order = (first_times[STEP_ORDER].diff(axis=1).iloc[:, 1:] > pd.Timedelta(0)).all(axis=1)\n",
    "\n",
    "# Keep visits that satisfy both\n",
    "valid_visits = first_times.loc[mask_all & mask_order].reset_index()[['client_id','visit_id']]\n",
    "\n",
    "# If you want the unique list of clients who have at least one valid visit:\n",
    "clients_completed = valid_visits['client_id'].drop_duplicates().reset_index(drop=True)\n",
    "\n",
    "display(valid_visits.head())     # (client_id, visit_id) that completed the funnel in order\n",
    "display(clients_completed.head()) # client_ids who completed at least once"
   ]
  },
  {
   "cell_type": "code",
   "execution_count": 208,
   "id": "d92f7fcc",
   "metadata": {},
   "outputs": [
    {
     "name": "stdout",
     "output_type": "stream",
     "text": [
      "Number of clients who reached confirm: 81145\n"
     ]
    },
    {
     "data": {
      "text/plain": [
       "0    8320017\n",
       "1    4033851\n",
       "2    1982004\n",
       "3    3170143\n",
       "4    6651403\n",
       "Name: client_id, dtype: int64"
      ]
     },
     "metadata": {},
     "output_type": "display_data"
    }
   ],
   "source": [
    "# Clients who have reached the 'confirm' step at least once\n",
    "clients_reached_confirm = (\n",
    "    df_footprints_combined.loc[df_footprints_combined['process_step'] == 'confirm', 'client_id']\n",
    "    .dropna()                # drop missing client_id if any\n",
    "    .drop_duplicates()       # keep only unique client_ids\n",
    "    .reset_index(drop=True)  # tidy index\n",
    ")\n",
    "\n",
    "print(\"Number of clients who reached confirm:\", len(clients_reached_confirm))\n",
    "display(clients_reached_confirm.head())"
   ]
  },
  {
   "cell_type": "markdown",
   "id": "fa6cba9e",
   "metadata": {},
   "source": [
    "#### Time Spent on Each Step: The average duration users spend on each step.\n",
    "\n",
    "- Median session duration ≈ 2.8 min (short overall)\n",
    "- start: 1.02 min step 1: 1.03 min step 2: 1.55 min step 3: 2.19 min confirm: 3.23 min\n",
    "\n",
    " avg_min = average time users spend on that step (skewed by long outliers).\n",
    " median_min = typical time (more robust)"
   ]
  },
  {
   "cell_type": "code",
   "execution_count": 209,
   "id": "5ba827ab",
   "metadata": {},
   "outputs": [
    {
     "data": {
      "text/html": [
       "<div>\n",
       "<style scoped>\n",
       "    .dataframe tbody tr th:only-of-type {\n",
       "        vertical-align: middle;\n",
       "    }\n",
       "\n",
       "    .dataframe tbody tr th {\n",
       "        vertical-align: top;\n",
       "    }\n",
       "\n",
       "    .dataframe thead th {\n",
       "        text-align: right;\n",
       "    }\n",
       "</style>\n",
       "<table border=\"1\" class=\"dataframe\">\n",
       "  <thead>\n",
       "    <tr style=\"text-align: right;\">\n",
       "      <th></th>\n",
       "      <th>client_id</th>\n",
       "      <th>visitor_id</th>\n",
       "      <th>visit_id</th>\n",
       "      <th>process_step</th>\n",
       "      <th>date_time</th>\n",
       "      <th>time_gap</th>\n",
       "    </tr>\n",
       "  </thead>\n",
       "  <tbody>\n",
       "    <tr>\n",
       "      <th>285515</th>\n",
       "      <td>169</td>\n",
       "      <td>201385055_71273495308</td>\n",
       "      <td>749567106_99161211863_557568</td>\n",
       "      <td>start</td>\n",
       "      <td>2017-04-12 22:19:36+02:00</td>\n",
       "      <td>NaT</td>\n",
       "    </tr>\n",
       "    <tr>\n",
       "      <th>285514</th>\n",
       "      <td>169</td>\n",
       "      <td>201385055_71273495308</td>\n",
       "      <td>749567106_99161211863_557568</td>\n",
       "      <td>step_1</td>\n",
       "      <td>2017-04-12 22:19:45+02:00</td>\n",
       "      <td>0 days 00:00:09</td>\n",
       "    </tr>\n",
       "    <tr>\n",
       "      <th>285513</th>\n",
       "      <td>169</td>\n",
       "      <td>201385055_71273495308</td>\n",
       "      <td>749567106_99161211863_557568</td>\n",
       "      <td>step_2</td>\n",
       "      <td>2017-04-12 22:20:31+02:00</td>\n",
       "      <td>0 days 00:00:46</td>\n",
       "    </tr>\n",
       "    <tr>\n",
       "      <th>285512</th>\n",
       "      <td>169</td>\n",
       "      <td>201385055_71273495308</td>\n",
       "      <td>749567106_99161211863_557568</td>\n",
       "      <td>step_3</td>\n",
       "      <td>2017-04-12 22:22:05+02:00</td>\n",
       "      <td>0 days 00:01:34</td>\n",
       "    </tr>\n",
       "    <tr>\n",
       "      <th>285511</th>\n",
       "      <td>169</td>\n",
       "      <td>201385055_71273495308</td>\n",
       "      <td>749567106_99161211863_557568</td>\n",
       "      <td>confirm</td>\n",
       "      <td>2017-04-12 22:23:09+02:00</td>\n",
       "      <td>0 days 00:01:04</td>\n",
       "    </tr>\n",
       "    <tr>\n",
       "      <th>...</th>\n",
       "      <td>...</td>\n",
       "      <td>...</td>\n",
       "      <td>...</td>\n",
       "      <td>...</td>\n",
       "      <td>...</td>\n",
       "      <td>...</td>\n",
       "    </tr>\n",
       "    <tr>\n",
       "      <th>648533</th>\n",
       "      <td>9999875</td>\n",
       "      <td>738878760_1556639849</td>\n",
       "      <td>931268933_219402947_599432</td>\n",
       "      <td>step_1</td>\n",
       "      <td>2017-06-02 00:40:08+02:00</td>\n",
       "      <td>0 days 00:00:07</td>\n",
       "    </tr>\n",
       "    <tr>\n",
       "      <th>648532</th>\n",
       "      <td>9999875</td>\n",
       "      <td>738878760_1556639849</td>\n",
       "      <td>931268933_219402947_599432</td>\n",
       "      <td>step_1</td>\n",
       "      <td>2017-06-02 00:41:28+02:00</td>\n",
       "      <td>0 days 00:01:20</td>\n",
       "    </tr>\n",
       "    <tr>\n",
       "      <th>648531</th>\n",
       "      <td>9999875</td>\n",
       "      <td>738878760_1556639849</td>\n",
       "      <td>931268933_219402947_599432</td>\n",
       "      <td>step_2</td>\n",
       "      <td>2017-06-02 00:41:47+02:00</td>\n",
       "      <td>0 days 00:00:19</td>\n",
       "    </tr>\n",
       "    <tr>\n",
       "      <th>648530</th>\n",
       "      <td>9999875</td>\n",
       "      <td>738878760_1556639849</td>\n",
       "      <td>931268933_219402947_599432</td>\n",
       "      <td>step_3</td>\n",
       "      <td>2017-06-02 00:44:58+02:00</td>\n",
       "      <td>0 days 00:03:11</td>\n",
       "    </tr>\n",
       "    <tr>\n",
       "      <th>648529</th>\n",
       "      <td>9999875</td>\n",
       "      <td>738878760_1556639849</td>\n",
       "      <td>931268933_219402947_599432</td>\n",
       "      <td>confirm</td>\n",
       "      <td>2017-06-02 00:48:39+02:00</td>\n",
       "      <td>0 days 00:03:41</td>\n",
       "    </tr>\n",
       "  </tbody>\n",
       "</table>\n",
       "<p>744641 rows × 6 columns</p>\n",
       "</div>"
      ],
      "text/plain": [
       "        client_id             visitor_id                      visit_id  \\\n",
       "285515        169  201385055_71273495308  749567106_99161211863_557568   \n",
       "285514        169  201385055_71273495308  749567106_99161211863_557568   \n",
       "285513        169  201385055_71273495308  749567106_99161211863_557568   \n",
       "285512        169  201385055_71273495308  749567106_99161211863_557568   \n",
       "285511        169  201385055_71273495308  749567106_99161211863_557568   \n",
       "...           ...                    ...                           ...   \n",
       "648533    9999875   738878760_1556639849    931268933_219402947_599432   \n",
       "648532    9999875   738878760_1556639849    931268933_219402947_599432   \n",
       "648531    9999875   738878760_1556639849    931268933_219402947_599432   \n",
       "648530    9999875   738878760_1556639849    931268933_219402947_599432   \n",
       "648529    9999875   738878760_1556639849    931268933_219402947_599432   \n",
       "\n",
       "       process_step                 date_time        time_gap  \n",
       "285515        start 2017-04-12 22:19:36+02:00             NaT  \n",
       "285514       step_1 2017-04-12 22:19:45+02:00 0 days 00:00:09  \n",
       "285513       step_2 2017-04-12 22:20:31+02:00 0 days 00:00:46  \n",
       "285512       step_3 2017-04-12 22:22:05+02:00 0 days 00:01:34  \n",
       "285511      confirm 2017-04-12 22:23:09+02:00 0 days 00:01:04  \n",
       "...             ...                       ...             ...  \n",
       "648533       step_1 2017-06-02 00:40:08+02:00 0 days 00:00:07  \n",
       "648532       step_1 2017-06-02 00:41:28+02:00 0 days 00:01:20  \n",
       "648531       step_2 2017-06-02 00:41:47+02:00 0 days 00:00:19  \n",
       "648530       step_3 2017-06-02 00:44:58+02:00 0 days 00:03:11  \n",
       "648529      confirm 2017-06-02 00:48:39+02:00 0 days 00:03:41  \n",
       "\n",
       "[744641 rows x 6 columns]"
      ]
     },
     "metadata": {},
     "output_type": "display_data"
    }
   ],
   "source": [
    "# Sort, then compute gap within each visit\n",
    "df_footprints_combined = df_footprints_combined.sort_values(['client_id','visit_id','date_time']).copy()\n",
    "df_footprints_combined['time_gap'] = (\n",
    "    df_footprints_combined\n",
    "      .groupby(['client_id','visit_id'])['date_time']\n",
    "      .diff()\n",
    ")\n",
    "\n",
    "display(df_footprints_combined)"
   ]
  },
  {
   "cell_type": "code",
   "execution_count": 210,
   "id": "ba15c3c5",
   "metadata": {},
   "outputs": [
    {
     "name": "stdout",
     "output_type": "stream",
     "text": [
      "               count  avg_min  median_min\n",
      "process_step                             \n",
      "start         141888     1.02        0.22\n",
      "step_1        141677     1.03        0.43\n",
      "step_2        123056     1.55        1.07\n",
      "step_3         99391     2.19        1.02\n",
      "confirm         1677     3.23        1.25\n"
     ]
    }
   ],
   "source": [
    "STEP_ORDER = ['start', 'step_1', 'step_2', 'step_3', 'confirm']\n",
    "\n",
    "# Use only what we need and make sure datetimes are parsed\n",
    "cols_needed = ['client_id','visit_id','process_step','date_time']\n",
    "df = df_footprints_combined[cols_needed].dropna(subset=['client_id','process_step','date_time']).copy()\n",
    "df['date_time'] = pd.to_datetime(df['date_time'], errors='coerce')\n",
    "df = df.dropna(subset=['date_time'])\n",
    "\n",
    "# Sort within each visit\n",
    "df = df.sort_values(['client_id','visit_id','date_time'])\n",
    "\n",
    "# OPTIONAL: drop consecutive duplicates of the same step inside a visit\n",
    "# (so we measure time from a step to the next *different* step)\n",
    "prev_step = df.groupby(['client_id','visit_id'])['process_step'].shift()\n",
    "df = df[df['process_step'] != prev_step].copy()\n",
    "\n",
    "# Time until the next event in the same visit (i.e., duration of the *current* step)\n",
    "df['next_time'] = df.groupby(['client_id','visit_id'])['date_time'].shift(-1)\n",
    "df['step_duration_sec'] = (df['next_time'] - df['date_time']).dt.total_seconds()\n",
    "\n",
    "# Keep only positive, finite durations\n",
    "df = df[np.isfinite(df['step_duration_sec']) & (df['step_duration_sec'] > 0)].copy()\n",
    "\n",
    "# Convert to minutes for readability\n",
    "df['step_duration_min'] = df['step_duration_sec'] / 60.0\n",
    "\n",
    "# Aggregate: mean/median duration per step\n",
    "summary = (df.groupby('process_step')['step_duration_min']\n",
    "             .agg(count='count', avg_min='mean', median_min='median')\n",
    "             .round({'avg_min':2, 'median_min':2})\n",
    "          )\n",
    "\n",
    "# Order steps nicely\n",
    "summary = summary.reindex([s for s in STEP_ORDER if s in summary.index])\n",
    "\n",
    "print(summary)"
   ]
  },
  {
   "cell_type": "markdown",
   "id": "ccfa8b01",
   "metadata": {},
   "source": [
    "#### Error Rates: If there's a step where users go back to a previous step, it may indicate confusion or an error. You should consider moving from a later step to an earlier one as an error.\n",
    "\n",
    "- Step 1 -> start, is the most common error/confusion with over 2000 users\n",
    "- Step 2 -> step 1, is the next common error/confusion with around 1300 users\n",
    "- Step 3 -> step 2, error/consufion with around 1000 users\n",
    "- Setp 3 -> start, error/confusion with around 8000 users\n",
    "- Step 2 -> start, error/confusion with over 5000 users\n",
    "- And other steps with less than 1000 users"
   ]
  },
  {
   "cell_type": "code",
   "execution_count": null,
   "id": "d60d685f",
   "metadata": {},
   "outputs": [],
   "source": [
    "# ---- Setup\n",
    "STEP_ORDER = ['start','step_1','step_2','step_3','confirm']\n",
    "rank = {s:i for i,s in enumerate(STEP_ORDER)}\n",
    "\n",
    "# ---- Minimal prep\n",
    "cols = ['client_id','visit_id','process_step','date_time']\n",
    "df = df_footprints_combined[cols].dropna(subset=['client_id','process_step','date_time']).copy()\n",
    "df = df[df['process_step'].isin(STEP_ORDER)]\n",
    "df['date_time'] = pd.to_datetime(df['date_time'], errors='coerce')\n",
    "df = df.dropna(subset=['date_time']).sort_values(['client_id','visit_id','date_time'])\n",
    "\n",
    "# ---- Build transitions (current -> next within each visit)\n",
    "df['next_step'] = df.groupby(['client_id','visit_id'])['process_step'].shift(-1)\n",
    "\n",
    "# Keep only valid transitions\n",
    "trans = df.dropna(subset=['next_step']).copy()\n",
    "trans['from_rank'] = trans['process_step'].map(rank)\n",
    "trans['to_rank']   = trans['next_step'].map(rank)\n",
    "trans = trans.dropna(subset=['from_rank','to_rank'])\n",
    "\n",
    "# ---- Backward flag\n",
    "trans['is_error'] = trans['to_rank'] < trans['from_rank']"
   ]
  },
  {
   "cell_type": "code",
   "execution_count": null,
   "id": "83a17e29",
   "metadata": {},
   "outputs": [
    {
     "name": "stdout",
     "output_type": "stream",
     "text": [
      "Total transitions: 585,529\n",
      "Backward (error) transitions: 62,880  (10.74%)\n"
     ]
    }
   ],
   "source": [
    "# ---------- Overall error rate ----------\n",
    "total_transitions = len(trans)\n",
    "total_errors = int(trans['is_error'].sum())\n",
    "overall_error_rate = (total_errors / total_transitions) if total_transitions else 0.0\n",
    "\n",
    "print(f\"Total transitions: {total_transitions:,}\")\n",
    "print(f\"Backward (error) transitions: {total_errors:,}  ({overall_error_rate:.2%})\")"
   ]
  },
  {
   "cell_type": "code",
   "execution_count": null,
   "id": "d3d1eb36",
   "metadata": {},
   "outputs": [
    {
     "name": "stdout",
     "output_type": "stream",
     "text": [
      "\n",
      "Error rate by FROM step (descending):\n",
      "  process_step  errors  transitions  error_rate\n",
      "4       step_3   19320       103159    0.187284\n",
      "2       step_1   23587       149164    0.158128\n",
      "3       step_2   18111       126809    0.142821\n",
      "0      confirm    1862        13634    0.136570\n",
      "1        start       0       192763    0.000000\n"
     ]
    }
   ],
   "source": [
    "# ---------- Error rate by 'from' step (where users retreated from) ----------\n",
    "by_from = (trans\n",
    "    .groupby('process_step')['is_error']\n",
    "    .agg(errors='sum', transitions='count'))\n",
    "by_from['error_rate'] = by_from['errors'] / by_from['transitions']\n",
    "by_from = by_from.reset_index().sort_values('error_rate', ascending=False)\n",
    "print(\"\\nError rate by FROM step (descending):\")\n",
    "print(by_from)"
   ]
  },
  {
   "cell_type": "code",
   "execution_count": null,
   "id": "f5bf1b81",
   "metadata": {},
   "outputs": [
    {
     "name": "stdout",
     "output_type": "stream",
     "text": [
      "\n",
      "Top backward pairs:\n",
      "             pair  count\n",
      "0    step_1→start  23587\n",
      "1   step_2→step_1  12171\n",
      "2   step_3→step_2   9418\n",
      "3    step_3→start   8265\n",
      "4    step_2→start   5940\n",
      "5   step_3→step_1   1637\n",
      "6   confirm→start   1109\n",
      "7  confirm→step_1    552\n",
      "8  confirm→step_3    194\n",
      "9  confirm→step_2      7\n"
     ]
    }
   ],
   "source": [
    "# ---------- Top backward pairs (from→to) ----------\n",
    "trans['pair'] = trans['process_step'] + '→' + trans['next_step']\n",
    "back_pairs = (trans.loc[trans['is_error'], 'pair']\n",
    "              .value_counts()\n",
    "              .rename_axis('pair')\n",
    "              .reset_index(name='count'))\n",
    "print(\"\\nTop backward pairs:\")\n",
    "print(back_pairs.head(10))"
   ]
  },
  {
   "cell_type": "code",
   "execution_count": null,
   "id": "cc1d4c9a",
   "metadata": {},
   "outputs": [
    {
     "data": {
      "image/png": "[encoded data removed]",
      "text/plain": [
       "<Figure size 640x480 with 1 Axes>"
      ]
     },
     "metadata": {},
     "output_type": "display_data"
    }
   ],
   "source": [
    "# ---------- OPTIONAL: visualize top backward pairs ----------\n",
    "if not back_pairs.empty:\n",
    "    top = back_pairs.head(10).iloc[::-1]  # reverse for horizontal bar\n",
    "    plt.figure()\n",
    "    plt.barh(top['pair'], top['count'])\n",
    "    plt.xlabel('Count'); plt.ylabel('Backward transition (from→to)')\n",
    "    plt.title('Top backward step transitions')\n",
    "    plt.tight_layout(); plt.show()"
   ]
  },
  {
   "cell_type": "markdown",
   "id": "5330770a",
   "metadata": {},
   "source": [
    "#### Redesign Outcome\n",
    "\n",
    "Based on the chosen KPIs, how does the new design's performance compare to the old one?\n",
    "\n",
    "Control vs Test: Control = old design and Test = new design (variation_cleaned column), comparing KPIs per variation.\n",
    "\n",
    "- Completion rate: confirmers / unique active clients (same period).\n",
    "- Error rate: backward-move rate.\n",
    "- Time per step: median per step.\n",
    "\n",
    "“Given (lower) higher completion rate, (faster) similar step times, and (lower/equal) similar error rates, the new design is not yet recommended.”\n",
    "\n",
    "- Completion rate: “Across the test (new design) variant, completion rate was 65.59% vs 69.29% in control, new desing \"wins\".”\n",
    "- Time per step: “Median time on the slowest step (Step k) fell from A min (control) to B min (test).”\n",
    "- Error rate: “Backward-move rate dropped from E% (control) to F% (test).”\n",
    "\n",
    "Decision rule: New design “wins” if it increases completion rate and reduces (or doesn’t worsen) errors, without increasing time on critical steps. If completion uplift is modest, check that it’s paired with a lower error rate or faster key steps."
   ]
  },
  {
   "cell_type": "code",
   "execution_count": 217,
   "id": "e04927f4",
   "metadata": {},
   "outputs": [
    {
     "name": "stdout",
     "output_type": "stream",
     "text": [
      "Completion rate (%):\n",
      " variation_cleaned\n",
      "control    65.59\n",
      "test       69.29\n",
      "unknown    68.02\n",
      "Name: client_id, dtype: float64 \n",
      "\n",
      "Backward (error) rate (%):\n",
      " variation_cleaned\n",
      "control     8.85\n",
      "test       11.64\n",
      "unknown    10.39\n",
      "Name: is_error, dtype: float64 \n",
      "\n",
      "Median minutes per step:\n",
      " process_step       confirm  start  step_1  step_2  step_3\n",
      "variation_cleaned                                        \n",
      "control               0.77   0.33    0.33    1.07    1.20\n",
      "test                  1.55   0.23    0.45    1.02    0.97\n",
      "unknown               1.23   0.27    0.40    1.05    1.07 \n",
      "\n",
      "Completion uplift (test-control): 3.70 pp; Error delta: 2.79 pp → ⚠️ New design doesn’t clearly beat control\n"
     ]
    }
   ],
   "source": [
    "df = df_final[['client_id','process_step','date_time','variation_cleaned']].dropna(subset=['client_id','variation_cleaned']).copy()\n",
    "df['date_time'] = pd.to_datetime(df['date_time'], errors='coerce')\n",
    "df = df.dropna(subset=['date_time'])\n",
    "df['variation_cleaned'] = df['variation_cleaned'].str.lower().map({'control':'control','test':'test'}).fillna('unknown')\n",
    "\n",
    "# Completion rate per variation (unique clients who confirmed / unique active clients)\n",
    "active = df.groupby('variation_cleaned')['client_id'].nunique()\n",
    "confirmed = (df[df['process_step'].eq('confirm')]\n",
    "             .groupby('variation_cleaned')['client_id']\n",
    "             .nunique())\n",
    "cr = (confirmed / active).mul(100).round(2)\n",
    "\n",
    "# Error (backward) rate per variation\n",
    "STEP_ORDER = ['start','step_1','step_2','step_3','confirm']\n",
    "rank = {s:i for i,s in enumerate(STEP_ORDER)}\n",
    "# need visit_id; fall back to client_id if not present\n",
    "keys = ['client_id','visit_id'] if 'visit_id' in df_final.columns else ['client_id']\n",
    "err_df = (df_final[['client_id','visit_id','process_step','date_time']]\n",
    "          .merge(df[['client_id','variation_cleaned']].drop_duplicates('client_id'),\n",
    "                 on='client_id', how='left'))\n",
    "err_df = err_df.dropna(subset=['process_step','date_time'])\n",
    "err_df['date_time'] = pd.to_datetime(err_df['date_time'], errors='coerce')\n",
    "err_df = err_df[err_df['process_step'].isin(STEP_ORDER)].sort_values(keys+['date_time'])\n",
    "err_df['next_step'] = err_df.groupby(keys)['process_step'].shift(-1)\n",
    "trans = err_df.dropna(subset=['next_step']).copy()\n",
    "trans['from_rank'] = trans['process_step'].map(rank)\n",
    "trans['to_rank']   = trans['next_step'].map(rank)\n",
    "trans = trans.dropna(subset=['from_rank','to_rank'])\n",
    "trans['is_error'] = trans['to_rank'] < trans['from_rank']\n",
    "er = trans.groupby('variation_cleaned')['is_error'].mean().mul(100).round(2)\n",
    "\n",
    "# Median time per step per variation (minutes)\n",
    "step_df = err_df.sort_values(keys+['date_time']).copy()\n",
    "step_df['next_time'] = step_df.groupby(keys)['date_time'].shift(-1)\n",
    "step_df['next_step'] = step_df.groupby(keys)['process_step'].shift(-1)\n",
    "step_df = step_df[step_df['next_time'].notna()]\n",
    "step_df['dur_min'] = (step_df['next_time'] - step_df['date_time']).dt.total_seconds() / 60\n",
    "step_median = (step_df.groupby(['variation_cleaned','process_step'])['dur_min']\n",
    "               .median().unstack('process_step').round(2))\n",
    "\n",
    "print(\"Completion rate (%):\\n\", cr, \"\\n\")\n",
    "print(\"Backward (error) rate (%):\\n\", er, \"\\n\")\n",
    "print(\"Median minutes per step:\\n\", step_median, \"\\n\")\n",
    "\n",
    "# Simple verdict\n",
    "try:\n",
    "    uplift = cr.get('test', np.nan) - cr.get('control', np.nan)\n",
    "    err_delta = er.get('test', np.nan) - er.get('control', np.nan)\n",
    "    verdict = (\"✅ New design (test) outperforms control\"\n",
    "               if (pd.notna(uplift) and uplift > 0) and (pd.isna(err_delta) or err_delta <= 0)\n",
    "               else \"⚠️ New design doesn’t clearly beat control\")\n",
    "    print(f\"Completion uplift (test-control): {uplift:.2f} pp; Error delta: {err_delta:.2f} pp → {verdict}\")\n",
    "except Exception:\n",
    "    pass\n"
   ]
  }
 ],
 "metadata": {
  "kernelspec": {
   "display_name": "base",
   "language": "python",
   "name": "python3"
  },
  "language_info": {
   "codemirror_mode": {
    "name": "ipython",
    "version": 3
   },
   "file_extension": ".py",
   "mimetype": "text/x-python",
   "name": "python",
   "nbconvert_exporter": "python",
   "pygments_lexer": "ipython3",
   "version": "3.12.7"
  }
 },
 "nbformat": 4,
 "nbformat_minor": 5
}
