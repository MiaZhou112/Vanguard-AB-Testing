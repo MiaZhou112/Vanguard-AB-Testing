{
 "cells": [
  {
   "cell_type": "code",
   "execution_count": null,
   "id": "a8f0dd50",
   "metadata": {},
   "outputs": [],
   "source": [
    "import pandas as pd\n",
    "import numpy as np\n",
    "import seaborn as sns\n",
    "from matplotlib import pyplot as plt\n",
    "from scipy.stats import chi2_contingency\n",
    "from statsmodels.stats.proportion import proportions_ztest\n"
   ]
  },
  {
   "cell_type": "code",
   "execution_count": null,
   "id": "2fb0746c",
   "metadata": {},
   "outputs": [],
   "source": [
    "df_original = pd.read_csv('final.csv')\n",
    "\n",
    "cols = ['client_id','visit_id','process_step','date_time','variation_cleaned','client_tenure_year','client_tenure_month','client_age','gender_cleaned','number_of_accounts','calls_6_month','logos_6_month']\n",
    "df_original = df_original[cols]\n",
    "df_original.rename(columns={'process_step':'step','variation_cleaned':'variation','client_tenure_year':'tenureYear','client_tenure_month':'tenureMonth','gender_cleaned':'gender','client_age':'age'\n",
    "                            },inplace=True)\n",
    "\n",
    "df_original['date_time'] = pd.to_datetime(df_original['date_time'])\n",
    "\n",
    "df_original.shape"
   ]
  },
  {
   "cell_type": "markdown",
   "id": "92199cf5",
   "metadata": {},
   "source": [
    "##### create id "
   ]
  },
  {
   "cell_type": "code",
   "execution_count": null,
   "id": "7e63c29c",
   "metadata": {},
   "outputs": [],
   "source": [
    "df_original['id'] = df_original['client_id'].astype('str') + '__' + df_original['visit_id'].astype('str')"
   ]
  },
  {
   "cell_type": "markdown",
   "id": "480a4511",
   "metadata": {},
   "source": [
    "##### age distribution + create age group"
   ]
  },
  {
   "cell_type": "code",
   "execution_count": null,
   "id": "b18e376b",
   "metadata": {},
   "outputs": [],
   "source": [
    "unique_clients = df_original.drop_duplicates(subset=\"client_id\")\n",
    "sns.histplot(unique_clients[unique_clients['age']>0]['age'],bins=20,palette=\"Blues\" )\n",
    "plt.show()\n",
    "\n",
    "age_bins =[0,25,35,50,65,80,np.inf]\n",
    "age_labels = [\"<25\", \"25-35\", \"36-45\", \"46-65\", \"66-80\", \"80+\"]\n",
    "df_original['age_group']= pd.cut(df_original['age'].replace(-1,np.nan),bins=age_bins,labels=age_labels,right=True).cat.add_categories('unknown').fillna('unknown')\n",
    "\n",
    "\n"
   ]
  },
  {
   "cell_type": "markdown",
   "id": "114fc9fb",
   "metadata": {},
   "source": [
    "##### create tenure year group"
   ]
  },
  {
   "cell_type": "code",
   "execution_count": null,
   "id": "509df178",
   "metadata": {},
   "outputs": [],
   "source": [
    "unique_clients = df_original.drop_duplicates(subset=\"client_id\")\n",
    "sns.histplot(unique_clients[unique_clients['tenureYear']>0]['tenureYear'],bins=20 )\n",
    "plt.show()\n",
    "\n",
    "\n",
    "df_original[\"tenureYear_group\"] = pd.cut(\n",
    "    df_original[\"tenureYear\"].replace(-1, np.nan),\n",
    "    bins=[0, 5, 10,15, 20, float(\"inf\")],\n",
    "    labels=[\"New (<5y)\", \"Mid-New(5-10y)\",\"Mid (5-15y)\",\"Mid-Long(15-20y)\" ,\"Long (>20y)\"],\n",
    "    right=False\n",
    ").cat.add_categories(\"Unknown\").fillna(\"Unknown\")\n",
    "\n"
   ]
  },
  {
   "cell_type": "code",
   "execution_count": null,
   "id": "98b5a3da",
   "metadata": {},
   "outputs": [],
   "source": [
    "df_original.shape"
   ]
  },
  {
   "cell_type": "markdown",
   "id": "b0610ce9",
   "metadata": {},
   "source": [
    "#### EDA ----- Are the primary clients new or long-standing? "
   ]
  },
  {
   "cell_type": "code",
   "execution_count": null,
   "id": "cea6e1c2",
   "metadata": {},
   "outputs": [],
   "source": [
    "# voilin plot\n",
    "unique_clients = df_original.drop_duplicates(subset=\"client_id\")\n",
    "\n",
    "sns.violinplot(data=unique_clients[\n",
    "                                     (unique_clients['tenureYear'] >= 0)\n",
    "                                     ], x='age_group', y='tenureYear')\n",
    "sns.despine()\n",
    "plt.show()"
   ]
  },
  {
   "cell_type": "code",
   "execution_count": null,
   "id": "ae712647",
   "metadata": {},
   "outputs": [],
   "source": [
    "unique_clients.tenureYear.dtype\n",
    "unique_clients['tenureYear'].describe()"
   ]
  },
  {
   "cell_type": "markdown",
   "id": "9222ae99",
   "metadata": {},
   "source": [
    "#### EDA --- age distribution in test and control\n",
    "\n",
    "1. The shapes of the curves are very similar, we can tell from the graph that test and Control are balanced in age distribution\n"
   ]
  },
  {
   "cell_type": "code",
   "execution_count": null,
   "id": "0899becd",
   "metadata": {},
   "outputs": [],
   "source": [
    "\n",
    "sns.histplot(x = 'age',\n",
    "             hue = 'variation',\n",
    "             data=unique_clients[~(unique_clients['variation']=='unknown')],\n",
    "             \n",
    "                 # shaded KDE\n",
    "    alpha=0.4,\n",
    "     bins=10,\n",
    "            fill=False, \n",
    "            # adjust number of bins\n",
    "    element='step',       # outline instead of filled bars\n",
    "    stat='count',         # or 'density' if you want normalized\n",
    "    common_norm=False,    # keeps group scaling separate\n",
    "    multiple='layer',\n",
    "    palette={'Control': 'black', 'Test': 'red'})\n",
    "plt.show()\n"
   ]
  },
  {
   "cell_type": "markdown",
   "id": "571ef33a",
   "metadata": {},
   "source": [
    "#### EDA - tenure year distribution in test and control\n",
    "1. The shapes are nearly identical"
   ]
  },
  {
   "cell_type": "code",
   "execution_count": null,
   "id": "fada77d5",
   "metadata": {},
   "outputs": [],
   "source": [
    "sns.histplot(x = 'tenureYear',\n",
    "             hue = 'variation',\n",
    "             data=unique_clients[~(unique_clients['variation']=='unknown')],\n",
    "             \n",
    "                 # shaded KDE\n",
    "    alpha=0.4,\n",
    "     bins=10,\n",
    "            fill=False, \n",
    "            # adjust number of bins\n",
    "    element='step',       # outline instead of filled bars\n",
    "    stat='count',         # or 'density' if you want normalized\n",
    "    common_norm=False,    # keeps group scaling separate\n",
    "    multiple='layer',\n",
    "    palette={'Control': 'black', 'Test': 'red'})\n",
    "plt.show()"
   ]
  },
  {
   "cell_type": "markdown",
   "id": "d0f19422",
   "metadata": {},
   "source": [
    "#### EDA - gender distribution in test and control\n",
    "1. we can see from the graph that gender distribution is well balanced in test/control"
   ]
  },
  {
   "cell_type": "code",
   "execution_count": null,
   "id": "1718a20d",
   "metadata": {},
   "outputs": [],
   "source": [
    "\n",
    "pivot = unique_clients[~((unique_clients['gender']=='unknown')|(unique_clients['variation']=='unknown'))].pivot_table(index='variation',columns='gender',aggfunc='count',values='client_id')\n",
    "\n",
    "pivot.plot(kind='bar',\n",
    "           stacked=True,\n",
    "           figsize=(6,6),\n",
    "           color=[\"darkred\", \"darkblue\"],\n",
    "           width = 0.5)\n",
    "plt.legend(loc ='upper right',bbox_to_anchor=(1.2, 1))\n",
    "sns.despine()\n",
    "plt.xticks(rotation = 0)\n",
    "plt.show()"
   ]
  },
  {
   "cell_type": "markdown",
   "id": "9e8f8cd3",
   "metadata": {},
   "source": [
    "#### KPI - completion rate"
   ]
  },
  {
   "cell_type": "code",
   "execution_count": null,
   "id": "5b0e5bdd",
   "metadata": {},
   "outputs": [],
   "source": [
    "# define a function to calculate confirmation rate \n",
    "def confirmation_rate (df):\n",
    "    confirmed = df[df['step']=='confirm']\n",
    "    numerator = confirmed['id'].nunique()\n",
    "    denominator = df['id'].nunique()\n",
    "    return numerator,denominator,numerator/denominator\n",
    "\n",
    "df_original = df_original.copy()\n",
    "df_test = df_original[df_original['variation'] == 'Test' ]\n",
    "df_control = df_original[df_original['variation'] == 'Control' ]\n",
    "\n",
    "\n",
    "c_rate_control = confirmation_rate(df_control)[2]\n",
    "print(f\"confirmation rate for control group is {c_rate_control}\")\n",
    "c_rate_test = confirmation_rate(df_test)[2]\n",
    "print(f\"confirmation rate for test group is {c_rate_test}\")"
   ]
  },
  {
   "cell_type": "markdown",
   "id": "64ed8270",
   "metadata": {},
   "source": [
    "#### KPI - Time Spent on Each Step: The average duration users spend on each step."
   ]
  },
  {
   "cell_type": "code",
   "execution_count": null,
   "id": "0518631c",
   "metadata": {},
   "outputs": [],
   "source": [
    "def calculate_duration(df):\n",
    "    df = df.copy()\n",
    "    df['step_number'] = df['step'].map({'start':1,'step_1':2,'step_2':3,'step_3':4,'confirm':5})\n",
    "    df.sort_values(by=['id','date_time'],ascending=True,inplace=True)\n",
    "    df['duration'] = df.groupby('id')['date_time'].shift(-1) - df['date_time']\n",
    "    df['duration'] = df['duration'].dt.total_seconds()\n",
    "    return df\n",
    "\n",
    "df_original = calculate_duration(df_original)\n",
    "df_original.shape\n"
   ]
  },
  {
   "cell_type": "code",
   "execution_count": null,
   "id": "f9ff797e",
   "metadata": {},
   "outputs": [],
   "source": [
    "# check if there is duration < 0 \n",
    "(df_original['duration']<0).sum()\n"
   ]
  },
  {
   "cell_type": "code",
   "execution_count": null,
   "id": "466bb287",
   "metadata": {},
   "outputs": [],
   "source": [
    "# check if there is outliers in duration, \n",
    "print(df_original['duration'].describe())\n",
    "\n",
    "IQR_duration = df_original['duration'].quantile(0.75) - df_original['duration'].quantile(0.25)\n",
    "lower = df_original['duration'].quantile(0.25) - 1.5*IQR_duration\n",
    "high = df_original['duration'].quantile(0.75) + 1.5*IQR_duration  # 185\n",
    "\n",
    "# remove duration higher than 185, it might skew average \n",
    "\n",
    "df = df_original.copy()\n",
    "df = df_original[df_original['duration']<= 185]\n"
   ]
  },
  {
   "cell_type": "code",
   "execution_count": null,
   "id": "642a92d3",
   "metadata": {},
   "outputs": [],
   "source": [
    "# calculation for test group\n",
    "test = df[df['variation'] == 'Test'].groupby(['id','step'])['duration'].agg('sum').reset_index().groupby(['step'])['duration'].agg(['mean','median'])\n",
    "\n",
    "# calculation for test group\n",
    "control = df[df['variation'] == 'Control'].groupby(['id','step'])['duration'].agg('sum').reset_index().groupby(['step'])['duration'].agg(['mean','median'])\n",
    "\n",
    "result = pd.concat(\n",
    "    [test.add_prefix('Test_'), control.add_prefix('Control_')], axis=1\n",
    ")\n",
    "\n",
    "result"
   ]
  },
  {
   "cell_type": "markdown",
   "id": "c3fc6083",
   "metadata": {},
   "source": [
    "#### KPI - Error Rates: If there's a step where users go back to a previous step, it may indicate confusion or an error. You should consider moving from a later step to an earlier one as an error."
   ]
  },
  {
   "cell_type": "code",
   "execution_count": null,
   "id": "f762e99c",
   "metadata": {},
   "outputs": [],
   "source": [
    "df_original.head(5)"
   ]
  },
  {
   "cell_type": "code",
   "execution_count": null,
   "id": "153c9f58",
   "metadata": {},
   "outputs": [],
   "source": [
    "df_original['step_check'] = df_original.groupby('id')['step_number'].diff()\n",
    "df_original['error'] = df_original['step_check'].apply(lambda x: 1 if x <0 else 0 )\n",
    "\n",
    "df_original"
   ]
  },
  {
   "cell_type": "code",
   "execution_count": null,
   "id": "1e540e9d",
   "metadata": {},
   "outputs": [],
   "source": [
    "totalError_test = df_original[df_original['variation'] =='Test'].groupby('id')['error'].agg('sum').reset_index(name='sum')\n",
    "test_errorRate = len(totalError_test[totalError_test['sum']>=1])/len(totalError_test)\n",
    "\n",
    "totalError_control = df_original[df_original['variation'] =='Control'].groupby('id')['error'].agg('sum').reset_index(name='sum')\n",
    "control_errorRate = len(totalError_control[totalError_control['sum']>=1])/len(totalError_control)\n",
    "\n",
    "print(f\"Error rate in test group is {test_errorRate}\")\n",
    "print(f\"Error rate in Control group is {control_errorRate}\")"
   ]
  },
  {
   "cell_type": "markdown",
   "id": "802f1b90",
   "metadata": {},
   "source": [
    "#### Hypothesis Testing - age & test/control"
   ]
  },
  {
   "cell_type": "code",
   "execution_count": null,
   "id": "44ba9d8e",
   "metadata": {},
   "outputs": [],
   "source": [
    "# step1: Hypothesis \n",
    "    # H0: age distribution is the same across test/control (independent)\n",
    "    # H1: age distribution is not the same across test/control (dependent)\n",
    "\n",
    "# step2: set significance level = 5%, if null is true, i accept 5% probablity that I incorrectly reject true null\n",
    "\n",
    "# step3: perform chi-square test\n",
    "data=unique_clients[~(unique_clients['variation']=='unknown')]\n",
    "cross_age_variation = pd.crosstab(index=data['variation'],columns=data['age_group'],normalize=False)\n",
    "display(cross_age_variation)\n",
    "\n",
    "res_age = chi2_contingency(cross_age_variation)\n",
    "\n",
    "print(f\"chi-square statistics is {res_age.statistic:.2f}\")\n",
    "print(f\"chi-square P-value is {res_age.pvalue:.2f}, fail to reject null, so age distribution is the same across test/control.\")\n",
    "print(f\"\\nImportant TakeAway:\\ntest and control are balanced in client age,so age is unlikely to bias later A/B testing results.\")"
   ]
  },
  {
   "cell_type": "markdown",
   "id": "3aeabc81",
   "metadata": {},
   "source": [
    "#### Hypothesis Testing - gender & test/control"
   ]
  },
  {
   "cell_type": "code",
   "execution_count": null,
   "id": "0d0a615b",
   "metadata": {},
   "outputs": [],
   "source": [
    "# step1: Hypothesis \n",
    "    # H0: gender distribution is the same across test/control (independent)\n",
    "    # H1: gender distribution is not the same across test/control (dependent)\n",
    "\n",
    "# step2: set significance level = 5%, if null is true, i accept 5% probablity that I incorrectly reject true null\n",
    "\n",
    "# step3: perform chi-square test\n",
    "pivot = unique_clients[~((unique_clients['gender']=='unknown')|(unique_clients['variation']=='unknown'))].pivot_table(index='variation',columns='gender',aggfunc='count',values='client_id')\n",
    "display(pivot)\n",
    "res_gender = chi2_contingency(pivot)\n",
    "\n",
    "\n",
    "print(f\"chi-square statistics is {res_gender.statistic:.2f}\")\n",
    "print(f\"chi-square P-value is {res_gender.pvalue:.2f},fail to reject null,so gender distribution is the same across test and control.\")\n",
    "print(f\"\\nImportant TakeAway: \\ntest and control are balanced in client gender,so gender is unlikely to bias later A/B testing results.\")\n"
   ]
  },
  {
   "cell_type": "markdown",
   "id": "8bc45d4f",
   "metadata": {},
   "source": [
    "#### Hypothesis Testing - tenure year & test/control"
   ]
  },
  {
   "cell_type": "code",
   "execution_count": null,
   "id": "6f132717",
   "metadata": {},
   "outputs": [],
   "source": [
    "\n",
    "# step1: Hypothesis \n",
    "    # H0: tenure year distribution is the same across test/control (independent)\n",
    "    # H1: tenure year distribution is not the same across test/control (dependent)\n",
    "\n",
    "# step2: set significance level = 5%, if null is true, i accept 5% probablity that I incorrectly reject true null\n",
    "\n",
    "# step3: perform chi-square test\n",
    "data=unique_clients[~(unique_clients['variation']=='unknown')]\n",
    "\n",
    "cross_tenureYear_variation = pd.crosstab(index=data['variation'],columns=data['tenureYear_group'],normalize=False)\n",
    "display(cross_tenureYear_variation)\n",
    "res_tenureyear = chi2_contingency(cross_tenureYear_variation)\n",
    "\n",
    "\n",
    "print(f\"chi-square statistics is {res_tenureyear.statistic:.2f}\")\n",
    "print(f\"chi-square P-value is {res_tenureyear.pvalue:.2f},fail to reject null,so tenure year distribution is the same across test and control.\")\n",
    "print(f\"\\nImportant TakeAway: \\ntest and control are balanced in client tenure year,so tenure year is unlikely to bias later A/B testing results.\")\n"
   ]
  },
  {
   "cell_type": "markdown",
   "id": "fd6fd339",
   "metadata": {},
   "source": [
    "#### Hypothesis Testing - completion rate"
   ]
  },
  {
   "cell_type": "code",
   "execution_count": null,
   "id": "dfcc5e4f",
   "metadata": {},
   "outputs": [],
   "source": [
    "# H0​:p_test ​= p_control​ \n",
    "# H1:p_test​ != p_control​  \n",
    "\n",
    "# samller , alternative : p_test < p_control\n",
    "# larger, alternative : p_test > p_control  xx\n",
    "\n",
    "# 1-sided: larger-> 16088>21791, smaller:16088<21791\n",
    "\n",
    "count = np.array([21791, 16088])  # [test confirm, control confirm]  \n",
    "nobs = np.array([37204, 32243])  # [test total, control total] \n",
    "\n",
    "z_stat, pvalue = proportions_ztest(count, nobs,alternative='larger')\n",
    "\n",
    "display(z_stat,pvalue)\n",
    "\n",
    "print(f\"takeaway: p_test > p_control is significant\")"
   ]
  },
  {
   "cell_type": "markdown",
   "id": "a8363783",
   "metadata": {},
   "source": [
    "#### Hypothesis Testing - completion rate with cost consideration"
   ]
  },
  {
   "cell_type": "code",
   "execution_count": null,
   "id": "fc4eab01",
   "metadata": {},
   "outputs": [],
   "source": [
    "\n",
    "# H0​:p_test - p_control = 5%\n",
    "# H1:p_test​ - p_control​  != 5%\n",
    "\n",
    "# samller , alternative : p_test​ - p_control < 5%\n",
    "# larger, alternative :  p_test​ - p_control > 5%\n",
    "\n",
    "\n",
    "count = np.array([21791, 16088])  # [test confirm, control confirm]  \n",
    "nobs = np.array([37204, 32243])  # [test total, control total] \n",
    "\n",
    "z_stat, pvalue = proportions_ztest(count, nobs,value= 0.05, alternative='larger')\n",
    "\n",
    "display(z_stat,pvalue)\n",
    "\n",
    "print(f\"takeaway:  p_test​ - p_control > 5% is significant, so the improvement rate is higher than 5%\")"
   ]
  }
 ],
 "metadata": {
  "kernelspec": {
   "display_name": "py310",
   "language": "python",
   "name": "python3"
  },
  "language_info": {
   "codemirror_mode": {
    "name": "ipython",
    "version": 3
   },
   "file_extension": ".py",
   "mimetype": "text/x-python",
   "name": "python",
   "nbconvert_exporter": "python",
   "pygments_lexer": "ipython3",
   "version": "3.10.18"
  }
 },
 "nbformat": 4,
 "nbformat_minor": 5
}
