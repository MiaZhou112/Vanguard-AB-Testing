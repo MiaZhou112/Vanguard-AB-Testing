{
 "cells": [
  {
   "cell_type": "code",
   "execution_count": 2,
   "id": "2ebce8ac",
   "metadata": {},
   "outputs": [],
   "source": [
    "import pandas as pd\n",
    "import numpy as np\n",
    "import seaborn as sns\n",
    "from matplotlib import pyplot as plt"
   ]
  },
  {
   "cell_type": "markdown",
   "id": "76cf5dcc",
   "metadata": {},
   "source": [
    "## client profile data"
   ]
  },
  {
   "cell_type": "code",
   "execution_count": 3,
   "id": "f1bc7afa",
   "metadata": {},
   "outputs": [
    {
     "data": {
      "text/plain": [
       "Index(['client_id', 'clnt_tenure_yr', 'clnt_tenure_mnth', 'clnt_age', 'gendr',\n",
       "       'num_accts', 'bal', 'calls_6_mnth', 'logons_6_mnth'],\n",
       "      dtype='object')"
      ]
     },
     "execution_count": 3,
     "metadata": {},
     "output_type": "execute_result"
    }
   ],
   "source": [
    "df_client = pd.read_csv('https://raw.githubusercontent.com/data-bootcamp-v4/lessons/refs/heads/main/5_6_eda_inf_stats_tableau/project/files_for_project/df_final_demo.txt')\n",
    "df_client.head(2)\n",
    "df_client.columns"
   ]
  },
  {
   "cell_type": "code",
   "execution_count": 4,
   "id": "6b1f5990",
   "metadata": {},
   "outputs": [],
   "source": [
    "# clean column names"
   ]
  },
  {
   "cell_type": "code",
   "execution_count": 5,
   "id": "943e0a2e",
   "metadata": {},
   "outputs": [],
   "source": [
    "# check column : bal , balance? "
   ]
  },
  {
   "cell_type": "code",
   "execution_count": 6,
   "id": "00d0959a",
   "metadata": {},
   "outputs": [
    {
     "data": {
      "text/plain": [
       "(70609, 9)"
      ]
     },
     "execution_count": 6,
     "metadata": {},
     "output_type": "execute_result"
    }
   ],
   "source": [
    "df_client.shape"
   ]
  },
  {
   "cell_type": "code",
   "execution_count": 7,
   "id": "71fd3343",
   "metadata": {},
   "outputs": [
    {
     "data": {
      "text/plain": [
       "client_id             int64\n",
       "clnt_tenure_yr      float64\n",
       "clnt_tenure_mnth    float64\n",
       "clnt_age            float64\n",
       "gendr                object\n",
       "num_accts           float64\n",
       "bal                 float64\n",
       "calls_6_mnth        float64\n",
       "logons_6_mnth       float64\n",
       "dtype: object"
      ]
     },
     "execution_count": 7,
     "metadata": {},
     "output_type": "execute_result"
    }
   ],
   "source": [
    "df_client.dtypes"
   ]
  },
  {
   "cell_type": "code",
   "execution_count": 8,
   "id": "972aadea",
   "metadata": {},
   "outputs": [
    {
     "data": {
      "text/plain": [
       "np.int64(0)"
      ]
     },
     "execution_count": 8,
     "metadata": {},
     "output_type": "execute_result"
    }
   ],
   "source": [
    "df_client.duplicated().sum()"
   ]
  },
  {
   "cell_type": "code",
   "execution_count": 9,
   "id": "32db7032",
   "metadata": {},
   "outputs": [
    {
     "data": {
      "text/plain": [
       "np.int64(0)"
      ]
     },
     "execution_count": 9,
     "metadata": {},
     "output_type": "execute_result"
    }
   ],
   "source": [
    "df_client['client_id'].duplicated().sum()"
   ]
  },
  {
   "cell_type": "code",
   "execution_count": 10,
   "id": "edc732ed",
   "metadata": {},
   "outputs": [
    {
     "data": {
      "text/plain": [
       "client_id            0\n",
       "clnt_tenure_yr      14\n",
       "clnt_tenure_mnth    14\n",
       "clnt_age            15\n",
       "gendr               14\n",
       "num_accts           14\n",
       "bal                 14\n",
       "calls_6_mnth        14\n",
       "logons_6_mnth       14\n",
       "dtype: int64"
      ]
     },
     "execution_count": 10,
     "metadata": {},
     "output_type": "execute_result"
    }
   ],
   "source": [
    "# handle null values\n",
    "df_client.isna().sum()"
   ]
  },
  {
   "cell_type": "code",
   "execution_count": 11,
   "id": "3ae1869a",
   "metadata": {},
   "outputs": [
    {
     "data": {
      "text/plain": [
       "client_id           70609\n",
       "clnt_tenure_yr         54\n",
       "clnt_tenure_mnth      482\n",
       "clnt_age              165\n",
       "gendr                   4\n",
       "num_accts               8\n",
       "bal                 70333\n",
       "calls_6_mnth            8\n",
       "logons_6_mnth           9\n",
       "dtype: int64"
      ]
     },
     "execution_count": 11,
     "metadata": {},
     "output_type": "execute_result"
    }
   ],
   "source": [
    "df_client.nunique()"
   ]
  },
  {
   "cell_type": "code",
   "execution_count": 12,
   "id": "50a5afd8",
   "metadata": {},
   "outputs": [
    {
     "data": {
      "text/plain": [
       "clnt_tenure_mnth\n",
       "58.0     1711\n",
       "70.0     1404\n",
       "59.0     1282\n",
       "71.0     1020\n",
       "82.0      974\n",
       "         ... \n",
       "655.0       1\n",
       "564.0       1\n",
       "526.0       1\n",
       "532.0       1\n",
       "480.0       1\n",
       "Name: count, Length: 482, dtype: int64"
      ]
     },
     "execution_count": 12,
     "metadata": {},
     "output_type": "execute_result"
    }
   ],
   "source": [
    "df_client['clnt_tenure_mnth'].value_counts()"
   ]
  },
  {
   "cell_type": "code",
   "execution_count": 13,
   "id": "e6c1e58d",
   "metadata": {},
   "outputs": [
    {
     "data": {
      "text/plain": [
       "clnt_tenure_yr\n",
       "6.0     7092\n",
       "5.0     6955\n",
       "7.0     4955\n",
       "4.0     4687\n",
       "15.0    4564\n",
       "8.0     4045\n",
       "14.0    3646\n",
       "12.0    3631\n",
       "13.0    3607\n",
       "9.0     3357\n",
       "11.0    2920\n",
       "10.0    2775\n",
       "16.0    2714\n",
       "21.0    2257\n",
       "20.0    1580\n",
       "22.0    1492\n",
       "17.0    1373\n",
       "23.0    1279\n",
       "18.0    1206\n",
       "19.0    1153\n",
       "24.0     846\n",
       "26.0     660\n",
       "27.0     632\n",
       "28.0     507\n",
       "25.0     484\n",
       "3.0      449\n",
       "29.0     309\n",
       "30.0     303\n",
       "33.0     206\n",
       "32.0     191\n",
       "34.0     175\n",
       "31.0     166\n",
       "35.0     102\n",
       "2.0       81\n",
       "36.0      36\n",
       "37.0      35\n",
       "38.0      33\n",
       "48.0      16\n",
       "39.0       9\n",
       "40.0       9\n",
       "55.0       9\n",
       "50.0       8\n",
       "47.0       6\n",
       "43.0       6\n",
       "42.0       6\n",
       "46.0       5\n",
       "51.0       5\n",
       "49.0       4\n",
       "44.0       3\n",
       "52.0       2\n",
       "54.0       1\n",
       "41.0       1\n",
       "45.0       1\n",
       "62.0       1\n",
       "Name: count, dtype: int64"
      ]
     },
     "execution_count": 13,
     "metadata": {},
     "output_type": "execute_result"
    }
   ],
   "source": [
    "df_client['clnt_tenure_yr'].value_counts()"
   ]
  },
  {
   "cell_type": "code",
   "execution_count": 14,
   "id": "70fabeb8",
   "metadata": {},
   "outputs": [
    {
     "data": {
      "text/plain": [
       "gendr\n",
       "U    24122\n",
       "M    23724\n",
       "F    22746\n",
       "X        3\n",
       "Name: count, dtype: int64"
      ]
     },
     "execution_count": 14,
     "metadata": {},
     "output_type": "execute_result"
    }
   ],
   "source": [
    "# check values : U, X\n",
    "df_client['gendr'].value_counts()"
   ]
  },
  {
   "cell_type": "code",
   "execution_count": 15,
   "id": "20017694",
   "metadata": {},
   "outputs": [
    {
     "data": {
      "text/plain": [
       "num_accts\n",
       "2.0    55497\n",
       "3.0    12529\n",
       "4.0     2241\n",
       "5.0      284\n",
       "6.0       33\n",
       "7.0        8\n",
       "1.0        2\n",
       "8.0        1\n",
       "Name: count, dtype: int64"
      ]
     },
     "execution_count": 15,
     "metadata": {},
     "output_type": "execute_result"
    }
   ],
   "source": [
    "df_client['num_accts'].value_counts()"
   ]
  },
  {
   "cell_type": "code",
   "execution_count": 16,
   "id": "01c2ba1c",
   "metadata": {},
   "outputs": [
    {
     "data": {
      "text/plain": [
       "calls_6_mnth\n",
       "6.0    14112\n",
       "1.0    11016\n",
       "2.0    10252\n",
       "3.0     8752\n",
       "0.0     7732\n",
       "4.0     7175\n",
       "5.0     6627\n",
       "7.0     4929\n",
       "Name: count, dtype: int64"
      ]
     },
     "execution_count": 16,
     "metadata": {},
     "output_type": "execute_result"
    }
   ],
   "source": [
    "df_client['calls_6_mnth'].value_counts()\n",
    "\n"
   ]
  },
  {
   "cell_type": "code",
   "execution_count": 17,
   "id": "87a93abf",
   "metadata": {},
   "outputs": [
    {
     "data": {
      "text/plain": [
       "logons_6_mnth\n",
       "9.0    12350\n",
       "3.0    10243\n",
       "4.0    10220\n",
       "7.0     9893\n",
       "5.0     9254\n",
       "6.0     7878\n",
       "8.0     4810\n",
       "2.0     3009\n",
       "1.0     2938\n",
       "Name: count, dtype: int64"
      ]
     },
     "execution_count": 17,
     "metadata": {},
     "output_type": "execute_result"
    }
   ],
   "source": [
    "df_client['logons_6_mnth'].value_counts()\n"
   ]
  },
  {
   "cell_type": "code",
   "execution_count": 18,
   "id": "f3ceefe2",
   "metadata": {},
   "outputs": [
    {
     "data": {
      "text/html": [
       "<div>\n",
       "<style scoped>\n",
       "    .dataframe tbody tr th:only-of-type {\n",
       "        vertical-align: middle;\n",
       "    }\n",
       "\n",
       "    .dataframe tbody tr th {\n",
       "        vertical-align: top;\n",
       "    }\n",
       "\n",
       "    .dataframe thead th {\n",
       "        text-align: right;\n",
       "    }\n",
       "</style>\n",
       "<table border=\"1\" class=\"dataframe\">\n",
       "  <thead>\n",
       "    <tr style=\"text-align: right;\">\n",
       "      <th></th>\n",
       "      <th>client_id</th>\n",
       "      <th>clnt_tenure_yr</th>\n",
       "      <th>clnt_tenure_mnth</th>\n",
       "      <th>clnt_age</th>\n",
       "      <th>num_accts</th>\n",
       "      <th>bal</th>\n",
       "      <th>calls_6_mnth</th>\n",
       "      <th>logons_6_mnth</th>\n",
       "    </tr>\n",
       "  </thead>\n",
       "  <tbody>\n",
       "    <tr>\n",
       "      <th>count</th>\n",
       "      <td>7.060900e+04</td>\n",
       "      <td>70595.000000</td>\n",
       "      <td>70595.000000</td>\n",
       "      <td>70594.000000</td>\n",
       "      <td>70595.000000</td>\n",
       "      <td>7.059500e+04</td>\n",
       "      <td>70595.000000</td>\n",
       "      <td>70595.000000</td>\n",
       "    </tr>\n",
       "    <tr>\n",
       "      <th>mean</th>\n",
       "      <td>5.004992e+06</td>\n",
       "      <td>12.052950</td>\n",
       "      <td>150.659367</td>\n",
       "      <td>46.442240</td>\n",
       "      <td>2.255528</td>\n",
       "      <td>1.474452e+05</td>\n",
       "      <td>3.382478</td>\n",
       "      <td>5.566740</td>\n",
       "    </tr>\n",
       "    <tr>\n",
       "      <th>std</th>\n",
       "      <td>2.877278e+06</td>\n",
       "      <td>6.871819</td>\n",
       "      <td>82.089854</td>\n",
       "      <td>15.591273</td>\n",
       "      <td>0.534997</td>\n",
       "      <td>3.015087e+05</td>\n",
       "      <td>2.236580</td>\n",
       "      <td>2.353286</td>\n",
       "    </tr>\n",
       "    <tr>\n",
       "      <th>min</th>\n",
       "      <td>1.690000e+02</td>\n",
       "      <td>2.000000</td>\n",
       "      <td>33.000000</td>\n",
       "      <td>13.500000</td>\n",
       "      <td>1.000000</td>\n",
       "      <td>1.378942e+04</td>\n",
       "      <td>0.000000</td>\n",
       "      <td>1.000000</td>\n",
       "    </tr>\n",
       "    <tr>\n",
       "      <th>25%</th>\n",
       "      <td>2.519329e+06</td>\n",
       "      <td>6.000000</td>\n",
       "      <td>82.000000</td>\n",
       "      <td>32.500000</td>\n",
       "      <td>2.000000</td>\n",
       "      <td>3.734683e+04</td>\n",
       "      <td>1.000000</td>\n",
       "      <td>4.000000</td>\n",
       "    </tr>\n",
       "    <tr>\n",
       "      <th>50%</th>\n",
       "      <td>5.016978e+06</td>\n",
       "      <td>11.000000</td>\n",
       "      <td>136.000000</td>\n",
       "      <td>47.000000</td>\n",
       "      <td>2.000000</td>\n",
       "      <td>6.333290e+04</td>\n",
       "      <td>3.000000</td>\n",
       "      <td>5.000000</td>\n",
       "    </tr>\n",
       "    <tr>\n",
       "      <th>75%</th>\n",
       "      <td>7.483085e+06</td>\n",
       "      <td>16.000000</td>\n",
       "      <td>192.000000</td>\n",
       "      <td>59.000000</td>\n",
       "      <td>2.000000</td>\n",
       "      <td>1.375449e+05</td>\n",
       "      <td>6.000000</td>\n",
       "      <td>7.000000</td>\n",
       "    </tr>\n",
       "    <tr>\n",
       "      <th>max</th>\n",
       "      <td>9.999839e+06</td>\n",
       "      <td>62.000000</td>\n",
       "      <td>749.000000</td>\n",
       "      <td>96.000000</td>\n",
       "      <td>8.000000</td>\n",
       "      <td>1.632004e+07</td>\n",
       "      <td>7.000000</td>\n",
       "      <td>9.000000</td>\n",
       "    </tr>\n",
       "  </tbody>\n",
       "</table>\n",
       "</div>"
      ],
      "text/plain": [
       "          client_id  clnt_tenure_yr  clnt_tenure_mnth      clnt_age  \\\n",
       "count  7.060900e+04    70595.000000      70595.000000  70594.000000   \n",
       "mean   5.004992e+06       12.052950        150.659367     46.442240   \n",
       "std    2.877278e+06        6.871819         82.089854     15.591273   \n",
       "min    1.690000e+02        2.000000         33.000000     13.500000   \n",
       "25%    2.519329e+06        6.000000         82.000000     32.500000   \n",
       "50%    5.016978e+06       11.000000        136.000000     47.000000   \n",
       "75%    7.483085e+06       16.000000        192.000000     59.000000   \n",
       "max    9.999839e+06       62.000000        749.000000     96.000000   \n",
       "\n",
       "          num_accts           bal  calls_6_mnth  logons_6_mnth  \n",
       "count  70595.000000  7.059500e+04  70595.000000   70595.000000  \n",
       "mean       2.255528  1.474452e+05      3.382478       5.566740  \n",
       "std        0.534997  3.015087e+05      2.236580       2.353286  \n",
       "min        1.000000  1.378942e+04      0.000000       1.000000  \n",
       "25%        2.000000  3.734683e+04      1.000000       4.000000  \n",
       "50%        2.000000  6.333290e+04      3.000000       5.000000  \n",
       "75%        2.000000  1.375449e+05      6.000000       7.000000  \n",
       "max        8.000000  1.632004e+07      7.000000       9.000000  "
      ]
     },
     "execution_count": 18,
     "metadata": {},
     "output_type": "execute_result"
    }
   ],
   "source": [
    "df_client.describe()"
   ]
  },
  {
   "cell_type": "markdown",
   "id": "847aedc7",
   "metadata": {},
   "source": [
    "## Digital Footprints data"
   ]
  },
  {
   "cell_type": "code",
   "execution_count": 19,
   "id": "f57f5abf",
   "metadata": {},
   "outputs": [
    {
     "data": {
      "text/plain": [
       "(Index(['client_id', 'visitor_id', 'visit_id', 'process_step', 'date_time'], dtype='object'),\n",
       " Index(['client_id', 'visitor_id', 'visit_id', 'process_step', 'date_time'], dtype='object'))"
      ]
     },
     "execution_count": 19,
     "metadata": {},
     "output_type": "execute_result"
    }
   ],
   "source": [
    "df_footprints_1 = pd.read_csv('https://raw.githubusercontent.com/data-bootcamp-v4/lessons/refs/heads/main/5_6_eda_inf_stats_tableau/project/files_for_project/df_final_web_data_pt_1.txt')\n",
    "df_footprints_2 = pd.read_csv('https://raw.githubusercontent.com/data-bootcamp-v4/lessons/refs/heads/main/5_6_eda_inf_stats_tableau/project/files_for_project/df_final_web_data_pt_2.txt')\n",
    "\n",
    "df_footprints_1.columns, df_footprints_2.columns"
   ]
  },
  {
   "cell_type": "code",
   "execution_count": 20,
   "id": "c0da7550",
   "metadata": {},
   "outputs": [
    {
     "data": {
      "text/plain": [
       "(client_id        int64\n",
       " visitor_id      object\n",
       " visit_id        object\n",
       " process_step    object\n",
       " date_time       object\n",
       " dtype: object,\n",
       " client_id        int64\n",
       " visitor_id      object\n",
       " visit_id        object\n",
       " process_step    object\n",
       " date_time       object\n",
       " dtype: object)"
      ]
     },
     "execution_count": 20,
     "metadata": {},
     "output_type": "execute_result"
    }
   ],
   "source": [
    "df_footprints_1.dtypes, df_footprints_2.dtypes"
   ]
  },
  {
   "cell_type": "code",
   "execution_count": 21,
   "id": "44386fe8",
   "metadata": {},
   "outputs": [
    {
     "data": {
      "text/plain": [
       "np.int64(0)"
      ]
     },
     "execution_count": 21,
     "metadata": {},
     "output_type": "execute_result"
    }
   ],
   "source": [
    "# date_time column, object dtype ---> datetime dtype(each value is datetime object)\n",
    "df_footprints_1['date_time'] = pd.to_datetime(df_footprints_1['date_time'],errors = 'coerce')\n",
    "df_footprints_1['date_time'].isna().sum()\n",
    "df_footprints_2['date_time'] = pd.to_datetime(df_footprints_2['date_time'],errors = 'coerce')\n",
    "df_footprints_2['date_time'].isna().sum()"
   ]
  },
  {
   "cell_type": "code",
   "execution_count": 22,
   "id": "2b14130f",
   "metadata": {},
   "outputs": [
    {
     "data": {
      "text/plain": [
       "((343141, 5), (412264, 5))"
      ]
     },
     "execution_count": 22,
     "metadata": {},
     "output_type": "execute_result"
    }
   ],
   "source": [
    "df_footprints_1.shape, df_footprints_2.shape"
   ]
  },
  {
   "cell_type": "code",
   "execution_count": 23,
   "id": "62975ae4",
   "metadata": {},
   "outputs": [
    {
     "data": {
      "text/plain": [
       "(np.int64(2095), np.int64(8669))"
      ]
     },
     "execution_count": 23,
     "metadata": {},
     "output_type": "execute_result"
    }
   ],
   "source": [
    "# handle duplicate rows \n",
    "df_footprints_1.duplicated().sum(), df_footprints_2.duplicated().sum()"
   ]
  },
  {
   "cell_type": "code",
   "execution_count": 24,
   "id": "8e3f81aa",
   "metadata": {},
   "outputs": [
    {
     "data": {
      "text/plain": [
       "(client_id       0\n",
       " visitor_id      0\n",
       " visit_id        0\n",
       " process_step    0\n",
       " date_time       0\n",
       " dtype: int64,\n",
       " client_id       0\n",
       " visitor_id      0\n",
       " visit_id        0\n",
       " process_step    0\n",
       " date_time       0\n",
       " dtype: int64)"
      ]
     },
     "execution_count": 24,
     "metadata": {},
     "output_type": "execute_result"
    }
   ],
   "source": [
    "df_footprints_1.isna().sum(), df_footprints_2.isna().sum()"
   ]
  },
  {
   "cell_type": "code",
   "execution_count": 25,
   "id": "d1fc3bec",
   "metadata": {},
   "outputs": [
    {
     "data": {
      "text/plain": [
       "(client_id        58391\n",
       " visitor_id       62936\n",
       " visit_id         75256\n",
       " process_step         5\n",
       " date_time       282666\n",
       " dtype: int64,\n",
       " client_id        67430\n",
       " visitor_id       71042\n",
       " visit_id         82841\n",
       " process_step         5\n",
       " date_time       346697\n",
       " dtype: int64)"
      ]
     },
     "execution_count": 25,
     "metadata": {},
     "output_type": "execute_result"
    }
   ],
   "source": [
    "df_footprints_1.nunique(), df_footprints_2.nunique()"
   ]
  },
  {
   "cell_type": "code",
   "execution_count": 26,
   "id": "1636a0a3",
   "metadata": {},
   "outputs": [
    {
     "data": {
      "text/plain": [
       "(array(['step_3', 'step_2', 'step_1', 'start', 'confirm'], dtype=object),\n",
       " array(['confirm', 'step_3', 'step_2', 'step_1', 'start'], dtype=object))"
      ]
     },
     "execution_count": 26,
     "metadata": {},
     "output_type": "execute_result"
    }
   ],
   "source": [
    "df_footprints_1['process_step'].unique(), df_footprints_2['process_step'].unique()"
   ]
  },
  {
   "cell_type": "markdown",
   "id": "6149a896",
   "metadata": {},
   "source": [
    "## Experiment data"
   ]
  },
  {
   "cell_type": "code",
   "execution_count": 27,
   "id": "69f3f425",
   "metadata": {},
   "outputs": [
    {
     "data": {
      "text/plain": [
       "(Index(['client_id', 'Variation'], dtype='object'),\n",
       " (70609, 2),\n",
       " client_id     int64\n",
       " Variation    object\n",
       " dtype: object)"
      ]
     },
     "execution_count": 27,
     "metadata": {},
     "output_type": "execute_result"
    }
   ],
   "source": [
    "\n",
    "df_experiments = pd.read_csv('https://raw.githubusercontent.com/data-bootcamp-v4/lessons/refs/heads/main/5_6_eda_inf_stats_tableau/project/files_for_project/df_final_experiment_clients.txt')\n",
    "\n",
    "df_experiments.columns, df_experiments.shape,df_experiments.dtypes\n"
   ]
  },
  {
   "cell_type": "code",
   "execution_count": 28,
   "id": "45c29b7a",
   "metadata": {},
   "outputs": [
    {
     "data": {
      "text/html": [
       "<div>\n",
       "<style scoped>\n",
       "    .dataframe tbody tr th:only-of-type {\n",
       "        vertical-align: middle;\n",
       "    }\n",
       "\n",
       "    .dataframe tbody tr th {\n",
       "        vertical-align: top;\n",
       "    }\n",
       "\n",
       "    .dataframe thead th {\n",
       "        text-align: right;\n",
       "    }\n",
       "</style>\n",
       "<table border=\"1\" class=\"dataframe\">\n",
       "  <thead>\n",
       "    <tr style=\"text-align: right;\">\n",
       "      <th></th>\n",
       "      <th>client_id</th>\n",
       "      <th>Variation</th>\n",
       "    </tr>\n",
       "  </thead>\n",
       "  <tbody>\n",
       "    <tr>\n",
       "      <th>0</th>\n",
       "      <td>9988021</td>\n",
       "      <td>Test</td>\n",
       "    </tr>\n",
       "    <tr>\n",
       "      <th>1</th>\n",
       "      <td>8320017</td>\n",
       "      <td>Test</td>\n",
       "    </tr>\n",
       "  </tbody>\n",
       "</table>\n",
       "</div>"
      ],
      "text/plain": [
       "   client_id Variation\n",
       "0    9988021      Test\n",
       "1    8320017      Test"
      ]
     },
     "execution_count": 28,
     "metadata": {},
     "output_type": "execute_result"
    }
   ],
   "source": [
    "df_experiments.head(2)"
   ]
  },
  {
   "cell_type": "code",
   "execution_count": 29,
   "id": "0b185e2f",
   "metadata": {},
   "outputs": [
    {
     "data": {
      "text/plain": [
       "np.int64(0)"
      ]
     },
     "execution_count": 29,
     "metadata": {},
     "output_type": "execute_result"
    }
   ],
   "source": [
    "df_experiments.duplicated().sum()"
   ]
  },
  {
   "cell_type": "code",
   "execution_count": 30,
   "id": "d002b890",
   "metadata": {},
   "outputs": [
    {
     "data": {
      "text/plain": [
       "np.int64(0)"
      ]
     },
     "execution_count": 30,
     "metadata": {},
     "output_type": "execute_result"
    }
   ],
   "source": [
    "df_experiments['client_id'].duplicated().sum()"
   ]
  },
  {
   "cell_type": "code",
   "execution_count": 31,
   "id": "2e154cad",
   "metadata": {},
   "outputs": [
    {
     "data": {
      "text/plain": [
       "client_id        0\n",
       "Variation    20109\n",
       "dtype: int64"
      ]
     },
     "execution_count": 31,
     "metadata": {},
     "output_type": "execute_result"
    }
   ],
   "source": [
    "# handle null values in column 'Variation'\n",
    "df_experiments.isna().sum()"
   ]
  },
  {
   "cell_type": "code",
   "execution_count": 32,
   "id": "6af57b1f",
   "metadata": {},
   "outputs": [
    {
     "data": {
      "text/plain": [
       "Variation\n",
       "Test       0.53402\n",
       "Control    0.46598\n",
       "Name: proportion, dtype: float64"
      ]
     },
     "execution_count": 32,
     "metadata": {},
     "output_type": "execute_result"
    }
   ],
   "source": [
    "df_experiments['Variation'].value_counts(normalize=True)"
   ]
  }
 ],
 "metadata": {
  "kernelspec": {
   "display_name": "py310",
   "language": "python",
   "name": "python3"
  },
  "language_info": {
   "codemirror_mode": {
    "name": "ipython",
    "version": 3
   },
   "file_extension": ".py",
   "mimetype": "text/x-python",
   "name": "python",
   "nbconvert_exporter": "python",
   "pygments_lexer": "ipython3",
   "version": "3.10.18"
  }
 },
 "nbformat": 4,
 "nbformat_minor": 5
}
