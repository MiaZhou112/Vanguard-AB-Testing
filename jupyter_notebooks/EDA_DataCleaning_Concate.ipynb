{
 "cells": [
  {
   "cell_type": "code",
   "execution_count": null,
   "id": "2ebce8ac",
   "metadata": {},
   "outputs": [],
   "source": [
    "import pandas as pd\n",
    "import numpy as np\n",
    "import seaborn as sns\n",
    "from matplotlib import pyplot as plt"
   ]
  },
  {
   "cell_type": "markdown",
   "id": "76cf5dcc",
   "metadata": {},
   "source": [
    "## client profile data\n"
   ]
  },
  {
   "cell_type": "code",
   "execution_count": null,
   "id": "f1bc7afa",
   "metadata": {},
   "outputs": [],
   "source": [
    "df_client = pd.read_csv('https://raw.githubusercontent.com/data-bootcamp-v4/lessons/refs/heads/main/5_6_eda_inf_stats_tableau/project/files_for_project/df_final_demo.txt')"
   ]
  },
  {
   "cell_type": "code",
   "execution_count": null,
   "id": "0487d7a1",
   "metadata": {},
   "outputs": [],
   "source": [
    "df_client.head(2)\n",
    "df_client.columns \n",
    "df_client.shape "
   ]
  },
  {
   "cell_type": "markdown",
   "id": "94ff1a1b",
   "metadata": {},
   "source": [
    "#### clean column names"
   ]
  },
  {
   "cell_type": "code",
   "execution_count": null,
   "id": "6b1f5990",
   "metadata": {},
   "outputs": [],
   "source": [
    "\n",
    "df_client.rename(columns={'gendr':'gender',\n",
    "                          'clnt_tenure_yr':'client_tenure_year',\n",
    "                          'clnt_tenure_mnth':'client_tenure_month',\n",
    "                          'clnt_age':'client_age',\n",
    "                          'num_accts':'number_of_accounts',\n",
    "                          'calls_6_mnth':'calls_6_month',\n",
    "                          'logons_6_mnth':'logos_6_month',\n",
    "                          'bal':'balance'},inplace=True)\n"
   ]
  },
  {
   "cell_type": "markdown",
   "id": "209ace27",
   "metadata": {},
   "source": [
    "#### handle null values"
   ]
  },
  {
   "cell_type": "code",
   "execution_count": null,
   "id": "edc732ed",
   "metadata": {},
   "outputs": [],
   "source": [
    "df_client.isna().sum()\n",
    "\n",
    "display(df_client[df_client.isna().any(axis=1)])"
   ]
  },
  {
   "cell_type": "code",
   "execution_count": null,
   "id": "e4dd9d04",
   "metadata": {},
   "outputs": [],
   "source": [
    "# for client_id = 4666211/index = 9583, fill age with mean_age\n",
    "df_client.at[9583, 'client_age'] = df_client['client_age'].mean() \n",
    "\n",
    "\n",
    "# for the rest, fill with -1 if numeric variable or 'unknown' if categorical variable\n",
    "df_client.fillna({\n",
    "    'client_tenure_year': -1,\n",
    "    'client_tenure_month': -1,\n",
    "    'client_age':-1,\n",
    "    'gender':'unknown',\n",
    "    'number_of_accounts':-1,\n",
    "    'balance':-1,\n",
    "    'calls_6_month':-1,\n",
    "    'logos_6_month':-1,},inplace=True)\n",
    "\n",
    "df_client.isna().sum()"
   ]
  },
  {
   "cell_type": "markdown",
   "id": "1e984faa",
   "metadata": {},
   "source": [
    "#### column gender-> replace 'X' and 'U' with 'unknown', create new column: gender_cleaned"
   ]
  },
  {
   "cell_type": "code",
   "execution_count": null,
   "id": "70fabeb8",
   "metadata": {},
   "outputs": [],
   "source": [
    "df_client['gender'].value_counts()"
   ]
  },
  {
   "cell_type": "code",
   "execution_count": null,
   "id": "30dff473",
   "metadata": {},
   "outputs": [],
   "source": [
    "df_client['gender_cleaned'] = df_client['gender'].replace({'X':'unknown','U':'unknown'})\n",
    "df_client['gender_cleaned'].value_counts()"
   ]
  },
  {
   "cell_type": "markdown",
   "id": "dd3ccfe2",
   "metadata": {},
   "source": [
    "#### univariate analysis"
   ]
  },
  {
   "cell_type": "code",
   "execution_count": null,
   "id": "5f8d125b",
   "metadata": {},
   "outputs": [],
   "source": [
    "df_client.nunique()"
   ]
  },
  {
   "cell_type": "code",
   "execution_count": null,
   "id": "5533640e",
   "metadata": {},
   "outputs": [],
   "source": [
    "# barplot --->  categorical variable + numeric discrete variables \n",
    "\n",
    "categorical_cols = ['gender_cleaned', 'client_tenure_year', 'number_of_accounts','calls_6_month','logos_6_month']\n",
    "\n",
    "fig, axes = plt.subplots(nrows=len(categorical_cols), ncols=1, figsize=(20, 4*len(categorical_cols)))\n",
    "\n",
    "for i, col in enumerate(categorical_cols):\n",
    "    sns.countplot(data=df_client, x=col, ax=axes[i])\n",
    "    axes[i].set_title(f\"Distribution of {col}\")\n",
    "    axes[i].set_ylabel(\"Count\")\n",
    "    axes[i].set_xlabel(col)\n",
    "\n",
    "plt.tight_layout()\n",
    "plt.show()\n"
   ]
  },
  {
   "cell_type": "code",
   "execution_count": null,
   "id": "5669eb64",
   "metadata": {},
   "outputs": [],
   "source": [
    "# histogram --->  numeric continuous variables , numeric_cols = ['client_tenure_month','client_age','balance']\n",
    "\n",
    "# fixed_sized binning\n",
    "sns.histplot(df_client['client_age'],bins=30) \n",
    "plt.show()\n"
   ]
  },
  {
   "cell_type": "code",
   "execution_count": null,
   "id": "7236ae93",
   "metadata": {},
   "outputs": [],
   "source": [
    "# quantile binning\n",
    "p95_balance = df_client['balance'].quantile(0.95)\n",
    "\n",
    "balance_below_95 = df_client[df_client['balance'] <= p95_balance]['balance']\n",
    "balance_below_95\n",
    "\n",
    "bin_edges = np.linspace(balance_below_95.min(),balance_below_95.max(),30)\n",
    "\n",
    "sns.histplot(df_client['balance'],bins=bin_edges )  \n",
    "\n",
    "plt.show()\n"
   ]
  },
  {
   "cell_type": "code",
   "execution_count": null,
   "id": "e108e932",
   "metadata": {},
   "outputs": [],
   "source": [
    "# quantile binning \n",
    "p95_month = df_client['client_tenure_month'].quantile(0.95)\n",
    "\n",
    "balance_below_95 = df_client[df_client['client_tenure_month'] <= p95_month]['client_tenure_month']\n",
    "balance_below_95\n",
    "\n",
    "bin_edges = np.linspace(balance_below_95.min(),balance_below_95.max(),30)\n",
    "\n",
    "sns.histplot(df_client['client_tenure_month'],bins=bin_edges )  \n",
    "\n",
    "plt.show()\n"
   ]
  },
  {
   "cell_type": "markdown",
   "id": "830dbb3d",
   "metadata": {},
   "source": [
    "#### bivariate analysis"
   ]
  },
  {
   "cell_type": "code",
   "execution_count": null,
   "id": "6c672ca6",
   "metadata": {},
   "outputs": [],
   "source": [
    "# age - tenure year relationship\n",
    "df_primary_client = df_client[(df_client['client_age']>=20)& (df_client['client_age'] <= 60)]\n",
    "sns.scatterplot(data = df_primary_client, x = 'client_age',y = 'client_tenure_year')\n",
    "plt.show()"
   ]
  },
  {
   "cell_type": "markdown",
   "id": "847aedc7",
   "metadata": {},
   "source": [
    "## Digital Footprints data"
   ]
  },
  {
   "cell_type": "code",
   "execution_count": null,
   "id": "f57f5abf",
   "metadata": {},
   "outputs": [],
   "source": [
    "df_footprints_1 = pd.read_csv('https://raw.githubusercontent.com/data-bootcamp-v4/lessons/refs/heads/main/5_6_eda_inf_stats_tableau/project/files_for_project/df_final_web_data_pt_1.txt')\n",
    "df_footprints_2 = pd.read_csv('https://raw.githubusercontent.com/data-bootcamp-v4/lessons/refs/heads/main/5_6_eda_inf_stats_tableau/project/files_for_project/df_final_web_data_pt_2.txt')\n",
    "\n",
    "df_footprints_1.columns, df_footprints_2.columns"
   ]
  },
  {
   "cell_type": "code",
   "execution_count": null,
   "id": "c0da7550",
   "metadata": {},
   "outputs": [],
   "source": [
    "df_footprints_1.dtypes, df_footprints_2.dtypes"
   ]
  },
  {
   "cell_type": "markdown",
   "id": "f0c80dbb",
   "metadata": {},
   "source": [
    "#### change dtype for date_time column "
   ]
  },
  {
   "cell_type": "code",
   "execution_count": null,
   "id": "44386fe8",
   "metadata": {},
   "outputs": [],
   "source": [
    "# date_time column, object dtype ---> datetime dtype(each value is datetime object)\n",
    "df_footprints_1['date_time'] = pd.to_datetime(df_footprints_1['date_time'],errors = 'coerce')\n",
    "df_footprints_1['date_time'].isna().sum()\n",
    "df_footprints_2['date_time'] = pd.to_datetime(df_footprints_2['date_time'],errors = 'coerce')\n",
    "df_footprints_2['date_time'].isna().sum()\n",
    "\n",
    "df_footprints_1.dtypes, df_footprints_2.dtypes"
   ]
  },
  {
   "cell_type": "markdown",
   "id": "5c13e452",
   "metadata": {},
   "source": [
    "#### drop duplicate rows in 2 datasets "
   ]
  },
  {
   "cell_type": "code",
   "execution_count": null,
   "id": "62975ae4",
   "metadata": {},
   "outputs": [],
   "source": [
    "df_footprints_1.duplicated().sum(), df_footprints_2.duplicated().sum()"
   ]
  },
  {
   "cell_type": "code",
   "execution_count": null,
   "id": "f38ceb32",
   "metadata": {},
   "outputs": [],
   "source": [
    "df_footprints_1.drop_duplicates(inplace=True)\n",
    "df_footprints_2.drop_duplicates(inplace=True)\n",
    "df_footprints_1.duplicated().sum(), df_footprints_2.duplicated().sum()"
   ]
  },
  {
   "cell_type": "markdown",
   "id": "d1ff684d",
   "metadata": {},
   "source": [
    "#### concat two dataframes"
   ]
  },
  {
   "cell_type": "code",
   "execution_count": null,
   "id": "31041424",
   "metadata": {},
   "outputs": [],
   "source": [
    "df_footprints_combined = pd.concat([df_footprints_1,df_footprints_2],ignore_index=True)\n",
    "\n",
    "df_footprints_combined.shape, df_footprints_combined.duplicated().sum()"
   ]
  },
  {
   "cell_type": "code",
   "execution_count": null,
   "id": "d1fc3bec",
   "metadata": {},
   "outputs": [],
   "source": [
    "df_footprints_combined.nunique()"
   ]
  },
  {
   "cell_type": "markdown",
   "id": "8f943b85",
   "metadata": {},
   "source": [
    "#### explore date time "
   ]
  },
  {
   "cell_type": "code",
   "execution_count": null,
   "id": "10ff7b78",
   "metadata": {},
   "outputs": [],
   "source": [
    "df_footprints_combined['date_time'].min(),df_footprints_combined['date_time'].max()"
   ]
  },
  {
   "cell_type": "code",
   "execution_count": null,
   "id": "34d58f98",
   "metadata": {},
   "outputs": [],
   "source": [
    "df_footprints_combined.tail(3)"
   ]
  },
  {
   "cell_type": "code",
   "execution_count": null,
   "id": "b48f70e3",
   "metadata": {},
   "outputs": [],
   "source": [
    "display(df_footprints_combined[df_footprints_combined['client_id'] == 9668240].sort_values(by=[\"client_id\",\"visit_id\",\"date_time\"]))\n",
    "df_footprints_combined[df_footprints_combined['client_id'] == 9668240].sort_values(by=[\"client_id\",\"visit_id\",\"date_time\"]).groupby([\"client_id\",\"visit_id\"])[\"date_time\"].diff()"
   ]
  },
  {
   "cell_type": "markdown",
   "id": "f0d525ab",
   "metadata": {},
   "source": []
  },
  {
   "cell_type": "markdown",
   "id": "6149a896",
   "metadata": {},
   "source": [
    "## Experiment data"
   ]
  },
  {
   "cell_type": "code",
   "execution_count": null,
   "id": "69f3f425",
   "metadata": {},
   "outputs": [
    {
     "data": {
      "text/plain": [
       "(Index(['client_id', 'Variation'], dtype='object'),\n",
       " (70609, 2),\n",
       " client_id     int64\n",
       " Variation    object\n",
       " dtype: object)"
      ]
     },
     "execution_count": 333,
     "metadata": {},
     "output_type": "execute_result"
    }
   ],
   "source": [
    "\n",
    "df_experiments = pd.read_csv('https://raw.githubusercontent.com/data-bootcamp-v4/lessons/refs/heads/main/5_6_eda_inf_stats_tableau/project/files_for_project/df_final_experiment_clients.txt')\n",
    "\n",
    "df_experiments.columns, df_experiments.shape,df_experiments.dtypes\n"
   ]
  },
  {
   "cell_type": "code",
   "execution_count": null,
   "id": "43e51df8",
   "metadata": {},
   "outputs": [],
   "source": [
    " # rename column Variation-> variation\n",
    "df_experiments.rename(columns={'Variation':'variation'},inplace=True)"
   ]
  },
  {
   "cell_type": "code",
   "execution_count": null,
   "id": "2e154cad",
   "metadata": {},
   "outputs": [],
   "source": [
    "# handle null values in column 'Variation', fill with 'unknown'\n",
    "df_experiments.isna().sum()\n",
    "df_experiments['variation_cleaned'] = df_experiments['variation'].fillna('unknown')"
   ]
  },
  {
   "cell_type": "code",
   "execution_count": null,
   "id": "6af57b1f",
   "metadata": {},
   "outputs": [
    {
     "data": {
      "text/plain": [
       "variation_cleaned\n",
       "Test       26968\n",
       "Control    23532\n",
       "unknown    20109\n",
       "Name: count, dtype: int64"
      ]
     },
     "execution_count": 336,
     "metadata": {},
     "output_type": "execute_result"
    }
   ],
   "source": [
    "df_experiments['variation_cleaned'].value_counts()"
   ]
  },
  {
   "cell_type": "markdown",
   "id": "dea16a2b",
   "metadata": {},
   "source": [
    "## combine all data sources, df_final (744641, 14), use gender_clean, variation_clean"
   ]
  },
  {
   "cell_type": "code",
   "execution_count": null,
   "id": "e827bdf7",
   "metadata": {},
   "outputs": [],
   "source": [
    "# digital footprint is main table , merge 3 datasets\n",
    "\n",
    "df1= pd.merge(left=df_footprints_combined,right=df_experiments,how='left', on='client_id')\n",
    "df_final = pd.merge(left = df1,right=df_client, how='left',on = 'client_id')"
   ]
  },
  {
   "cell_type": "code",
   "execution_count": null,
   "id": "c8f84925",
   "metadata": {},
   "outputs": [
    {
     "data": {
      "text/plain": [
       "((744641, 16),\n",
       " client_id                   0\n",
       " visitor_id                  0\n",
       " visit_id                    0\n",
       " process_step                0\n",
       " date_time                   0\n",
       " variation              427406\n",
       " variation_cleaned      300744\n",
       " client_tenure_year     300744\n",
       " client_tenure_month    300744\n",
       " client_age             300744\n",
       " gender                 300744\n",
       " number_of_accounts     300744\n",
       " balance                300744\n",
       " calls_6_month          300744\n",
       " logos_6_month          300744\n",
       " gender_cleaned         300744\n",
       " dtype: int64)"
      ]
     },
     "execution_count": 345,
     "metadata": {},
     "output_type": "execute_result"
    }
   ],
   "source": [
    "df_final.shape, df_final.isna().sum()\n"
   ]
  },
  {
   "cell_type": "code",
   "execution_count": null,
   "id": "6a778f48",
   "metadata": {},
   "outputs": [],
   "source": [
    "display(df_final[df_final.isna().any(axis=1)])"
   ]
  },
  {
   "cell_type": "code",
   "execution_count": null,
   "id": "4ba50c77",
   "metadata": {},
   "outputs": [
    {
     "data": {
      "text/plain": [
       "client_id              0\n",
       "visitor_id             0\n",
       "visit_id               0\n",
       "process_step           0\n",
       "date_time              0\n",
       "variation              0\n",
       "variation_cleaned      0\n",
       "client_tenure_year     0\n",
       "client_tenure_month    0\n",
       "client_age             0\n",
       "gender                 0\n",
       "number_of_accounts     0\n",
       "balance                0\n",
       "calls_6_month          0\n",
       "logos_6_month          0\n",
       "gender_cleaned         0\n",
       "dtype: int64"
      ]
     },
     "execution_count": 346,
     "metadata": {},
     "output_type": "execute_result"
    }
   ],
   "source": [
    "# fill all null values (clients that are in footprint but not in in client profile) \n",
    "\n",
    "def handle_null(col):\n",
    "    if np.issubdtype(col.dtype, np.number):  # float64 columns\n",
    "        return col.fillna(-1)\n",
    "    elif col.dtype.kind == 'O':\n",
    "        return col.fillna('unknown')\n",
    "    else:\n",
    "        return col\n",
    "\n",
    "df_final = df_final.apply(handle_null)\n",
    "\n",
    "df_final.isna().sum()"
   ]
  },
  {
   "cell_type": "code",
   "execution_count": null,
   "id": "8bd17048",
   "metadata": {},
   "outputs": [
    {
     "data": {
      "text/plain": [
       "variation_cleaned\n",
       "unknown    427406\n",
       "Test       176699\n",
       "Control    140536\n",
       "Name: count, dtype: int64"
      ]
     },
     "execution_count": 347,
     "metadata": {},
     "output_type": "execute_result"
    }
   ],
   "source": [
    "df_final['variation_cleaned'].value_counts()"
   ]
  }
 ],
 "metadata": {
  "kernelspec": {
   "display_name": "3.10.10",
   "language": "python",
   "name": "python3"
  },
  "language_info": {
   "codemirror_mode": {
    "name": "ipython",
    "version": 3
   },
   "file_extension": ".py",
   "mimetype": "text/x-python",
   "name": "python",
   "nbconvert_exporter": "python",
   "pygments_lexer": "ipython3",
   "version": "3.10.10"
  }
 },
 "nbformat": 4,
 "nbformat_minor": 5
}
